{
 "cells": [
  {
   "cell_type": "markdown",
   "metadata": {
    "id": "greDR0wIu3_G"
   },
   "source": [
    "**Importing and preparation**"
   ]
  },
  {
   "cell_type": "code",
   "execution_count": null,
   "metadata": {
    "colab": {
     "background_save": true
    },
    "id": "P9nzrO16u3_I"
   },
   "outputs": [],
   "source": [
    "import td3\n",
    "import test_utils\n",
    "import core\n",
    "import numpy as np\n",
    "import torch\n",
    "\n",
    "seed = 42\n",
    "\n",
    "torch.manual_seed(seed)\n",
    "np.random.seed(seed)\n"
   ]
  },
  {
   "cell_type": "markdown",
   "metadata": {
    "id": "EDyoV4k0u3_J"
   },
   "source": [
    "**Build training data for scenario generator**"
   ]
  },
  {
   "cell_type": "code",
   "execution_count": null,
   "metadata": {
    "colab": {
     "background_save": true
    },
    "id": "C4zrnoNQu3_J"
   },
   "outputs": [],
   "source": [
    "from DiffusionModel.dataprep import compute_technical_indicators , build_tech_dataset , create_lstm_dataset_seq2seq\n",
    "\n",
    "import numpy as np\n",
    "import torch\n",
    "import pandas as pd\n",
    "from torch.utils.data import TensorDataset, DataLoader\n",
    "\n",
    "\n",
    "device = torch.device(\"cuda\" if torch.cuda.is_available() else \"cpu\")\n",
    "\n",
    "\"\"\"\n",
    "dataset = pd.read_csv(\"savings/22stocks.csv\")\n",
    "dataset.set_index(['Datetime', 'Ticker'], inplace=True)\n",
    "dataset.sort_index(inplace=True)\n",
    "\"\"\"\n",
    "dataset = pd.read_csv('savings/industrial_monthly_data_vw.csv').dropna()\n",
    "\n",
    "\n",
    "\n",
    "dataset = dataset.set_index(['Date','Industry'])\n",
    "\n",
    "\n",
    "selected_features = [\n",
    "    'Monthly_Return'\n",
    "    ]\n",
    "\n",
    "window = 12\n",
    "time_horizon = 12\n",
    "test_periods = 15\n",
    "Test_time_horizon = time_horizon * test_periods\n",
    "pred_len = 1\n",
    "\n",
    "test_size = Test_time_horizon+window+pred_len - 1\n",
    "val_size = 200\n",
    "data_set_end_date = 1\n",
    "\n",
    "\n",
    "\n",
    "\n",
    "test_dates = dataset.index.get_level_values('Date').unique()[-test_size-data_set_end_date:-data_set_end_date]\n",
    "val_dates = dataset.index.get_level_values('Date').unique()[-val_size-test_size-data_set_end_date:-test_size-data_set_end_date]\n",
    "train_dates = dataset.index.get_level_values('Date').unique()[:-val_size-test_size-data_set_end_date]\n",
    "\n",
    "val_data = dataset.loc[dataset.index.get_level_values('Date').isin(val_dates)]\n",
    "test_data = dataset.loc[dataset.index.get_level_values('Date').isin(test_dates)]\n",
    "train_data = dataset.loc[dataset.index.get_level_values('Date').isin(train_dates)]\n",
    "\n",
    "\n",
    "\n",
    "\n",
    "\n",
    "X_train, y_train = create_lstm_dataset_seq2seq(train_data,\n",
    "                                   selected_features,\n",
    "                                   target_col='Next_Monthly_Return',\n",
    "                                   window_size=window,\n",
    "                                   pred_len=pred_len)\n",
    "\n",
    "X_test,  y_test  = create_lstm_dataset_seq2seq(test_data,\n",
    "                                   selected_features,\n",
    "                                   target_col='Next_Monthly_Return',\n",
    "                                   window_size=window,\n",
    "                                   pred_len=pred_len)\n",
    "\n",
    "X_val , y_val  = create_lstm_dataset_seq2seq(val_data,\n",
    "                                   selected_features,\n",
    "                                   target_col='Next_Monthly_Return',\n",
    "                                   window_size=window,\n",
    "                                   pred_len=pred_len)\n",
    "\n",
    "\n",
    "scale = 1\n",
    "scale_c = 100\n",
    "X_train = X_train*scale\n",
    "X_test = X_test*scale\n",
    "X_val = X_val*scale\n",
    "y_train = y_train*scale\n",
    "y_test = y_test*scale\n",
    "y_val = y_val*scale\n",
    "\n",
    "\n",
    "# Convert to torch tensors\n",
    "X_train_t = torch.from_numpy(X_train).float().to(device)   # (n_train, W, n_assets*num_features)\n",
    "y_train_t = torch.from_numpy(y_train).float().to(device)  # (n_train, W, n_assets)\n",
    "X_test_t  = torch.from_numpy(X_test).float().to(device)    # (100, W, n_assets*num_features)\n",
    "y_test_t  = torch.from_numpy(y_test).float().to(device)    # (100, W, n_assets)\n",
    "X_val_t = torch.from_numpy(X_val).float().to(device)\n",
    "y_val_t = torch.from_numpy(y_val).float().to(device)\n",
    "\n",
    "# Wrap in TensorDataset + DataLoader\n",
    "train_ds = TensorDataset(X_train_t, y_train_t)\n",
    "test_ds  = TensorDataset(X_test_t,  y_test_t)\n",
    "val_ds = TensorDataset(X_val_t, y_val_t)\n",
    "\n",
    "\n",
    "train_loader = DataLoader(train_ds, batch_size=64, shuffle=True,  drop_last=True)\n",
    "test_loader  = DataLoader(test_ds,  batch_size=64, shuffle=False, drop_last=False)\n",
    "val_loader = DataLoader(val_ds, batch_size=64, shuffle=False, drop_last=False)\n"
   ]
  },
  {
   "cell_type": "markdown",
   "metadata": {
    "id": "f_0BPZRku3_L"
   },
   "source": [
    "**Initialize the diffusion model for scenario generator**"
   ]
  },
  {
   "cell_type": "code",
   "execution_count": null,
   "metadata": {
    "id": "FR6MX5K1u3_L"
   },
   "outputs": [],
   "source": [
    "from DiffusionModel.core import TrainingNetwork\n",
    "\n",
    "\n",
    "\n",
    "input_size = X_train_t.shape[2]\n",
    "print(\"Input dimension:\", input_size)  # number of features per stock\n",
    "\n",
    "target_dim = y_train_t.shape[3]  # number of assets\n",
    "print(\"Target dimension (= # of assets):\", target_dim)  # number of assets\n",
    "\n",
    "num_layers = 2\n",
    "num_cells= 20\n",
    "cell_type = \"LSTM\"\n",
    "\n",
    "model = TrainingNetwork(input_size=input_size , num_cells= num_cells , num_layers= num_layers , cell_type=cell_type ,dropout_rate = 0.1,target_dim=target_dim,\n",
    "diff_steps = 500,\n",
    "prediction_length = pred_len,\n",
    "beta_min = 0.01,\n",
    "beta_end = 20,\n",
    "scale_c = 1,\n",
    "md_type = 'vpsde'\n",
    ")\n",
    "\n",
    "model.to(device)\n",
    "#One forward pass to initialize the model\n",
    "with torch.no_grad():\n",
    "    rnn_output, _ = model.rnn(X_train_t[-1:,-1:,:])\n",
    "    cond = rnn_output[-1:,-1:,:] # Forward pass to initialize the model\n",
    "    tstep = torch.rand((1,)).to(device)\n",
    "    model.model(X_train_t[-1:,-pred_len:,:], tstep, cond)\n",
    "\n",
    "save_path_diffusion = f'savings/models/diffusion_model_industrial_exp_dataset{data_set_end_date}_final.pth'\n"
   ]
  },
  {
   "cell_type": "markdown",
   "metadata": {
    "id": "c7Y_uVWVu3_L"
   },
   "source": [
    "**Train the diffusion model**"
   ]
  },
  {
   "cell_type": "code",
   "execution_count": null,
   "metadata": {
    "colab": {
     "base_uri": "https://localhost:8080/"
    },
    "executionInfo": {
     "elapsed": 451048,
     "status": "ok",
     "timestamp": 1751049543670,
     "user": {
      "displayName": "Leon Johnason",
      "userId": "12172984433258393203"
     },
     "user_tz": 240
    },
    "id": "M7rSGyOuu3_L",
    "outputId": "1b4dbc58-c085-44ea-bd73-245369dcd5d4"
   },
   "outputs": [
    {
     "name": "stderr",
     "output_type": "stream",
     "text": [
      "/content/drive/.shortcut-targets-by-id/1w6OSQ_9ZH9r3830ldxRe1TGWfVlxxXWo/RL_real_0625_ind_index_value_weighted/DiffusionModel/trainer.py:143: FutureWarning: `torch.cuda.amp.GradScaler(args...)` is deprecated. Please use `torch.amp.GradScaler('cuda', args...)` instead.\n",
      "  scaler = GradScaler(enabled=cfg.amp)\n",
      "Epoch 1:   0%|          | 0/12 [00:00<?, ?it/s]/content/drive/.shortcut-targets-by-id/1w6OSQ_9ZH9r3830ldxRe1TGWfVlxxXWo/RL_real_0625_ind_index_value_weighted/DiffusionModel/trainer.py:158: FutureWarning: `torch.cuda.amp.autocast(args...)` is deprecated. Please use `torch.amp.autocast('cuda', args...)` instead.\n",
      "  with autocast(enabled=cfg.amp):\n",
      "Epoch 1:   8%|▊         | 1/12 [00:00<00:07,  1.55it/s, loss=1.12, lr=0.001]/content/drive/.shortcut-targets-by-id/1w6OSQ_9ZH9r3830ldxRe1TGWfVlxxXWo/RL_real_0625_ind_index_value_weighted/DiffusionModel/trainer.py:158: FutureWarning: `torch.cuda.amp.autocast(args...)` is deprecated. Please use `torch.amp.autocast('cuda', args...)` instead.\n",
      "  with autocast(enabled=cfg.amp):\n"
     ]
    },
    {
     "name": "stdout",
     "output_type": "stream",
     "text": [
      "[  1/1000]  train=0.3797  val=0.5984  lr=1.00e-03  t=0.0m\n"
     ]
    },
    {
     "name": "stderr",
     "output_type": "stream",
     "text": []
    },
    {
     "name": "stdout",
     "output_type": "stream",
     "text": [
      "[  2/1000]  train=0.0717  val=0.1738  lr=9.99e-04  t=0.0m\n"
     ]
    },
    {
     "name": "stderr",
     "output_type": "stream",
     "text": []
    },
    {
     "name": "stdout",
     "output_type": "stream",
     "text": [
      "[  3/1000]  train=0.0445  val=0.0555  lr=9.97e-04  t=0.0m\n"
     ]
    },
    {
     "name": "stderr",
     "output_type": "stream",
     "text": [
      "Epoch 4:   0%|          | 0/12 [00:00<?, ?it/s, loss=0.0356, lr=0.000997]/content/drive/.shortcut-targets-by-id/1w6OSQ_9ZH9r3830ldxRe1TGWfVlxxXWo/RL_real_0625_ind_index_value_weighted/DiffusionModel/trainer.py:158: FutureWarning: `torch.cuda.amp.autocast(args...)` is deprecated. Please use `torch.amp.autocast('cuda', args...)` instead.\n",
      "  with autocast(enabled=cfg.amp):\n"
     ]
    },
    {
     "name": "stdout",
     "output_type": "stream",
     "text": [
      "[  4/1000]  train=0.0413  val=0.0982  lr=9.94e-04  t=0.0m\n"
     ]
    },
    {
     "name": "stderr",
     "output_type": "stream",
     "text": []
    },
    {
     "name": "stdout",
     "output_type": "stream",
     "text": [
      "[  5/1000]  train=0.0355  val=0.0464  lr=9.91e-04  t=0.0m\n"
     ]
    },
    {
     "name": "stderr",
     "output_type": "stream",
     "text": []
    },
    {
     "name": "stdout",
     "output_type": "stream",
     "text": [
      "[  6/1000]  train=0.0295  val=0.0436  lr=9.87e-04  t=0.1m\n"
     ]
    },
    {
     "name": "stderr",
     "output_type": "stream",
     "text": []
    },
    {
     "name": "stdout",
     "output_type": "stream",
     "text": [
      "[  7/1000]  train=0.0300  val=0.0345  lr=9.83e-04  t=0.1m\n"
     ]
    },
    {
     "name": "stderr",
     "output_type": "stream",
     "text": []
    },
    {
     "name": "stdout",
     "output_type": "stream",
     "text": [
      "[  8/1000]  train=0.0277  val=0.0358  lr=9.77e-04  t=0.1m\n"
     ]
    },
    {
     "name": "stderr",
     "output_type": "stream",
     "text": []
    },
    {
     "name": "stdout",
     "output_type": "stream",
     "text": [
      "[  9/1000]  train=0.0249  val=0.0304  lr=9.71e-04  t=0.1m\n"
     ]
    },
    {
     "name": "stderr",
     "output_type": "stream",
     "text": []
    },
    {
     "name": "stdout",
     "output_type": "stream",
     "text": [
      "[ 10/1000]  train=0.0267  val=0.0279  lr=9.65e-04  t=0.1m\n"
     ]
    },
    {
     "name": "stderr",
     "output_type": "stream",
     "text": []
    },
    {
     "name": "stdout",
     "output_type": "stream",
     "text": [
      "[ 11/1000]  train=0.0246  val=0.0278  lr=9.58e-04  t=0.1m\n"
     ]
    },
    {
     "name": "stderr",
     "output_type": "stream",
     "text": [
      "Epoch 12:  83%|████████▎ | 10/12 [00:00<00:00, 13.87it/s, loss=0.0259, lr=0.000951]/content/drive/.shortcut-targets-by-id/1w6OSQ_9ZH9r3830ldxRe1TGWfVlxxXWo/RL_real_0625_ind_index_value_weighted/DiffusionModel/trainer.py:158: FutureWarning: `torch.cuda.amp.autocast(args...)` is deprecated. Please use `torch.amp.autocast('cuda', args...)` instead.\n",
      "  with autocast(enabled=cfg.amp):\n"
     ]
    },
    {
     "name": "stdout",
     "output_type": "stream",
     "text": [
      "[ 12/1000]  train=0.0252  val=0.0332  lr=9.50e-04  t=0.1m\n"
     ]
    },
    {
     "name": "stderr",
     "output_type": "stream",
     "text": []
    },
    {
     "name": "stdout",
     "output_type": "stream",
     "text": [
      "[ 13/1000]  train=0.0234  val=0.0273  lr=9.41e-04  t=0.1m\n"
     ]
    },
    {
     "name": "stderr",
     "output_type": "stream",
     "text": []
    },
    {
     "name": "stdout",
     "output_type": "stream",
     "text": [
      "[ 14/1000]  train=0.0254  val=0.0279  lr=9.32e-04  t=0.1m\n"
     ]
    },
    {
     "name": "stderr",
     "output_type": "stream",
     "text": []
    },
    {
     "name": "stdout",
     "output_type": "stream",
     "text": [
      "[ 15/1000]  train=0.0257  val=0.0295  lr=9.22e-04  t=0.1m\n"
     ]
    },
    {
     "name": "stderr",
     "output_type": "stream",
     "text": [
      "Epoch 16:  33%|███▎      | 4/12 [00:00<00:00,  8.23it/s, loss=0.0329, lr=0.000919]/content/drive/.shortcut-targets-by-id/1w6OSQ_9ZH9r3830ldxRe1TGWfVlxxXWo/RL_real_0625_ind_index_value_weighted/DiffusionModel/trainer.py:158: FutureWarning: `torch.cuda.amp.autocast(args...)` is deprecated. Please use `torch.amp.autocast('cuda', args...)` instead.\n",
      "  with autocast(enabled=cfg.amp):\n"
     ]
    },
    {
     "name": "stdout",
     "output_type": "stream",
     "text": [
      "[ 16/1000]  train=0.0246  val=0.0307  lr=9.12e-04  t=0.2m\n"
     ]
    },
    {
     "name": "stderr",
     "output_type": "stream",
     "text": []
    },
    {
     "name": "stdout",
     "output_type": "stream",
     "text": [
      "[ 17/1000]  train=0.0271  val=0.0291  lr=9.01e-04  t=0.2m\n"
     ]
    },
    {
     "name": "stderr",
     "output_type": "stream",
     "text": [
      "Epoch 18:  42%|████▏     | 5/12 [00:00<00:00,  7.70it/s, loss=0.0278, lr=0.000896]/content/drive/.shortcut-targets-by-id/1w6OSQ_9ZH9r3830ldxRe1TGWfVlxxXWo/RL_real_0625_ind_index_value_weighted/DiffusionModel/trainer.py:158: FutureWarning: `torch.cuda.amp.autocast(args...)` is deprecated. Please use `torch.amp.autocast('cuda', args...)` instead.\n",
      "  with autocast(enabled=cfg.amp):\n"
     ]
    },
    {
     "name": "stdout",
     "output_type": "stream",
     "text": [
      "[ 18/1000]  train=0.0227  val=0.0322  lr=8.89e-04  t=0.2m\n"
     ]
    },
    {
     "name": "stderr",
     "output_type": "stream",
     "text": []
    },
    {
     "name": "stdout",
     "output_type": "stream",
     "text": [
      "[ 19/1000]  train=0.0235  val=0.0314  lr=8.77e-04  t=0.2m\n"
     ]
    },
    {
     "name": "stderr",
     "output_type": "stream",
     "text": [
      "Epoch 20:  33%|███▎      | 4/12 [00:00<00:00,  8.25it/s, loss=0.0243, lr=0.000873]/content/drive/.shortcut-targets-by-id/1w6OSQ_9ZH9r3830ldxRe1TGWfVlxxXWo/RL_real_0625_ind_index_value_weighted/DiffusionModel/trainer.py:158: FutureWarning: `torch.cuda.amp.autocast(args...)` is deprecated. Please use `torch.amp.autocast('cuda', args...)` instead.\n",
      "  with autocast(enabled=cfg.amp):\n"
     ]
    },
    {
     "name": "stdout",
     "output_type": "stream",
     "text": [
      "[ 20/1000]  train=0.0221  val=0.0260  lr=8.64e-04  t=0.2m\n"
     ]
    },
    {
     "name": "stderr",
     "output_type": "stream",
     "text": []
    },
    {
     "name": "stdout",
     "output_type": "stream",
     "text": [
      "[ 21/1000]  train=0.0227  val=0.0365  lr=8.51e-04  t=0.3m\n"
     ]
    },
    {
     "name": "stderr",
     "output_type": "stream",
     "text": []
    },
    {
     "name": "stdout",
     "output_type": "stream",
     "text": [
      "[ 22/1000]  train=0.0255  val=0.0451  lr=8.38e-04  t=0.3m\n"
     ]
    },
    {
     "name": "stderr",
     "output_type": "stream",
     "text": [
      "Epoch 23:   0%|          | 0/12 [00:00<?, ?it/s]/content/drive/.shortcut-targets-by-id/1w6OSQ_9ZH9r3830ldxRe1TGWfVlxxXWo/RL_real_0625_ind_index_value_weighted/DiffusionModel/trainer.py:158: FutureWarning: `torch.cuda.amp.autocast(args...)` is deprecated. Please use `torch.amp.autocast('cuda', args...)` instead.\n",
      "  with autocast(enabled=cfg.amp):\n"
     ]
    },
    {
     "name": "stdout",
     "output_type": "stream",
     "text": [
      "[ 23/1000]  train=0.0249  val=0.0248  lr=8.24e-04  t=0.3m\n"
     ]
    },
    {
     "name": "stderr",
     "output_type": "stream",
     "text": []
    },
    {
     "name": "stdout",
     "output_type": "stream",
     "text": [
      "[ 24/1000]  train=0.0222  val=0.0293  lr=8.09e-04  t=0.3m\n"
     ]
    },
    {
     "name": "stderr",
     "output_type": "stream",
     "text": []
    },
    {
     "name": "stdout",
     "output_type": "stream",
     "text": [
      "[ 25/1000]  train=0.0236  val=0.0262  lr=7.94e-04  t=0.3m\n"
     ]
    },
    {
     "name": "stderr",
     "output_type": "stream",
     "text": [
      "Epoch 26:  50%|█████     | 6/12 [00:00<00:00, 26.20it/s, loss=0.0277, lr=0.000784]/content/drive/.shortcut-targets-by-id/1w6OSQ_9ZH9r3830ldxRe1TGWfVlxxXWo/RL_real_0625_ind_index_value_weighted/DiffusionModel/trainer.py:158: FutureWarning: `torch.cuda.amp.autocast(args...)` is deprecated. Please use `torch.amp.autocast('cuda', args...)` instead.\n",
      "  with autocast(enabled=cfg.amp):\n"
     ]
    },
    {
     "name": "stdout",
     "output_type": "stream",
     "text": [
      "[ 26/1000]  train=0.0221  val=0.0298  lr=7.78e-04  t=0.3m\n"
     ]
    },
    {
     "name": "stderr",
     "output_type": "stream",
     "text": []
    },
    {
     "name": "stdout",
     "output_type": "stream",
     "text": [
      "[ 27/1000]  train=0.0239  val=0.0295  lr=7.63e-04  t=0.3m\n"
     ]
    },
    {
     "name": "stderr",
     "output_type": "stream",
     "text": []
    },
    {
     "name": "stdout",
     "output_type": "stream",
     "text": [
      "[ 28/1000]  train=0.0239  val=0.0332  lr=7.46e-04  t=0.3m\n"
     ]
    },
    {
     "name": "stderr",
     "output_type": "stream",
     "text": [
      "Epoch 29:  75%|███████▌  | 9/12 [00:00<00:00, 15.70it/s, loss=0.0234, lr=0.000733]/content/drive/.shortcut-targets-by-id/1w6OSQ_9ZH9r3830ldxRe1TGWfVlxxXWo/RL_real_0625_ind_index_value_weighted/DiffusionModel/trainer.py:158: FutureWarning: `torch.cuda.amp.autocast(args...)` is deprecated. Please use `torch.amp.autocast('cuda', args...)` instead.\n",
      "  with autocast(enabled=cfg.amp):\n"
     ]
    },
    {
     "name": "stdout",
     "output_type": "stream",
     "text": [
      "[ 29/1000]  train=0.0233  val=0.0310  lr=7.30e-04  t=0.3m\n"
     ]
    },
    {
     "name": "stderr",
     "output_type": "stream",
     "text": []
    },
    {
     "name": "stdout",
     "output_type": "stream",
     "text": [
      "[ 30/1000]  train=0.0241  val=0.0344  lr=7.13e-04  t=0.4m\n"
     ]
    },
    {
     "name": "stderr",
     "output_type": "stream",
     "text": []
    },
    {
     "name": "stdout",
     "output_type": "stream",
     "text": [
      "[ 31/1000]  train=0.0230  val=0.0264  lr=6.96e-04  t=0.4m\n"
     ]
    },
    {
     "name": "stderr",
     "output_type": "stream",
     "text": [
      "Epoch 32:  67%|██████▋   | 8/12 [00:00<00:00, 30.34it/s, loss=0.022, lr=0.00068] /content/drive/.shortcut-targets-by-id/1w6OSQ_9ZH9r3830ldxRe1TGWfVlxxXWo/RL_real_0625_ind_index_value_weighted/DiffusionModel/trainer.py:158: FutureWarning: `torch.cuda.amp.autocast(args...)` is deprecated. Please use `torch.amp.autocast('cuda', args...)` instead.\n",
      "  with autocast(enabled=cfg.amp):\n"
     ]
    },
    {
     "name": "stdout",
     "output_type": "stream",
     "text": [
      "[ 32/1000]  train=0.0228  val=0.0274  lr=6.78e-04  t=0.4m\n"
     ]
    },
    {
     "name": "stderr",
     "output_type": "stream",
     "text": []
    },
    {
     "name": "stdout",
     "output_type": "stream",
     "text": [
      "[ 33/1000]  train=0.0227  val=0.0254  lr=6.60e-04  t=0.4m\n"
     ]
    },
    {
     "name": "stderr",
     "output_type": "stream",
     "text": [
      "Epoch 34:  67%|██████▋   | 8/12 [00:00<00:00, 25.57it/s, loss=0.0202, lr=0.000646]/content/drive/.shortcut-targets-by-id/1w6OSQ_9ZH9r3830ldxRe1TGWfVlxxXWo/RL_real_0625_ind_index_value_weighted/DiffusionModel/trainer.py:158: FutureWarning: `torch.cuda.amp.autocast(args...)` is deprecated. Please use `torch.amp.autocast('cuda', args...)` instead.\n",
      "  with autocast(enabled=cfg.amp):\n"
     ]
    },
    {
     "name": "stdout",
     "output_type": "stream",
     "text": [
      "[ 34/1000]  train=0.0205  val=0.0308  lr=6.43e-04  t=0.4m\n"
     ]
    },
    {
     "name": "stderr",
     "output_type": "stream",
     "text": []
    },
    {
     "name": "stdout",
     "output_type": "stream",
     "text": [
      "[ 35/1000]  train=0.0213  val=0.0246  lr=6.24e-04  t=0.4m\n"
     ]
    },
    {
     "name": "stderr",
     "output_type": "stream",
     "text": [
      "Epoch 36:  50%|█████     | 6/12 [00:00<00:00, 24.92it/s, loss=0.0194, lr=0.000612]/content/drive/.shortcut-targets-by-id/1w6OSQ_9ZH9r3830ldxRe1TGWfVlxxXWo/RL_real_0625_ind_index_value_weighted/DiffusionModel/trainer.py:158: FutureWarning: `torch.cuda.amp.autocast(args...)` is deprecated. Please use `torch.amp.autocast('cuda', args...)` instead.\n",
      "  with autocast(enabled=cfg.amp):\n"
     ]
    },
    {
     "name": "stdout",
     "output_type": "stream",
     "text": [
      "[ 36/1000]  train=0.0216  val=0.0305  lr=6.06e-04  t=0.4m\n"
     ]
    },
    {
     "name": "stderr",
     "output_type": "stream",
     "text": []
    },
    {
     "name": "stdout",
     "output_type": "stream",
     "text": [
      "[ 37/1000]  train=0.0227  val=0.0247  lr=5.88e-04  t=0.4m\n"
     ]
    },
    {
     "name": "stderr",
     "output_type": "stream",
     "text": [
      "Epoch 38:  50%|█████     | 6/12 [00:00<00:00, 21.83it/s, loss=0.0221, lr=0.000575]/content/drive/.shortcut-targets-by-id/1w6OSQ_9ZH9r3830ldxRe1TGWfVlxxXWo/RL_real_0625_ind_index_value_weighted/DiffusionModel/trainer.py:158: FutureWarning: `torch.cuda.amp.autocast(args...)` is deprecated. Please use `torch.amp.autocast('cuda', args...)` instead.\n",
      "  with autocast(enabled=cfg.amp):\n"
     ]
    },
    {
     "name": "stdout",
     "output_type": "stream",
     "text": [
      "[ 38/1000]  train=0.0211  val=0.0239  lr=5.69e-04  t=0.4m\n"
     ]
    },
    {
     "name": "stderr",
     "output_type": "stream",
     "text": []
    },
    {
     "name": "stdout",
     "output_type": "stream",
     "text": [
      "[ 39/1000]  train=0.0209  val=0.0242  lr=5.50e-04  t=0.4m\n"
     ]
    },
    {
     "name": "stderr",
     "output_type": "stream",
     "text": [
      "Epoch 40:  50%|█████     | 6/12 [00:00<00:00, 16.97it/s, loss=0.0183, lr=0.000541]/content/drive/.shortcut-targets-by-id/1w6OSQ_9ZH9r3830ldxRe1TGWfVlxxXWo/RL_real_0625_ind_index_value_weighted/DiffusionModel/trainer.py:158: FutureWarning: `torch.cuda.amp.autocast(args...)` is deprecated. Please use `torch.amp.autocast('cuda', args...)` instead.\n",
      "  with autocast(enabled=cfg.amp):\n"
     ]
    },
    {
     "name": "stdout",
     "output_type": "stream",
     "text": [
      "[ 40/1000]  train=0.0234  val=0.0287  lr=5.31e-04  t=0.4m\n"
     ]
    },
    {
     "name": "stderr",
     "output_type": "stream",
     "text": []
    },
    {
     "name": "stdout",
     "output_type": "stream",
     "text": [
      "[ 41/1000]  train=0.0236  val=0.0287  lr=5.13e-04  t=0.4m\n"
     ]
    },
    {
     "name": "stderr",
     "output_type": "stream",
     "text": [
      "Epoch 42:  33%|███▎      | 4/12 [00:00<00:00, 26.06it/s, loss=0.0255, lr=0.000503]/content/drive/.shortcut-targets-by-id/1w6OSQ_9ZH9r3830ldxRe1TGWfVlxxXWo/RL_real_0625_ind_index_value_weighted/DiffusionModel/trainer.py:158: FutureWarning: `torch.cuda.amp.autocast(args...)` is deprecated. Please use `torch.amp.autocast('cuda', args...)` instead.\n",
      "  with autocast(enabled=cfg.amp):\n"
     ]
    },
    {
     "name": "stdout",
     "output_type": "stream",
     "text": [
      "[ 42/1000]  train=0.0211  val=0.0241  lr=4.94e-04  t=0.5m\n"
     ]
    },
    {
     "name": "stderr",
     "output_type": "stream",
     "text": []
    },
    {
     "name": "stdout",
     "output_type": "stream",
     "text": [
      "[ 43/1000]  train=0.0238  val=0.0408  lr=4.75e-04  t=0.5m\n"
     ]
    },
    {
     "name": "stderr",
     "output_type": "stream",
     "text": [
      "Epoch 44:  50%|█████     | 6/12 [00:00<00:00, 16.19it/s, loss=0.0219, lr=0.000465]/content/drive/.shortcut-targets-by-id/1w6OSQ_9ZH9r3830ldxRe1TGWfVlxxXWo/RL_real_0625_ind_index_value_weighted/DiffusionModel/trainer.py:158: FutureWarning: `torch.cuda.amp.autocast(args...)` is deprecated. Please use `torch.amp.autocast('cuda', args...)` instead.\n",
      "  with autocast(enabled=cfg.amp):\n"
     ]
    },
    {
     "name": "stdout",
     "output_type": "stream",
     "text": [
      "[ 44/1000]  train=0.0224  val=0.0241  lr=4.56e-04  t=0.5m\n"
     ]
    },
    {
     "name": "stderr",
     "output_type": "stream",
     "text": []
    },
    {
     "name": "stdout",
     "output_type": "stream",
     "text": [
      "[ 45/1000]  train=0.0211  val=0.0226  lr=4.37e-04  t=0.5m\n"
     ]
    },
    {
     "name": "stderr",
     "output_type": "stream",
     "text": [
      "\rEpoch 46:   0%|          | 0/12 [00:00<?, ?it/s]/content/drive/.shortcut-targets-by-id/1w6OSQ_9ZH9r3830ldxRe1TGWfVlxxXWo/RL_real_0625_ind_index_value_weighted/DiffusionModel/trainer.py:158: FutureWarning: `torch.cuda.amp.autocast(args...)` is deprecated. Please use `torch.amp.autocast('cuda', args...)` instead.\n",
      "  with autocast(enabled=cfg.amp):\n"
     ]
    },
    {
     "name": "stdout",
     "output_type": "stream",
     "text": [
      "[ 46/1000]  train=0.0222  val=0.0302  lr=4.19e-04  t=0.5m\n"
     ]
    },
    {
     "name": "stderr",
     "output_type": "stream",
     "text": [
      "Epoch 47:  75%|███████▌  | 9/12 [00:00<00:00, 21.22it/s, loss=0.0154, lr=0.000403]/content/drive/.shortcut-targets-by-id/1w6OSQ_9ZH9r3830ldxRe1TGWfVlxxXWo/RL_real_0625_ind_index_value_weighted/DiffusionModel/trainer.py:158: FutureWarning: `torch.cuda.amp.autocast(args...)` is deprecated. Please use `torch.amp.autocast('cuda', args...)` instead.\n",
      "  with autocast(enabled=cfg.amp):\n"
     ]
    },
    {
     "name": "stdout",
     "output_type": "stream",
     "text": [
      "[ 47/1000]  train=0.0196  val=0.0261  lr=4.00e-04  t=0.5m\n"
     ]
    },
    {
     "name": "stderr",
     "output_type": "stream",
     "text": []
    },
    {
     "name": "stdout",
     "output_type": "stream",
     "text": [
      "[ 48/1000]  train=0.0204  val=0.0247  lr=3.82e-04  t=0.5m\n"
     ]
    },
    {
     "name": "stderr",
     "output_type": "stream",
     "text": [
      "Epoch 49:  75%|███████▌  | 9/12 [00:00<00:00, 17.75it/s, loss=0.0158, lr=0.000368]/content/drive/.shortcut-targets-by-id/1w6OSQ_9ZH9r3830ldxRe1TGWfVlxxXWo/RL_real_0625_ind_index_value_weighted/DiffusionModel/trainer.py:158: FutureWarning: `torch.cuda.amp.autocast(args...)` is deprecated. Please use `torch.amp.autocast('cuda', args...)` instead.\n",
      "  with autocast(enabled=cfg.amp):\n"
     ]
    },
    {
     "name": "stdout",
     "output_type": "stream",
     "text": [
      "[ 49/1000]  train=0.0194  val=0.0249  lr=3.64e-04  t=0.5m\n"
     ]
    },
    {
     "name": "stderr",
     "output_type": "stream",
     "text": []
    },
    {
     "name": "stdout",
     "output_type": "stream",
     "text": [
      "[ 50/1000]  train=0.0213  val=0.0277  lr=3.45e-04  t=0.5m\n"
     ]
    },
    {
     "name": "stderr",
     "output_type": "stream",
     "text": [
      "Epoch 51:  50%|█████     | 6/12 [00:00<00:00, 12.94it/s, loss=0.021, lr=0.000335] /content/drive/.shortcut-targets-by-id/1w6OSQ_9ZH9r3830ldxRe1TGWfVlxxXWo/RL_real_0625_ind_index_value_weighted/DiffusionModel/trainer.py:158: FutureWarning: `torch.cuda.amp.autocast(args...)` is deprecated. Please use `torch.amp.autocast('cuda', args...)` instead.\n",
      "  with autocast(enabled=cfg.amp):\n"
     ]
    },
    {
     "name": "stdout",
     "output_type": "stream",
     "text": [
      "[ 51/1000]  train=0.0197  val=0.0252  lr=3.28e-04  t=0.5m\n"
     ]
    },
    {
     "name": "stderr",
     "output_type": "stream",
     "text": []
    },
    {
     "name": "stdout",
     "output_type": "stream",
     "text": [
      "[ 52/1000]  train=0.0195  val=0.0269  lr=3.10e-04  t=0.6m\n"
     ]
    },
    {
     "name": "stderr",
     "output_type": "stream",
     "text": []
    },
    {
     "name": "stdout",
     "output_type": "stream",
     "text": [
      "[ 53/1000]  train=0.0200  val=0.0253  lr=2.93e-04  t=0.6m\n"
     ]
    },
    {
     "name": "stderr",
     "output_type": "stream",
     "text": [
      "Epoch 54:  67%|██████▋   | 8/12 [00:00<00:00, 13.06it/s, loss=0.0202, lr=0.000281]/content/drive/.shortcut-targets-by-id/1w6OSQ_9ZH9r3830ldxRe1TGWfVlxxXWo/RL_real_0625_ind_index_value_weighted/DiffusionModel/trainer.py:158: FutureWarning: `torch.cuda.amp.autocast(args...)` is deprecated. Please use `torch.amp.autocast('cuda', args...)` instead.\n",
      "  with autocast(enabled=cfg.amp):\n"
     ]
    },
    {
     "name": "stdout",
     "output_type": "stream",
     "text": [
      "[ 54/1000]  train=0.0210  val=0.0211  lr=2.76e-04  t=0.6m\n"
     ]
    },
    {
     "name": "stderr",
     "output_type": "stream",
     "text": []
    },
    {
     "name": "stdout",
     "output_type": "stream",
     "text": [
      "[ 55/1000]  train=0.0195  val=0.0240  lr=2.59e-04  t=0.6m\n"
     ]
    },
    {
     "name": "stderr",
     "output_type": "stream",
     "text": [
      "Epoch 56:  42%|████▏     | 5/12 [00:00<00:00, 15.44it/s, loss=0.0194, lr=0.000252]/content/drive/.shortcut-targets-by-id/1w6OSQ_9ZH9r3830ldxRe1TGWfVlxxXWo/RL_real_0625_ind_index_value_weighted/DiffusionModel/trainer.py:158: FutureWarning: `torch.cuda.amp.autocast(args...)` is deprecated. Please use `torch.amp.autocast('cuda', args...)` instead.\n",
      "  with autocast(enabled=cfg.amp):\n"
     ]
    },
    {
     "name": "stdout",
     "output_type": "stream",
     "text": [
      "[ 56/1000]  train=0.0191  val=0.0265  lr=2.43e-04  t=0.6m\n"
     ]
    },
    {
     "name": "stderr",
     "output_type": "stream",
     "text": []
    },
    {
     "name": "stdout",
     "output_type": "stream",
     "text": [
      "[ 57/1000]  train=0.0201  val=0.0218  lr=2.27e-04  t=0.6m\n"
     ]
    },
    {
     "name": "stderr",
     "output_type": "stream",
     "text": []
    },
    {
     "name": "stdout",
     "output_type": "stream",
     "text": [
      "[ 58/1000]  train=0.0216  val=0.0190  lr=2.11e-04  t=0.6m\n"
     ]
    },
    {
     "name": "stderr",
     "output_type": "stream",
     "text": [
      "Epoch 59:  75%|███████▌  | 9/12 [00:00<00:00, 23.16it/s, loss=0.0149, lr=0.000197]/content/drive/.shortcut-targets-by-id/1w6OSQ_9ZH9r3830ldxRe1TGWfVlxxXWo/RL_real_0625_ind_index_value_weighted/DiffusionModel/trainer.py:158: FutureWarning: `torch.cuda.amp.autocast(args...)` is deprecated. Please use `torch.amp.autocast('cuda', args...)` instead.\n",
      "  with autocast(enabled=cfg.amp):\n"
     ]
    },
    {
     "name": "stdout",
     "output_type": "stream",
     "text": [
      "[ 59/1000]  train=0.0196  val=0.0284  lr=1.96e-04  t=0.6m\n"
     ]
    },
    {
     "name": "stderr",
     "output_type": "stream",
     "text": []
    },
    {
     "name": "stdout",
     "output_type": "stream",
     "text": [
      "[ 60/1000]  train=0.0212  val=0.0246  lr=1.81e-04  t=0.6m\n"
     ]
    },
    {
     "name": "stderr",
     "output_type": "stream",
     "text": [
      "Epoch 61:  67%|██████▋   | 8/12 [00:00<00:00, 26.00it/s, loss=0.0208, lr=0.000169]/content/drive/.shortcut-targets-by-id/1w6OSQ_9ZH9r3830ldxRe1TGWfVlxxXWo/RL_real_0625_ind_index_value_weighted/DiffusionModel/trainer.py:158: FutureWarning: `torch.cuda.amp.autocast(args...)` is deprecated. Please use `torch.amp.autocast('cuda', args...)` instead.\n",
      "  with autocast(enabled=cfg.amp):\n"
     ]
    },
    {
     "name": "stdout",
     "output_type": "stream",
     "text": [
      "[ 61/1000]  train=0.0202  val=0.0217  lr=1.67e-04  t=0.6m\n"
     ]
    },
    {
     "name": "stderr",
     "output_type": "stream",
     "text": []
    },
    {
     "name": "stdout",
     "output_type": "stream",
     "text": [
      "[ 62/1000]  train=0.0198  val=0.0224  lr=1.53e-04  t=0.6m\n"
     ]
    },
    {
     "name": "stderr",
     "output_type": "stream",
     "text": [
      "Epoch 63:  58%|█████▊    | 7/12 [00:00<00:00, 27.38it/s, loss=0.0212, lr=0.000143]/content/drive/.shortcut-targets-by-id/1w6OSQ_9ZH9r3830ldxRe1TGWfVlxxXWo/RL_real_0625_ind_index_value_weighted/DiffusionModel/trainer.py:158: FutureWarning: `torch.cuda.amp.autocast(args...)` is deprecated. Please use `torch.amp.autocast('cuda', args...)` instead.\n",
      "  with autocast(enabled=cfg.amp):\n"
     ]
    },
    {
     "name": "stdout",
     "output_type": "stream",
     "text": [
      "[ 63/1000]  train=0.0206  val=0.0228  lr=1.40e-04  t=0.7m\n"
     ]
    },
    {
     "name": "stderr",
     "output_type": "stream",
     "text": []
    },
    {
     "name": "stdout",
     "output_type": "stream",
     "text": [
      "[ 64/1000]  train=0.0194  val=0.0245  lr=1.27e-04  t=0.7m\n"
     ]
    },
    {
     "name": "stderr",
     "output_type": "stream",
     "text": [
      "Epoch 65:  50%|█████     | 6/12 [00:00<00:00, 17.76it/s, loss=0.0134, lr=0.00012] /content/drive/.shortcut-targets-by-id/1w6OSQ_9ZH9r3830ldxRe1TGWfVlxxXWo/RL_real_0625_ind_index_value_weighted/DiffusionModel/trainer.py:158: FutureWarning: `torch.cuda.amp.autocast(args...)` is deprecated. Please use `torch.amp.autocast('cuda', args...)` instead.\n",
      "  with autocast(enabled=cfg.amp):\n"
     ]
    },
    {
     "name": "stdout",
     "output_type": "stream",
     "text": [
      "[ 65/1000]  train=0.0213  val=0.0244  lr=1.15e-04  t=0.7m\n"
     ]
    },
    {
     "name": "stderr",
     "output_type": "stream",
     "text": []
    },
    {
     "name": "stdout",
     "output_type": "stream",
     "text": [
      "[ 66/1000]  train=0.0199  val=0.0231  lr=1.03e-04  t=0.7m\n"
     ]
    },
    {
     "name": "stderr",
     "output_type": "stream",
     "text": [
      "Epoch 67:  50%|█████     | 6/12 [00:00<00:00, 16.34it/s, loss=0.0173, lr=9.73e-5]/content/drive/.shortcut-targets-by-id/1w6OSQ_9ZH9r3830ldxRe1TGWfVlxxXWo/RL_real_0625_ind_index_value_weighted/DiffusionModel/trainer.py:158: FutureWarning: `torch.cuda.amp.autocast(args...)` is deprecated. Please use `torch.amp.autocast('cuda', args...)` instead.\n",
      "  with autocast(enabled=cfg.amp):\n"
     ]
    },
    {
     "name": "stdout",
     "output_type": "stream",
     "text": [
      "[ 67/1000]  train=0.0184  val=0.0208  lr=9.18e-05  t=0.7m\n"
     ]
    },
    {
     "name": "stderr",
     "output_type": "stream",
     "text": []
    },
    {
     "name": "stdout",
     "output_type": "stream",
     "text": [
      "[ 68/1000]  train=0.0200  val=0.0260  lr=8.12e-05  t=0.7m\n"
     ]
    },
    {
     "name": "stderr",
     "output_type": "stream",
     "text": [
      "Epoch 69:  50%|█████     | 6/12 [00:00<00:00, 16.70it/s, loss=0.0176, lr=7.62e-5]/content/drive/.shortcut-targets-by-id/1w6OSQ_9ZH9r3830ldxRe1TGWfVlxxXWo/RL_real_0625_ind_index_value_weighted/DiffusionModel/trainer.py:158: FutureWarning: `torch.cuda.amp.autocast(args...)` is deprecated. Please use `torch.amp.autocast('cuda', args...)` instead.\n",
      "  with autocast(enabled=cfg.amp):\n"
     ]
    },
    {
     "name": "stdout",
     "output_type": "stream",
     "text": [
      "[ 69/1000]  train=0.0187  val=0.0210  lr=7.12e-05  t=0.7m\n"
     ]
    },
    {
     "name": "stderr",
     "output_type": "stream",
     "text": []
    },
    {
     "name": "stdout",
     "output_type": "stream",
     "text": [
      "[ 70/1000]  train=0.0208  val=0.0187  lr=6.18e-05  t=0.7m\n"
     ]
    },
    {
     "name": "stderr",
     "output_type": "stream",
     "text": [
      "Epoch 71:  33%|███▎      | 4/12 [00:00<00:00, 14.24it/s, loss=0.0147, lr=5.89e-5]/content/drive/.shortcut-targets-by-id/1w6OSQ_9ZH9r3830ldxRe1TGWfVlxxXWo/RL_real_0625_ind_index_value_weighted/DiffusionModel/trainer.py:158: FutureWarning: `torch.cuda.amp.autocast(args...)` is deprecated. Please use `torch.amp.autocast('cuda', args...)` instead.\n",
      "  with autocast(enabled=cfg.amp):\n"
     ]
    },
    {
     "name": "stdout",
     "output_type": "stream",
     "text": [
      "[ 71/1000]  train=0.0192  val=0.0235  lr=5.31e-05  t=0.7m\n"
     ]
    },
    {
     "name": "stderr",
     "output_type": "stream",
     "text": []
    },
    {
     "name": "stdout",
     "output_type": "stream",
     "text": [
      "[ 72/1000]  train=0.0221  val=0.0224  lr=4.49e-05  t=0.7m\n"
     ]
    },
    {
     "name": "stderr",
     "output_type": "stream",
     "text": [
      "Epoch 73:  17%|█▋        | 2/12 [00:00<00:00, 11.49it/s, loss=0.0187, lr=4.3e-5] /content/drive/.shortcut-targets-by-id/1w6OSQ_9ZH9r3830ldxRe1TGWfVlxxXWo/RL_real_0625_ind_index_value_weighted/DiffusionModel/trainer.py:158: FutureWarning: `torch.cuda.amp.autocast(args...)` is deprecated. Please use `torch.amp.autocast('cuda', args...)` instead.\n",
      "  with autocast(enabled=cfg.amp):\n"
     ]
    },
    {
     "name": "stdout",
     "output_type": "stream",
     "text": [
      "[ 73/1000]  train=0.0204  val=0.0241  lr=3.75e-05  t=0.7m\n"
     ]
    },
    {
     "name": "stderr",
     "output_type": "stream",
     "text": []
    },
    {
     "name": "stdout",
     "output_type": "stream",
     "text": [
      "[ 74/1000]  train=0.0189  val=0.0245  lr=3.06e-05  t=0.8m\n"
     ]
    },
    {
     "name": "stderr",
     "output_type": "stream",
     "text": [
      "Epoch 75:   0%|          | 0/12 [00:00<?, ?it/s, loss=0.028, lr=3.01e-5]/content/drive/.shortcut-targets-by-id/1w6OSQ_9ZH9r3830ldxRe1TGWfVlxxXWo/RL_real_0625_ind_index_value_weighted/DiffusionModel/trainer.py:158: FutureWarning: `torch.cuda.amp.autocast(args...)` is deprecated. Please use `torch.amp.autocast('cuda', args...)` instead.\n",
      "  with autocast(enabled=cfg.amp):\n"
     ]
    },
    {
     "name": "stdout",
     "output_type": "stream",
     "text": [
      "[ 75/1000]  train=0.0198  val=0.0263  lr=2.45e-05  t=0.8m\n"
     ]
    },
    {
     "name": "stderr",
     "output_type": "stream",
     "text": []
    },
    {
     "name": "stdout",
     "output_type": "stream",
     "text": [
      "[ 76/1000]  train=0.0179  val=0.0239  lr=1.90e-05  t=0.8m\n"
     ]
    },
    {
     "name": "stderr",
     "output_type": "stream",
     "text": []
    },
    {
     "name": "stdout",
     "output_type": "stream",
     "text": [
      "[ 77/1000]  train=0.0197  val=0.0249  lr=1.42e-05  t=0.8m\n"
     ]
    },
    {
     "name": "stderr",
     "output_type": "stream",
     "text": [
      "Epoch 78:   0%|          | 0/12 [00:00<?, ?it/s, loss=0.0224, lr=1.38e-5]/content/drive/.shortcut-targets-by-id/1w6OSQ_9ZH9r3830ldxRe1TGWfVlxxXWo/RL_real_0625_ind_index_value_weighted/DiffusionModel/trainer.py:158: FutureWarning: `torch.cuda.amp.autocast(args...)` is deprecated. Please use `torch.amp.autocast('cuda', args...)` instead.\n",
      "  with autocast(enabled=cfg.amp):\n"
     ]
    },
    {
     "name": "stdout",
     "output_type": "stream",
     "text": [
      "[ 78/1000]  train=0.0207  val=0.0205  lr=1.01e-05  t=0.8m\n"
     ]
    },
    {
     "name": "stderr",
     "output_type": "stream",
     "text": [
      "Epoch 79:  50%|█████     | 6/12 [00:00<00:00, 10.55it/s, loss=0.0235, lr=8.28e-6]/content/drive/.shortcut-targets-by-id/1w6OSQ_9ZH9r3830ldxRe1TGWfVlxxXWo/RL_real_0625_ind_index_value_weighted/DiffusionModel/trainer.py:158: FutureWarning: `torch.cuda.amp.autocast(args...)` is deprecated. Please use `torch.amp.autocast('cuda', args...)` instead.\n",
      "  with autocast(enabled=cfg.amp):\n"
     ]
    },
    {
     "name": "stdout",
     "output_type": "stream",
     "text": [
      "[ 79/1000]  train=0.0192  val=0.0245  lr=6.66e-06  t=0.8m\n"
     ]
    },
    {
     "name": "stderr",
     "output_type": "stream",
     "text": []
    },
    {
     "name": "stdout",
     "output_type": "stream",
     "text": [
      "[ 80/1000]  train=0.0201  val=0.0236  lr=3.94e-06  t=0.8m\n"
     ]
    },
    {
     "name": "stderr",
     "output_type": "stream",
     "text": []
    },
    {
     "name": "stdout",
     "output_type": "stream",
     "text": [
      "[ 81/1000]  train=0.0194  val=0.0228  lr=1.93e-06  t=0.8m\n"
     ]
    },
    {
     "name": "stderr",
     "output_type": "stream",
     "text": []
    },
    {
     "name": "stdout",
     "output_type": "stream",
     "text": [
      "[ 82/1000]  train=0.0190  val=0.0240  lr=6.32e-07  t=0.8m\n"
     ]
    },
    {
     "name": "stderr",
     "output_type": "stream",
     "text": [
      "Epoch 83:  17%|█▋        | 2/12 [00:00<00:00, 13.94it/s, loss=0.0225, lr=4.84e-7]/content/drive/.shortcut-targets-by-id/1w6OSQ_9ZH9r3830ldxRe1TGWfVlxxXWo/RL_real_0625_ind_index_value_weighted/DiffusionModel/trainer.py:158: FutureWarning: `torch.cuda.amp.autocast(args...)` is deprecated. Please use `torch.amp.autocast('cuda', args...)` instead.\n",
      "  with autocast(enabled=cfg.amp):\n"
     ]
    },
    {
     "name": "stdout",
     "output_type": "stream",
     "text": [
      "[ 83/1000]  train=0.0189  val=0.0229  lr=3.95e-08  t=0.8m\n"
     ]
    },
    {
     "name": "stderr",
     "output_type": "stream",
     "text": []
    },
    {
     "name": "stdout",
     "output_type": "stream",
     "text": [
      "[ 84/1000]  train=0.0195  val=0.0216  lr=1.58e-07  t=0.9m\n"
     ]
    },
    {
     "name": "stderr",
     "output_type": "stream",
     "text": [
      "Epoch 85:   0%|          | 0/12 [00:00<?, ?it/s, loss=0.0245, lr=2e-7]/content/drive/.shortcut-targets-by-id/1w6OSQ_9ZH9r3830ldxRe1TGWfVlxxXWo/RL_real_0625_ind_index_value_weighted/DiffusionModel/trainer.py:158: FutureWarning: `torch.cuda.amp.autocast(args...)` is deprecated. Please use `torch.amp.autocast('cuda', args...)` instead.\n",
      "  with autocast(enabled=cfg.amp):\n"
     ]
    },
    {
     "name": "stdout",
     "output_type": "stream",
     "text": [
      "[ 85/1000]  train=0.0204  val=0.0183  lr=9.87e-07  t=0.9m\n"
     ]
    },
    {
     "name": "stderr",
     "output_type": "stream",
     "text": []
    },
    {
     "name": "stdout",
     "output_type": "stream",
     "text": [
      "[ 86/1000]  train=0.0211  val=0.0232  lr=2.52e-06  t=0.9m\n"
     ]
    },
    {
     "name": "stderr",
     "output_type": "stream",
     "text": [
      "\rEpoch 87:   0%|          | 0/12 [00:00<?, ?it/s]/content/drive/.shortcut-targets-by-id/1w6OSQ_9ZH9r3830ldxRe1TGWfVlxxXWo/RL_real_0625_ind_index_value_weighted/DiffusionModel/trainer.py:158: FutureWarning: `torch.cuda.amp.autocast(args...)` is deprecated. Please use `torch.amp.autocast('cuda', args...)` instead.\n",
      "  with autocast(enabled=cfg.amp):\n"
     ]
    },
    {
     "name": "stdout",
     "output_type": "stream",
     "text": [
      "[ 87/1000]  train=0.0202  val=0.0220  lr=4.77e-06  t=0.9m\n"
     ]
    },
    {
     "name": "stderr",
     "output_type": "stream",
     "text": [
      "Epoch 88:  75%|███████▌  | 9/12 [00:00<00:00, 17.99it/s, loss=0.0203, lr=6.91e-6]/content/drive/.shortcut-targets-by-id/1w6OSQ_9ZH9r3830ldxRe1TGWfVlxxXWo/RL_real_0625_ind_index_value_weighted/DiffusionModel/trainer.py:158: FutureWarning: `torch.cuda.amp.autocast(args...)` is deprecated. Please use `torch.amp.autocast('cuda', args...)` instead.\n",
      "  with autocast(enabled=cfg.amp):\n"
     ]
    },
    {
     "name": "stdout",
     "output_type": "stream",
     "text": [
      "[ 88/1000]  train=0.0197  val=0.0245  lr=7.72e-06  t=0.9m\n"
     ]
    },
    {
     "name": "stderr",
     "output_type": "stream",
     "text": []
    },
    {
     "name": "stdout",
     "output_type": "stream",
     "text": [
      "[ 89/1000]  train=0.0180  val=0.0219  lr=1.14e-05  t=0.9m\n"
     ]
    },
    {
     "name": "stderr",
     "output_type": "stream",
     "text": [
      "Epoch 90:  50%|█████     | 6/12 [00:00<00:00, 22.43it/s, loss=0.0207, lr=1.42e-5]/content/drive/.shortcut-targets-by-id/1w6OSQ_9ZH9r3830ldxRe1TGWfVlxxXWo/RL_real_0625_ind_index_value_weighted/DiffusionModel/trainer.py:158: FutureWarning: `torch.cuda.amp.autocast(args...)` is deprecated. Please use `torch.amp.autocast('cuda', args...)` instead.\n",
      "  with autocast(enabled=cfg.amp):\n"
     ]
    },
    {
     "name": "stdout",
     "output_type": "stream",
     "text": [
      "[ 90/1000]  train=0.0189  val=0.0211  lr=1.57e-05  t=0.9m\n"
     ]
    },
    {
     "name": "stderr",
     "output_type": "stream",
     "text": []
    },
    {
     "name": "stdout",
     "output_type": "stream",
     "text": [
      "[ 91/1000]  train=0.0214  val=0.0227  lr=2.07e-05  t=0.9m\n"
     ]
    },
    {
     "name": "stderr",
     "output_type": "stream",
     "text": [
      "Epoch 92:  50%|█████     | 6/12 [00:00<00:00, 16.03it/s, loss=0.0197, lr=2.4e-5] /content/drive/.shortcut-targets-by-id/1w6OSQ_9ZH9r3830ldxRe1TGWfVlxxXWo/RL_real_0625_ind_index_value_weighted/DiffusionModel/trainer.py:158: FutureWarning: `torch.cuda.amp.autocast(args...)` is deprecated. Please use `torch.amp.autocast('cuda', args...)` instead.\n",
      "  with autocast(enabled=cfg.amp):\n"
     ]
    },
    {
     "name": "stdout",
     "output_type": "stream",
     "text": [
      "[ 92/1000]  train=0.0211  val=0.0269  lr=2.65e-05  t=0.9m\n"
     ]
    },
    {
     "name": "stderr",
     "output_type": "stream",
     "text": []
    },
    {
     "name": "stdout",
     "output_type": "stream",
     "text": [
      "[ 93/1000]  train=0.0206  val=0.0242  lr=3.28e-05  t=0.9m\n"
     ]
    },
    {
     "name": "stderr",
     "output_type": "stream",
     "text": [
      "Epoch 94:  42%|████▏     | 5/12 [00:00<00:00, 14.59it/s, loss=0.0222, lr=3.57e-5]/content/drive/.shortcut-targets-by-id/1w6OSQ_9ZH9r3830ldxRe1TGWfVlxxXWo/RL_real_0625_ind_index_value_weighted/DiffusionModel/trainer.py:158: FutureWarning: `torch.cuda.amp.autocast(args...)` is deprecated. Please use `torch.amp.autocast('cuda', args...)` instead.\n",
      "  with autocast(enabled=cfg.amp):\n"
     ]
    },
    {
     "name": "stdout",
     "output_type": "stream",
     "text": [
      "[ 94/1000]  train=0.0211  val=0.0238  lr=3.99e-05  t=0.9m\n"
     ]
    },
    {
     "name": "stderr",
     "output_type": "stream",
     "text": []
    },
    {
     "name": "stdout",
     "output_type": "stream",
     "text": [
      "[ 95/1000]  train=0.0215  val=0.0211  lr=4.76e-05  t=0.9m\n"
     ]
    },
    {
     "name": "stderr",
     "output_type": "stream",
     "text": [
      "Epoch 96:  33%|███▎      | 4/12 [00:00<00:00, 13.57it/s, loss=0.0163, lr=5.03e-5]/content/drive/.shortcut-targets-by-id/1w6OSQ_9ZH9r3830ldxRe1TGWfVlxxXWo/RL_real_0625_ind_index_value_weighted/DiffusionModel/trainer.py:158: FutureWarning: `torch.cuda.amp.autocast(args...)` is deprecated. Please use `torch.amp.autocast('cuda', args...)` instead.\n",
      "  with autocast(enabled=cfg.amp):\n"
     ]
    },
    {
     "name": "stdout",
     "output_type": "stream",
     "text": [
      "[ 96/1000]  train=0.0214  val=0.0222  lr=5.59e-05  t=1.0m\n"
     ]
    },
    {
     "name": "stderr",
     "output_type": "stream",
     "text": []
    },
    {
     "name": "stdout",
     "output_type": "stream",
     "text": [
      "[ 97/1000]  train=0.0214  val=0.0256  lr=6.49e-05  t=1.0m\n"
     ]
    },
    {
     "name": "stderr",
     "output_type": "stream",
     "text": [
      "Epoch 98:   0%|          | 0/12 [00:00<?, ?it/s, loss=0.0199, lr=6.57e-5]/content/drive/.shortcut-targets-by-id/1w6OSQ_9ZH9r3830ldxRe1TGWfVlxxXWo/RL_real_0625_ind_index_value_weighted/DiffusionModel/trainer.py:158: FutureWarning: `torch.cuda.amp.autocast(args...)` is deprecated. Please use `torch.amp.autocast('cuda', args...)` instead.\n",
      "  with autocast(enabled=cfg.amp):\n"
     ]
    },
    {
     "name": "stdout",
     "output_type": "stream",
     "text": [
      "[ 98/1000]  train=0.0194  val=0.0197  lr=7.45e-05  t=1.0m\n"
     ]
    },
    {
     "name": "stderr",
     "output_type": "stream",
     "text": [
      "Epoch 99:  67%|██████▋   | 8/12 [00:00<00:00, 12.96it/s, loss=0.0247, lr=8.12e-5]/content/drive/.shortcut-targets-by-id/1w6OSQ_9ZH9r3830ldxRe1TGWfVlxxXWo/RL_real_0625_ind_index_value_weighted/DiffusionModel/trainer.py:158: FutureWarning: `torch.cuda.amp.autocast(args...)` is deprecated. Please use `torch.amp.autocast('cuda', args...)` instead.\n",
      "  with autocast(enabled=cfg.amp):\n"
     ]
    },
    {
     "name": "stdout",
     "output_type": "stream",
     "text": [
      "[ 99/1000]  train=0.0202  val=0.0201  lr=8.47e-05  t=1.0m\n"
     ]
    },
    {
     "name": "stderr",
     "output_type": "stream",
     "text": []
    },
    {
     "name": "stdout",
     "output_type": "stream",
     "text": [
      "[100/1000]  train=0.0217  val=0.0255  lr=9.55e-05  t=1.0m\n"
     ]
    },
    {
     "name": "stderr",
     "output_type": "stream",
     "text": [
      "Epoch 101:  17%|█▋        | 2/12 [00:00<00:00, 10.82it/s, loss=0.0192, lr=9.83e-5]/content/drive/.shortcut-targets-by-id/1w6OSQ_9ZH9r3830ldxRe1TGWfVlxxXWo/RL_real_0625_ind_index_value_weighted/DiffusionModel/trainer.py:158: FutureWarning: `torch.cuda.amp.autocast(args...)` is deprecated. Please use `torch.amp.autocast('cuda', args...)` instead.\n",
      "  with autocast(enabled=cfg.amp):\n"
     ]
    },
    {
     "name": "stdout",
     "output_type": "stream",
     "text": [
      "[101/1000]  train=0.0218  val=0.0227  lr=1.07e-04  t=1.0m\n"
     ]
    },
    {
     "name": "stderr",
     "output_type": "stream",
     "text": []
    },
    {
     "name": "stdout",
     "output_type": "stream",
     "text": [
      "[102/1000]  train=0.0215  val=0.0208  lr=1.19e-04  t=1.0m\n"
     ]
    },
    {
     "name": "stderr",
     "output_type": "stream",
     "text": []
    },
    {
     "name": "stdout",
     "output_type": "stream",
     "text": [
      "[103/1000]  train=0.0216  val=0.0289  lr=1.31e-04  t=1.0m\n"
     ]
    },
    {
     "name": "stderr",
     "output_type": "stream",
     "text": [
      "Epoch 104:  17%|█▋        | 2/12 [00:00<00:00, 12.06it/s, loss=0.0252, lr=0.000134]/content/drive/.shortcut-targets-by-id/1w6OSQ_9ZH9r3830ldxRe1TGWfVlxxXWo/RL_real_0625_ind_index_value_weighted/DiffusionModel/trainer.py:158: FutureWarning: `torch.cuda.amp.autocast(args...)` is deprecated. Please use `torch.amp.autocast('cuda', args...)` instead.\n",
      "  with autocast(enabled=cfg.amp):\n"
     ]
    },
    {
     "name": "stdout",
     "output_type": "stream",
     "text": [
      "[104/1000]  train=0.0196  val=0.0274  lr=1.44e-04  t=1.0m\n"
     ]
    },
    {
     "name": "stderr",
     "output_type": "stream",
     "text": []
    },
    {
     "name": "stdout",
     "output_type": "stream",
     "text": [
      "[105/1000]  train=0.0197  val=0.0198  lr=1.58e-04  t=1.1m\n"
     ]
    },
    {
     "name": "stderr",
     "output_type": "stream",
     "text": []
    },
    {
     "name": "stdout",
     "output_type": "stream",
     "text": [
      "[106/1000]  train=0.0208  val=0.0249  lr=1.72e-04  t=1.1m\n"
     ]
    },
    {
     "name": "stderr",
     "output_type": "stream",
     "text": []
    },
    {
     "name": "stdout",
     "output_type": "stream",
     "text": [
      "[107/1000]  train=0.0209  val=0.0210  lr=1.86e-04  t=1.1m\n"
     ]
    },
    {
     "name": "stderr",
     "output_type": "stream",
     "text": [
      "\rEpoch 108:   0%|          | 0/12 [00:00<?, ?it/s]/content/drive/.shortcut-targets-by-id/1w6OSQ_9ZH9r3830ldxRe1TGWfVlxxXWo/RL_real_0625_ind_index_value_weighted/DiffusionModel/trainer.py:158: FutureWarning: `torch.cuda.amp.autocast(args...)` is deprecated. Please use `torch.amp.autocast('cuda', args...)` instead.\n",
      "  with autocast(enabled=cfg.amp):\n"
     ]
    },
    {
     "name": "stdout",
     "output_type": "stream",
     "text": [
      "[108/1000]  train=0.0213  val=0.0242  lr=2.01e-04  t=1.1m\n"
     ]
    },
    {
     "name": "stderr",
     "output_type": "stream",
     "text": [
      "Epoch 109:  75%|███████▌  | 9/12 [00:00<00:00, 18.05it/s, loss=0.0219, lr=0.000212]/content/drive/.shortcut-targets-by-id/1w6OSQ_9ZH9r3830ldxRe1TGWfVlxxXWo/RL_real_0625_ind_index_value_weighted/DiffusionModel/trainer.py:158: FutureWarning: `torch.cuda.amp.autocast(args...)` is deprecated. Please use `torch.amp.autocast('cuda', args...)` instead.\n",
      "  with autocast(enabled=cfg.amp):\n"
     ]
    },
    {
     "name": "stdout",
     "output_type": "stream",
     "text": [
      "[109/1000]  train=0.0198  val=0.0312  lr=2.16e-04  t=1.1m\n"
     ]
    },
    {
     "name": "stderr",
     "output_type": "stream",
     "text": []
    },
    {
     "name": "stdout",
     "output_type": "stream",
     "text": [
      "[110/1000]  train=0.0194  val=0.0217  lr=2.32e-04  t=1.1m\n"
     ]
    },
    {
     "name": "stderr",
     "output_type": "stream",
     "text": [
      "Epoch 111:  50%|█████     | 6/12 [00:00<00:00, 22.32it/s, loss=0.0217, lr=0.000243]/content/drive/.shortcut-targets-by-id/1w6OSQ_9ZH9r3830ldxRe1TGWfVlxxXWo/RL_real_0625_ind_index_value_weighted/DiffusionModel/trainer.py:158: FutureWarning: `torch.cuda.amp.autocast(args...)` is deprecated. Please use `torch.amp.autocast('cuda', args...)` instead.\n",
      "  with autocast(enabled=cfg.amp):\n"
     ]
    },
    {
     "name": "stdout",
     "output_type": "stream",
     "text": [
      "[111/1000]  train=0.0199  val=0.0241  lr=2.48e-04  t=1.1m\n"
     ]
    },
    {
     "name": "stderr",
     "output_type": "stream",
     "text": []
    },
    {
     "name": "stdout",
     "output_type": "stream",
     "text": [
      "[112/1000]  train=0.0199  val=0.0273  lr=2.65e-04  t=1.1m\n"
     ]
    },
    {
     "name": "stderr",
     "output_type": "stream",
     "text": [
      "Epoch 113:  50%|█████     | 6/12 [00:00<00:00, 16.75it/s, loss=0.0205, lr=0.000273]/content/drive/.shortcut-targets-by-id/1w6OSQ_9ZH9r3830ldxRe1TGWfVlxxXWo/RL_real_0625_ind_index_value_weighted/DiffusionModel/trainer.py:158: FutureWarning: `torch.cuda.amp.autocast(args...)` is deprecated. Please use `torch.amp.autocast('cuda', args...)` instead.\n",
      "  with autocast(enabled=cfg.amp):\n"
     ]
    },
    {
     "name": "stdout",
     "output_type": "stream",
     "text": [
      "[113/1000]  train=0.0199  val=0.0311  lr=2.81e-04  t=1.1m\n"
     ]
    },
    {
     "name": "stderr",
     "output_type": "stream",
     "text": []
    },
    {
     "name": "stdout",
     "output_type": "stream",
     "text": [
      "[114/1000]  train=0.0202  val=0.0298  lr=2.99e-04  t=1.1m\n"
     ]
    },
    {
     "name": "stderr",
     "output_type": "stream",
     "text": [
      "Epoch 115:  25%|██▌       | 3/12 [00:00<00:00, 22.87it/s, loss=0.0208, lr=0.000306]/content/drive/.shortcut-targets-by-id/1w6OSQ_9ZH9r3830ldxRe1TGWfVlxxXWo/RL_real_0625_ind_index_value_weighted/DiffusionModel/trainer.py:158: FutureWarning: `torch.cuda.amp.autocast(args...)` is deprecated. Please use `torch.amp.autocast('cuda', args...)` instead.\n",
      "  with autocast(enabled=cfg.amp):\n"
     ]
    },
    {
     "name": "stdout",
     "output_type": "stream",
     "text": [
      "[115/1000]  train=0.0207  val=0.0267  lr=3.16e-04  t=1.1m\n"
     ]
    },
    {
     "name": "stderr",
     "output_type": "stream",
     "text": []
    },
    {
     "name": "stdout",
     "output_type": "stream",
     "text": [
      "[116/1000]  train=0.0213  val=0.0296  lr=3.34e-04  t=1.1m\n"
     ]
    },
    {
     "name": "stderr",
     "output_type": "stream",
     "text": [
      "Epoch 117:  25%|██▌       | 3/12 [00:00<00:00, 20.22it/s, loss=0.0233, lr=0.000341]/content/drive/.shortcut-targets-by-id/1w6OSQ_9ZH9r3830ldxRe1TGWfVlxxXWo/RL_real_0625_ind_index_value_weighted/DiffusionModel/trainer.py:158: FutureWarning: `torch.cuda.amp.autocast(args...)` is deprecated. Please use `torch.amp.autocast('cuda', args...)` instead.\n",
      "  with autocast(enabled=cfg.amp):\n"
     ]
    },
    {
     "name": "stdout",
     "output_type": "stream",
     "text": [
      "[117/1000]  train=0.0208  val=0.0263  lr=3.51e-04  t=1.2m\n"
     ]
    },
    {
     "name": "stderr",
     "output_type": "stream",
     "text": []
    },
    {
     "name": "stdout",
     "output_type": "stream",
     "text": [
      "[118/1000]  train=0.0228  val=0.0272  lr=3.70e-04  t=1.2m\n"
     ]
    },
    {
     "name": "stderr",
     "output_type": "stream",
     "text": [
      "Epoch 119:  25%|██▌       | 3/12 [00:00<00:00, 16.78it/s, loss=0.0172, lr=0.000376]/content/drive/.shortcut-targets-by-id/1w6OSQ_9ZH9r3830ldxRe1TGWfVlxxXWo/RL_real_0625_ind_index_value_weighted/DiffusionModel/trainer.py:158: FutureWarning: `torch.cuda.amp.autocast(args...)` is deprecated. Please use `torch.amp.autocast('cuda', args...)` instead.\n",
      "  with autocast(enabled=cfg.amp):\n"
     ]
    },
    {
     "name": "stdout",
     "output_type": "stream",
     "text": [
      "[119/1000]  train=0.0196  val=0.0266  lr=3.88e-04  t=1.2m\n"
     ]
    },
    {
     "name": "stderr",
     "output_type": "stream",
     "text": []
    },
    {
     "name": "stdout",
     "output_type": "stream",
     "text": [
      "[120/1000]  train=0.0191  val=0.0186  lr=4.06e-04  t=1.2m\n"
     ]
    },
    {
     "name": "stderr",
     "output_type": "stream",
     "text": [
      "Epoch 121:  33%|███▎      | 4/12 [00:00<00:00, 14.89it/s, loss=0.0172, lr=0.000412]/content/drive/.shortcut-targets-by-id/1w6OSQ_9ZH9r3830ldxRe1TGWfVlxxXWo/RL_real_0625_ind_index_value_weighted/DiffusionModel/trainer.py:158: FutureWarning: `torch.cuda.amp.autocast(args...)` is deprecated. Please use `torch.amp.autocast('cuda', args...)` instead.\n",
      "  with autocast(enabled=cfg.amp):\n"
     ]
    },
    {
     "name": "stdout",
     "output_type": "stream",
     "text": [
      "[121/1000]  train=0.0209  val=0.0245  lr=4.25e-04  t=1.2m\n"
     ]
    },
    {
     "name": "stderr",
     "output_type": "stream",
     "text": []
    },
    {
     "name": "stdout",
     "output_type": "stream",
     "text": [
      "[122/1000]  train=0.0215  val=0.0245  lr=4.44e-04  t=1.2m\n"
     ]
    },
    {
     "name": "stderr",
     "output_type": "stream",
     "text": [
      "Epoch 123:  33%|███▎      | 4/12 [00:00<00:00, 11.87it/s, loss=0.0217, lr=0.000451]/content/drive/.shortcut-targets-by-id/1w6OSQ_9ZH9r3830ldxRe1TGWfVlxxXWo/RL_real_0625_ind_index_value_weighted/DiffusionModel/trainer.py:158: FutureWarning: `torch.cuda.amp.autocast(args...)` is deprecated. Please use `torch.amp.autocast('cuda', args...)` instead.\n",
      "  with autocast(enabled=cfg.amp):\n"
     ]
    },
    {
     "name": "stdout",
     "output_type": "stream",
     "text": [
      "[123/1000]  train=0.0214  val=0.0246  lr=4.62e-04  t=1.2m\n"
     ]
    },
    {
     "name": "stderr",
     "output_type": "stream",
     "text": []
    },
    {
     "name": "stdout",
     "output_type": "stream",
     "text": [
      "[124/1000]  train=0.0209  val=0.0294  lr=4.81e-04  t=1.2m\n"
     ]
    },
    {
     "name": "stderr",
     "output_type": "stream",
     "text": []
    },
    {
     "name": "stdout",
     "output_type": "stream",
     "text": [
      "[125/1000]  train=0.0203  val=0.0256  lr=5.00e-04  t=1.2m\n"
     ]
    },
    {
     "name": "stderr",
     "output_type": "stream",
     "text": [
      "Epoch 126:  42%|████▏     | 5/12 [00:00<00:00, 13.66it/s, loss=0.0264, lr=0.000509]/content/drive/.shortcut-targets-by-id/1w6OSQ_9ZH9r3830ldxRe1TGWfVlxxXWo/RL_real_0625_ind_index_value_weighted/DiffusionModel/trainer.py:158: FutureWarning: `torch.cuda.amp.autocast(args...)` is deprecated. Please use `torch.amp.autocast('cuda', args...)` instead.\n",
      "  with autocast(enabled=cfg.amp):\n"
     ]
    },
    {
     "name": "stdout",
     "output_type": "stream",
     "text": [
      "[126/1000]  train=0.0206  val=0.0220  lr=5.19e-04  t=1.2m\n"
     ]
    },
    {
     "name": "stderr",
     "output_type": "stream",
     "text": []
    },
    {
     "name": "stdout",
     "output_type": "stream",
     "text": [
      "[127/1000]  train=0.0200  val=0.0321  lr=5.38e-04  t=1.3m\n"
     ]
    },
    {
     "name": "stderr",
     "output_type": "stream",
     "text": [
      "Epoch 128:  17%|█▋        | 2/12 [00:00<00:01,  9.19it/s, loss=0.0241, lr=0.000542]/content/drive/.shortcut-targets-by-id/1w6OSQ_9ZH9r3830ldxRe1TGWfVlxxXWo/RL_real_0625_ind_index_value_weighted/DiffusionModel/trainer.py:158: FutureWarning: `torch.cuda.amp.autocast(args...)` is deprecated. Please use `torch.amp.autocast('cuda', args...)` instead.\n",
      "  with autocast(enabled=cfg.amp):\n"
     ]
    },
    {
     "name": "stdout",
     "output_type": "stream",
     "text": [
      "[128/1000]  train=0.0205  val=0.0263  lr=5.56e-04  t=1.3m\n"
     ]
    },
    {
     "name": "stderr",
     "output_type": "stream",
     "text": []
    },
    {
     "name": "stdout",
     "output_type": "stream",
     "text": [
      "[129/1000]  train=0.0224  val=0.0302  lr=5.75e-04  t=1.3m\n"
     ]
    },
    {
     "name": "stderr",
     "output_type": "stream",
     "text": []
    },
    {
     "name": "stdout",
     "output_type": "stream",
     "text": [
      "[130/1000]  train=0.0225  val=0.0438  lr=5.94e-04  t=1.3m\n"
     ]
    },
    {
     "name": "stderr",
     "output_type": "stream",
     "text": [
      "Epoch 131:  75%|███████▌  | 9/12 [00:00<00:00, 19.72it/s, loss=0.02, lr=0.000609] /content/drive/.shortcut-targets-by-id/1w6OSQ_9ZH9r3830ldxRe1TGWfVlxxXWo/RL_real_0625_ind_index_value_weighted/DiffusionModel/trainer.py:158: FutureWarning: `torch.cuda.amp.autocast(args...)` is deprecated. Please use `torch.amp.autocast('cuda', args...)` instead.\n",
      "  with autocast(enabled=cfg.amp):\n"
     ]
    },
    {
     "name": "stdout",
     "output_type": "stream",
     "text": [
      "[131/1000]  train=0.0212  val=0.0323  lr=6.12e-04  t=1.3m\n"
     ]
    },
    {
     "name": "stderr",
     "output_type": "stream",
     "text": []
    },
    {
     "name": "stdout",
     "output_type": "stream",
     "text": [
      "[132/1000]  train=0.0196  val=0.0236  lr=6.30e-04  t=1.3m\n"
     ]
    },
    {
     "name": "stderr",
     "output_type": "stream",
     "text": [
      "Epoch 133:  75%|███████▌  | 9/12 [00:00<00:00, 17.99it/s, loss=0.0223, lr=0.000644]/content/drive/.shortcut-targets-by-id/1w6OSQ_9ZH9r3830ldxRe1TGWfVlxxXWo/RL_real_0625_ind_index_value_weighted/DiffusionModel/trainer.py:158: FutureWarning: `torch.cuda.amp.autocast(args...)` is deprecated. Please use `torch.amp.autocast('cuda', args...)` instead.\n",
      "  with autocast(enabled=cfg.amp):\n"
     ]
    },
    {
     "name": "stdout",
     "output_type": "stream",
     "text": [
      "[133/1000]  train=0.0225  val=0.0277  lr=6.49e-04  t=1.3m\n"
     ]
    },
    {
     "name": "stderr",
     "output_type": "stream",
     "text": []
    },
    {
     "name": "stdout",
     "output_type": "stream",
     "text": [
      "[134/1000]  train=0.0215  val=0.0234  lr=6.66e-04  t=1.3m\n"
     ]
    },
    {
     "name": "stderr",
     "output_type": "stream",
     "text": [
      "Epoch 135:  67%|██████▋   | 8/12 [00:00<00:00, 21.17it/s, loss=0.018, lr=0.000681]/content/drive/.shortcut-targets-by-id/1w6OSQ_9ZH9r3830ldxRe1TGWfVlxxXWo/RL_real_0625_ind_index_value_weighted/DiffusionModel/trainer.py:158: FutureWarning: `torch.cuda.amp.autocast(args...)` is deprecated. Please use `torch.amp.autocast('cuda', args...)` instead.\n",
      "  with autocast(enabled=cfg.amp):\n"
     ]
    },
    {
     "name": "stdout",
     "output_type": "stream",
     "text": [
      "[135/1000]  train=0.0208  val=0.0261  lr=6.84e-04  t=1.3m\n"
     ]
    },
    {
     "name": "stderr",
     "output_type": "stream",
     "text": []
    },
    {
     "name": "stdout",
     "output_type": "stream",
     "text": [
      "[136/1000]  train=0.0218  val=0.0261  lr=7.01e-04  t=1.3m\n"
     ]
    },
    {
     "name": "stderr",
     "output_type": "stream",
     "text": [
      "Epoch 137:  67%|██████▋   | 8/12 [00:00<00:00, 24.86it/s, loss=0.0237, lr=0.000716]/content/drive/.shortcut-targets-by-id/1w6OSQ_9ZH9r3830ldxRe1TGWfVlxxXWo/RL_real_0625_ind_index_value_weighted/DiffusionModel/trainer.py:158: FutureWarning: `torch.cuda.amp.autocast(args...)` is deprecated. Please use `torch.amp.autocast('cuda', args...)` instead.\n",
      "  with autocast(enabled=cfg.amp):\n"
     ]
    },
    {
     "name": "stdout",
     "output_type": "stream",
     "text": [
      "[137/1000]  train=0.0226  val=0.0222  lr=7.19e-04  t=1.3m\n"
     ]
    },
    {
     "name": "stderr",
     "output_type": "stream",
     "text": []
    },
    {
     "name": "stdout",
     "output_type": "stream",
     "text": [
      "[138/1000]  train=0.0209  val=0.0360  lr=7.35e-04  t=1.3m\n"
     ]
    },
    {
     "name": "stderr",
     "output_type": "stream",
     "text": [
      "Epoch 139:  83%|████████▎ | 10/12 [00:00<00:00, 18.59it/s, loss=0.025, lr=0.000749]/content/drive/.shortcut-targets-by-id/1w6OSQ_9ZH9r3830ldxRe1TGWfVlxxXWo/RL_real_0625_ind_index_value_weighted/DiffusionModel/trainer.py:158: FutureWarning: `torch.cuda.amp.autocast(args...)` is deprecated. Please use `torch.amp.autocast('cuda', args...)` instead.\n",
      "  with autocast(enabled=cfg.amp):\n"
     ]
    },
    {
     "name": "stdout",
     "output_type": "stream",
     "text": [
      "[139/1000]  train=0.0235  val=0.0615  lr=7.52e-04  t=1.4m\n"
     ]
    },
    {
     "name": "stderr",
     "output_type": "stream",
     "text": []
    },
    {
     "name": "stdout",
     "output_type": "stream",
     "text": [
      "[140/1000]  train=0.0219  val=0.0273  lr=7.68e-04  t=1.4m\n"
     ]
    },
    {
     "name": "stderr",
     "output_type": "stream",
     "text": [
      "Epoch 141:  67%|██████▋   | 8/12 [00:00<00:00, 24.81it/s, loss=0.0165, lr=0.000781]/content/drive/.shortcut-targets-by-id/1w6OSQ_9ZH9r3830ldxRe1TGWfVlxxXWo/RL_real_0625_ind_index_value_weighted/DiffusionModel/trainer.py:158: FutureWarning: `torch.cuda.amp.autocast(args...)` is deprecated. Please use `torch.amp.autocast('cuda', args...)` instead.\n",
      "  with autocast(enabled=cfg.amp):\n"
     ]
    },
    {
     "name": "stdout",
     "output_type": "stream",
     "text": [
      "[141/1000]  train=0.0218  val=0.0233  lr=7.84e-04  t=1.4m\n"
     ]
    },
    {
     "name": "stderr",
     "output_type": "stream",
     "text": []
    },
    {
     "name": "stdout",
     "output_type": "stream",
     "text": [
      "[142/1000]  train=0.0225  val=0.0407  lr=7.99e-04  t=1.4m\n"
     ]
    },
    {
     "name": "stderr",
     "output_type": "stream",
     "text": [
      "Epoch 143:  67%|██████▋   | 8/12 [00:00<00:00, 23.50it/s, loss=0.0247, lr=0.000811]/content/drive/.shortcut-targets-by-id/1w6OSQ_9ZH9r3830ldxRe1TGWfVlxxXWo/RL_real_0625_ind_index_value_weighted/DiffusionModel/trainer.py:158: FutureWarning: `torch.cuda.amp.autocast(args...)` is deprecated. Please use `torch.amp.autocast('cuda', args...)` instead.\n",
      "  with autocast(enabled=cfg.amp):\n"
     ]
    },
    {
     "name": "stdout",
     "output_type": "stream",
     "text": [
      "[143/1000]  train=0.0235  val=0.0289  lr=8.14e-04  t=1.4m\n"
     ]
    },
    {
     "name": "stderr",
     "output_type": "stream",
     "text": []
    },
    {
     "name": "stdout",
     "output_type": "stream",
     "text": [
      "[144/1000]  train=0.0213  val=0.0359  lr=8.28e-04  t=1.4m\n"
     ]
    },
    {
     "name": "stderr",
     "output_type": "stream",
     "text": [
      "Epoch 145:  67%|██████▋   | 8/12 [00:00<00:00, 21.58it/s, loss=0.0176, lr=0.000839]/content/drive/.shortcut-targets-by-id/1w6OSQ_9ZH9r3830ldxRe1TGWfVlxxXWo/RL_real_0625_ind_index_value_weighted/DiffusionModel/trainer.py:158: FutureWarning: `torch.cuda.amp.autocast(args...)` is deprecated. Please use `torch.amp.autocast('cuda', args...)` instead.\n",
      "  with autocast(enabled=cfg.amp):\n"
     ]
    },
    {
     "name": "stdout",
     "output_type": "stream",
     "text": [
      "[145/1000]  train=0.0217  val=0.0288  lr=8.42e-04  t=1.4m\n"
     ]
    },
    {
     "name": "stderr",
     "output_type": "stream",
     "text": []
    },
    {
     "name": "stdout",
     "output_type": "stream",
     "text": [
      "[146/1000]  train=0.0196  val=0.0291  lr=8.56e-04  t=1.4m\n"
     ]
    },
    {
     "name": "stderr",
     "output_type": "stream",
     "text": [
      "Epoch 147:  67%|██████▋   | 8/12 [00:00<00:00, 21.94it/s, loss=0.0174, lr=0.000867]/content/drive/.shortcut-targets-by-id/1w6OSQ_9ZH9r3830ldxRe1TGWfVlxxXWo/RL_real_0625_ind_index_value_weighted/DiffusionModel/trainer.py:158: FutureWarning: `torch.cuda.amp.autocast(args...)` is deprecated. Please use `torch.amp.autocast('cuda', args...)` instead.\n",
      "  with autocast(enabled=cfg.amp):\n"
     ]
    },
    {
     "name": "stdout",
     "output_type": "stream",
     "text": [
      "[147/1000]  train=0.0220  val=0.0300  lr=8.69e-04  t=1.4m\n"
     ]
    },
    {
     "name": "stderr",
     "output_type": "stream",
     "text": []
    },
    {
     "name": "stdout",
     "output_type": "stream",
     "text": [
      "[148/1000]  train=0.0208  val=0.0352  lr=8.81e-04  t=1.4m\n"
     ]
    },
    {
     "name": "stderr",
     "output_type": "stream",
     "text": [
      "Epoch 149:  33%|███▎      | 4/12 [00:00<00:00, 11.41it/s, loss=0.0203, lr=0.000886]/content/drive/.shortcut-targets-by-id/1w6OSQ_9ZH9r3830ldxRe1TGWfVlxxXWo/RL_real_0625_ind_index_value_weighted/DiffusionModel/trainer.py:158: FutureWarning: `torch.cuda.amp.autocast(args...)` is deprecated. Please use `torch.amp.autocast('cuda', args...)` instead.\n",
      "  with autocast(enabled=cfg.amp):\n"
     ]
    },
    {
     "name": "stdout",
     "output_type": "stream",
     "text": [
      "[149/1000]  train=0.0217  val=0.0408  lr=8.93e-04  t=1.4m\n"
     ]
    },
    {
     "name": "stderr",
     "output_type": "stream",
     "text": []
    },
    {
     "name": "stdout",
     "output_type": "stream",
     "text": [
      "[150/1000]  train=0.0224  val=0.0347  lr=9.05e-04  t=1.5m\n"
     ]
    },
    {
     "name": "stderr",
     "output_type": "stream",
     "text": [
      "Epoch 151:  33%|███▎      | 4/12 [00:00<00:00, 12.12it/s, loss=0.0202, lr=0.000909]/content/drive/.shortcut-targets-by-id/1w6OSQ_9ZH9r3830ldxRe1TGWfVlxxXWo/RL_real_0625_ind_index_value_weighted/DiffusionModel/trainer.py:158: FutureWarning: `torch.cuda.amp.autocast(args...)` is deprecated. Please use `torch.amp.autocast('cuda', args...)` instead.\n",
      "  with autocast(enabled=cfg.amp):\n"
     ]
    },
    {
     "name": "stdout",
     "output_type": "stream",
     "text": [
      "[151/1000]  train=0.0203  val=0.0234  lr=9.15e-04  t=1.5m\n"
     ]
    },
    {
     "name": "stderr",
     "output_type": "stream",
     "text": []
    },
    {
     "name": "stdout",
     "output_type": "stream",
     "text": [
      "[152/1000]  train=0.0221  val=0.0315  lr=9.25e-04  t=1.5m\n"
     ]
    },
    {
     "name": "stderr",
     "output_type": "stream",
     "text": []
    },
    {
     "name": "stdout",
     "output_type": "stream",
     "text": [
      "[153/1000]  train=0.0219  val=0.0261  lr=9.35e-04  t=1.5m\n"
     ]
    },
    {
     "name": "stderr",
     "output_type": "stream",
     "text": []
    },
    {
     "name": "stdout",
     "output_type": "stream",
     "text": [
      "[154/1000]  train=0.0232  val=0.0296  lr=9.44e-04  t=1.5m\n"
     ]
    },
    {
     "name": "stderr",
     "output_type": "stream",
     "text": [
      "Epoch 155:  83%|████████▎ | 10/12 [00:00<00:00, 17.95it/s, loss=0.0161, lr=0.000951]/content/drive/.shortcut-targets-by-id/1w6OSQ_9ZH9r3830ldxRe1TGWfVlxxXWo/RL_real_0625_ind_index_value_weighted/DiffusionModel/trainer.py:158: FutureWarning: `torch.cuda.amp.autocast(args...)` is deprecated. Please use `torch.amp.autocast('cuda', args...)` instead.\n",
      "  with autocast(enabled=cfg.amp):\n"
     ]
    },
    {
     "name": "stdout",
     "output_type": "stream",
     "text": [
      "[155/1000]  train=0.0225  val=0.0238  lr=9.52e-04  t=1.5m\n"
     ]
    },
    {
     "name": "stderr",
     "output_type": "stream",
     "text": []
    },
    {
     "name": "stdout",
     "output_type": "stream",
     "text": [
      "[156/1000]  train=0.0204  val=0.0240  lr=9.60e-04  t=1.5m\n"
     ]
    },
    {
     "name": "stderr",
     "output_type": "stream",
     "text": [
      "Epoch 157:  67%|██████▋   | 8/12 [00:00<00:00, 24.52it/s, loss=0.0253, lr=0.000966]/content/drive/.shortcut-targets-by-id/1w6OSQ_9ZH9r3830ldxRe1TGWfVlxxXWo/RL_real_0625_ind_index_value_weighted/DiffusionModel/trainer.py:158: FutureWarning: `torch.cuda.amp.autocast(args...)` is deprecated. Please use `torch.amp.autocast('cuda', args...)` instead.\n",
      "  with autocast(enabled=cfg.amp):\n"
     ]
    },
    {
     "name": "stdout",
     "output_type": "stream",
     "text": [
      "[157/1000]  train=0.0215  val=0.0256  lr=9.67e-04  t=1.5m\n"
     ]
    },
    {
     "name": "stderr",
     "output_type": "stream",
     "text": []
    },
    {
     "name": "stdout",
     "output_type": "stream",
     "text": [
      "[158/1000]  train=0.0217  val=0.0245  lr=9.74e-04  t=1.5m\n"
     ]
    },
    {
     "name": "stderr",
     "output_type": "stream",
     "text": [
      "Epoch 159:  67%|██████▋   | 8/12 [00:00<00:00, 20.32it/s, loss=0.0159, lr=0.000978]/content/drive/.shortcut-targets-by-id/1w6OSQ_9ZH9r3830ldxRe1TGWfVlxxXWo/RL_real_0625_ind_index_value_weighted/DiffusionModel/trainer.py:158: FutureWarning: `torch.cuda.amp.autocast(args...)` is deprecated. Please use `torch.amp.autocast('cuda', args...)` instead.\n",
      "  with autocast(enabled=cfg.amp):\n"
     ]
    },
    {
     "name": "stdout",
     "output_type": "stream",
     "text": [
      "[159/1000]  train=0.0196  val=0.0262  lr=9.79e-04  t=1.5m\n"
     ]
    },
    {
     "name": "stderr",
     "output_type": "stream",
     "text": []
    },
    {
     "name": "stdout",
     "output_type": "stream",
     "text": [
      "[160/1000]  train=0.0235  val=0.0439  lr=9.84e-04  t=1.5m\n"
     ]
    },
    {
     "name": "stderr",
     "output_type": "stream",
     "text": [
      "Epoch 161:  67%|██████▋   | 8/12 [00:00<00:00, 20.64it/s, loss=0.0166, lr=0.000988]/content/drive/.shortcut-targets-by-id/1w6OSQ_9ZH9r3830ldxRe1TGWfVlxxXWo/RL_real_0625_ind_index_value_weighted/DiffusionModel/trainer.py:158: FutureWarning: `torch.cuda.amp.autocast(args...)` is deprecated. Please use `torch.amp.autocast('cuda', args...)` instead.\n",
      "  with autocast(enabled=cfg.amp):\n"
     ]
    },
    {
     "name": "stdout",
     "output_type": "stream",
     "text": [
      "[161/1000]  train=0.0207  val=0.0248  lr=9.89e-04  t=1.6m\n"
     ]
    },
    {
     "name": "stderr",
     "output_type": "stream",
     "text": []
    },
    {
     "name": "stdout",
     "output_type": "stream",
     "text": [
      "[162/1000]  train=0.0209  val=0.0410  lr=9.92e-04  t=1.6m\n"
     ]
    },
    {
     "name": "stderr",
     "output_type": "stream",
     "text": [
      "Epoch 163:  50%|█████     | 6/12 [00:00<00:00, 22.40it/s, loss=0.016, lr=0.000994] /content/drive/.shortcut-targets-by-id/1w6OSQ_9ZH9r3830ldxRe1TGWfVlxxXWo/RL_real_0625_ind_index_value_weighted/DiffusionModel/trainer.py:158: FutureWarning: `torch.cuda.amp.autocast(args...)` is deprecated. Please use `torch.amp.autocast('cuda', args...)` instead.\n",
      "  with autocast(enabled=cfg.amp):\n"
     ]
    },
    {
     "name": "stdout",
     "output_type": "stream",
     "text": [
      "[163/1000]  train=0.0208  val=0.0251  lr=9.95e-04  t=1.6m\n"
     ]
    },
    {
     "name": "stderr",
     "output_type": "stream",
     "text": []
    },
    {
     "name": "stdout",
     "output_type": "stream",
     "text": [
      "[164/1000]  train=0.0227  val=0.0220  lr=9.97e-04  t=1.6m\n"
     ]
    },
    {
     "name": "stderr",
     "output_type": "stream",
     "text": [
      "Epoch 165:  33%|███▎      | 4/12 [00:00<00:00, 30.54it/s, loss=0.0201, lr=0.000998]/content/drive/.shortcut-targets-by-id/1w6OSQ_9ZH9r3830ldxRe1TGWfVlxxXWo/RL_real_0625_ind_index_value_weighted/DiffusionModel/trainer.py:158: FutureWarning: `torch.cuda.amp.autocast(args...)` is deprecated. Please use `torch.amp.autocast('cuda', args...)` instead.\n",
      "  with autocast(enabled=cfg.amp):\n"
     ]
    },
    {
     "name": "stdout",
     "output_type": "stream",
     "text": [
      "[165/1000]  train=0.0206  val=0.0226  lr=9.99e-04  t=1.6m\n"
     ]
    },
    {
     "name": "stderr",
     "output_type": "stream",
     "text": []
    },
    {
     "name": "stdout",
     "output_type": "stream",
     "text": [
      "[166/1000]  train=0.0215  val=0.0244  lr=1.00e-03  t=1.6m\n"
     ]
    },
    {
     "name": "stderr",
     "output_type": "stream",
     "text": [
      "Epoch 167:  25%|██▌       | 3/12 [00:00<00:00, 23.83it/s, loss=0.0277, lr=0.001]/content/drive/.shortcut-targets-by-id/1w6OSQ_9ZH9r3830ldxRe1TGWfVlxxXWo/RL_real_0625_ind_index_value_weighted/DiffusionModel/trainer.py:158: FutureWarning: `torch.cuda.amp.autocast(args...)` is deprecated. Please use `torch.amp.autocast('cuda', args...)` instead.\n",
      "  with autocast(enabled=cfg.amp):\n"
     ]
    },
    {
     "name": "stdout",
     "output_type": "stream",
     "text": [
      "[167/1000]  train=0.0216  val=0.0305  lr=1.00e-03  t=1.6m\n"
     ]
    },
    {
     "name": "stderr",
     "output_type": "stream",
     "text": []
    },
    {
     "name": "stdout",
     "output_type": "stream",
     "text": [
      "[168/1000]  train=0.0207  val=0.0292  lr=9.99e-04  t=1.6m\n"
     ]
    },
    {
     "name": "stderr",
     "output_type": "stream",
     "text": [
      "Epoch 169:  25%|██▌       | 3/12 [00:00<00:00, 21.73it/s, loss=0.019, lr=0.000999] /content/drive/.shortcut-targets-by-id/1w6OSQ_9ZH9r3830ldxRe1TGWfVlxxXWo/RL_real_0625_ind_index_value_weighted/DiffusionModel/trainer.py:158: FutureWarning: `torch.cuda.amp.autocast(args...)` is deprecated. Please use `torch.amp.autocast('cuda', args...)` instead.\n",
      "  with autocast(enabled=cfg.amp):\n"
     ]
    },
    {
     "name": "stdout",
     "output_type": "stream",
     "text": [
      "[169/1000]  train=0.0218  val=0.0315  lr=9.98e-04  t=1.6m\n"
     ]
    },
    {
     "name": "stderr",
     "output_type": "stream",
     "text": []
    },
    {
     "name": "stdout",
     "output_type": "stream",
     "text": [
      "[170/1000]  train=0.0239  val=0.0273  lr=9.96e-04  t=1.6m\n"
     ]
    },
    {
     "name": "stderr",
     "output_type": "stream",
     "text": [
      "Epoch 171:  25%|██▌       | 3/12 [00:00<00:00, 22.06it/s, loss=0.0213, lr=0.000995]/content/drive/.shortcut-targets-by-id/1w6OSQ_9ZH9r3830ldxRe1TGWfVlxxXWo/RL_real_0625_ind_index_value_weighted/DiffusionModel/trainer.py:158: FutureWarning: `torch.cuda.amp.autocast(args...)` is deprecated. Please use `torch.amp.autocast('cuda', args...)` instead.\n",
      "  with autocast(enabled=cfg.amp):\n"
     ]
    },
    {
     "name": "stdout",
     "output_type": "stream",
     "text": [
      "[171/1000]  train=0.0204  val=0.0226  lr=9.93e-04  t=1.6m\n"
     ]
    },
    {
     "name": "stderr",
     "output_type": "stream",
     "text": []
    },
    {
     "name": "stdout",
     "output_type": "stream",
     "text": [
      "[172/1000]  train=0.0210  val=0.0256  lr=9.90e-04  t=1.6m\n"
     ]
    },
    {
     "name": "stderr",
     "output_type": "stream",
     "text": [
      "Epoch 173:  42%|████▏     | 5/12 [00:00<00:00, 13.01it/s, loss=0.0226, lr=0.000988]/content/drive/.shortcut-targets-by-id/1w6OSQ_9ZH9r3830ldxRe1TGWfVlxxXWo/RL_real_0625_ind_index_value_weighted/DiffusionModel/trainer.py:158: FutureWarning: `torch.cuda.amp.autocast(args...)` is deprecated. Please use `torch.amp.autocast('cuda', args...)` instead.\n",
      "  with autocast(enabled=cfg.amp):\n"
     ]
    },
    {
     "name": "stdout",
     "output_type": "stream",
     "text": [
      "[173/1000]  train=0.0217  val=0.0294  lr=9.86e-04  t=1.7m\n"
     ]
    },
    {
     "name": "stderr",
     "output_type": "stream",
     "text": []
    },
    {
     "name": "stdout",
     "output_type": "stream",
     "text": [
      "[174/1000]  train=0.0202  val=0.0249  lr=9.81e-04  t=1.7m\n"
     ]
    },
    {
     "name": "stderr",
     "output_type": "stream",
     "text": [
      "Epoch 175:  17%|█▋        | 2/12 [00:00<00:01,  9.09it/s, loss=0.0282, lr=0.00098]/content/drive/.shortcut-targets-by-id/1w6OSQ_9ZH9r3830ldxRe1TGWfVlxxXWo/RL_real_0625_ind_index_value_weighted/DiffusionModel/trainer.py:158: FutureWarning: `torch.cuda.amp.autocast(args...)` is deprecated. Please use `torch.amp.autocast('cuda', args...)` instead.\n",
      "  with autocast(enabled=cfg.amp):\n"
     ]
    },
    {
     "name": "stdout",
     "output_type": "stream",
     "text": [
      "[175/1000]  train=0.0216  val=0.0317  lr=9.76e-04  t=1.7m\n"
     ]
    },
    {
     "name": "stderr",
     "output_type": "stream",
     "text": []
    },
    {
     "name": "stdout",
     "output_type": "stream",
     "text": [
      "[176/1000]  train=0.0232  val=0.0281  lr=9.69e-04  t=1.7m\n"
     ]
    },
    {
     "name": "stderr",
     "output_type": "stream",
     "text": []
    },
    {
     "name": "stdout",
     "output_type": "stream",
     "text": [
      "[177/1000]  train=0.0191  val=0.0179  lr=9.63e-04  t=1.7m\n"
     ]
    },
    {
     "name": "stderr",
     "output_type": "stream",
     "text": [
      "Epoch 178:   0%|          | 0/12 [00:00<?, ?it/s, loss=0.0215, lr=0.000962]/content/drive/.shortcut-targets-by-id/1w6OSQ_9ZH9r3830ldxRe1TGWfVlxxXWo/RL_real_0625_ind_index_value_weighted/DiffusionModel/trainer.py:158: FutureWarning: `torch.cuda.amp.autocast(args...)` is deprecated. Please use `torch.amp.autocast('cuda', args...)` instead.\n",
      "  with autocast(enabled=cfg.amp):\n"
     ]
    },
    {
     "name": "stdout",
     "output_type": "stream",
     "text": [
      "[178/1000]  train=0.0206  val=0.0252  lr=9.55e-04  t=1.7m\n"
     ]
    },
    {
     "name": "stderr",
     "output_type": "stream",
     "text": []
    },
    {
     "name": "stdout",
     "output_type": "stream",
     "text": [
      "[179/1000]  train=0.0218  val=0.0579  lr=9.47e-04  t=1.7m\n"
     ]
    },
    {
     "name": "stderr",
     "output_type": "stream",
     "text": []
    },
    {
     "name": "stdout",
     "output_type": "stream",
     "text": [
      "[180/1000]  train=0.0218  val=0.0566  lr=9.38e-04  t=1.7m\n"
     ]
    },
    {
     "name": "stderr",
     "output_type": "stream",
     "text": [
      "Epoch 181:  17%|█▋        | 2/12 [00:00<00:00, 10.32it/s, loss=0.0165, lr=0.000936]/content/drive/.shortcut-targets-by-id/1w6OSQ_9ZH9r3830ldxRe1TGWfVlxxXWo/RL_real_0625_ind_index_value_weighted/DiffusionModel/trainer.py:158: FutureWarning: `torch.cuda.amp.autocast(args...)` is deprecated. Please use `torch.amp.autocast('cuda', args...)` instead.\n",
      "  with autocast(enabled=cfg.amp):\n"
     ]
    },
    {
     "name": "stdout",
     "output_type": "stream",
     "text": [
      "[181/1000]  train=0.0201  val=0.0189  lr=9.29e-04  t=1.7m\n"
     ]
    },
    {
     "name": "stderr",
     "output_type": "stream",
     "text": []
    },
    {
     "name": "stdout",
     "output_type": "stream",
     "text": [
      "[182/1000]  train=0.0199  val=0.0406  lr=9.19e-04  t=1.8m\n"
     ]
    },
    {
     "name": "stderr",
     "output_type": "stream",
     "text": [
      "Epoch 183:   0%|          | 0/12 [00:00<?, ?it/s, loss=0.0187, lr=0.000918]/content/drive/.shortcut-targets-by-id/1w6OSQ_9ZH9r3830ldxRe1TGWfVlxxXWo/RL_real_0625_ind_index_value_weighted/DiffusionModel/trainer.py:158: FutureWarning: `torch.cuda.amp.autocast(args...)` is deprecated. Please use `torch.amp.autocast('cuda', args...)` instead.\n",
      "  with autocast(enabled=cfg.amp):\n"
     ]
    },
    {
     "name": "stdout",
     "output_type": "stream",
     "text": [
      "[183/1000]  train=0.0216  val=0.0319  lr=9.08e-04  t=1.8m\n"
     ]
    },
    {
     "name": "stderr",
     "output_type": "stream",
     "text": [
      "Epoch 184:  83%|████████▎ | 10/12 [00:00<00:00, 18.03it/s, loss=0.024, lr=0.000898] /content/drive/.shortcut-targets-by-id/1w6OSQ_9ZH9r3830ldxRe1TGWfVlxxXWo/RL_real_0625_ind_index_value_weighted/DiffusionModel/trainer.py:158: FutureWarning: `torch.cuda.amp.autocast(args...)` is deprecated. Please use `torch.amp.autocast('cuda', args...)` instead.\n",
      "  with autocast(enabled=cfg.amp):\n"
     ]
    },
    {
     "name": "stdout",
     "output_type": "stream",
     "text": [
      "[184/1000]  train=0.0223  val=0.0266  lr=8.97e-04  t=1.8m\n"
     ]
    },
    {
     "name": "stderr",
     "output_type": "stream",
     "text": []
    },
    {
     "name": "stdout",
     "output_type": "stream",
     "text": [
      "[185/1000]  train=0.0202  val=0.0432  lr=8.85e-04  t=1.8m\n"
     ]
    },
    {
     "name": "stderr",
     "output_type": "stream",
     "text": []
    },
    {
     "name": "stdout",
     "output_type": "stream",
     "text": [
      "[186/1000]  train=0.0208  val=0.0402  lr=8.73e-04  t=1.8m\n"
     ]
    },
    {
     "name": "stderr",
     "output_type": "stream",
     "text": [
      "Epoch 187:  50%|█████     | 6/12 [00:00<00:00, 21.82it/s, loss=0.0268, lr=0.000864]/content/drive/.shortcut-targets-by-id/1w6OSQ_9ZH9r3830ldxRe1TGWfVlxxXWo/RL_real_0625_ind_index_value_weighted/DiffusionModel/trainer.py:158: FutureWarning: `torch.cuda.amp.autocast(args...)` is deprecated. Please use `torch.amp.autocast('cuda', args...)` instead.\n",
      "  with autocast(enabled=cfg.amp):\n"
     ]
    },
    {
     "name": "stdout",
     "output_type": "stream",
     "text": [
      "[187/1000]  train=0.0211  val=0.0246  lr=8.60e-04  t=1.8m\n"
     ]
    },
    {
     "name": "stderr",
     "output_type": "stream",
     "text": []
    },
    {
     "name": "stdout",
     "output_type": "stream",
     "text": [
      "[188/1000]  train=0.0210  val=0.0204  lr=8.47e-04  t=1.8m\n"
     ]
    },
    {
     "name": "stderr",
     "output_type": "stream",
     "text": [
      "Epoch 189:  50%|█████     | 6/12 [00:00<00:00, 16.65it/s, loss=0.0169, lr=0.00084]/content/drive/.shortcut-targets-by-id/1w6OSQ_9ZH9r3830ldxRe1TGWfVlxxXWo/RL_real_0625_ind_index_value_weighted/DiffusionModel/trainer.py:158: FutureWarning: `torch.cuda.amp.autocast(args...)` is deprecated. Please use `torch.amp.autocast('cuda', args...)` instead.\n",
      "  with autocast(enabled=cfg.amp):\n"
     ]
    },
    {
     "name": "stdout",
     "output_type": "stream",
     "text": [
      "[189/1000]  train=0.0202  val=0.0208  lr=8.33e-04  t=1.8m\n"
     ]
    },
    {
     "name": "stderr",
     "output_type": "stream",
     "text": []
    },
    {
     "name": "stdout",
     "output_type": "stream",
     "text": [
      "[190/1000]  train=0.0196  val=0.0249  lr=8.19e-04  t=1.8m\n"
     ]
    },
    {
     "name": "stderr",
     "output_type": "stream",
     "text": [
      "Epoch 191:  25%|██▌       | 3/12 [00:00<00:00, 23.67it/s, loss=0.0274, lr=0.000813]/content/drive/.shortcut-targets-by-id/1w6OSQ_9ZH9r3830ldxRe1TGWfVlxxXWo/RL_real_0625_ind_index_value_weighted/DiffusionModel/trainer.py:158: FutureWarning: `torch.cuda.amp.autocast(args...)` is deprecated. Please use `torch.amp.autocast('cuda', args...)` instead.\n",
      "  with autocast(enabled=cfg.amp):\n"
     ]
    },
    {
     "name": "stdout",
     "output_type": "stream",
     "text": [
      "[191/1000]  train=0.0213  val=0.0255  lr=8.04e-04  t=1.8m\n"
     ]
    },
    {
     "name": "stderr",
     "output_type": "stream",
     "text": []
    },
    {
     "name": "stdout",
     "output_type": "stream",
     "text": [
      "[192/1000]  train=0.0219  val=0.0185  lr=7.89e-04  t=1.8m\n"
     ]
    },
    {
     "name": "stderr",
     "output_type": "stream",
     "text": [
      "Epoch 193:  17%|█▋        | 2/12 [00:00<00:00, 12.57it/s, loss=0.0246, lr=0.000785]/content/drive/.shortcut-targets-by-id/1w6OSQ_9ZH9r3830ldxRe1TGWfVlxxXWo/RL_real_0625_ind_index_value_weighted/DiffusionModel/trainer.py:158: FutureWarning: `torch.cuda.amp.autocast(args...)` is deprecated. Please use `torch.amp.autocast('cuda', args...)` instead.\n",
      "  with autocast(enabled=cfg.amp):\n"
     ]
    },
    {
     "name": "stdout",
     "output_type": "stream",
     "text": [
      "[193/1000]  train=0.0204  val=0.0241  lr=7.73e-04  t=1.9m\n"
     ]
    },
    {
     "name": "stderr",
     "output_type": "stream",
     "text": []
    },
    {
     "name": "stdout",
     "output_type": "stream",
     "text": [
      "[194/1000]  train=0.0233  val=0.0277  lr=7.57e-04  t=1.9m\n"
     ]
    },
    {
     "name": "stderr",
     "output_type": "stream",
     "text": [
      "Epoch 195:  17%|█▋        | 2/12 [00:00<00:00, 12.51it/s, loss=0.0289, lr=0.000755]/content/drive/.shortcut-targets-by-id/1w6OSQ_9ZH9r3830ldxRe1TGWfVlxxXWo/RL_real_0625_ind_index_value_weighted/DiffusionModel/trainer.py:158: FutureWarning: `torch.cuda.amp.autocast(args...)` is deprecated. Please use `torch.amp.autocast('cuda', args...)` instead.\n",
      "  with autocast(enabled=cfg.amp):\n"
     ]
    },
    {
     "name": "stdout",
     "output_type": "stream",
     "text": [
      "[195/1000]  train=0.0201  val=0.0244  lr=7.41e-04  t=1.9m\n"
     ]
    },
    {
     "name": "stderr",
     "output_type": "stream",
     "text": [
      "Epoch 196:  92%|█████████▏| 11/12 [00:00<00:00, 14.75it/s, loss=0.0138, lr=0.000726]/content/drive/.shortcut-targets-by-id/1w6OSQ_9ZH9r3830ldxRe1TGWfVlxxXWo/RL_real_0625_ind_index_value_weighted/DiffusionModel/trainer.py:158: FutureWarning: `torch.cuda.amp.autocast(args...)` is deprecated. Please use `torch.amp.autocast('cuda', args...)` instead.\n",
      "  with autocast(enabled=cfg.amp):\n"
     ]
    },
    {
     "name": "stdout",
     "output_type": "stream",
     "text": [
      "[196/1000]  train=0.0196  val=0.0246  lr=7.24e-04  t=1.9m\n"
     ]
    },
    {
     "name": "stderr",
     "output_type": "stream",
     "text": []
    },
    {
     "name": "stdout",
     "output_type": "stream",
     "text": [
      "[197/1000]  train=0.0206  val=0.0464  lr=7.07e-04  t=1.9m\n"
     ]
    },
    {
     "name": "stderr",
     "output_type": "stream",
     "text": []
    },
    {
     "name": "stdout",
     "output_type": "stream",
     "text": [
      "[198/1000]  train=0.0211  val=0.0268  lr=6.90e-04  t=1.9m\n"
     ]
    },
    {
     "name": "stderr",
     "output_type": "stream",
     "text": [
      "Epoch 199:  58%|█████▊    | 7/12 [00:00<00:00, 13.43it/s, loss=0.0279, lr=0.00068]/content/drive/.shortcut-targets-by-id/1w6OSQ_9ZH9r3830ldxRe1TGWfVlxxXWo/RL_real_0625_ind_index_value_weighted/DiffusionModel/trainer.py:158: FutureWarning: `torch.cuda.amp.autocast(args...)` is deprecated. Please use `torch.amp.autocast('cuda', args...)` instead.\n",
      "  with autocast(enabled=cfg.amp):\n"
     ]
    },
    {
     "name": "stdout",
     "output_type": "stream",
     "text": [
      "[199/1000]  train=0.0224  val=0.0239  lr=6.72e-04  t=1.9m\n"
     ]
    },
    {
     "name": "stderr",
     "output_type": "stream",
     "text": []
    },
    {
     "name": "stdout",
     "output_type": "stream",
     "text": [
      "[200/1000]  train=0.0195  val=0.0245  lr=6.55e-04  t=1.9m\n"
     ]
    },
    {
     "name": "stderr",
     "output_type": "stream",
     "text": [
      "Epoch 201:  17%|█▋        | 2/12 [00:00<00:00, 13.51it/s, loss=0.0244, lr=0.000652]/content/drive/.shortcut-targets-by-id/1w6OSQ_9ZH9r3830ldxRe1TGWfVlxxXWo/RL_real_0625_ind_index_value_weighted/DiffusionModel/trainer.py:158: FutureWarning: `torch.cuda.amp.autocast(args...)` is deprecated. Please use `torch.amp.autocast('cuda', args...)` instead.\n",
      "  with autocast(enabled=cfg.amp):\n"
     ]
    },
    {
     "name": "stdout",
     "output_type": "stream",
     "text": [
      "[201/1000]  train=0.0204  val=0.0248  lr=6.36e-04  t=1.9m\n"
     ]
    },
    {
     "name": "stderr",
     "output_type": "stream",
     "text": []
    },
    {
     "name": "stdout",
     "output_type": "stream",
     "text": [
      "[202/1000]  train=0.0204  val=0.0294  lr=6.18e-04  t=2.0m\n"
     ]
    },
    {
     "name": "stderr",
     "output_type": "stream",
     "text": []
    },
    {
     "name": "stdout",
     "output_type": "stream",
     "text": [
      "[203/1000]  train=0.0193  val=0.0245  lr=6.00e-04  t=2.0m\n"
     ]
    },
    {
     "name": "stderr",
     "output_type": "stream",
     "text": [
      "Epoch 204:  50%|█████     | 6/12 [00:00<00:00, 23.11it/s, loss=0.0173, lr=0.000588]/content/drive/.shortcut-targets-by-id/1w6OSQ_9ZH9r3830ldxRe1TGWfVlxxXWo/RL_real_0625_ind_index_value_weighted/DiffusionModel/trainer.py:158: FutureWarning: `torch.cuda.amp.autocast(args...)` is deprecated. Please use `torch.amp.autocast('cuda', args...)` instead.\n",
      "  with autocast(enabled=cfg.amp):\n"
     ]
    },
    {
     "name": "stdout",
     "output_type": "stream",
     "text": [
      "[204/1000]  train=0.0193  val=0.0256  lr=5.81e-04  t=2.0m\n"
     ]
    },
    {
     "name": "stderr",
     "output_type": "stream",
     "text": []
    },
    {
     "name": "stdout",
     "output_type": "stream",
     "text": [
      "[205/1000]  train=0.0222  val=0.0318  lr=5.63e-04  t=2.0m\n"
     ]
    },
    {
     "name": "stderr",
     "output_type": "stream",
     "text": [
      "Epoch 206:  50%|█████     | 6/12 [00:00<00:00, 17.16it/s, loss=0.0266, lr=0.000552]/content/drive/.shortcut-targets-by-id/1w6OSQ_9ZH9r3830ldxRe1TGWfVlxxXWo/RL_real_0625_ind_index_value_weighted/DiffusionModel/trainer.py:158: FutureWarning: `torch.cuda.amp.autocast(args...)` is deprecated. Please use `torch.amp.autocast('cuda', args...)` instead.\n",
      "  with autocast(enabled=cfg.amp):\n"
     ]
    },
    {
     "name": "stdout",
     "output_type": "stream",
     "text": [
      "[206/1000]  train=0.0192  val=0.0218  lr=5.44e-04  t=2.0m\n"
     ]
    },
    {
     "name": "stderr",
     "output_type": "stream",
     "text": []
    },
    {
     "name": "stdout",
     "output_type": "stream",
     "text": [
      "[207/1000]  train=0.0192  val=0.0429  lr=5.25e-04  t=2.0m\n"
     ]
    },
    {
     "name": "stderr",
     "output_type": "stream",
     "text": [
      "Epoch 208:  50%|█████     | 6/12 [00:00<00:00, 16.76it/s, loss=0.0201, lr=0.000516]/content/drive/.shortcut-targets-by-id/1w6OSQ_9ZH9r3830ldxRe1TGWfVlxxXWo/RL_real_0625_ind_index_value_weighted/DiffusionModel/trainer.py:158: FutureWarning: `torch.cuda.amp.autocast(args...)` is deprecated. Please use `torch.amp.autocast('cuda', args...)` instead.\n",
      "  with autocast(enabled=cfg.amp):\n"
     ]
    },
    {
     "name": "stdout",
     "output_type": "stream",
     "text": [
      "[208/1000]  train=0.0218  val=0.0249  lr=5.06e-04  t=2.0m\n"
     ]
    },
    {
     "name": "stderr",
     "output_type": "stream",
     "text": []
    },
    {
     "name": "stdout",
     "output_type": "stream",
     "text": [
      "[209/1000]  train=0.0195  val=0.0323  lr=4.87e-04  t=2.0m\n"
     ]
    },
    {
     "name": "stderr",
     "output_type": "stream",
     "text": [
      "Epoch 210:  42%|████▏     | 5/12 [00:00<00:00, 15.05it/s, loss=0.0194, lr=0.00048]/content/drive/.shortcut-targets-by-id/1w6OSQ_9ZH9r3830ldxRe1TGWfVlxxXWo/RL_real_0625_ind_index_value_weighted/DiffusionModel/trainer.py:158: FutureWarning: `torch.cuda.amp.autocast(args...)` is deprecated. Please use `torch.amp.autocast('cuda', args...)` instead.\n",
      "  with autocast(enabled=cfg.amp):\n"
     ]
    },
    {
     "name": "stdout",
     "output_type": "stream",
     "text": [
      "[210/1000]  train=0.0217  val=0.0224  lr=4.69e-04  t=2.0m\n"
     ]
    },
    {
     "name": "stderr",
     "output_type": "stream",
     "text": []
    },
    {
     "name": "stdout",
     "output_type": "stream",
     "text": [
      "[211/1000]  train=0.0202  val=0.0237  lr=4.50e-04  t=2.0m\n"
     ]
    },
    {
     "name": "stderr",
     "output_type": "stream",
     "text": [
      "Epoch 212:  33%|███▎      | 4/12 [00:00<00:00, 14.14it/s, loss=0.0207, lr=0.000444]/content/drive/.shortcut-targets-by-id/1w6OSQ_9ZH9r3830ldxRe1TGWfVlxxXWo/RL_real_0625_ind_index_value_weighted/DiffusionModel/trainer.py:158: FutureWarning: `torch.cuda.amp.autocast(args...)` is deprecated. Please use `torch.amp.autocast('cuda', args...)` instead.\n",
      "  with autocast(enabled=cfg.amp):\n"
     ]
    },
    {
     "name": "stdout",
     "output_type": "stream",
     "text": [
      "[212/1000]  train=0.0184  val=0.0242  lr=4.31e-04  t=2.0m\n"
     ]
    },
    {
     "name": "stderr",
     "output_type": "stream",
     "text": []
    },
    {
     "name": "stdout",
     "output_type": "stream",
     "text": [
      "[213/1000]  train=0.0207  val=0.0240  lr=4.12e-04  t=2.0m\n"
     ]
    },
    {
     "name": "stderr",
     "output_type": "stream",
     "text": [
      "Epoch 214:  42%|████▏     | 5/12 [00:00<00:00, 16.07it/s, loss=0.0184, lr=0.000405]/content/drive/.shortcut-targets-by-id/1w6OSQ_9ZH9r3830ldxRe1TGWfVlxxXWo/RL_real_0625_ind_index_value_weighted/DiffusionModel/trainer.py:158: FutureWarning: `torch.cuda.amp.autocast(args...)` is deprecated. Please use `torch.amp.autocast('cuda', args...)` instead.\n",
      "  with autocast(enabled=cfg.amp):\n"
     ]
    },
    {
     "name": "stdout",
     "output_type": "stream",
     "text": [
      "[214/1000]  train=0.0187  val=0.0254  lr=3.94e-04  t=2.1m\n"
     ]
    },
    {
     "name": "stderr",
     "output_type": "stream",
     "text": []
    },
    {
     "name": "stdout",
     "output_type": "stream",
     "text": [
      "[215/1000]  train=0.0185  val=0.0273  lr=3.76e-04  t=2.1m\n"
     ]
    },
    {
     "name": "stderr",
     "output_type": "stream",
     "text": [
      "Epoch 216:  33%|███▎      | 4/12 [00:00<00:00, 13.69it/s, loss=0.0177, lr=0.00037]/content/drive/.shortcut-targets-by-id/1w6OSQ_9ZH9r3830ldxRe1TGWfVlxxXWo/RL_real_0625_ind_index_value_weighted/DiffusionModel/trainer.py:158: FutureWarning: `torch.cuda.amp.autocast(args...)` is deprecated. Please use `torch.amp.autocast('cuda', args...)` instead.\n",
      "  with autocast(enabled=cfg.amp):\n"
     ]
    },
    {
     "name": "stdout",
     "output_type": "stream",
     "text": [
      "[216/1000]  train=0.0183  val=0.0288  lr=3.57e-04  t=2.1m\n"
     ]
    },
    {
     "name": "stderr",
     "output_type": "stream",
     "text": []
    },
    {
     "name": "stdout",
     "output_type": "stream",
     "text": [
      "[217/1000]  train=0.0182  val=0.0253  lr=3.40e-04  t=2.1m\n"
     ]
    },
    {
     "name": "stderr",
     "output_type": "stream",
     "text": [
      "Epoch 218:  33%|███▎      | 4/12 [00:00<00:00, 14.87it/s, loss=0.022, lr=0.000334]/content/drive/.shortcut-targets-by-id/1w6OSQ_9ZH9r3830ldxRe1TGWfVlxxXWo/RL_real_0625_ind_index_value_weighted/DiffusionModel/trainer.py:158: FutureWarning: `torch.cuda.amp.autocast(args...)` is deprecated. Please use `torch.amp.autocast('cuda', args...)` instead.\n",
      "  with autocast(enabled=cfg.amp):\n"
     ]
    },
    {
     "name": "stdout",
     "output_type": "stream",
     "text": [
      "[218/1000]  train=0.0183  val=0.0238  lr=3.22e-04  t=2.1m\n"
     ]
    },
    {
     "name": "stderr",
     "output_type": "stream",
     "text": []
    },
    {
     "name": "stdout",
     "output_type": "stream",
     "text": [
      "[219/1000]  train=0.0213  val=0.0174  lr=3.04e-04  t=2.1m\n"
     ]
    },
    {
     "name": "stderr",
     "output_type": "stream",
     "text": [
      "Epoch 220:  17%|█▋        | 2/12 [00:00<00:01,  8.99it/s, loss=0.0192, lr=0.000301]/content/drive/.shortcut-targets-by-id/1w6OSQ_9ZH9r3830ldxRe1TGWfVlxxXWo/RL_real_0625_ind_index_value_weighted/DiffusionModel/trainer.py:158: FutureWarning: `torch.cuda.amp.autocast(args...)` is deprecated. Please use `torch.amp.autocast('cuda', args...)` instead.\n",
      "  with autocast(enabled=cfg.amp):\n"
     ]
    },
    {
     "name": "stdout",
     "output_type": "stream",
     "text": [
      "[220/1000]  train=0.0192  val=0.0263  lr=2.87e-04  t=2.1m\n"
     ]
    },
    {
     "name": "stderr",
     "output_type": "stream",
     "text": [
      "Epoch 221:  75%|███████▌  | 9/12 [00:00<00:00, 14.62it/s, loss=0.0149, lr=0.000273]/content/drive/.shortcut-targets-by-id/1w6OSQ_9ZH9r3830ldxRe1TGWfVlxxXWo/RL_real_0625_ind_index_value_weighted/DiffusionModel/trainer.py:158: FutureWarning: `torch.cuda.amp.autocast(args...)` is deprecated. Please use `torch.amp.autocast('cuda', args...)` instead.\n",
      "  with autocast(enabled=cfg.amp):\n"
     ]
    },
    {
     "name": "stdout",
     "output_type": "stream",
     "text": [
      "[221/1000]  train=0.0191  val=0.0225  lr=2.70e-04  t=2.1m\n"
     ]
    },
    {
     "name": "stderr",
     "output_type": "stream",
     "text": []
    },
    {
     "name": "stdout",
     "output_type": "stream",
     "text": [
      "[222/1000]  train=0.0184  val=0.0197  lr=2.54e-04  t=2.1m\n"
     ]
    },
    {
     "name": "stderr",
     "output_type": "stream",
     "text": [
      "Epoch 223:  58%|█████▊    | 7/12 [00:00<00:00, 14.85it/s, loss=0.0177, lr=0.000243]/content/drive/.shortcut-targets-by-id/1w6OSQ_9ZH9r3830ldxRe1TGWfVlxxXWo/RL_real_0625_ind_index_value_weighted/DiffusionModel/trainer.py:158: FutureWarning: `torch.cuda.amp.autocast(args...)` is deprecated. Please use `torch.amp.autocast('cuda', args...)` instead.\n",
      "  with autocast(enabled=cfg.amp):\n"
     ]
    },
    {
     "name": "stdout",
     "output_type": "stream",
     "text": [
      "[223/1000]  train=0.0203  val=0.0258  lr=2.37e-04  t=2.1m\n"
     ]
    },
    {
     "name": "stderr",
     "output_type": "stream",
     "text": []
    },
    {
     "name": "stdout",
     "output_type": "stream",
     "text": [
      "[224/1000]  train=0.0201  val=0.0211  lr=2.22e-04  t=2.2m\n"
     ]
    },
    {
     "name": "stderr",
     "output_type": "stream",
     "text": []
    },
    {
     "name": "stdout",
     "output_type": "stream",
     "text": [
      "[225/1000]  train=0.0182  val=0.0254  lr=2.06e-04  t=2.2m\n"
     ]
    },
    {
     "name": "stderr",
     "output_type": "stream",
     "text": []
    },
    {
     "name": "stdout",
     "output_type": "stream",
     "text": [
      "[226/1000]  train=0.0190  val=0.0214  lr=1.91e-04  t=2.2m\n"
     ]
    },
    {
     "name": "stderr",
     "output_type": "stream",
     "text": []
    },
    {
     "name": "stdout",
     "output_type": "stream",
     "text": [
      "[227/1000]  train=0.0180  val=0.0231  lr=1.76e-04  t=2.2m\n"
     ]
    },
    {
     "name": "stderr",
     "output_type": "stream",
     "text": [
      "Epoch 228:   0%|          | 0/12 [00:00<?, ?it/s, loss=0.0192, lr=0.000175]/content/drive/.shortcut-targets-by-id/1w6OSQ_9ZH9r3830ldxRe1TGWfVlxxXWo/RL_real_0625_ind_index_value_weighted/DiffusionModel/trainer.py:158: FutureWarning: `torch.cuda.amp.autocast(args...)` is deprecated. Please use `torch.amp.autocast('cuda', args...)` instead.\n",
      "  with autocast(enabled=cfg.amp):\n"
     ]
    },
    {
     "name": "stdout",
     "output_type": "stream",
     "text": [
      "[228/1000]  train=0.0188  val=0.0231  lr=1.62e-04  t=2.2m\n"
     ]
    },
    {
     "name": "stderr",
     "output_type": "stream",
     "text": []
    },
    {
     "name": "stdout",
     "output_type": "stream",
     "text": [
      "[229/1000]  train=0.0175  val=0.0224  lr=1.49e-04  t=2.2m\n"
     ]
    },
    {
     "name": "stderr",
     "output_type": "stream",
     "text": [
      "Epoch 230:   0%|          | 0/12 [00:00<?, ?it/s]/content/drive/.shortcut-targets-by-id/1w6OSQ_9ZH9r3830ldxRe1TGWfVlxxXWo/RL_real_0625_ind_index_value_weighted/DiffusionModel/trainer.py:158: FutureWarning: `torch.cuda.amp.autocast(args...)` is deprecated. Please use `torch.amp.autocast('cuda', args...)` instead.\n",
      "  with autocast(enabled=cfg.amp):\n"
     ]
    },
    {
     "name": "stdout",
     "output_type": "stream",
     "text": [
      "[230/1000]  train=0.0218  val=0.0196  lr=1.36e-04  t=2.2m\n"
     ]
    },
    {
     "name": "stderr",
     "output_type": "stream",
     "text": [
      "Epoch 231:  75%|███████▌  | 9/12 [00:00<00:00, 23.05it/s, loss=0.0173, lr=0.000124]/content/drive/.shortcut-targets-by-id/1w6OSQ_9ZH9r3830ldxRe1TGWfVlxxXWo/RL_real_0625_ind_index_value_weighted/DiffusionModel/trainer.py:158: FutureWarning: `torch.cuda.amp.autocast(args...)` is deprecated. Please use `torch.amp.autocast('cuda', args...)` instead.\n",
      "  with autocast(enabled=cfg.amp):\n"
     ]
    },
    {
     "name": "stdout",
     "output_type": "stream",
     "text": [
      "[231/1000]  train=0.0183  val=0.0226  lr=1.23e-04  t=2.2m\n"
     ]
    },
    {
     "name": "stderr",
     "output_type": "stream",
     "text": []
    },
    {
     "name": "stdout",
     "output_type": "stream",
     "text": [
      "[232/1000]  train=0.0183  val=0.0218  lr=1.11e-04  t=2.2m\n"
     ]
    },
    {
     "name": "stderr",
     "output_type": "stream",
     "text": [
      "Epoch 233:  67%|██████▋   | 8/12 [00:00<00:00, 21.36it/s, loss=0.018, lr=0.000102] /content/drive/.shortcut-targets-by-id/1w6OSQ_9ZH9r3830ldxRe1TGWfVlxxXWo/RL_real_0625_ind_index_value_weighted/DiffusionModel/trainer.py:158: FutureWarning: `torch.cuda.amp.autocast(args...)` is deprecated. Please use `torch.amp.autocast('cuda', args...)` instead.\n",
      "  with autocast(enabled=cfg.amp):\n"
     ]
    },
    {
     "name": "stdout",
     "output_type": "stream",
     "text": [
      "[233/1000]  train=0.0205  val=0.0213  lr=9.92e-05  t=2.2m\n"
     ]
    },
    {
     "name": "stderr",
     "output_type": "stream",
     "text": []
    },
    {
     "name": "stdout",
     "output_type": "stream",
     "text": [
      "[234/1000]  train=0.0185  val=0.0281  lr=8.82e-05  t=2.2m\n"
     ]
    },
    {
     "name": "stderr",
     "output_type": "stream",
     "text": [
      "Epoch 235:  50%|█████     | 6/12 [00:00<00:00, 23.58it/s, loss=0.0192, lr=8.12e-5]/content/drive/.shortcut-targets-by-id/1w6OSQ_9ZH9r3830ldxRe1TGWfVlxxXWo/RL_real_0625_ind_index_value_weighted/DiffusionModel/trainer.py:158: FutureWarning: `torch.cuda.amp.autocast(args...)` is deprecated. Please use `torch.amp.autocast('cuda', args...)` instead.\n",
      "  with autocast(enabled=cfg.amp):\n"
     ]
    },
    {
     "name": "stdout",
     "output_type": "stream",
     "text": [
      "[235/1000]  train=0.0179  val=0.0215  lr=7.78e-05  t=2.3m\n"
     ]
    },
    {
     "name": "stderr",
     "output_type": "stream",
     "text": []
    },
    {
     "name": "stdout",
     "output_type": "stream",
     "text": [
      "[236/1000]  train=0.0203  val=0.0231  lr=6.80e-05  t=2.3m\n"
     ]
    },
    {
     "name": "stderr",
     "output_type": "stream",
     "text": [
      "Epoch 237:  50%|█████     | 6/12 [00:00<00:00, 17.13it/s, loss=0.0247, lr=6.26e-5]/content/drive/.shortcut-targets-by-id/1w6OSQ_9ZH9r3830ldxRe1TGWfVlxxXWo/RL_real_0625_ind_index_value_weighted/DiffusionModel/trainer.py:158: FutureWarning: `torch.cuda.amp.autocast(args...)` is deprecated. Please use `torch.amp.autocast('cuda', args...)` instead.\n",
      "  with autocast(enabled=cfg.amp):\n"
     ]
    },
    {
     "name": "stdout",
     "output_type": "stream",
     "text": [
      "[237/1000]  train=0.0188  val=0.0201  lr=5.89e-05  t=2.3m\n"
     ]
    },
    {
     "name": "stderr",
     "output_type": "stream",
     "text": []
    },
    {
     "name": "stdout",
     "output_type": "stream",
     "text": [
      "[238/1000]  train=0.0189  val=0.0237  lr=5.03e-05  t=2.3m\n"
     ]
    },
    {
     "name": "stderr",
     "output_type": "stream",
     "text": [
      "Epoch 239:  50%|█████     | 6/12 [00:00<00:00, 16.72it/s, loss=0.0288, lr=4.63e-5]/content/drive/.shortcut-targets-by-id/1w6OSQ_9ZH9r3830ldxRe1TGWfVlxxXWo/RL_real_0625_ind_index_value_weighted/DiffusionModel/trainer.py:158: FutureWarning: `torch.cuda.amp.autocast(args...)` is deprecated. Please use `torch.amp.autocast('cuda', args...)` instead.\n",
      "  with autocast(enabled=cfg.amp):\n"
     ]
    },
    {
     "name": "stdout",
     "output_type": "stream",
     "text": [
      "[239/1000]  train=0.0192  val=0.0199  lr=4.24e-05  t=2.3m\n"
     ]
    },
    {
     "name": "stderr",
     "output_type": "stream",
     "text": []
    },
    {
     "name": "stdout",
     "output_type": "stream",
     "text": [
      "[240/1000]  train=0.0190  val=0.0192  lr=3.51e-05  t=2.3m\n"
     ]
    },
    {
     "name": "stderr",
     "output_type": "stream",
     "text": [
      "Epoch 241:  33%|███▎      | 4/12 [00:00<00:00, 13.72it/s, loss=0.0171, lr=3.28e-5]/content/drive/.shortcut-targets-by-id/1w6OSQ_9ZH9r3830ldxRe1TGWfVlxxXWo/RL_real_0625_ind_index_value_weighted/DiffusionModel/trainer.py:158: FutureWarning: `torch.cuda.amp.autocast(args...)` is deprecated. Please use `torch.amp.autocast('cuda', args...)` instead.\n",
      "  with autocast(enabled=cfg.amp):\n"
     ]
    },
    {
     "name": "stdout",
     "output_type": "stream",
     "text": [
      "[241/1000]  train=0.0177  val=0.0243  lr=2.85e-05  t=2.3m\n"
     ]
    },
    {
     "name": "stderr",
     "output_type": "stream",
     "text": []
    },
    {
     "name": "stdout",
     "output_type": "stream",
     "text": [
      "[242/1000]  train=0.0189  val=0.0244  lr=2.26e-05  t=2.3m\n"
     ]
    },
    {
     "name": "stderr",
     "output_type": "stream",
     "text": [
      "Epoch 243:  17%|█▋        | 2/12 [00:00<00:00, 13.21it/s, loss=0.0173, lr=2.16e-5]/content/drive/.shortcut-targets-by-id/1w6OSQ_9ZH9r3830ldxRe1TGWfVlxxXWo/RL_real_0625_ind_index_value_weighted/DiffusionModel/trainer.py:158: FutureWarning: `torch.cuda.amp.autocast(args...)` is deprecated. Please use `torch.amp.autocast('cuda', args...)` instead.\n",
      "  with autocast(enabled=cfg.amp):\n"
     ]
    },
    {
     "name": "stdout",
     "output_type": "stream",
     "text": [
      "[243/1000]  train=0.0198  val=0.0241  lr=1.73e-05  t=2.3m\n"
     ]
    },
    {
     "name": "stderr",
     "output_type": "stream",
     "text": []
    },
    {
     "name": "stdout",
     "output_type": "stream",
     "text": [
      "[244/1000]  train=0.0194  val=0.0192  lr=1.27e-05  t=2.3m\n"
     ]
    },
    {
     "name": "stderr",
     "output_type": "stream",
     "text": [
      "Epoch 245:   0%|          | 0/12 [00:00<?, ?it/s]/content/drive/.shortcut-targets-by-id/1w6OSQ_9ZH9r3830ldxRe1TGWfVlxxXWo/RL_real_0625_ind_index_value_weighted/DiffusionModel/trainer.py:158: FutureWarning: `torch.cuda.amp.autocast(args...)` is deprecated. Please use `torch.amp.autocast('cuda', args...)` instead.\n",
      "  with autocast(enabled=cfg.amp):\n"
     ]
    },
    {
     "name": "stdout",
     "output_type": "stream",
     "text": [
      "[245/1000]  train=0.0174  val=0.0252  lr=8.86e-06  t=2.4m\n"
     ]
    },
    {
     "name": "stderr",
     "output_type": "stream",
     "text": []
    },
    {
     "name": "stdout",
     "output_type": "stream",
     "text": [
      "[246/1000]  train=0.0188  val=0.0195  lr=5.67e-06  t=2.4m\n"
     ]
    },
    {
     "name": "stderr",
     "output_type": "stream",
     "text": [
      "Epoch 247:  67%|██████▋   | 8/12 [00:00<00:00, 14.75it/s, loss=0.0164, lr=3.75e-6]/content/drive/.shortcut-targets-by-id/1w6OSQ_9ZH9r3830ldxRe1TGWfVlxxXWo/RL_real_0625_ind_index_value_weighted/DiffusionModel/trainer.py:158: FutureWarning: `torch.cuda.amp.autocast(args...)` is deprecated. Please use `torch.amp.autocast('cuda', args...)` instead.\n",
      "  with autocast(enabled=cfg.amp):\n"
     ]
    },
    {
     "name": "stdout",
     "output_type": "stream",
     "text": [
      "[247/1000]  train=0.0172  val=0.0189  lr=3.19e-06  t=2.4m\n"
     ]
    },
    {
     "name": "stderr",
     "output_type": "stream",
     "text": []
    },
    {
     "name": "stdout",
     "output_type": "stream",
     "text": [
      "[248/1000]  train=0.0184  val=0.0209  lr=1.42e-06  t=2.4m\n"
     ]
    },
    {
     "name": "stderr",
     "output_type": "stream",
     "text": [
      "Epoch 249:  33%|███▎      | 4/12 [00:00<00:00, 11.30it/s, loss=0.0226, lr=8.9e-7] /content/drive/.shortcut-targets-by-id/1w6OSQ_9ZH9r3830ldxRe1TGWfVlxxXWo/RL_real_0625_ind_index_value_weighted/DiffusionModel/trainer.py:158: FutureWarning: `torch.cuda.amp.autocast(args...)` is deprecated. Please use `torch.amp.autocast('cuda', args...)` instead.\n",
      "  with autocast(enabled=cfg.amp):\n"
     ]
    },
    {
     "name": "stdout",
     "output_type": "stream",
     "text": [
      "[249/1000]  train=0.0198  val=0.0182  lr=3.55e-07  t=2.4m\n"
     ]
    },
    {
     "name": "stderr",
     "output_type": "stream",
     "text": []
    },
    {
     "name": "stdout",
     "output_type": "stream",
     "text": [
      "[250/1000]  train=0.0183  val=0.0236  lr=0.00e+00  t=2.4m\n"
     ]
    },
    {
     "name": "stderr",
     "output_type": "stream",
     "text": []
    },
    {
     "name": "stdout",
     "output_type": "stream",
     "text": [
      "[251/1000]  train=0.0198  val=0.0234  lr=3.55e-07  t=2.4m\n"
     ]
    },
    {
     "name": "stderr",
     "output_type": "stream",
     "text": [
      "Epoch 252:  75%|███████▌  | 9/12 [00:00<00:00, 17.95it/s, loss=0.0142, lr=1.09e-6]/content/drive/.shortcut-targets-by-id/1w6OSQ_9ZH9r3830ldxRe1TGWfVlxxXWo/RL_real_0625_ind_index_value_weighted/DiffusionModel/trainer.py:158: FutureWarning: `torch.cuda.amp.autocast(args...)` is deprecated. Please use `torch.amp.autocast('cuda', args...)` instead.\n",
      "  with autocast(enabled=cfg.amp):\n"
     ]
    },
    {
     "name": "stdout",
     "output_type": "stream",
     "text": [
      "[252/1000]  train=0.0195  val=0.0204  lr=1.42e-06  t=2.4m\n"
     ]
    },
    {
     "name": "stderr",
     "output_type": "stream",
     "text": []
    },
    {
     "name": "stdout",
     "output_type": "stream",
     "text": [
      "[253/1000]  train=0.0203  val=0.0204  lr=3.19e-06  t=2.4m\n"
     ]
    },
    {
     "name": "stderr",
     "output_type": "stream",
     "text": [
      "Epoch 254:  58%|█████▊    | 7/12 [00:00<00:00, 22.61it/s, loss=0.0121, lr=4.99e-6]/content/drive/.shortcut-targets-by-id/1w6OSQ_9ZH9r3830ldxRe1TGWfVlxxXWo/RL_real_0625_ind_index_value_weighted/DiffusionModel/trainer.py:158: FutureWarning: `torch.cuda.amp.autocast(args...)` is deprecated. Please use `torch.amp.autocast('cuda', args...)` instead.\n",
      "  with autocast(enabled=cfg.amp):\n"
     ]
    },
    {
     "name": "stdout",
     "output_type": "stream",
     "text": [
      "[254/1000]  train=0.0186  val=0.0219  lr=5.67e-06  t=2.4m\n"
     ]
    },
    {
     "name": "stderr",
     "output_type": "stream",
     "text": []
    },
    {
     "name": "stdout",
     "output_type": "stream",
     "text": [
      "[255/1000]  train=0.0193  val=0.0183  lr=8.86e-06  t=2.4m\n"
     ]
    },
    {
     "name": "stderr",
     "output_type": "stream",
     "text": [
      "Epoch 256:  50%|█████     | 6/12 [00:00<00:00, 19.34it/s, loss=0.0183, lr=1.14e-5]/content/drive/.shortcut-targets-by-id/1w6OSQ_9ZH9r3830ldxRe1TGWfVlxxXWo/RL_real_0625_ind_index_value_weighted/DiffusionModel/trainer.py:158: FutureWarning: `torch.cuda.amp.autocast(args...)` is deprecated. Please use `torch.amp.autocast('cuda', args...)` instead.\n",
      "  with autocast(enabled=cfg.amp):\n"
     ]
    },
    {
     "name": "stdout",
     "output_type": "stream",
     "text": [
      "[256/1000]  train=0.0203  val=0.0234  lr=1.27e-05  t=2.5m\n"
     ]
    },
    {
     "name": "stderr",
     "output_type": "stream",
     "text": []
    },
    {
     "name": "stdout",
     "output_type": "stream",
     "text": [
      "[257/1000]  train=0.0190  val=0.0253  lr=1.73e-05  t=2.5m\n"
     ]
    },
    {
     "name": "stderr",
     "output_type": "stream",
     "text": [
      "Epoch 258:  50%|█████     | 6/12 [00:00<00:00, 16.71it/s, loss=0.0169, lr=2.03e-5]/content/drive/.shortcut-targets-by-id/1w6OSQ_9ZH9r3830ldxRe1TGWfVlxxXWo/RL_real_0625_ind_index_value_weighted/DiffusionModel/trainer.py:158: FutureWarning: `torch.cuda.amp.autocast(args...)` is deprecated. Please use `torch.amp.autocast('cuda', args...)` instead.\n",
      "  with autocast(enabled=cfg.amp):\n"
     ]
    },
    {
     "name": "stdout",
     "output_type": "stream",
     "text": [
      "[258/1000]  train=0.0195  val=0.0162  lr=2.26e-05  t=2.5m\n"
     ]
    },
    {
     "name": "stderr",
     "output_type": "stream",
     "text": []
    },
    {
     "name": "stdout",
     "output_type": "stream",
     "text": [
      "[259/1000]  train=0.0199  val=0.0175  lr=2.85e-05  t=2.5m\n"
     ]
    },
    {
     "name": "stderr",
     "output_type": "stream",
     "text": [
      "Epoch 260:  25%|██▌       | 3/12 [00:00<00:00, 24.59it/s, loss=0.0183, lr=3.12e-5]/content/drive/.shortcut-targets-by-id/1w6OSQ_9ZH9r3830ldxRe1TGWfVlxxXWo/RL_real_0625_ind_index_value_weighted/DiffusionModel/trainer.py:158: FutureWarning: `torch.cuda.amp.autocast(args...)` is deprecated. Please use `torch.amp.autocast('cuda', args...)` instead.\n",
      "  with autocast(enabled=cfg.amp):\n"
     ]
    },
    {
     "name": "stdout",
     "output_type": "stream",
     "text": [
      "[260/1000]  train=0.0184  val=0.0243  lr=3.51e-05  t=2.5m\n"
     ]
    },
    {
     "name": "stderr",
     "output_type": "stream",
     "text": []
    },
    {
     "name": "stdout",
     "output_type": "stream",
     "text": [
      "[261/1000]  train=0.0195  val=0.0192  lr=4.24e-05  t=2.5m\n"
     ]
    },
    {
     "name": "stderr",
     "output_type": "stream",
     "text": [
      "Epoch 262:  33%|███▎      | 4/12 [00:00<00:00, 13.62it/s, loss=0.0125, lr=4.49e-5]/content/drive/.shortcut-targets-by-id/1w6OSQ_9ZH9r3830ldxRe1TGWfVlxxXWo/RL_real_0625_ind_index_value_weighted/DiffusionModel/trainer.py:158: FutureWarning: `torch.cuda.amp.autocast(args...)` is deprecated. Please use `torch.amp.autocast('cuda', args...)` instead.\n",
      "  with autocast(enabled=cfg.amp):\n"
     ]
    },
    {
     "name": "stdout",
     "output_type": "stream",
     "text": [
      "[262/1000]  train=0.0183  val=0.0178  lr=5.03e-05  t=2.5m\n"
     ]
    },
    {
     "name": "stderr",
     "output_type": "stream",
     "text": []
    },
    {
     "name": "stdout",
     "output_type": "stream",
     "text": [
      "[263/1000]  train=0.0179  val=0.0233  lr=5.89e-05  t=2.5m\n"
     ]
    },
    {
     "name": "stderr",
     "output_type": "stream",
     "text": []
    },
    {
     "name": "stdout",
     "output_type": "stream",
     "text": [
      "[264/1000]  train=0.0186  val=0.0192  lr=6.80e-05  t=2.5m\n"
     ]
    },
    {
     "name": "stderr",
     "output_type": "stream",
     "text": []
    },
    {
     "name": "stdout",
     "output_type": "stream",
     "text": [
      "[265/1000]  train=0.0171  val=0.0189  lr=7.78e-05  t=2.5m\n"
     ]
    },
    {
     "name": "stderr",
     "output_type": "stream",
     "text": [
      "Epoch 266:   0%|          | 0/12 [00:00<?, ?it/s, loss=0.026, lr=7.87e-5]/content/drive/.shortcut-targets-by-id/1w6OSQ_9ZH9r3830ldxRe1TGWfVlxxXWo/RL_real_0625_ind_index_value_weighted/DiffusionModel/trainer.py:158: FutureWarning: `torch.cuda.amp.autocast(args...)` is deprecated. Please use `torch.amp.autocast('cuda', args...)` instead.\n",
      "  with autocast(enabled=cfg.amp):\n"
     ]
    },
    {
     "name": "stdout",
     "output_type": "stream",
     "text": [
      "[266/1000]  train=0.0188  val=0.0203  lr=8.82e-05  t=2.5m\n"
     ]
    },
    {
     "name": "stderr",
     "output_type": "stream",
     "text": []
    },
    {
     "name": "stdout",
     "output_type": "stream",
     "text": [
      "[267/1000]  train=0.0180  val=0.0152  lr=9.92e-05  t=2.6m\n"
     ]
    },
    {
     "name": "stderr",
     "output_type": "stream",
     "text": [
      "\rEpoch 268:   0%|          | 0/12 [00:00<?, ?it/s]/content/drive/.shortcut-targets-by-id/1w6OSQ_9ZH9r3830ldxRe1TGWfVlxxXWo/RL_real_0625_ind_index_value_weighted/DiffusionModel/trainer.py:158: FutureWarning: `torch.cuda.amp.autocast(args...)` is deprecated. Please use `torch.amp.autocast('cuda', args...)` instead.\n",
      "  with autocast(enabled=cfg.amp):\n"
     ]
    },
    {
     "name": "stdout",
     "output_type": "stream",
     "text": [
      "[268/1000]  train=0.0197  val=0.0246  lr=1.11e-04  t=2.6m\n"
     ]
    },
    {
     "name": "stderr",
     "output_type": "stream",
     "text": [
      "Epoch 269:  67%|██████▋   | 8/12 [00:00<00:00, 13.88it/s, loss=0.0172, lr=0.000119]/content/drive/.shortcut-targets-by-id/1w6OSQ_9ZH9r3830ldxRe1TGWfVlxxXWo/RL_real_0625_ind_index_value_weighted/DiffusionModel/trainer.py:158: FutureWarning: `torch.cuda.amp.autocast(args...)` is deprecated. Please use `torch.amp.autocast('cuda', args...)` instead.\n",
      "  with autocast(enabled=cfg.amp):\n"
     ]
    },
    {
     "name": "stdout",
     "output_type": "stream",
     "text": [
      "[269/1000]  train=0.0205  val=0.0193  lr=1.23e-04  t=2.6m\n"
     ]
    },
    {
     "name": "stderr",
     "output_type": "stream",
     "text": []
    },
    {
     "name": "stdout",
     "output_type": "stream",
     "text": [
      "[270/1000]  train=0.0206  val=0.0213  lr=1.36e-04  t=2.6m\n"
     ]
    },
    {
     "name": "stderr",
     "output_type": "stream",
     "text": [
      "Epoch 271:  50%|█████     | 6/12 [00:00<00:00, 13.25it/s, loss=0.0221, lr=0.000143]/content/drive/.shortcut-targets-by-id/1w6OSQ_9ZH9r3830ldxRe1TGWfVlxxXWo/RL_real_0625_ind_index_value_weighted/DiffusionModel/trainer.py:158: FutureWarning: `torch.cuda.amp.autocast(args...)` is deprecated. Please use `torch.amp.autocast('cuda', args...)` instead.\n",
      "  with autocast(enabled=cfg.amp):\n"
     ]
    },
    {
     "name": "stdout",
     "output_type": "stream",
     "text": [
      "[271/1000]  train=0.0190  val=0.0171  lr=1.49e-04  t=2.6m\n"
     ]
    },
    {
     "name": "stderr",
     "output_type": "stream",
     "text": []
    },
    {
     "name": "stdout",
     "output_type": "stream",
     "text": [
      "[272/1000]  train=0.0207  val=0.0270  lr=1.62e-04  t=2.6m\n"
     ]
    },
    {
     "name": "stderr",
     "output_type": "stream",
     "text": []
    },
    {
     "name": "stdout",
     "output_type": "stream",
     "text": [
      "[273/1000]  train=0.0201  val=0.0188  lr=1.76e-04  t=2.6m\n"
     ]
    },
    {
     "name": "stderr",
     "output_type": "stream",
     "text": []
    },
    {
     "name": "stdout",
     "output_type": "stream",
     "text": [
      "[274/1000]  train=0.0192  val=0.0212  lr=1.91e-04  t=2.6m\n"
     ]
    },
    {
     "name": "stderr",
     "output_type": "stream",
     "text": [
      "Epoch 275:  67%|██████▋   | 8/12 [00:00<00:00, 25.49it/s, loss=0.0187, lr=0.000204]/content/drive/.shortcut-targets-by-id/1w6OSQ_9ZH9r3830ldxRe1TGWfVlxxXWo/RL_real_0625_ind_index_value_weighted/DiffusionModel/trainer.py:158: FutureWarning: `torch.cuda.amp.autocast(args...)` is deprecated. Please use `torch.amp.autocast('cuda', args...)` instead.\n",
      "  with autocast(enabled=cfg.amp):\n"
     ]
    },
    {
     "name": "stdout",
     "output_type": "stream",
     "text": [
      "[275/1000]  train=0.0214  val=0.0228  lr=2.06e-04  t=2.6m\n"
     ]
    },
    {
     "name": "stderr",
     "output_type": "stream",
     "text": []
    },
    {
     "name": "stdout",
     "output_type": "stream",
     "text": [
      "[276/1000]  train=0.0193  val=0.0222  lr=2.22e-04  t=2.6m\n"
     ]
    },
    {
     "name": "stderr",
     "output_type": "stream",
     "text": [
      "Epoch 277:  67%|██████▋   | 8/12 [00:00<00:00, 21.58it/s, loss=0.017, lr=0.000233] /content/drive/.shortcut-targets-by-id/1w6OSQ_9ZH9r3830ldxRe1TGWfVlxxXWo/RL_real_0625_ind_index_value_weighted/DiffusionModel/trainer.py:158: FutureWarning: `torch.cuda.amp.autocast(args...)` is deprecated. Please use `torch.amp.autocast('cuda', args...)` instead.\n",
      "  with autocast(enabled=cfg.amp):\n"
     ]
    },
    {
     "name": "stdout",
     "output_type": "stream",
     "text": [
      "[277/1000]  train=0.0207  val=0.0309  lr=2.37e-04  t=2.7m\n"
     ]
    },
    {
     "name": "stderr",
     "output_type": "stream",
     "text": []
    },
    {
     "name": "stdout",
     "output_type": "stream",
     "text": [
      "[278/1000]  train=0.0200  val=0.0184  lr=2.54e-04  t=2.7m\n"
     ]
    },
    {
     "name": "stderr",
     "output_type": "stream",
     "text": [
      "Epoch 279:  75%|███████▌  | 9/12 [00:00<00:00, 19.17it/s, loss=0.0209, lr=0.000266]/content/drive/.shortcut-targets-by-id/1w6OSQ_9ZH9r3830ldxRe1TGWfVlxxXWo/RL_real_0625_ind_index_value_weighted/DiffusionModel/trainer.py:158: FutureWarning: `torch.cuda.amp.autocast(args...)` is deprecated. Please use `torch.amp.autocast('cuda', args...)` instead.\n",
      "  with autocast(enabled=cfg.amp):\n"
     ]
    },
    {
     "name": "stdout",
     "output_type": "stream",
     "text": [
      "[279/1000]  train=0.0195  val=0.0192  lr=2.70e-04  t=2.7m\n"
     ]
    },
    {
     "name": "stderr",
     "output_type": "stream",
     "text": []
    },
    {
     "name": "stdout",
     "output_type": "stream",
     "text": [
      "[280/1000]  train=0.0203  val=0.0224  lr=2.87e-04  t=2.7m\n"
     ]
    },
    {
     "name": "stderr",
     "output_type": "stream",
     "text": [
      "Epoch 281:  50%|█████     | 6/12 [00:00<00:00, 18.26it/s, loss=0.0154, lr=0.000297]/content/drive/.shortcut-targets-by-id/1w6OSQ_9ZH9r3830ldxRe1TGWfVlxxXWo/RL_real_0625_ind_index_value_weighted/DiffusionModel/trainer.py:158: FutureWarning: `torch.cuda.amp.autocast(args...)` is deprecated. Please use `torch.amp.autocast('cuda', args...)` instead.\n",
      "  with autocast(enabled=cfg.amp):\n"
     ]
    },
    {
     "name": "stdout",
     "output_type": "stream",
     "text": [
      "[281/1000]  train=0.0185  val=0.0205  lr=3.04e-04  t=2.7m\n"
     ]
    },
    {
     "name": "stderr",
     "output_type": "stream",
     "text": []
    },
    {
     "name": "stdout",
     "output_type": "stream",
     "text": [
      "[282/1000]  train=0.0192  val=0.0340  lr=3.22e-04  t=2.7m\n"
     ]
    },
    {
     "name": "stderr",
     "output_type": "stream",
     "text": [
      "Epoch 283:  50%|█████     | 6/12 [00:00<00:00, 16.25it/s, loss=0.0174, lr=0.000331]/content/drive/.shortcut-targets-by-id/1w6OSQ_9ZH9r3830ldxRe1TGWfVlxxXWo/RL_real_0625_ind_index_value_weighted/DiffusionModel/trainer.py:158: FutureWarning: `torch.cuda.amp.autocast(args...)` is deprecated. Please use `torch.amp.autocast('cuda', args...)` instead.\n",
      "  with autocast(enabled=cfg.amp):\n"
     ]
    },
    {
     "name": "stdout",
     "output_type": "stream",
     "text": [
      "[283/1000]  train=0.0183  val=0.0221  lr=3.40e-04  t=2.7m\n"
     ]
    },
    {
     "name": "stderr",
     "output_type": "stream",
     "text": []
    },
    {
     "name": "stdout",
     "output_type": "stream",
     "text": [
      "[284/1000]  train=0.0191  val=0.0245  lr=3.57e-04  t=2.7m\n"
     ]
    },
    {
     "name": "stderr",
     "output_type": "stream",
     "text": [
      "Epoch 285:  25%|██▌       | 3/12 [00:00<00:00, 15.36it/s, loss=0.0184, lr=0.000364]/content/drive/.shortcut-targets-by-id/1w6OSQ_9ZH9r3830ldxRe1TGWfVlxxXWo/RL_real_0625_ind_index_value_weighted/DiffusionModel/trainer.py:158: FutureWarning: `torch.cuda.amp.autocast(args...)` is deprecated. Please use `torch.amp.autocast('cuda', args...)` instead.\n",
      "  with autocast(enabled=cfg.amp):\n"
     ]
    },
    {
     "name": "stdout",
     "output_type": "stream",
     "text": [
      "[285/1000]  train=0.0204  val=0.0321  lr=3.76e-04  t=2.7m\n"
     ]
    },
    {
     "name": "stderr",
     "output_type": "stream",
     "text": []
    },
    {
     "name": "stdout",
     "output_type": "stream",
     "text": [
      "[286/1000]  train=0.0179  val=0.0229  lr=3.94e-04  t=2.7m\n"
     ]
    },
    {
     "name": "stderr",
     "output_type": "stream",
     "text": [
      "Epoch 287:  17%|█▋        | 2/12 [00:00<00:00, 12.29it/s, loss=0.0168, lr=0.000399]/content/drive/.shortcut-targets-by-id/1w6OSQ_9ZH9r3830ldxRe1TGWfVlxxXWo/RL_real_0625_ind_index_value_weighted/DiffusionModel/trainer.py:158: FutureWarning: `torch.cuda.amp.autocast(args...)` is deprecated. Please use `torch.amp.autocast('cuda', args...)` instead.\n",
      "  with autocast(enabled=cfg.amp):\n"
     ]
    },
    {
     "name": "stdout",
     "output_type": "stream",
     "text": [
      "[287/1000]  train=0.0185  val=0.0234  lr=4.12e-04  t=2.7m\n"
     ]
    },
    {
     "name": "stderr",
     "output_type": "stream",
     "text": []
    },
    {
     "name": "stdout",
     "output_type": "stream",
     "text": [
      "[288/1000]  train=0.0192  val=0.0225  lr=4.31e-04  t=2.8m\n"
     ]
    },
    {
     "name": "stderr",
     "output_type": "stream",
     "text": [
      "Epoch 289:  17%|█▋        | 2/12 [00:00<00:00, 14.97it/s, loss=0.0142, lr=0.000434]/content/drive/.shortcut-targets-by-id/1w6OSQ_9ZH9r3830ldxRe1TGWfVlxxXWo/RL_real_0625_ind_index_value_weighted/DiffusionModel/trainer.py:158: FutureWarning: `torch.cuda.amp.autocast(args...)` is deprecated. Please use `torch.amp.autocast('cuda', args...)` instead.\n",
      "  with autocast(enabled=cfg.amp):\n"
     ]
    },
    {
     "name": "stdout",
     "output_type": "stream",
     "text": [
      "[289/1000]  train=0.0189  val=0.0186  lr=4.50e-04  t=2.8m\n"
     ]
    },
    {
     "name": "stderr",
     "output_type": "stream",
     "text": []
    },
    {
     "name": "stdout",
     "output_type": "stream",
     "text": [
      "[290/1000]  train=0.0197  val=0.0273  lr=4.69e-04  t=2.8m\n"
     ]
    },
    {
     "name": "stderr",
     "output_type": "stream",
     "text": [
      "Epoch 291:   0%|          | 0/12 [00:00<?, ?it/s, loss=0.0187, lr=0.00047]/content/drive/.shortcut-targets-by-id/1w6OSQ_9ZH9r3830ldxRe1TGWfVlxxXWo/RL_real_0625_ind_index_value_weighted/DiffusionModel/trainer.py:158: FutureWarning: `torch.cuda.amp.autocast(args...)` is deprecated. Please use `torch.amp.autocast('cuda', args...)` instead.\n",
      "  with autocast(enabled=cfg.amp):\n"
     ]
    },
    {
     "name": "stdout",
     "output_type": "stream",
     "text": [
      "[291/1000]  train=0.0186  val=0.0211  lr=4.87e-04  t=2.8m\n"
     ]
    },
    {
     "name": "stderr",
     "output_type": "stream",
     "text": []
    },
    {
     "name": "stdout",
     "output_type": "stream",
     "text": [
      "[292/1000]  train=0.0212  val=0.0268  lr=5.06e-04  t=2.8m\n"
     ]
    },
    {
     "name": "stderr",
     "output_type": "stream",
     "text": [
      "Epoch 293:   0%|          | 0/12 [00:00<?, ?it/s]/content/drive/.shortcut-targets-by-id/1w6OSQ_9ZH9r3830ldxRe1TGWfVlxxXWo/RL_real_0625_ind_index_value_weighted/DiffusionModel/trainer.py:158: FutureWarning: `torch.cuda.amp.autocast(args...)` is deprecated. Please use `torch.amp.autocast('cuda', args...)` instead.\n",
      "  with autocast(enabled=cfg.amp):\n"
     ]
    },
    {
     "name": "stdout",
     "output_type": "stream",
     "text": [
      "[293/1000]  train=0.0200  val=0.0190  lr=5.25e-04  t=2.8m\n"
     ]
    },
    {
     "name": "stderr",
     "output_type": "stream",
     "text": [
      "Epoch 294:  33%|███▎      | 4/12 [00:00<00:00, 10.37it/s, loss=0.023, lr=0.000531]/content/drive/.shortcut-targets-by-id/1w6OSQ_9ZH9r3830ldxRe1TGWfVlxxXWo/RL_real_0625_ind_index_value_weighted/DiffusionModel/trainer.py:158: FutureWarning: `torch.cuda.amp.autocast(args...)` is deprecated. Please use `torch.amp.autocast('cuda', args...)` instead.\n",
      "  with autocast(enabled=cfg.amp):\n"
     ]
    },
    {
     "name": "stdout",
     "output_type": "stream",
     "text": [
      "[294/1000]  train=0.0189  val=0.0292  lr=5.44e-04  t=2.8m\n"
     ]
    },
    {
     "name": "stderr",
     "output_type": "stream",
     "text": []
    },
    {
     "name": "stdout",
     "output_type": "stream",
     "text": [
      "[295/1000]  train=0.0211  val=0.0226  lr=5.63e-04  t=2.8m\n"
     ]
    },
    {
     "name": "stderr",
     "output_type": "stream",
     "text": []
    },
    {
     "name": "stdout",
     "output_type": "stream",
     "text": [
      "[296/1000]  train=0.0194  val=0.0213  lr=5.81e-04  t=2.8m\n"
     ]
    },
    {
     "name": "stderr",
     "output_type": "stream",
     "text": [
      "Epoch 297:   8%|▊         | 1/12 [00:00<00:01,  8.83it/s, loss=0.0186, lr=0.000584]/content/drive/.shortcut-targets-by-id/1w6OSQ_9ZH9r3830ldxRe1TGWfVlxxXWo/RL_real_0625_ind_index_value_weighted/DiffusionModel/trainer.py:158: FutureWarning: `torch.cuda.amp.autocast(args...)` is deprecated. Please use `torch.amp.autocast('cuda', args...)` instead.\n",
      "  with autocast(enabled=cfg.amp):\n"
     ]
    },
    {
     "name": "stdout",
     "output_type": "stream",
     "text": [
      "[297/1000]  train=0.0201  val=0.0261  lr=6.00e-04  t=2.8m\n"
     ]
    },
    {
     "name": "stderr",
     "output_type": "stream",
     "text": []
    },
    {
     "name": "stdout",
     "output_type": "stream",
     "text": [
      "[298/1000]  train=0.0195  val=0.0208  lr=6.18e-04  t=2.9m\n"
     ]
    },
    {
     "name": "stderr",
     "output_type": "stream",
     "text": [
      "Epoch 299:   0%|          | 0/12 [00:00<?, ?it/s, loss=0.0228, lr=0.00062]/content/drive/.shortcut-targets-by-id/1w6OSQ_9ZH9r3830ldxRe1TGWfVlxxXWo/RL_real_0625_ind_index_value_weighted/DiffusionModel/trainer.py:158: FutureWarning: `torch.cuda.amp.autocast(args...)` is deprecated. Please use `torch.amp.autocast('cuda', args...)` instead.\n",
      "  with autocast(enabled=cfg.amp):\n"
     ]
    },
    {
     "name": "stdout",
     "output_type": "stream",
     "text": [
      "[299/1000]  train=0.0195  val=0.0293  lr=6.36e-04  t=2.9m\n"
     ]
    },
    {
     "name": "stderr",
     "output_type": "stream",
     "text": []
    },
    {
     "name": "stdout",
     "output_type": "stream",
     "text": [
      "[300/1000]  train=0.0218  val=0.0246  lr=6.55e-04  t=2.9m\n"
     ]
    },
    {
     "name": "stderr",
     "output_type": "stream",
     "text": []
    },
    {
     "name": "stdout",
     "output_type": "stream",
     "text": [
      "[301/1000]  train=0.0205  val=0.0240  lr=6.72e-04  t=2.9m\n"
     ]
    },
    {
     "name": "stderr",
     "output_type": "stream",
     "text": [
      "Epoch 302:  50%|█████     | 6/12 [00:00<00:00, 24.60it/s, loss=0.0246, lr=0.000684]/content/drive/.shortcut-targets-by-id/1w6OSQ_9ZH9r3830ldxRe1TGWfVlxxXWo/RL_real_0625_ind_index_value_weighted/DiffusionModel/trainer.py:158: FutureWarning: `torch.cuda.amp.autocast(args...)` is deprecated. Please use `torch.amp.autocast('cuda', args...)` instead.\n",
      "  with autocast(enabled=cfg.amp):\n"
     ]
    },
    {
     "name": "stdout",
     "output_type": "stream",
     "text": [
      "[302/1000]  train=0.0200  val=0.0312  lr=6.90e-04  t=2.9m\n"
     ]
    },
    {
     "name": "stderr",
     "output_type": "stream",
     "text": []
    },
    {
     "name": "stdout",
     "output_type": "stream",
     "text": [
      "[303/1000]  train=0.0199  val=0.0249  lr=7.07e-04  t=2.9m\n"
     ]
    },
    {
     "name": "stderr",
     "output_type": "stream",
     "text": [
      "Epoch 304:  50%|█████     | 6/12 [00:00<00:00, 15.56it/s, loss=0.0169, lr=0.000716]/content/drive/.shortcut-targets-by-id/1w6OSQ_9ZH9r3830ldxRe1TGWfVlxxXWo/RL_real_0625_ind_index_value_weighted/DiffusionModel/trainer.py:158: FutureWarning: `torch.cuda.amp.autocast(args...)` is deprecated. Please use `torch.amp.autocast('cuda', args...)` instead.\n",
      "  with autocast(enabled=cfg.amp):\n"
     ]
    },
    {
     "name": "stdout",
     "output_type": "stream",
     "text": [
      "[304/1000]  train=0.0194  val=0.0250  lr=7.24e-04  t=2.9m\n"
     ]
    },
    {
     "name": "stderr",
     "output_type": "stream",
     "text": []
    },
    {
     "name": "stdout",
     "output_type": "stream",
     "text": [
      "[305/1000]  train=0.0198  val=0.0251  lr=7.41e-04  t=2.9m\n"
     ]
    },
    {
     "name": "stderr",
     "output_type": "stream",
     "text": [
      "Epoch 306:  17%|█▋        | 2/12 [00:00<00:00, 13.35it/s, loss=0.021, lr=0.000745] /content/drive/.shortcut-targets-by-id/1w6OSQ_9ZH9r3830ldxRe1TGWfVlxxXWo/RL_real_0625_ind_index_value_weighted/DiffusionModel/trainer.py:158: FutureWarning: `torch.cuda.amp.autocast(args...)` is deprecated. Please use `torch.amp.autocast('cuda', args...)` instead.\n",
      "  with autocast(enabled=cfg.amp):\n"
     ]
    },
    {
     "name": "stdout",
     "output_type": "stream",
     "text": [
      "[306/1000]  train=0.0196  val=0.0244  lr=7.57e-04  t=2.9m\n"
     ]
    },
    {
     "name": "stderr",
     "output_type": "stream",
     "text": []
    },
    {
     "name": "stdout",
     "output_type": "stream",
     "text": [
      "[307/1000]  train=0.0200  val=0.0377  lr=7.73e-04  t=2.9m\n"
     ]
    },
    {
     "name": "stderr",
     "output_type": "stream",
     "text": [
      "Epoch 308:  17%|█▋        | 2/12 [00:00<00:00, 13.80it/s, loss=0.0153, lr=0.000776]/content/drive/.shortcut-targets-by-id/1w6OSQ_9ZH9r3830ldxRe1TGWfVlxxXWo/RL_real_0625_ind_index_value_weighted/DiffusionModel/trainer.py:158: FutureWarning: `torch.cuda.amp.autocast(args...)` is deprecated. Please use `torch.amp.autocast('cuda', args...)` instead.\n",
      "  with autocast(enabled=cfg.amp):\n"
     ]
    },
    {
     "name": "stdout",
     "output_type": "stream",
     "text": [
      "[308/1000]  train=0.0202  val=0.0578  lr=7.89e-04  t=2.9m\n"
     ]
    },
    {
     "name": "stderr",
     "output_type": "stream",
     "text": []
    },
    {
     "name": "stdout",
     "output_type": "stream",
     "text": [
      "[309/1000]  train=0.0216  val=0.0262  lr=8.04e-04  t=3.0m\n"
     ]
    },
    {
     "name": "stderr",
     "output_type": "stream",
     "text": [
      "Epoch 310:   0%|          | 0/12 [00:00<?, ?it/s, loss=0.0203, lr=0.000805]/content/drive/.shortcut-targets-by-id/1w6OSQ_9ZH9r3830ldxRe1TGWfVlxxXWo/RL_real_0625_ind_index_value_weighted/DiffusionModel/trainer.py:158: FutureWarning: `torch.cuda.amp.autocast(args...)` is deprecated. Please use `torch.amp.autocast('cuda', args...)` instead.\n",
      "  with autocast(enabled=cfg.amp):\n"
     ]
    },
    {
     "name": "stdout",
     "output_type": "stream",
     "text": [
      "[310/1000]  train=0.0196  val=0.0317  lr=8.19e-04  t=3.0m\n"
     ]
    },
    {
     "name": "stderr",
     "output_type": "stream",
     "text": []
    },
    {
     "name": "stdout",
     "output_type": "stream",
     "text": [
      "[311/1000]  train=0.0213  val=0.0295  lr=8.33e-04  t=3.0m\n"
     ]
    },
    {
     "name": "stderr",
     "output_type": "stream",
     "text": [
      "Epoch 312:  17%|█▋        | 2/12 [00:00<00:00, 12.18it/s, loss=0.022, lr=0.000837] /content/drive/.shortcut-targets-by-id/1w6OSQ_9ZH9r3830ldxRe1TGWfVlxxXWo/RL_real_0625_ind_index_value_weighted/DiffusionModel/trainer.py:158: FutureWarning: `torch.cuda.amp.autocast(args...)` is deprecated. Please use `torch.amp.autocast('cuda', args...)` instead.\n",
      "  with autocast(enabled=cfg.amp):\n"
     ]
    },
    {
     "name": "stdout",
     "output_type": "stream",
     "text": [
      "[312/1000]  train=0.0223  val=0.0278  lr=8.47e-04  t=3.0m\n"
     ]
    },
    {
     "name": "stderr",
     "output_type": "stream",
     "text": []
    },
    {
     "name": "stdout",
     "output_type": "stream",
     "text": [
      "[313/1000]  train=0.0218  val=0.0259  lr=8.60e-04  t=3.0m\n"
     ]
    },
    {
     "name": "stderr",
     "output_type": "stream",
     "text": []
    },
    {
     "name": "stdout",
     "output_type": "stream",
     "text": [
      "[314/1000]  train=0.0215  val=0.0624  lr=8.73e-04  t=3.0m\n"
     ]
    },
    {
     "name": "stderr",
     "output_type": "stream",
     "text": [
      "Epoch 315:  75%|███████▌  | 9/12 [00:00<00:00, 19.94it/s, loss=0.0223, lr=0.000883]/content/drive/.shortcut-targets-by-id/1w6OSQ_9ZH9r3830ldxRe1TGWfVlxxXWo/RL_real_0625_ind_index_value_weighted/DiffusionModel/trainer.py:158: FutureWarning: `torch.cuda.amp.autocast(args...)` is deprecated. Please use `torch.amp.autocast('cuda', args...)` instead.\n",
      "  with autocast(enabled=cfg.amp):\n"
     ]
    },
    {
     "name": "stdout",
     "output_type": "stream",
     "text": [
      "[315/1000]  train=0.0205  val=0.0265  lr=8.85e-04  t=3.0m\n"
     ]
    },
    {
     "name": "stderr",
     "output_type": "stream",
     "text": []
    },
    {
     "name": "stdout",
     "output_type": "stream",
     "text": [
      "[316/1000]  train=0.0210  val=0.0281  lr=8.97e-04  t=3.0m\n"
     ]
    },
    {
     "name": "stderr",
     "output_type": "stream",
     "text": [
      "Epoch 317:  67%|██████▋   | 8/12 [00:00<00:00, 14.48it/s, loss=0.0279, lr=0.000905]/content/drive/.shortcut-targets-by-id/1w6OSQ_9ZH9r3830ldxRe1TGWfVlxxXWo/RL_real_0625_ind_index_value_weighted/DiffusionModel/trainer.py:158: FutureWarning: `torch.cuda.amp.autocast(args...)` is deprecated. Please use `torch.amp.autocast('cuda', args...)` instead.\n",
      "  with autocast(enabled=cfg.amp):\n"
     ]
    },
    {
     "name": "stdout",
     "output_type": "stream",
     "text": [
      "[317/1000]  train=0.0229  val=0.0802  lr=9.08e-04  t=3.0m\n"
     ]
    },
    {
     "name": "stderr",
     "output_type": "stream",
     "text": []
    },
    {
     "name": "stdout",
     "output_type": "stream",
     "text": [
      "[318/1000]  train=0.0217  val=0.0225  lr=9.19e-04  t=3.0m\n"
     ]
    },
    {
     "name": "stderr",
     "output_type": "stream",
     "text": []
    },
    {
     "name": "stdout",
     "output_type": "stream",
     "text": [
      "[319/1000]  train=0.0209  val=0.0270  lr=9.29e-04  t=3.0m\n"
     ]
    },
    {
     "name": "stderr",
     "output_type": "stream",
     "text": [
      "Epoch 320:  42%|████▏     | 5/12 [00:00<00:00, 14.71it/s, loss=0.0203, lr=0.000934]/content/drive/.shortcut-targets-by-id/1w6OSQ_9ZH9r3830ldxRe1TGWfVlxxXWo/RL_real_0625_ind_index_value_weighted/DiffusionModel/trainer.py:158: FutureWarning: `torch.cuda.amp.autocast(args...)` is deprecated. Please use `torch.amp.autocast('cuda', args...)` instead.\n",
      "  with autocast(enabled=cfg.amp):\n"
     ]
    },
    {
     "name": "stdout",
     "output_type": "stream",
     "text": [
      "[320/1000]  train=0.0211  val=0.0271  lr=9.38e-04  t=3.1m\n"
     ]
    },
    {
     "name": "stderr",
     "output_type": "stream",
     "text": []
    },
    {
     "name": "stdout",
     "output_type": "stream",
     "text": [
      "[321/1000]  train=0.0218  val=0.0290  lr=9.47e-04  t=3.1m\n"
     ]
    },
    {
     "name": "stderr",
     "output_type": "stream",
     "text": [
      "Epoch 322:   0%|          | 0/12 [00:00<?, ?it/s, loss=0.0157, lr=0.000948]/content/drive/.shortcut-targets-by-id/1w6OSQ_9ZH9r3830ldxRe1TGWfVlxxXWo/RL_real_0625_ind_index_value_weighted/DiffusionModel/trainer.py:158: FutureWarning: `torch.cuda.amp.autocast(args...)` is deprecated. Please use `torch.amp.autocast('cuda', args...)` instead.\n",
      "  with autocast(enabled=cfg.amp):\n"
     ]
    },
    {
     "name": "stdout",
     "output_type": "stream",
     "text": [
      "[322/1000]  train=0.0189  val=0.0233  lr=9.55e-04  t=3.1m\n"
     ]
    },
    {
     "name": "stderr",
     "output_type": "stream",
     "text": []
    },
    {
     "name": "stdout",
     "output_type": "stream",
     "text": [
      "[323/1000]  train=0.0203  val=0.0298  lr=9.63e-04  t=3.1m\n"
     ]
    },
    {
     "name": "stderr",
     "output_type": "stream",
     "text": []
    },
    {
     "name": "stdout",
     "output_type": "stream",
     "text": [
      "[324/1000]  train=0.0185  val=0.0235  lr=9.69e-04  t=3.1m\n"
     ]
    },
    {
     "name": "stderr",
     "output_type": "stream",
     "text": [
      "Epoch 325:  50%|█████     | 6/12 [00:00<00:00, 15.54it/s, loss=0.0233, lr=0.000973]/content/drive/.shortcut-targets-by-id/1w6OSQ_9ZH9r3830ldxRe1TGWfVlxxXWo/RL_real_0625_ind_index_value_weighted/DiffusionModel/trainer.py:158: FutureWarning: `torch.cuda.amp.autocast(args...)` is deprecated. Please use `torch.amp.autocast('cuda', args...)` instead.\n",
      "  with autocast(enabled=cfg.amp):\n"
     ]
    },
    {
     "name": "stdout",
     "output_type": "stream",
     "text": [
      "[325/1000]  train=0.0224  val=0.0238  lr=9.76e-04  t=3.1m\n"
     ]
    },
    {
     "name": "stderr",
     "output_type": "stream",
     "text": []
    },
    {
     "name": "stdout",
     "output_type": "stream",
     "text": [
      "[326/1000]  train=0.0201  val=0.0244  lr=9.81e-04  t=3.1m\n"
     ]
    },
    {
     "name": "stderr",
     "output_type": "stream",
     "text": [
      "Epoch 327:  50%|█████     | 6/12 [00:00<00:00, 15.77it/s, loss=0.0208, lr=0.000984]/content/drive/.shortcut-targets-by-id/1w6OSQ_9ZH9r3830ldxRe1TGWfVlxxXWo/RL_real_0625_ind_index_value_weighted/DiffusionModel/trainer.py:158: FutureWarning: `torch.cuda.amp.autocast(args...)` is deprecated. Please use `torch.amp.autocast('cuda', args...)` instead.\n",
      "  with autocast(enabled=cfg.amp):\n"
     ]
    },
    {
     "name": "stdout",
     "output_type": "stream",
     "text": [
      "[327/1000]  train=0.0219  val=0.0217  lr=9.86e-04  t=3.1m\n"
     ]
    },
    {
     "name": "stderr",
     "output_type": "stream",
     "text": []
    },
    {
     "name": "stdout",
     "output_type": "stream",
     "text": [
      "[328/1000]  train=0.0219  val=0.0600  lr=9.90e-04  t=3.1m\n"
     ]
    },
    {
     "name": "stderr",
     "output_type": "stream",
     "text": [
      "Epoch 329:  42%|████▏     | 5/12 [00:00<00:00, 16.59it/s, loss=0.0165, lr=0.000991]/content/drive/.shortcut-targets-by-id/1w6OSQ_9ZH9r3830ldxRe1TGWfVlxxXWo/RL_real_0625_ind_index_value_weighted/DiffusionModel/trainer.py:158: FutureWarning: `torch.cuda.amp.autocast(args...)` is deprecated. Please use `torch.amp.autocast('cuda', args...)` instead.\n",
      "  with autocast(enabled=cfg.amp):\n"
     ]
    },
    {
     "name": "stdout",
     "output_type": "stream",
     "text": [
      "[329/1000]  train=0.0194  val=0.0343  lr=9.93e-04  t=3.1m\n"
     ]
    },
    {
     "name": "stderr",
     "output_type": "stream",
     "text": []
    },
    {
     "name": "stdout",
     "output_type": "stream",
     "text": [
      "[330/1000]  train=0.0198  val=0.0227  lr=9.96e-04  t=3.1m\n"
     ]
    },
    {
     "name": "stderr",
     "output_type": "stream",
     "text": [
      "Epoch 331:  17%|█▋        | 2/12 [00:00<00:00, 12.76it/s, loss=0.0116, lr=0.000997]/content/drive/.shortcut-targets-by-id/1w6OSQ_9ZH9r3830ldxRe1TGWfVlxxXWo/RL_real_0625_ind_index_value_weighted/DiffusionModel/trainer.py:158: FutureWarning: `torch.cuda.amp.autocast(args...)` is deprecated. Please use `torch.amp.autocast('cuda', args...)` instead.\n",
      "  with autocast(enabled=cfg.amp):\n"
     ]
    },
    {
     "name": "stdout",
     "output_type": "stream",
     "text": [
      "[331/1000]  train=0.0183  val=0.0252  lr=9.98e-04  t=3.2m\n"
     ]
    },
    {
     "name": "stderr",
     "output_type": "stream",
     "text": []
    },
    {
     "name": "stdout",
     "output_type": "stream",
     "text": [
      "[332/1000]  train=0.0191  val=0.0192  lr=9.99e-04  t=3.2m\n"
     ]
    },
    {
     "name": "stderr",
     "output_type": "stream",
     "text": [
      "Epoch 333:   8%|▊         | 1/12 [00:00<00:01,  9.63it/s, loss=0.0204, lr=0.001]   /content/drive/.shortcut-targets-by-id/1w6OSQ_9ZH9r3830ldxRe1TGWfVlxxXWo/RL_real_0625_ind_index_value_weighted/DiffusionModel/trainer.py:158: FutureWarning: `torch.cuda.amp.autocast(args...)` is deprecated. Please use `torch.amp.autocast('cuda', args...)` instead.\n",
      "  with autocast(enabled=cfg.amp):\n"
     ]
    },
    {
     "name": "stdout",
     "output_type": "stream",
     "text": [
      "[333/1000]  train=0.0204  val=0.0303  lr=1.00e-03  t=3.2m\n"
     ]
    },
    {
     "name": "stderr",
     "output_type": "stream",
     "text": []
    },
    {
     "name": "stdout",
     "output_type": "stream",
     "text": [
      "[334/1000]  train=0.0216  val=0.0338  lr=1.00e-03  t=3.2m\n"
     ]
    },
    {
     "name": "stderr",
     "output_type": "stream",
     "text": []
    },
    {
     "name": "stdout",
     "output_type": "stream",
     "text": [
      "[335/1000]  train=0.0223  val=0.0326  lr=9.99e-04  t=3.2m\n"
     ]
    },
    {
     "name": "stderr",
     "output_type": "stream",
     "text": []
    },
    {
     "name": "stdout",
     "output_type": "stream",
     "text": [
      "[336/1000]  train=0.0205  val=0.0384  lr=9.97e-04  t=3.2m\n"
     ]
    },
    {
     "name": "stderr",
     "output_type": "stream",
     "text": [
      "Epoch 337:   0%|          | 0/12 [00:00<?, ?it/s, loss=0.0191, lr=0.000997]/content/drive/.shortcut-targets-by-id/1w6OSQ_9ZH9r3830ldxRe1TGWfVlxxXWo/RL_real_0625_ind_index_value_weighted/DiffusionModel/trainer.py:158: FutureWarning: `torch.cuda.amp.autocast(args...)` is deprecated. Please use `torch.amp.autocast('cuda', args...)` instead.\n",
      "  with autocast(enabled=cfg.amp):\n"
     ]
    },
    {
     "name": "stdout",
     "output_type": "stream",
     "text": [
      "[337/1000]  train=0.0213  val=0.0201  lr=9.95e-04  t=3.2m\n"
     ]
    },
    {
     "name": "stderr",
     "output_type": "stream",
     "text": []
    },
    {
     "name": "stdout",
     "output_type": "stream",
     "text": [
      "[338/1000]  train=0.0197  val=0.0239  lr=9.92e-04  t=3.2m\n"
     ]
    },
    {
     "name": "stderr",
     "output_type": "stream",
     "text": [
      "Epoch 339:   0%|          | 0/12 [00:00<?, ?it/s]/content/drive/.shortcut-targets-by-id/1w6OSQ_9ZH9r3830ldxRe1TGWfVlxxXWo/RL_real_0625_ind_index_value_weighted/DiffusionModel/trainer.py:158: FutureWarning: `torch.cuda.amp.autocast(args...)` is deprecated. Please use `torch.amp.autocast('cuda', args...)` instead.\n",
      "  with autocast(enabled=cfg.amp):\n"
     ]
    },
    {
     "name": "stdout",
     "output_type": "stream",
     "text": [
      "[339/1000]  train=0.0210  val=0.0599  lr=9.89e-04  t=3.2m\n"
     ]
    },
    {
     "name": "stderr",
     "output_type": "stream",
     "text": [
      "Epoch 340:  75%|███████▌  | 9/12 [00:00<00:00, 22.29it/s, loss=0.0209, lr=0.000985]/content/drive/.shortcut-targets-by-id/1w6OSQ_9ZH9r3830ldxRe1TGWfVlxxXWo/RL_real_0625_ind_index_value_weighted/DiffusionModel/trainer.py:158: FutureWarning: `torch.cuda.amp.autocast(args...)` is deprecated. Please use `torch.amp.autocast('cuda', args...)` instead.\n",
      "  with autocast(enabled=cfg.amp):\n"
     ]
    },
    {
     "name": "stdout",
     "output_type": "stream",
     "text": [
      "[340/1000]  train=0.0195  val=0.0299  lr=9.84e-04  t=3.2m\n"
     ]
    },
    {
     "name": "stderr",
     "output_type": "stream",
     "text": []
    },
    {
     "name": "stdout",
     "output_type": "stream",
     "text": [
      "[341/1000]  train=0.0202  val=0.0285  lr=9.79e-04  t=3.2m\n"
     ]
    },
    {
     "name": "stderr",
     "output_type": "stream",
     "text": [
      "Epoch 342:  67%|██████▋   | 8/12 [00:00<00:00, 14.09it/s, loss=0.02, lr=0.000976]/content/drive/.shortcut-targets-by-id/1w6OSQ_9ZH9r3830ldxRe1TGWfVlxxXWo/RL_real_0625_ind_index_value_weighted/DiffusionModel/trainer.py:158: FutureWarning: `torch.cuda.amp.autocast(args...)` is deprecated. Please use `torch.amp.autocast('cuda', args...)` instead.\n",
      "  with autocast(enabled=cfg.amp):\n"
     ]
    },
    {
     "name": "stdout",
     "output_type": "stream",
     "text": [
      "[342/1000]  train=0.0191  val=0.0268  lr=9.74e-04  t=3.3m\n"
     ]
    },
    {
     "name": "stderr",
     "output_type": "stream",
     "text": []
    },
    {
     "name": "stdout",
     "output_type": "stream",
     "text": [
      "[343/1000]  train=0.0206  val=0.0302  lr=9.67e-04  t=3.3m\n"
     ]
    },
    {
     "name": "stderr",
     "output_type": "stream",
     "text": [
      "Epoch 344:  50%|█████     | 6/12 [00:00<00:00, 13.56it/s, loss=0.0212, lr=0.000963]/content/drive/.shortcut-targets-by-id/1w6OSQ_9ZH9r3830ldxRe1TGWfVlxxXWo/RL_real_0625_ind_index_value_weighted/DiffusionModel/trainer.py:158: FutureWarning: `torch.cuda.amp.autocast(args...)` is deprecated. Please use `torch.amp.autocast('cuda', args...)` instead.\n",
      "  with autocast(enabled=cfg.amp):\n"
     ]
    },
    {
     "name": "stdout",
     "output_type": "stream",
     "text": [
      "[344/1000]  train=0.0203  val=0.0336  lr=9.60e-04  t=3.3m\n"
     ]
    },
    {
     "name": "stderr",
     "output_type": "stream",
     "text": []
    },
    {
     "name": "stdout",
     "output_type": "stream",
     "text": [
      "[345/1000]  train=0.0208  val=0.0200  lr=9.52e-04  t=3.3m\n"
     ]
    },
    {
     "name": "stderr",
     "output_type": "stream",
     "text": [
      "Epoch 346:  92%|█████████▏| 11/12 [00:00<00:00, 13.11it/s, loss=0.0196, lr=0.000945]/content/drive/.shortcut-targets-by-id/1w6OSQ_9ZH9r3830ldxRe1TGWfVlxxXWo/RL_real_0625_ind_index_value_weighted/DiffusionModel/trainer.py:158: FutureWarning: `torch.cuda.amp.autocast(args...)` is deprecated. Please use `torch.amp.autocast('cuda', args...)` instead.\n",
      "  with autocast(enabled=cfg.amp):\n"
     ]
    },
    {
     "name": "stdout",
     "output_type": "stream",
     "text": [
      "[346/1000]  train=0.0202  val=0.0259  lr=9.44e-04  t=3.3m\n"
     ]
    },
    {
     "name": "stderr",
     "output_type": "stream",
     "text": []
    },
    {
     "name": "stdout",
     "output_type": "stream",
     "text": [
      "[347/1000]  train=0.0201  val=0.0234  lr=9.35e-04  t=3.3m\n"
     ]
    },
    {
     "name": "stderr",
     "output_type": "stream",
     "text": []
    },
    {
     "name": "stdout",
     "output_type": "stream",
     "text": [
      "[348/1000]  train=0.0211  val=0.0305  lr=9.25e-04  t=3.3m\n"
     ]
    },
    {
     "name": "stderr",
     "output_type": "stream",
     "text": [
      "Epoch 349:  17%|█▋        | 2/12 [00:00<00:00, 14.52it/s, loss=0.0201, lr=0.000924]/content/drive/.shortcut-targets-by-id/1w6OSQ_9ZH9r3830ldxRe1TGWfVlxxXWo/RL_real_0625_ind_index_value_weighted/DiffusionModel/trainer.py:158: FutureWarning: `torch.cuda.amp.autocast(args...)` is deprecated. Please use `torch.amp.autocast('cuda', args...)` instead.\n",
      "  with autocast(enabled=cfg.amp):\n"
     ]
    },
    {
     "name": "stdout",
     "output_type": "stream",
     "text": [
      "[349/1000]  train=0.0207  val=0.0275  lr=9.15e-04  t=3.3m\n"
     ]
    },
    {
     "name": "stderr",
     "output_type": "stream",
     "text": []
    },
    {
     "name": "stdout",
     "output_type": "stream",
     "text": [
      "[350/1000]  train=0.0191  val=0.0239  lr=9.05e-04  t=3.3m\n"
     ]
    },
    {
     "name": "stderr",
     "output_type": "stream",
     "text": []
    },
    {
     "name": "stdout",
     "output_type": "stream",
     "text": [
      "[351/1000]  train=0.0201  val=0.0411  lr=8.93e-04  t=3.3m\n"
     ]
    },
    {
     "name": "stderr",
     "output_type": "stream",
     "text": [
      "Epoch 352:  17%|█▋        | 2/12 [00:00<00:00, 11.66it/s, loss=0.0244, lr=0.00089] /content/drive/.shortcut-targets-by-id/1w6OSQ_9ZH9r3830ldxRe1TGWfVlxxXWo/RL_real_0625_ind_index_value_weighted/DiffusionModel/trainer.py:158: FutureWarning: `torch.cuda.amp.autocast(args...)` is deprecated. Please use `torch.amp.autocast('cuda', args...)` instead.\n",
      "  with autocast(enabled=cfg.amp):\n"
     ]
    },
    {
     "name": "stdout",
     "output_type": "stream",
     "text": [
      "[352/1000]  train=0.0209  val=0.0723  lr=8.81e-04  t=3.4m\n"
     ]
    },
    {
     "name": "stderr",
     "output_type": "stream",
     "text": []
    },
    {
     "name": "stdout",
     "output_type": "stream",
     "text": [
      "[353/1000]  train=0.0198  val=0.0277  lr=8.69e-04  t=3.4m\n"
     ]
    },
    {
     "name": "stderr",
     "output_type": "stream",
     "text": [
      "Epoch 354:   0%|          | 0/12 [00:00<?, ?it/s, loss=0.0231, lr=0.000868]/content/drive/.shortcut-targets-by-id/1w6OSQ_9ZH9r3830ldxRe1TGWfVlxxXWo/RL_real_0625_ind_index_value_weighted/DiffusionModel/trainer.py:158: FutureWarning: `torch.cuda.amp.autocast(args...)` is deprecated. Please use `torch.amp.autocast('cuda', args...)` instead.\n",
      "  with autocast(enabled=cfg.amp):\n"
     ]
    },
    {
     "name": "stdout",
     "output_type": "stream",
     "text": [
      "[354/1000]  train=0.0198  val=0.0268  lr=8.56e-04  t=3.4m\n"
     ]
    },
    {
     "name": "stderr",
     "output_type": "stream",
     "text": []
    },
    {
     "name": "stdout",
     "output_type": "stream",
     "text": [
      "[355/1000]  train=0.0204  val=0.0257  lr=8.42e-04  t=3.4m\n"
     ]
    },
    {
     "name": "stderr",
     "output_type": "stream",
     "text": [
      "\rEpoch 356:   0%|          | 0/12 [00:00<?, ?it/s]/content/drive/.shortcut-targets-by-id/1w6OSQ_9ZH9r3830ldxRe1TGWfVlxxXWo/RL_real_0625_ind_index_value_weighted/DiffusionModel/trainer.py:158: FutureWarning: `torch.cuda.amp.autocast(args...)` is deprecated. Please use `torch.amp.autocast('cuda', args...)` instead.\n",
      "  with autocast(enabled=cfg.amp):\n"
     ]
    },
    {
     "name": "stdout",
     "output_type": "stream",
     "text": [
      "[356/1000]  train=0.0182  val=0.0214  lr=8.28e-04  t=3.4m\n"
     ]
    },
    {
     "name": "stderr",
     "output_type": "stream",
     "text": [
      "Epoch 357:  75%|███████▌  | 9/12 [00:00<00:00, 21.36it/s, loss=0.0204, lr=0.000815]/content/drive/.shortcut-targets-by-id/1w6OSQ_9ZH9r3830ldxRe1TGWfVlxxXWo/RL_real_0625_ind_index_value_weighted/DiffusionModel/trainer.py:158: FutureWarning: `torch.cuda.amp.autocast(args...)` is deprecated. Please use `torch.amp.autocast('cuda', args...)` instead.\n",
      "  with autocast(enabled=cfg.amp):\n"
     ]
    },
    {
     "name": "stdout",
     "output_type": "stream",
     "text": [
      "[357/1000]  train=0.0191  val=0.0273  lr=8.14e-04  t=3.4m\n"
     ]
    },
    {
     "name": "stderr",
     "output_type": "stream",
     "text": []
    },
    {
     "name": "stdout",
     "output_type": "stream",
     "text": [
      "[358/1000]  train=0.0197  val=0.0244  lr=7.99e-04  t=3.4m\n"
     ]
    },
    {
     "name": "stderr",
     "output_type": "stream",
     "text": [
      "Epoch 359:  50%|█████     | 6/12 [00:00<00:00, 20.38it/s, loss=0.0235, lr=0.000789]/content/drive/.shortcut-targets-by-id/1w6OSQ_9ZH9r3830ldxRe1TGWfVlxxXWo/RL_real_0625_ind_index_value_weighted/DiffusionModel/trainer.py:158: FutureWarning: `torch.cuda.amp.autocast(args...)` is deprecated. Please use `torch.amp.autocast('cuda', args...)` instead.\n",
      "  with autocast(enabled=cfg.amp):\n"
     ]
    },
    {
     "name": "stdout",
     "output_type": "stream",
     "text": [
      "[359/1000]  train=0.0205  val=0.0310  lr=7.84e-04  t=3.4m\n"
     ]
    },
    {
     "name": "stderr",
     "output_type": "stream",
     "text": []
    },
    {
     "name": "stdout",
     "output_type": "stream",
     "text": [
      "[360/1000]  train=0.0199  val=0.0206  lr=7.68e-04  t=3.4m\n"
     ]
    },
    {
     "name": "stderr",
     "output_type": "stream",
     "text": [
      "Epoch 361:  50%|█████     | 6/12 [00:00<00:00, 17.08it/s, loss=0.0184, lr=0.00076]/content/drive/.shortcut-targets-by-id/1w6OSQ_9ZH9r3830ldxRe1TGWfVlxxXWo/RL_real_0625_ind_index_value_weighted/DiffusionModel/trainer.py:158: FutureWarning: `torch.cuda.amp.autocast(args...)` is deprecated. Please use `torch.amp.autocast('cuda', args...)` instead.\n",
      "  with autocast(enabled=cfg.amp):\n"
     ]
    },
    {
     "name": "stdout",
     "output_type": "stream",
     "text": [
      "[361/1000]  train=0.0204  val=0.0217  lr=7.52e-04  t=3.4m\n"
     ]
    },
    {
     "name": "stderr",
     "output_type": "stream",
     "text": []
    },
    {
     "name": "stdout",
     "output_type": "stream",
     "text": [
      "[362/1000]  train=0.0195  val=0.0340  lr=7.35e-04  t=3.4m\n"
     ]
    },
    {
     "name": "stderr",
     "output_type": "stream",
     "text": [
      "Epoch 363:  33%|███▎      | 4/12 [00:00<00:00, 14.35it/s, loss=0.0189, lr=0.00073]/content/drive/.shortcut-targets-by-id/1w6OSQ_9ZH9r3830ldxRe1TGWfVlxxXWo/RL_real_0625_ind_index_value_weighted/DiffusionModel/trainer.py:158: FutureWarning: `torch.cuda.amp.autocast(args...)` is deprecated. Please use `torch.amp.autocast('cuda', args...)` instead.\n",
      "  with autocast(enabled=cfg.amp):\n"
     ]
    },
    {
     "name": "stdout",
     "output_type": "stream",
     "text": [
      "[363/1000]  train=0.0198  val=0.0271  lr=7.19e-04  t=3.5m\n"
     ]
    },
    {
     "name": "stderr",
     "output_type": "stream",
     "text": []
    },
    {
     "name": "stdout",
     "output_type": "stream",
     "text": [
      "[364/1000]  train=0.0178  val=0.0271  lr=7.01e-04  t=3.5m\n"
     ]
    },
    {
     "name": "stderr",
     "output_type": "stream",
     "text": [
      "Epoch 365:   8%|▊         | 1/12 [00:00<00:01,  9.39it/s, loss=0.0181, lr=0.000699]/content/drive/.shortcut-targets-by-id/1w6OSQ_9ZH9r3830ldxRe1TGWfVlxxXWo/RL_real_0625_ind_index_value_weighted/DiffusionModel/trainer.py:158: FutureWarning: `torch.cuda.amp.autocast(args...)` is deprecated. Please use `torch.amp.autocast('cuda', args...)` instead.\n",
      "  with autocast(enabled=cfg.amp):\n"
     ]
    },
    {
     "name": "stdout",
     "output_type": "stream",
     "text": [
      "[365/1000]  train=0.0216  val=0.0245  lr=6.84e-04  t=3.5m\n"
     ]
    },
    {
     "name": "stderr",
     "output_type": "stream",
     "text": [
      "Epoch 366:  75%|███████▌  | 9/12 [00:00<00:00, 15.57it/s, loss=0.0205, lr=0.000669]/content/drive/.shortcut-targets-by-id/1w6OSQ_9ZH9r3830ldxRe1TGWfVlxxXWo/RL_real_0625_ind_index_value_weighted/DiffusionModel/trainer.py:158: FutureWarning: `torch.cuda.amp.autocast(args...)` is deprecated. Please use `torch.amp.autocast('cuda', args...)` instead.\n",
      "  with autocast(enabled=cfg.amp):\n"
     ]
    },
    {
     "name": "stdout",
     "output_type": "stream",
     "text": [
      "[366/1000]  train=0.0183  val=0.0277  lr=6.66e-04  t=3.5m\n"
     ]
    },
    {
     "name": "stderr",
     "output_type": "stream",
     "text": []
    },
    {
     "name": "stdout",
     "output_type": "stream",
     "text": [
      "[367/1000]  train=0.0199  val=0.0263  lr=6.49e-04  t=3.5m\n"
     ]
    },
    {
     "name": "stderr",
     "output_type": "stream",
     "text": []
    },
    {
     "name": "stdout",
     "output_type": "stream",
     "text": [
      "[368/1000]  train=0.0203  val=0.0274  lr=6.30e-04  t=3.5m\n"
     ]
    },
    {
     "name": "stderr",
     "output_type": "stream",
     "text": [
      "Epoch 369:  92%|█████████▏| 11/12 [00:00<00:00, 15.46it/s, loss=0.018, lr=0.000614]/content/drive/.shortcut-targets-by-id/1w6OSQ_9ZH9r3830ldxRe1TGWfVlxxXWo/RL_real_0625_ind_index_value_weighted/DiffusionModel/trainer.py:158: FutureWarning: `torch.cuda.amp.autocast(args...)` is deprecated. Please use `torch.amp.autocast('cuda', args...)` instead.\n",
      "  with autocast(enabled=cfg.amp):\n"
     ]
    },
    {
     "name": "stdout",
     "output_type": "stream",
     "text": [
      "[369/1000]  train=0.0194  val=0.0216  lr=6.12e-04  t=3.5m\n"
     ]
    },
    {
     "name": "stderr",
     "output_type": "stream",
     "text": []
    },
    {
     "name": "stdout",
     "output_type": "stream",
     "text": [
      "[370/1000]  train=0.0179  val=0.0364  lr=5.94e-04  t=3.5m\n"
     ]
    },
    {
     "name": "stderr",
     "output_type": "stream",
     "text": [
      "Epoch 371:  33%|███▎      | 4/12 [00:00<00:00, 13.67it/s, loss=0.0235, lr=0.000586]/content/drive/.shortcut-targets-by-id/1w6OSQ_9ZH9r3830ldxRe1TGWfVlxxXWo/RL_real_0625_ind_index_value_weighted/DiffusionModel/trainer.py:158: FutureWarning: `torch.cuda.amp.autocast(args...)` is deprecated. Please use `torch.amp.autocast('cuda', args...)` instead.\n",
      "  with autocast(enabled=cfg.amp):\n"
     ]
    },
    {
     "name": "stdout",
     "output_type": "stream",
     "text": [
      "[371/1000]  train=0.0196  val=0.0221  lr=5.75e-04  t=3.5m\n"
     ]
    },
    {
     "name": "stderr",
     "output_type": "stream",
     "text": []
    },
    {
     "name": "stdout",
     "output_type": "stream",
     "text": [
      "[372/1000]  train=0.0211  val=0.0326  lr=5.56e-04  t=3.6m\n"
     ]
    },
    {
     "name": "stderr",
     "output_type": "stream",
     "text": []
    },
    {
     "name": "stdout",
     "output_type": "stream",
     "text": [
      "[373/1000]  train=0.0200  val=0.0233  lr=5.38e-04  t=3.6m\n"
     ]
    },
    {
     "name": "stderr",
     "output_type": "stream",
     "text": [
      "Epoch 374:  50%|█████     | 6/12 [00:00<00:00, 17.63it/s, loss=0.0207, lr=0.000527]/content/drive/.shortcut-targets-by-id/1w6OSQ_9ZH9r3830ldxRe1TGWfVlxxXWo/RL_real_0625_ind_index_value_weighted/DiffusionModel/trainer.py:158: FutureWarning: `torch.cuda.amp.autocast(args...)` is deprecated. Please use `torch.amp.autocast('cuda', args...)` instead.\n",
      "  with autocast(enabled=cfg.amp):\n"
     ]
    },
    {
     "name": "stdout",
     "output_type": "stream",
     "text": [
      "[374/1000]  train=0.0195  val=0.0262  lr=5.19e-04  t=3.6m\n"
     ]
    },
    {
     "name": "stderr",
     "output_type": "stream",
     "text": []
    },
    {
     "name": "stdout",
     "output_type": "stream",
     "text": [
      "[375/1000]  train=0.0196  val=0.0232  lr=5.00e-04  t=3.6m\n"
     ]
    },
    {
     "name": "stderr",
     "output_type": "stream",
     "text": [
      "Epoch 376:  50%|█████     | 6/12 [00:00<00:00, 16.19it/s, loss=0.0189, lr=0.000491]/content/drive/.shortcut-targets-by-id/1w6OSQ_9ZH9r3830ldxRe1TGWfVlxxXWo/RL_real_0625_ind_index_value_weighted/DiffusionModel/trainer.py:158: FutureWarning: `torch.cuda.amp.autocast(args...)` is deprecated. Please use `torch.amp.autocast('cuda', args...)` instead.\n",
      "  with autocast(enabled=cfg.amp):\n"
     ]
    },
    {
     "name": "stdout",
     "output_type": "stream",
     "text": [
      "[376/1000]  train=0.0189  val=0.0197  lr=4.81e-04  t=3.6m\n"
     ]
    },
    {
     "name": "stderr",
     "output_type": "stream",
     "text": []
    },
    {
     "name": "stdout",
     "output_type": "stream",
     "text": [
      "[377/1000]  train=0.0189  val=0.0248  lr=4.62e-04  t=3.6m\n"
     ]
    },
    {
     "name": "stderr",
     "output_type": "stream",
     "text": [
      "Epoch 378:  50%|█████     | 6/12 [00:00<00:00, 15.47it/s, loss=0.0255, lr=0.000453]/content/drive/.shortcut-targets-by-id/1w6OSQ_9ZH9r3830ldxRe1TGWfVlxxXWo/RL_real_0625_ind_index_value_weighted/DiffusionModel/trainer.py:158: FutureWarning: `torch.cuda.amp.autocast(args...)` is deprecated. Please use `torch.amp.autocast('cuda', args...)` instead.\n",
      "  with autocast(enabled=cfg.amp):\n"
     ]
    },
    {
     "name": "stdout",
     "output_type": "stream",
     "text": [
      "[378/1000]  train=0.0192  val=0.0192  lr=4.44e-04  t=3.6m\n"
     ]
    },
    {
     "name": "stderr",
     "output_type": "stream",
     "text": []
    },
    {
     "name": "stdout",
     "output_type": "stream",
     "text": [
      "[379/1000]  train=0.0191  val=0.0247  lr=4.25e-04  t=3.6m\n"
     ]
    },
    {
     "name": "stderr",
     "output_type": "stream",
     "text": [
      "Epoch 380:  42%|████▏     | 5/12 [00:00<00:00, 15.37it/s, loss=0.0179, lr=0.000417]/content/drive/.shortcut-targets-by-id/1w6OSQ_9ZH9r3830ldxRe1TGWfVlxxXWo/RL_real_0625_ind_index_value_weighted/DiffusionModel/trainer.py:158: FutureWarning: `torch.cuda.amp.autocast(args...)` is deprecated. Please use `torch.amp.autocast('cuda', args...)` instead.\n",
      "  with autocast(enabled=cfg.amp):\n"
     ]
    },
    {
     "name": "stdout",
     "output_type": "stream",
     "text": [
      "[380/1000]  train=0.0196  val=0.0213  lr=4.06e-04  t=3.6m\n"
     ]
    },
    {
     "name": "stderr",
     "output_type": "stream",
     "text": []
    },
    {
     "name": "stdout",
     "output_type": "stream",
     "text": [
      "[381/1000]  train=0.0198  val=0.0203  lr=3.88e-04  t=3.6m\n"
     ]
    },
    {
     "name": "stderr",
     "output_type": "stream",
     "text": [
      "Epoch 382:  17%|█▋        | 2/12 [00:00<00:00, 12.74it/s, loss=0.0191, lr=0.000383]/content/drive/.shortcut-targets-by-id/1w6OSQ_9ZH9r3830ldxRe1TGWfVlxxXWo/RL_real_0625_ind_index_value_weighted/DiffusionModel/trainer.py:158: FutureWarning: `torch.cuda.amp.autocast(args...)` is deprecated. Please use `torch.amp.autocast('cuda', args...)` instead.\n",
      "  with autocast(enabled=cfg.amp):\n"
     ]
    },
    {
     "name": "stdout",
     "output_type": "stream",
     "text": [
      "[382/1000]  train=0.0211  val=0.0260  lr=3.70e-04  t=3.6m\n"
     ]
    },
    {
     "name": "stderr",
     "output_type": "stream",
     "text": []
    },
    {
     "name": "stdout",
     "output_type": "stream",
     "text": [
      "[383/1000]  train=0.0200  val=0.0231  lr=3.51e-04  t=3.7m\n"
     ]
    },
    {
     "name": "stderr",
     "output_type": "stream",
     "text": [
      "Epoch 384:  17%|█▋        | 2/12 [00:00<00:00, 13.22it/s, loss=0.0139, lr=0.000348]/content/drive/.shortcut-targets-by-id/1w6OSQ_9ZH9r3830ldxRe1TGWfVlxxXWo/RL_real_0625_ind_index_value_weighted/DiffusionModel/trainer.py:158: FutureWarning: `torch.cuda.amp.autocast(args...)` is deprecated. Please use `torch.amp.autocast('cuda', args...)` instead.\n",
      "  with autocast(enabled=cfg.amp):\n"
     ]
    },
    {
     "name": "stdout",
     "output_type": "stream",
     "text": [
      "[384/1000]  train=0.0190  val=0.0245  lr=3.34e-04  t=3.7m\n"
     ]
    },
    {
     "name": "stderr",
     "output_type": "stream",
     "text": []
    },
    {
     "name": "stdout",
     "output_type": "stream",
     "text": [
      "[385/1000]  train=0.0177  val=0.0269  lr=3.16e-04  t=3.7m\n"
     ]
    },
    {
     "name": "stderr",
     "output_type": "stream",
     "text": [
      "Epoch 386:  17%|█▋        | 2/12 [00:00<00:00, 13.67it/s, loss=0.0176, lr=0.000313]/content/drive/.shortcut-targets-by-id/1w6OSQ_9ZH9r3830ldxRe1TGWfVlxxXWo/RL_real_0625_ind_index_value_weighted/DiffusionModel/trainer.py:158: FutureWarning: `torch.cuda.amp.autocast(args...)` is deprecated. Please use `torch.amp.autocast('cuda', args...)` instead.\n",
      "  with autocast(enabled=cfg.amp):\n"
     ]
    },
    {
     "name": "stdout",
     "output_type": "stream",
     "text": [
      "[386/1000]  train=0.0183  val=0.0222  lr=2.99e-04  t=3.7m\n"
     ]
    },
    {
     "name": "stderr",
     "output_type": "stream",
     "text": []
    },
    {
     "name": "stdout",
     "output_type": "stream",
     "text": [
      "[387/1000]  train=0.0179  val=0.0271  lr=2.81e-04  t=3.7m\n"
     ]
    },
    {
     "name": "stderr",
     "output_type": "stream",
     "text": [
      "Epoch 388:  17%|█▋        | 2/12 [00:00<00:00, 12.64it/s, loss=0.0148, lr=0.000277]/content/drive/.shortcut-targets-by-id/1w6OSQ_9ZH9r3830ldxRe1TGWfVlxxXWo/RL_real_0625_ind_index_value_weighted/DiffusionModel/trainer.py:158: FutureWarning: `torch.cuda.amp.autocast(args...)` is deprecated. Please use `torch.amp.autocast('cuda', args...)` instead.\n",
      "  with autocast(enabled=cfg.amp):\n"
     ]
    },
    {
     "name": "stdout",
     "output_type": "stream",
     "text": [
      "[388/1000]  train=0.0195  val=0.0212  lr=2.65e-04  t=3.7m\n"
     ]
    },
    {
     "name": "stderr",
     "output_type": "stream",
     "text": []
    },
    {
     "name": "stdout",
     "output_type": "stream",
     "text": [
      "[389/1000]  train=0.0185  val=0.0229  lr=2.48e-04  t=3.7m\n"
     ]
    },
    {
     "name": "stderr",
     "output_type": "stream",
     "text": []
    },
    {
     "name": "stdout",
     "output_type": "stream",
     "text": [
      "[390/1000]  train=0.0183  val=0.0178  lr=2.32e-04  t=3.7m\n"
     ]
    },
    {
     "name": "stderr",
     "output_type": "stream",
     "text": [
      "Epoch 391:  50%|█████     | 6/12 [00:00<00:00, 12.51it/s, loss=0.0147, lr=0.000223]/content/drive/.shortcut-targets-by-id/1w6OSQ_9ZH9r3830ldxRe1TGWfVlxxXWo/RL_real_0625_ind_index_value_weighted/DiffusionModel/trainer.py:158: FutureWarning: `torch.cuda.amp.autocast(args...)` is deprecated. Please use `torch.amp.autocast('cuda', args...)` instead.\n",
      "  with autocast(enabled=cfg.amp):\n"
     ]
    },
    {
     "name": "stdout",
     "output_type": "stream",
     "text": [
      "[391/1000]  train=0.0180  val=0.0219  lr=2.16e-04  t=3.7m\n"
     ]
    },
    {
     "name": "stderr",
     "output_type": "stream",
     "text": []
    },
    {
     "name": "stdout",
     "output_type": "stream",
     "text": [
      "[392/1000]  train=0.0206  val=0.0264  lr=2.01e-04  t=3.7m\n"
     ]
    },
    {
     "name": "stderr",
     "output_type": "stream",
     "text": [
      "Epoch 393:  17%|█▋        | 2/12 [00:00<00:00, 10.94it/s, loss=0.0211, lr=0.000197]/content/drive/.shortcut-targets-by-id/1w6OSQ_9ZH9r3830ldxRe1TGWfVlxxXWo/RL_real_0625_ind_index_value_weighted/DiffusionModel/trainer.py:158: FutureWarning: `torch.cuda.amp.autocast(args...)` is deprecated. Please use `torch.amp.autocast('cuda', args...)` instead.\n",
      "  with autocast(enabled=cfg.amp):\n"
     ]
    },
    {
     "name": "stdout",
     "output_type": "stream",
     "text": [
      "[393/1000]  train=0.0190  val=0.0234  lr=1.86e-04  t=3.8m\n"
     ]
    },
    {
     "name": "stderr",
     "output_type": "stream",
     "text": []
    },
    {
     "name": "stdout",
     "output_type": "stream",
     "text": [
      "[394/1000]  train=0.0189  val=0.0203  lr=1.72e-04  t=3.8m\n"
     ]
    },
    {
     "name": "stderr",
     "output_type": "stream",
     "text": []
    },
    {
     "name": "stdout",
     "output_type": "stream",
     "text": [
      "[395/1000]  train=0.0172  val=0.0213  lr=1.58e-04  t=3.8m\n"
     ]
    },
    {
     "name": "stderr",
     "output_type": "stream",
     "text": [
      "Epoch 396:   0%|          | 0/12 [00:00<?, ?it/s, loss=0.0204, lr=0.000157]/content/drive/.shortcut-targets-by-id/1w6OSQ_9ZH9r3830ldxRe1TGWfVlxxXWo/RL_real_0625_ind_index_value_weighted/DiffusionModel/trainer.py:158: FutureWarning: `torch.cuda.amp.autocast(args...)` is deprecated. Please use `torch.amp.autocast('cuda', args...)` instead.\n",
      "  with autocast(enabled=cfg.amp):\n"
     ]
    },
    {
     "name": "stdout",
     "output_type": "stream",
     "text": [
      "[396/1000]  train=0.0187  val=0.0204  lr=1.44e-04  t=3.8m\n"
     ]
    },
    {
     "name": "stderr",
     "output_type": "stream",
     "text": []
    },
    {
     "name": "stdout",
     "output_type": "stream",
     "text": [
      "[397/1000]  train=0.0201  val=0.0280  lr=1.31e-04  t=3.8m\n"
     ]
    },
    {
     "name": "stderr",
     "output_type": "stream",
     "text": []
    },
    {
     "name": "stdout",
     "output_type": "stream",
     "text": [
      "[398/1000]  train=0.0176  val=0.0243  lr=1.19e-04  t=3.8m\n"
     ]
    },
    {
     "name": "stderr",
     "output_type": "stream",
     "text": [
      "Epoch 399:  50%|█████     | 6/12 [00:00<00:00, 16.55it/s, loss=0.0204, lr=0.000113]/content/drive/.shortcut-targets-by-id/1w6OSQ_9ZH9r3830ldxRe1TGWfVlxxXWo/RL_real_0625_ind_index_value_weighted/DiffusionModel/trainer.py:158: FutureWarning: `torch.cuda.amp.autocast(args...)` is deprecated. Please use `torch.amp.autocast('cuda', args...)` instead.\n",
      "  with autocast(enabled=cfg.amp):\n"
     ]
    },
    {
     "name": "stdout",
     "output_type": "stream",
     "text": [
      "[399/1000]  train=0.0189  val=0.0212  lr=1.07e-04  t=3.8m\n"
     ]
    },
    {
     "name": "stderr",
     "output_type": "stream",
     "text": []
    },
    {
     "name": "stdout",
     "output_type": "stream",
     "text": [
      "[400/1000]  train=0.0186  val=0.0254  lr=9.55e-05  t=3.8m\n"
     ]
    },
    {
     "name": "stderr",
     "output_type": "stream",
     "text": []
    },
    {
     "name": "stdout",
     "output_type": "stream",
     "text": [
      "[401/1000]  train=0.0189  val=0.0199  lr=8.47e-05  t=3.8m\n"
     ]
    },
    {
     "name": "stderr",
     "output_type": "stream",
     "text": []
    },
    {
     "name": "stdout",
     "output_type": "stream",
     "text": [
      "[402/1000]  train=0.0186  val=0.0236  lr=7.45e-05  t=3.8m\n"
     ]
    },
    {
     "name": "stderr",
     "output_type": "stream",
     "text": [
      "Epoch 403:  17%|█▋        | 2/12 [00:00<00:00, 13.12it/s, loss=0.0208, lr=7.2e-5] /content/drive/.shortcut-targets-by-id/1w6OSQ_9ZH9r3830ldxRe1TGWfVlxxXWo/RL_real_0625_ind_index_value_weighted/DiffusionModel/trainer.py:158: FutureWarning: `torch.cuda.amp.autocast(args...)` is deprecated. Please use `torch.amp.autocast('cuda', args...)` instead.\n",
      "  with autocast(enabled=cfg.amp):\n"
     ]
    },
    {
     "name": "stdout",
     "output_type": "stream",
     "text": [
      "[403/1000]  train=0.0170  val=0.0230  lr=6.49e-05  t=3.8m\n"
     ]
    },
    {
     "name": "stderr",
     "output_type": "stream",
     "text": []
    },
    {
     "name": "stdout",
     "output_type": "stream",
     "text": [
      "[404/1000]  train=0.0203  val=0.0185  lr=5.59e-05  t=3.9m\n"
     ]
    },
    {
     "name": "stderr",
     "output_type": "stream",
     "text": [
      "Epoch 405:  17%|█▋        | 2/12 [00:00<00:00, 15.93it/s, loss=0.0132, lr=5.45e-5]/content/drive/.shortcut-targets-by-id/1w6OSQ_9ZH9r3830ldxRe1TGWfVlxxXWo/RL_real_0625_ind_index_value_weighted/DiffusionModel/trainer.py:158: FutureWarning: `torch.cuda.amp.autocast(args...)` is deprecated. Please use `torch.amp.autocast('cuda', args...)` instead.\n",
      "  with autocast(enabled=cfg.amp):\n"
     ]
    },
    {
     "name": "stdout",
     "output_type": "stream",
     "text": [
      "[405/1000]  train=0.0180  val=0.0207  lr=4.76e-05  t=3.9m\n"
     ]
    },
    {
     "name": "stderr",
     "output_type": "stream",
     "text": []
    },
    {
     "name": "stdout",
     "output_type": "stream",
     "text": [
      "[406/1000]  train=0.0190  val=0.0193  lr=3.99e-05  t=3.9m\n"
     ]
    },
    {
     "name": "stderr",
     "output_type": "stream",
     "text": [
      "Epoch 407:   0%|          | 0/12 [00:00<?, ?it/s, loss=0.0228, lr=3.93e-5]/content/drive/.shortcut-targets-by-id/1w6OSQ_9ZH9r3830ldxRe1TGWfVlxxXWo/RL_real_0625_ind_index_value_weighted/DiffusionModel/trainer.py:158: FutureWarning: `torch.cuda.amp.autocast(args...)` is deprecated. Please use `torch.amp.autocast('cuda', args...)` instead.\n",
      "  with autocast(enabled=cfg.amp):\n"
     ]
    },
    {
     "name": "stdout",
     "output_type": "stream",
     "text": [
      "[407/1000]  train=0.0190  val=0.0207  lr=3.28e-05  t=3.9m\n"
     ]
    },
    {
     "name": "stderr",
     "output_type": "stream",
     "text": []
    },
    {
     "name": "stdout",
     "output_type": "stream",
     "text": [
      "[408/1000]  train=0.0181  val=0.0219  lr=2.65e-05  t=3.9m\n"
     ]
    },
    {
     "name": "stderr",
     "output_type": "stream",
     "text": [
      "Epoch 409:   0%|          | 0/12 [00:00<?, ?it/s, loss=0.0164, lr=2.59e-5]/content/drive/.shortcut-targets-by-id/1w6OSQ_9ZH9r3830ldxRe1TGWfVlxxXWo/RL_real_0625_ind_index_value_weighted/DiffusionModel/trainer.py:158: FutureWarning: `torch.cuda.amp.autocast(args...)` is deprecated. Please use `torch.amp.autocast('cuda', args...)` instead.\n",
      "  with autocast(enabled=cfg.amp):\n"
     ]
    },
    {
     "name": "stdout",
     "output_type": "stream",
     "text": [
      "[409/1000]  train=0.0195  val=0.0244  lr=2.07e-05  t=3.9m\n"
     ]
    },
    {
     "name": "stderr",
     "output_type": "stream",
     "text": []
    },
    {
     "name": "stdout",
     "output_type": "stream",
     "text": [
      "[410/1000]  train=0.0208  val=0.0197  lr=1.57e-05  t=3.9m\n"
     ]
    },
    {
     "name": "stderr",
     "output_type": "stream",
     "text": []
    },
    {
     "name": "stdout",
     "output_type": "stream",
     "text": [
      "[411/1000]  train=0.0180  val=0.0259  lr=1.14e-05  t=3.9m\n"
     ]
    },
    {
     "name": "stderr",
     "output_type": "stream",
     "text": [
      "Epoch 412:  50%|█████     | 6/12 [00:00<00:00, 15.65it/s, loss=0.0179, lr=9.45e-6]/content/drive/.shortcut-targets-by-id/1w6OSQ_9ZH9r3830ldxRe1TGWfVlxxXWo/RL_real_0625_ind_index_value_weighted/DiffusionModel/trainer.py:158: FutureWarning: `torch.cuda.amp.autocast(args...)` is deprecated. Please use `torch.amp.autocast('cuda', args...)` instead.\n",
      "  with autocast(enabled=cfg.amp):\n"
     ]
    },
    {
     "name": "stdout",
     "output_type": "stream",
     "text": [
      "[412/1000]  train=0.0188  val=0.0190  lr=7.72e-06  t=3.9m\n"
     ]
    },
    {
     "name": "stderr",
     "output_type": "stream",
     "text": []
    },
    {
     "name": "stdout",
     "output_type": "stream",
     "text": [
      "[413/1000]  train=0.0195  val=0.0201  lr=4.77e-06  t=3.9m\n"
     ]
    },
    {
     "name": "stderr",
     "output_type": "stream",
     "text": [
      "Epoch 414:  25%|██▌       | 3/12 [00:00<00:00, 16.20it/s, loss=0.0235, lr=3.94e-6]/content/drive/.shortcut-targets-by-id/1w6OSQ_9ZH9r3830ldxRe1TGWfVlxxXWo/RL_real_0625_ind_index_value_weighted/DiffusionModel/trainer.py:158: FutureWarning: `torch.cuda.amp.autocast(args...)` is deprecated. Please use `torch.amp.autocast('cuda', args...)` instead.\n",
      "  with autocast(enabled=cfg.amp):\n"
     ]
    },
    {
     "name": "stdout",
     "output_type": "stream",
     "text": [
      "[414/1000]  train=0.0196  val=0.0201  lr=2.52e-06  t=3.9m\n"
     ]
    },
    {
     "name": "stderr",
     "output_type": "stream",
     "text": []
    },
    {
     "name": "stdout",
     "output_type": "stream",
     "text": [
      "[415/1000]  train=0.0180  val=0.0220  lr=9.87e-07  t=4.0m\n"
     ]
    },
    {
     "name": "stderr",
     "output_type": "stream",
     "text": [
      "\rEpoch 416:   0%|          | 0/12 [00:00<?, ?it/s]/content/drive/.shortcut-targets-by-id/1w6OSQ_9ZH9r3830ldxRe1TGWfVlxxXWo/RL_real_0625_ind_index_value_weighted/DiffusionModel/trainer.py:158: FutureWarning: `torch.cuda.amp.autocast(args...)` is deprecated. Please use `torch.amp.autocast('cuda', args...)` instead.\n",
      "  with autocast(enabled=cfg.amp):\n"
     ]
    },
    {
     "name": "stdout",
     "output_type": "stream",
     "text": [
      "[416/1000]  train=0.0169  val=0.0242  lr=1.58e-07  t=4.0m\n"
     ]
    },
    {
     "name": "stderr",
     "output_type": "stream",
     "text": []
    },
    {
     "name": "stdout",
     "output_type": "stream",
     "text": [
      "[417/1000]  train=0.0182  val=0.0227  lr=3.95e-08  t=4.0m\n"
     ]
    },
    {
     "name": "stderr",
     "output_type": "stream",
     "text": [
      "Epoch 418:  67%|██████▋   | 8/12 [00:00<00:00, 15.30it/s, loss=0.0191, lr=4.17e-7]/content/drive/.shortcut-targets-by-id/1w6OSQ_9ZH9r3830ldxRe1TGWfVlxxXWo/RL_real_0625_ind_index_value_weighted/DiffusionModel/trainer.py:158: FutureWarning: `torch.cuda.amp.autocast(args...)` is deprecated. Please use `torch.amp.autocast('cuda', args...)` instead.\n",
      "  with autocast(enabled=cfg.amp):\n"
     ]
    },
    {
     "name": "stdout",
     "output_type": "stream",
     "text": [
      "[418/1000]  train=0.0206  val=0.0239  lr=6.32e-07  t=4.0m\n"
     ]
    },
    {
     "name": "stderr",
     "output_type": "stream",
     "text": []
    },
    {
     "name": "stdout",
     "output_type": "stream",
     "text": [
      "[419/1000]  train=0.0186  val=0.0207  lr=1.93e-06  t=4.0m\n"
     ]
    },
    {
     "name": "stderr",
     "output_type": "stream",
     "text": [
      "Epoch 420:   8%|▊         | 1/12 [00:00<00:01,  9.51it/s, loss=0.0222, lr=2.07e-6]/content/drive/.shortcut-targets-by-id/1w6OSQ_9ZH9r3830ldxRe1TGWfVlxxXWo/RL_real_0625_ind_index_value_weighted/DiffusionModel/trainer.py:158: FutureWarning: `torch.cuda.amp.autocast(args...)` is deprecated. Please use `torch.amp.autocast('cuda', args...)` instead.\n",
      "  with autocast(enabled=cfg.amp):\n"
     ]
    },
    {
     "name": "stdout",
     "output_type": "stream",
     "text": [
      "[420/1000]  train=0.0190  val=0.0187  lr=3.94e-06  t=4.0m\n"
     ]
    },
    {
     "name": "stderr",
     "output_type": "stream",
     "text": []
    },
    {
     "name": "stdout",
     "output_type": "stream",
     "text": [
      "[421/1000]  train=0.0182  val=0.0253  lr=6.66e-06  t=4.0m\n"
     ]
    },
    {
     "name": "stderr",
     "output_type": "stream",
     "text": []
    },
    {
     "name": "stdout",
     "output_type": "stream",
     "text": [
      "[422/1000]  train=0.0202  val=0.0211  lr=1.01e-05  t=4.0m\n"
     ]
    },
    {
     "name": "stderr",
     "output_type": "stream",
     "text": [
      "Epoch 423:  50%|█████     | 6/12 [00:00<00:00, 18.72it/s, loss=0.0166, lr=1.27e-5]/content/drive/.shortcut-targets-by-id/1w6OSQ_9ZH9r3830ldxRe1TGWfVlxxXWo/RL_real_0625_ind_index_value_weighted/DiffusionModel/trainer.py:158: FutureWarning: `torch.cuda.amp.autocast(args...)` is deprecated. Please use `torch.amp.autocast('cuda', args...)` instead.\n",
      "  with autocast(enabled=cfg.amp):\n"
     ]
    },
    {
     "name": "stdout",
     "output_type": "stream",
     "text": [
      "[423/1000]  train=0.0176  val=0.0192  lr=1.42e-05  t=4.0m\n"
     ]
    },
    {
     "name": "stderr",
     "output_type": "stream",
     "text": []
    },
    {
     "name": "stdout",
     "output_type": "stream",
     "text": [
      "[424/1000]  train=0.0178  val=0.0200  lr=1.90e-05  t=4.0m\n"
     ]
    },
    {
     "name": "stderr",
     "output_type": "stream",
     "text": [
      "Epoch 425:  50%|█████     | 6/12 [00:00<00:00, 16.32it/s, loss=0.0189, lr=2.16e-5]/content/drive/.shortcut-targets-by-id/1w6OSQ_9ZH9r3830ldxRe1TGWfVlxxXWo/RL_real_0625_ind_index_value_weighted/DiffusionModel/trainer.py:158: FutureWarning: `torch.cuda.amp.autocast(args...)` is deprecated. Please use `torch.amp.autocast('cuda', args...)` instead.\n",
      "  with autocast(enabled=cfg.amp):\n"
     ]
    },
    {
     "name": "stdout",
     "output_type": "stream",
     "text": [
      "[425/1000]  train=0.0180  val=0.0226  lr=2.45e-05  t=4.1m\n"
     ]
    },
    {
     "name": "stderr",
     "output_type": "stream",
     "text": []
    },
    {
     "name": "stdout",
     "output_type": "stream",
     "text": [
      "[426/1000]  train=0.0196  val=0.0193  lr=3.06e-05  t=4.1m\n"
     ]
    },
    {
     "name": "stderr",
     "output_type": "stream",
     "text": [
      "Epoch 427:  17%|█▋        | 2/12 [00:00<00:00, 12.53it/s, loss=0.0181, lr=3.23e-5]/content/drive/.shortcut-targets-by-id/1w6OSQ_9ZH9r3830ldxRe1TGWfVlxxXWo/RL_real_0625_ind_index_value_weighted/DiffusionModel/trainer.py:158: FutureWarning: `torch.cuda.amp.autocast(args...)` is deprecated. Please use `torch.amp.autocast('cuda', args...)` instead.\n",
      "  with autocast(enabled=cfg.amp):\n"
     ]
    },
    {
     "name": "stdout",
     "output_type": "stream",
     "text": [
      "[427/1000]  train=0.0198  val=0.0218  lr=3.75e-05  t=4.1m\n"
     ]
    },
    {
     "name": "stderr",
     "output_type": "stream",
     "text": []
    },
    {
     "name": "stdout",
     "output_type": "stream",
     "text": [
      "[428/1000]  train=0.0191  val=0.0206  lr=4.49e-05  t=4.1m\n"
     ]
    },
    {
     "name": "stderr",
     "output_type": "stream",
     "text": [
      "Epoch 429:   0%|          | 0/12 [00:00<?, ?it/s, loss=0.0203, lr=4.56e-5]/content/drive/.shortcut-targets-by-id/1w6OSQ_9ZH9r3830ldxRe1TGWfVlxxXWo/RL_real_0625_ind_index_value_weighted/DiffusionModel/trainer.py:158: FutureWarning: `torch.cuda.amp.autocast(args...)` is deprecated. Please use `torch.amp.autocast('cuda', args...)` instead.\n",
      "  with autocast(enabled=cfg.amp):\n"
     ]
    },
    {
     "name": "stdout",
     "output_type": "stream",
     "text": [
      "[429/1000]  train=0.0187  val=0.0246  lr=5.31e-05  t=4.1m\n"
     ]
    },
    {
     "name": "stderr",
     "output_type": "stream",
     "text": []
    },
    {
     "name": "stdout",
     "output_type": "stream",
     "text": [
      "[430/1000]  train=0.0183  val=0.0253  lr=6.18e-05  t=4.1m\n"
     ]
    },
    {
     "name": "stderr",
     "output_type": "stream",
     "text": [
      "\rEpoch 431:   0%|          | 0/12 [00:00<?, ?it/s]/content/drive/.shortcut-targets-by-id/1w6OSQ_9ZH9r3830ldxRe1TGWfVlxxXWo/RL_real_0625_ind_index_value_weighted/DiffusionModel/trainer.py:158: FutureWarning: `torch.cuda.amp.autocast(args...)` is deprecated. Please use `torch.amp.autocast('cuda', args...)` instead.\n",
      "  with autocast(enabled=cfg.amp):\n"
     ]
    },
    {
     "name": "stdout",
     "output_type": "stream",
     "text": [
      "[431/1000]  train=0.0203  val=0.0242  lr=7.12e-05  t=4.1m\n"
     ]
    },
    {
     "name": "stderr",
     "output_type": "stream",
     "text": [
      "Epoch 432:  75%|███████▌  | 9/12 [00:00<00:00, 18.80it/s, loss=0.0205, lr=7.95e-5]/content/drive/.shortcut-targets-by-id/1w6OSQ_9ZH9r3830ldxRe1TGWfVlxxXWo/RL_real_0625_ind_index_value_weighted/DiffusionModel/trainer.py:158: FutureWarning: `torch.cuda.amp.autocast(args...)` is deprecated. Please use `torch.amp.autocast('cuda', args...)` instead.\n",
      "  with autocast(enabled=cfg.amp):\n"
     ]
    },
    {
     "name": "stdout",
     "output_type": "stream",
     "text": [
      "[432/1000]  train=0.0180  val=0.0182  lr=8.12e-05  t=4.1m\n"
     ]
    },
    {
     "name": "stderr",
     "output_type": "stream",
     "text": []
    },
    {
     "name": "stdout",
     "output_type": "stream",
     "text": [
      "[433/1000]  train=0.0201  val=0.0222  lr=9.18e-05  t=4.1m\n"
     ]
    },
    {
     "name": "stderr",
     "output_type": "stream",
     "text": [
      "Epoch 434:  50%|█████     | 6/12 [00:00<00:00, 22.00it/s, loss=0.0135, lr=9.92e-5]/content/drive/.shortcut-targets-by-id/1w6OSQ_9ZH9r3830ldxRe1TGWfVlxxXWo/RL_real_0625_ind_index_value_weighted/DiffusionModel/trainer.py:158: FutureWarning: `torch.cuda.amp.autocast(args...)` is deprecated. Please use `torch.amp.autocast('cuda', args...)` instead.\n",
      "  with autocast(enabled=cfg.amp):\n"
     ]
    },
    {
     "name": "stdout",
     "output_type": "stream",
     "text": [
      "[434/1000]  train=0.0192  val=0.0199  lr=1.03e-04  t=4.1m\n"
     ]
    },
    {
     "name": "stderr",
     "output_type": "stream",
     "text": []
    },
    {
     "name": "stdout",
     "output_type": "stream",
     "text": [
      "[435/1000]  train=0.0190  val=0.0229  lr=1.15e-04  t=4.1m\n"
     ]
    },
    {
     "name": "stderr",
     "output_type": "stream",
     "text": [
      "Epoch 436:  75%|███████▌  | 9/12 [00:00<00:00, 17.36it/s, loss=0.0146, lr=0.000124]/content/drive/.shortcut-targets-by-id/1w6OSQ_9ZH9r3830ldxRe1TGWfVlxxXWo/RL_real_0625_ind_index_value_weighted/DiffusionModel/trainer.py:158: FutureWarning: `torch.cuda.amp.autocast(args...)` is deprecated. Please use `torch.amp.autocast('cuda', args...)` instead.\n",
      "  with autocast(enabled=cfg.amp):\n"
     ]
    },
    {
     "name": "stdout",
     "output_type": "stream",
     "text": [
      "[436/1000]  train=0.0175  val=0.0207  lr=1.27e-04  t=4.2m\n"
     ]
    },
    {
     "name": "stderr",
     "output_type": "stream",
     "text": []
    },
    {
     "name": "stdout",
     "output_type": "stream",
     "text": [
      "[437/1000]  train=0.0171  val=0.0207  lr=1.40e-04  t=4.2m\n"
     ]
    },
    {
     "name": "stderr",
     "output_type": "stream",
     "text": []
    },
    {
     "name": "stdout",
     "output_type": "stream",
     "text": [
      "[438/1000]  train=0.0185  val=0.0220  lr=1.53e-04  t=4.2m\n"
     ]
    },
    {
     "name": "stderr",
     "output_type": "stream",
     "text": []
    },
    {
     "name": "stdout",
     "output_type": "stream",
     "text": [
      "[439/1000]  train=0.0188  val=0.0237  lr=1.67e-04  t=4.2m\n"
     ]
    },
    {
     "name": "stderr",
     "output_type": "stream",
     "text": [
      "Epoch 440:   0%|          | 0/12 [00:00<?, ?it/s]/content/drive/.shortcut-targets-by-id/1w6OSQ_9ZH9r3830ldxRe1TGWfVlxxXWo/RL_real_0625_ind_index_value_weighted/DiffusionModel/trainer.py:158: FutureWarning: `torch.cuda.amp.autocast(args...)` is deprecated. Please use `torch.amp.autocast('cuda', args...)` instead.\n",
      "  with autocast(enabled=cfg.amp):\n"
     ]
    },
    {
     "name": "stdout",
     "output_type": "stream",
     "text": [
      "[440/1000]  train=0.0197  val=0.0243  lr=1.81e-04  t=4.2m\n"
     ]
    },
    {
     "name": "stderr",
     "output_type": "stream",
     "text": [
      "Epoch 441:  50%|█████     | 6/12 [00:00<00:00, 11.70it/s, loss=0.0208, lr=0.000189]/content/drive/.shortcut-targets-by-id/1w6OSQ_9ZH9r3830ldxRe1TGWfVlxxXWo/RL_real_0625_ind_index_value_weighted/DiffusionModel/trainer.py:158: FutureWarning: `torch.cuda.amp.autocast(args...)` is deprecated. Please use `torch.amp.autocast('cuda', args...)` instead.\n",
      "  with autocast(enabled=cfg.amp):\n"
     ]
    },
    {
     "name": "stdout",
     "output_type": "stream",
     "text": [
      "[441/1000]  train=0.0190  val=0.0282  lr=1.96e-04  t=4.2m\n"
     ]
    },
    {
     "name": "stderr",
     "output_type": "stream",
     "text": []
    },
    {
     "name": "stdout",
     "output_type": "stream",
     "text": [
      "[442/1000]  train=0.0185  val=0.0173  lr=2.11e-04  t=4.2m\n"
     ]
    },
    {
     "name": "stderr",
     "output_type": "stream",
     "text": []
    },
    {
     "name": "stdout",
     "output_type": "stream",
     "text": [
      "[443/1000]  train=0.0208  val=0.0184  lr=2.27e-04  t=4.2m\n"
     ]
    },
    {
     "name": "stderr",
     "output_type": "stream",
     "text": [
      "\rEpoch 444:   0%|          | 0/12 [00:00<?, ?it/s]/content/drive/.shortcut-targets-by-id/1w6OSQ_9ZH9r3830ldxRe1TGWfVlxxXWo/RL_real_0625_ind_index_value_weighted/DiffusionModel/trainer.py:158: FutureWarning: `torch.cuda.amp.autocast(args...)` is deprecated. Please use `torch.amp.autocast('cuda', args...)` instead.\n",
      "  with autocast(enabled=cfg.amp):\n"
     ]
    },
    {
     "name": "stdout",
     "output_type": "stream",
     "text": [
      "[444/1000]  train=0.0197  val=0.0220  lr=2.43e-04  t=4.2m\n"
     ]
    },
    {
     "name": "stderr",
     "output_type": "stream",
     "text": []
    },
    {
     "name": "stdout",
     "output_type": "stream",
     "text": [
      "[445/1000]  train=0.0194  val=0.0269  lr=2.59e-04  t=4.3m\n"
     ]
    },
    {
     "name": "stderr",
     "output_type": "stream",
     "text": [
      "Epoch 446:  33%|███▎      | 4/12 [00:00<00:00, 14.00it/s, loss=0.0146, lr=0.000265]/content/drive/.shortcut-targets-by-id/1w6OSQ_9ZH9r3830ldxRe1TGWfVlxxXWo/RL_real_0625_ind_index_value_weighted/DiffusionModel/trainer.py:158: FutureWarning: `torch.cuda.amp.autocast(args...)` is deprecated. Please use `torch.amp.autocast('cuda', args...)` instead.\n",
      "  with autocast(enabled=cfg.amp):\n"
     ]
    },
    {
     "name": "stdout",
     "output_type": "stream",
     "text": [
      "[446/1000]  train=0.0177  val=0.0256  lr=2.76e-04  t=4.3m\n"
     ]
    },
    {
     "name": "stderr",
     "output_type": "stream",
     "text": []
    },
    {
     "name": "stdout",
     "output_type": "stream",
     "text": [
      "[447/1000]  train=0.0192  val=0.0227  lr=2.93e-04  t=4.3m\n"
     ]
    },
    {
     "name": "stderr",
     "output_type": "stream",
     "text": []
    },
    {
     "name": "stdout",
     "output_type": "stream",
     "text": [
      "[448/1000]  train=0.0199  val=0.0256  lr=3.10e-04  t=4.3m\n"
     ]
    },
    {
     "name": "stderr",
     "output_type": "stream",
     "text": [
      "Epoch 449:  17%|█▋        | 2/12 [00:00<00:00, 11.76it/s, loss=0.018, lr=0.000314] /content/drive/.shortcut-targets-by-id/1w6OSQ_9ZH9r3830ldxRe1TGWfVlxxXWo/RL_real_0625_ind_index_value_weighted/DiffusionModel/trainer.py:158: FutureWarning: `torch.cuda.amp.autocast(args...)` is deprecated. Please use `torch.amp.autocast('cuda', args...)` instead.\n",
      "  with autocast(enabled=cfg.amp):\n"
     ]
    },
    {
     "name": "stdout",
     "output_type": "stream",
     "text": [
      "[449/1000]  train=0.0172  val=0.0204  lr=3.28e-04  t=4.3m\n"
     ]
    },
    {
     "name": "stderr",
     "output_type": "stream",
     "text": []
    },
    {
     "name": "stdout",
     "output_type": "stream",
     "text": [
      "[450/1000]  train=0.0178  val=0.0171  lr=3.45e-04  t=4.3m\n"
     ]
    },
    {
     "name": "stderr",
     "output_type": "stream",
     "text": [
      "Epoch 451:   0%|          | 0/12 [00:00<?, ?it/s, loss=0.0178, lr=0.000347]/content/drive/.shortcut-targets-by-id/1w6OSQ_9ZH9r3830ldxRe1TGWfVlxxXWo/RL_real_0625_ind_index_value_weighted/DiffusionModel/trainer.py:158: FutureWarning: `torch.cuda.amp.autocast(args...)` is deprecated. Please use `torch.amp.autocast('cuda', args...)` instead.\n",
      "  with autocast(enabled=cfg.amp):\n"
     ]
    },
    {
     "name": "stdout",
     "output_type": "stream",
     "text": [
      "[451/1000]  train=0.0208  val=0.0352  lr=3.64e-04  t=4.3m\n"
     ]
    },
    {
     "name": "stderr",
     "output_type": "stream",
     "text": []
    },
    {
     "name": "stdout",
     "output_type": "stream",
     "text": [
      "[452/1000]  train=0.0182  val=0.0214  lr=3.82e-04  t=4.3m\n"
     ]
    },
    {
     "name": "stderr",
     "output_type": "stream",
     "text": [
      "\rEpoch 453:   0%|          | 0/12 [00:00<?, ?it/s]/content/drive/.shortcut-targets-by-id/1w6OSQ_9ZH9r3830ldxRe1TGWfVlxxXWo/RL_real_0625_ind_index_value_weighted/DiffusionModel/trainer.py:158: FutureWarning: `torch.cuda.amp.autocast(args...)` is deprecated. Please use `torch.amp.autocast('cuda', args...)` instead.\n",
      "  with autocast(enabled=cfg.amp):\n"
     ]
    },
    {
     "name": "stdout",
     "output_type": "stream",
     "text": [
      "[453/1000]  train=0.0188  val=0.0313  lr=4.00e-04  t=4.3m\n"
     ]
    },
    {
     "name": "stderr",
     "output_type": "stream",
     "text": [
      "Epoch 454:  75%|███████▌  | 9/12 [00:00<00:00, 17.36it/s, loss=0.015, lr=0.000414]/content/drive/.shortcut-targets-by-id/1w6OSQ_9ZH9r3830ldxRe1TGWfVlxxXWo/RL_real_0625_ind_index_value_weighted/DiffusionModel/trainer.py:158: FutureWarning: `torch.cuda.amp.autocast(args...)` is deprecated. Please use `torch.amp.autocast('cuda', args...)` instead.\n",
      "  with autocast(enabled=cfg.amp):\n"
     ]
    },
    {
     "name": "stdout",
     "output_type": "stream",
     "text": [
      "[454/1000]  train=0.0198  val=0.0203  lr=4.19e-04  t=4.3m\n"
     ]
    },
    {
     "name": "stderr",
     "output_type": "stream",
     "text": []
    },
    {
     "name": "stdout",
     "output_type": "stream",
     "text": [
      "[455/1000]  train=0.0189  val=0.0255  lr=4.37e-04  t=4.3m\n"
     ]
    },
    {
     "name": "stderr",
     "output_type": "stream",
     "text": [
      "Epoch 456:  50%|█████     | 6/12 [00:00<00:00, 16.07it/s, loss=0.0191, lr=0.000447]/content/drive/.shortcut-targets-by-id/1w6OSQ_9ZH9r3830ldxRe1TGWfVlxxXWo/RL_real_0625_ind_index_value_weighted/DiffusionModel/trainer.py:158: FutureWarning: `torch.cuda.amp.autocast(args...)` is deprecated. Please use `torch.amp.autocast('cuda', args...)` instead.\n",
      "  with autocast(enabled=cfg.amp):\n"
     ]
    },
    {
     "name": "stdout",
     "output_type": "stream",
     "text": [
      "[456/1000]  train=0.0180  val=0.0244  lr=4.56e-04  t=4.4m\n"
     ]
    },
    {
     "name": "stderr",
     "output_type": "stream",
     "text": []
    },
    {
     "name": "stdout",
     "output_type": "stream",
     "text": [
      "[457/1000]  train=0.0189  val=0.0274  lr=4.75e-04  t=4.4m\n"
     ]
    },
    {
     "name": "stderr",
     "output_type": "stream",
     "text": [
      "Epoch 458:  17%|█▋        | 2/12 [00:00<00:00, 15.70it/s, loss=0.014, lr=0.00048]  /content/drive/.shortcut-targets-by-id/1w6OSQ_9ZH9r3830ldxRe1TGWfVlxxXWo/RL_real_0625_ind_index_value_weighted/DiffusionModel/trainer.py:158: FutureWarning: `torch.cuda.amp.autocast(args...)` is deprecated. Please use `torch.amp.autocast('cuda', args...)` instead.\n",
      "  with autocast(enabled=cfg.amp):\n"
     ]
    },
    {
     "name": "stdout",
     "output_type": "stream",
     "text": [
      "[458/1000]  train=0.0176  val=0.0230  lr=4.94e-04  t=4.4m\n"
     ]
    },
    {
     "name": "stderr",
     "output_type": "stream",
     "text": []
    },
    {
     "name": "stdout",
     "output_type": "stream",
     "text": [
      "[459/1000]  train=0.0191  val=0.0228  lr=5.13e-04  t=4.4m\n"
     ]
    },
    {
     "name": "stderr",
     "output_type": "stream",
     "text": [
      "Epoch 460:  17%|█▋        | 2/12 [00:00<00:00, 12.90it/s, loss=0.0193, lr=0.000516]/content/drive/.shortcut-targets-by-id/1w6OSQ_9ZH9r3830ldxRe1TGWfVlxxXWo/RL_real_0625_ind_index_value_weighted/DiffusionModel/trainer.py:158: FutureWarning: `torch.cuda.amp.autocast(args...)` is deprecated. Please use `torch.amp.autocast('cuda', args...)` instead.\n",
      "  with autocast(enabled=cfg.amp):\n"
     ]
    },
    {
     "name": "stdout",
     "output_type": "stream",
     "text": [
      "[460/1000]  train=0.0184  val=0.0223  lr=5.31e-04  t=4.4m\n"
     ]
    },
    {
     "name": "stderr",
     "output_type": "stream",
     "text": []
    },
    {
     "name": "stdout",
     "output_type": "stream",
     "text": [
      "[461/1000]  train=0.0214  val=0.0199  lr=5.50e-04  t=4.4m\n"
     ]
    },
    {
     "name": "stderr",
     "output_type": "stream",
     "text": []
    },
    {
     "name": "stdout",
     "output_type": "stream",
     "text": [
      "[462/1000]  train=0.0208  val=0.0529  lr=5.69e-04  t=4.4m\n"
     ]
    },
    {
     "name": "stderr",
     "output_type": "stream",
     "text": [
      "Epoch 463:  67%|██████▋   | 8/12 [00:00<00:00, 13.05it/s, loss=0.0217, lr=0.000581]/content/drive/.shortcut-targets-by-id/1w6OSQ_9ZH9r3830ldxRe1TGWfVlxxXWo/RL_real_0625_ind_index_value_weighted/DiffusionModel/trainer.py:158: FutureWarning: `torch.cuda.amp.autocast(args...)` is deprecated. Please use `torch.amp.autocast('cuda', args...)` instead.\n",
      "  with autocast(enabled=cfg.amp):\n"
     ]
    },
    {
     "name": "stdout",
     "output_type": "stream",
     "text": [
      "[463/1000]  train=0.0225  val=0.0263  lr=5.88e-04  t=4.4m\n"
     ]
    },
    {
     "name": "stderr",
     "output_type": "stream",
     "text": []
    },
    {
     "name": "stdout",
     "output_type": "stream",
     "text": [
      "[464/1000]  train=0.0205  val=0.0250  lr=6.06e-04  t=4.4m\n"
     ]
    },
    {
     "name": "stderr",
     "output_type": "stream",
     "text": [
      "Epoch 465:  17%|█▋        | 2/12 [00:00<00:00, 12.72it/s, loss=0.0206, lr=0.000609]/content/drive/.shortcut-targets-by-id/1w6OSQ_9ZH9r3830ldxRe1TGWfVlxxXWo/RL_real_0625_ind_index_value_weighted/DiffusionModel/trainer.py:158: FutureWarning: `torch.cuda.amp.autocast(args...)` is deprecated. Please use `torch.amp.autocast('cuda', args...)` instead.\n",
      "  with autocast(enabled=cfg.amp):\n"
     ]
    },
    {
     "name": "stdout",
     "output_type": "stream",
     "text": [
      "[465/1000]  train=0.0208  val=0.0233  lr=6.24e-04  t=4.4m\n"
     ]
    },
    {
     "name": "stderr",
     "output_type": "stream",
     "text": []
    },
    {
     "name": "stdout",
     "output_type": "stream",
     "text": [
      "[466/1000]  train=0.0189  val=0.0249  lr=6.43e-04  t=4.5m\n"
     ]
    },
    {
     "name": "stderr",
     "output_type": "stream",
     "text": [
      "\rEpoch 467:   0%|          | 0/12 [00:00<?, ?it/s]/content/drive/.shortcut-targets-by-id/1w6OSQ_9ZH9r3830ldxRe1TGWfVlxxXWo/RL_real_0625_ind_index_value_weighted/DiffusionModel/trainer.py:158: FutureWarning: `torch.cuda.amp.autocast(args...)` is deprecated. Please use `torch.amp.autocast('cuda', args...)` instead.\n",
      "  with autocast(enabled=cfg.amp):\n"
     ]
    },
    {
     "name": "stdout",
     "output_type": "stream",
     "text": [
      "[467/1000]  train=0.0191  val=0.0214  lr=6.60e-04  t=4.5m\n"
     ]
    },
    {
     "name": "stderr",
     "output_type": "stream",
     "text": []
    },
    {
     "name": "stdout",
     "output_type": "stream",
     "text": [
      "[468/1000]  train=0.0197  val=0.0227  lr=6.78e-04  t=4.5m\n"
     ]
    },
    {
     "name": "stderr",
     "output_type": "stream",
     "text": [
      "Epoch 469:  25%|██▌       | 3/12 [00:00<00:00, 21.29it/s, loss=0.0201, lr=0.000686]/content/drive/.shortcut-targets-by-id/1w6OSQ_9ZH9r3830ldxRe1TGWfVlxxXWo/RL_real_0625_ind_index_value_weighted/DiffusionModel/trainer.py:158: FutureWarning: `torch.cuda.amp.autocast(args...)` is deprecated. Please use `torch.amp.autocast('cuda', args...)` instead.\n",
      "  with autocast(enabled=cfg.amp):\n"
     ]
    },
    {
     "name": "stdout",
     "output_type": "stream",
     "text": [
      "[469/1000]  train=0.0187  val=0.0244  lr=6.96e-04  t=4.5m\n"
     ]
    },
    {
     "name": "stderr",
     "output_type": "stream",
     "text": []
    },
    {
     "name": "stdout",
     "output_type": "stream",
     "text": [
      "[470/1000]  train=0.0199  val=0.0188  lr=7.13e-04  t=4.5m\n"
     ]
    },
    {
     "name": "stderr",
     "output_type": "stream",
     "text": [
      "Epoch 471:  17%|█▋        | 2/12 [00:00<00:00, 11.47it/s, loss=0.0212, lr=0.000717]/content/drive/.shortcut-targets-by-id/1w6OSQ_9ZH9r3830ldxRe1TGWfVlxxXWo/RL_real_0625_ind_index_value_weighted/DiffusionModel/trainer.py:158: FutureWarning: `torch.cuda.amp.autocast(args...)` is deprecated. Please use `torch.amp.autocast('cuda', args...)` instead.\n",
      "  with autocast(enabled=cfg.amp):\n"
     ]
    },
    {
     "name": "stdout",
     "output_type": "stream",
     "text": [
      "[471/1000]  train=0.0191  val=0.0312  lr=7.30e-04  t=4.5m\n"
     ]
    },
    {
     "name": "stderr",
     "output_type": "stream",
     "text": []
    },
    {
     "name": "stdout",
     "output_type": "stream",
     "text": [
      "[472/1000]  train=0.0216  val=0.0276  lr=7.46e-04  t=4.5m\n"
     ]
    },
    {
     "name": "stderr",
     "output_type": "stream",
     "text": [
      "Epoch 473:  17%|█▋        | 2/12 [00:00<00:00, 11.91it/s, loss=0.022, lr=0.00075]  /content/drive/.shortcut-targets-by-id/1w6OSQ_9ZH9r3830ldxRe1TGWfVlxxXWo/RL_real_0625_ind_index_value_weighted/DiffusionModel/trainer.py:158: FutureWarning: `torch.cuda.amp.autocast(args...)` is deprecated. Please use `torch.amp.autocast('cuda', args...)` instead.\n",
      "  with autocast(enabled=cfg.amp):\n"
     ]
    },
    {
     "name": "stdout",
     "output_type": "stream",
     "text": [
      "[473/1000]  train=0.0200  val=0.0226  lr=7.63e-04  t=4.5m\n"
     ]
    },
    {
     "name": "stderr",
     "output_type": "stream",
     "text": []
    },
    {
     "name": "stdout",
     "output_type": "stream",
     "text": [
      "[474/1000]  train=0.0202  val=0.0479  lr=7.78e-04  t=4.5m\n"
     ]
    },
    {
     "name": "stderr",
     "output_type": "stream",
     "text": []
    },
    {
     "name": "stdout",
     "output_type": "stream",
     "text": [
      "[475/1000]  train=0.0184  val=0.0289  lr=7.94e-04  t=4.5m\n"
     ]
    },
    {
     "name": "stderr",
     "output_type": "stream",
     "text": [
      "Epoch 476:  50%|█████     | 6/12 [00:00<00:00, 17.00it/s, loss=0.0202, lr=0.000803]/content/drive/.shortcut-targets-by-id/1w6OSQ_9ZH9r3830ldxRe1TGWfVlxxXWo/RL_real_0625_ind_index_value_weighted/DiffusionModel/trainer.py:158: FutureWarning: `torch.cuda.amp.autocast(args...)` is deprecated. Please use `torch.amp.autocast('cuda', args...)` instead.\n",
      "  with autocast(enabled=cfg.amp):\n"
     ]
    },
    {
     "name": "stdout",
     "output_type": "stream",
     "text": [
      "[476/1000]  train=0.0205  val=0.0297  lr=8.09e-04  t=4.6m\n"
     ]
    },
    {
     "name": "stderr",
     "output_type": "stream",
     "text": []
    },
    {
     "name": "stdout",
     "output_type": "stream",
     "text": [
      "[477/1000]  train=0.0212  val=0.0361  lr=8.24e-04  t=4.6m\n"
     ]
    },
    {
     "name": "stderr",
     "output_type": "stream",
     "text": [
      "Epoch 478:  42%|████▏     | 5/12 [00:00<00:00, 14.49it/s, loss=0.0192, lr=0.000829]/content/drive/.shortcut-targets-by-id/1w6OSQ_9ZH9r3830ldxRe1TGWfVlxxXWo/RL_real_0625_ind_index_value_weighted/DiffusionModel/trainer.py:158: FutureWarning: `torch.cuda.amp.autocast(args...)` is deprecated. Please use `torch.amp.autocast('cuda', args...)` instead.\n",
      "  with autocast(enabled=cfg.amp):\n"
     ]
    },
    {
     "name": "stdout",
     "output_type": "stream",
     "text": [
      "[478/1000]  train=0.0206  val=0.0230  lr=8.38e-04  t=4.6m\n"
     ]
    },
    {
     "name": "stderr",
     "output_type": "stream",
     "text": []
    },
    {
     "name": "stdout",
     "output_type": "stream",
     "text": [
      "[479/1000]  train=0.0199  val=0.0243  lr=8.51e-04  t=4.6m\n"
     ]
    },
    {
     "name": "stderr",
     "output_type": "stream",
     "text": [
      "Epoch 480:  17%|█▋        | 2/12 [00:00<00:00, 10.93it/s, loss=0.0211, lr=0.000855]/content/drive/.shortcut-targets-by-id/1w6OSQ_9ZH9r3830ldxRe1TGWfVlxxXWo/RL_real_0625_ind_index_value_weighted/DiffusionModel/trainer.py:158: FutureWarning: `torch.cuda.amp.autocast(args...)` is deprecated. Please use `torch.amp.autocast('cuda', args...)` instead.\n",
      "  with autocast(enabled=cfg.amp):\n"
     ]
    },
    {
     "name": "stdout",
     "output_type": "stream",
     "text": [
      "[480/1000]  train=0.0216  val=0.0435  lr=8.64e-04  t=4.6m\n"
     ]
    },
    {
     "name": "stderr",
     "output_type": "stream",
     "text": []
    },
    {
     "name": "stdout",
     "output_type": "stream",
     "text": [
      "[481/1000]  train=0.0191  val=0.0254  lr=8.77e-04  t=4.6m\n"
     ]
    },
    {
     "name": "stderr",
     "output_type": "stream",
     "text": []
    },
    {
     "name": "stdout",
     "output_type": "stream",
     "text": [
      "[482/1000]  train=0.0195  val=0.0350  lr=8.89e-04  t=4.6m\n"
     ]
    },
    {
     "name": "stderr",
     "output_type": "stream",
     "text": []
    },
    {
     "name": "stdout",
     "output_type": "stream",
     "text": [
      "[483/1000]  train=0.0202  val=0.0375  lr=9.01e-04  t=4.6m\n"
     ]
    },
    {
     "name": "stderr",
     "output_type": "stream",
     "text": [
      "Epoch 484:   0%|          | 0/12 [00:00<?, ?it/s]/content/drive/.shortcut-targets-by-id/1w6OSQ_9ZH9r3830ldxRe1TGWfVlxxXWo/RL_real_0625_ind_index_value_weighted/DiffusionModel/trainer.py:158: FutureWarning: `torch.cuda.amp.autocast(args...)` is deprecated. Please use `torch.amp.autocast('cuda', args...)` instead.\n",
      "  with autocast(enabled=cfg.amp):\n"
     ]
    },
    {
     "name": "stdout",
     "output_type": "stream",
     "text": [
      "[484/1000]  train=0.0203  val=0.0237  lr=9.12e-04  t=4.6m\n"
     ]
    },
    {
     "name": "stderr",
     "output_type": "stream",
     "text": [
      "Epoch 485:  75%|███████▌  | 9/12 [00:00<00:00, 17.63it/s, loss=0.0195, lr=0.00092]/content/drive/.shortcut-targets-by-id/1w6OSQ_9ZH9r3830ldxRe1TGWfVlxxXWo/RL_real_0625_ind_index_value_weighted/DiffusionModel/trainer.py:158: FutureWarning: `torch.cuda.amp.autocast(args...)` is deprecated. Please use `torch.amp.autocast('cuda', args...)` instead.\n",
      "  with autocast(enabled=cfg.amp):\n"
     ]
    },
    {
     "name": "stdout",
     "output_type": "stream",
     "text": [
      "[485/1000]  train=0.0195  val=0.0209  lr=9.22e-04  t=4.6m\n"
     ]
    },
    {
     "name": "stderr",
     "output_type": "stream",
     "text": []
    },
    {
     "name": "stdout",
     "output_type": "stream",
     "text": [
      "[486/1000]  train=0.0192  val=0.0232  lr=9.32e-04  t=4.6m\n"
     ]
    },
    {
     "name": "stderr",
     "output_type": "stream",
     "text": [
      "Epoch 487:  33%|███▎      | 4/12 [00:00<00:00, 10.53it/s, loss=0.0214, lr=0.000936]/content/drive/.shortcut-targets-by-id/1w6OSQ_9ZH9r3830ldxRe1TGWfVlxxXWo/RL_real_0625_ind_index_value_weighted/DiffusionModel/trainer.py:158: FutureWarning: `torch.cuda.amp.autocast(args...)` is deprecated. Please use `torch.amp.autocast('cuda', args...)` instead.\n",
      "  with autocast(enabled=cfg.amp):\n"
     ]
    },
    {
     "name": "stdout",
     "output_type": "stream",
     "text": [
      "[487/1000]  train=0.0200  val=0.0271  lr=9.41e-04  t=4.7m\n"
     ]
    },
    {
     "name": "stderr",
     "output_type": "stream",
     "text": []
    },
    {
     "name": "stdout",
     "output_type": "stream",
     "text": [
      "[488/1000]  train=0.0192  val=0.0352  lr=9.50e-04  t=4.7m\n"
     ]
    },
    {
     "name": "stderr",
     "output_type": "stream",
     "text": [
      "\rEpoch 489:   0%|          | 0/12 [00:00<?, ?it/s]/content/drive/.shortcut-targets-by-id/1w6OSQ_9ZH9r3830ldxRe1TGWfVlxxXWo/RL_real_0625_ind_index_value_weighted/DiffusionModel/trainer.py:158: FutureWarning: `torch.cuda.amp.autocast(args...)` is deprecated. Please use `torch.amp.autocast('cuda', args...)` instead.\n",
      "  with autocast(enabled=cfg.amp):\n"
     ]
    },
    {
     "name": "stdout",
     "output_type": "stream",
     "text": [
      "[489/1000]  train=0.0195  val=0.0237  lr=9.58e-04  t=4.7m\n"
     ]
    },
    {
     "name": "stderr",
     "output_type": "stream",
     "text": []
    },
    {
     "name": "stdout",
     "output_type": "stream",
     "text": [
      "[490/1000]  train=0.0194  val=0.0320  lr=9.65e-04  t=4.7m\n"
     ]
    },
    {
     "name": "stderr",
     "output_type": "stream",
     "text": [
      "Epoch 491:  33%|███▎      | 4/12 [00:00<00:00,  9.93it/s, loss=0.0217, lr=0.000967]/content/drive/.shortcut-targets-by-id/1w6OSQ_9ZH9r3830ldxRe1TGWfVlxxXWo/RL_real_0625_ind_index_value_weighted/DiffusionModel/trainer.py:158: FutureWarning: `torch.cuda.amp.autocast(args...)` is deprecated. Please use `torch.amp.autocast('cuda', args...)` instead.\n",
      "  with autocast(enabled=cfg.amp):\n"
     ]
    },
    {
     "name": "stdout",
     "output_type": "stream",
     "text": [
      "[491/1000]  train=0.0199  val=0.0274  lr=9.71e-04  t=4.7m\n"
     ]
    },
    {
     "name": "stderr",
     "output_type": "stream",
     "text": []
    },
    {
     "name": "stdout",
     "output_type": "stream",
     "text": [
      "[492/1000]  train=0.0204  val=0.0301  lr=9.77e-04  t=4.7m\n"
     ]
    },
    {
     "name": "stderr",
     "output_type": "stream",
     "text": [
      "Epoch 493:  17%|█▋        | 2/12 [00:00<00:00, 13.98it/s, loss=0.0224, lr=0.000978]/content/drive/.shortcut-targets-by-id/1w6OSQ_9ZH9r3830ldxRe1TGWfVlxxXWo/RL_real_0625_ind_index_value_weighted/DiffusionModel/trainer.py:158: FutureWarning: `torch.cuda.amp.autocast(args...)` is deprecated. Please use `torch.amp.autocast('cuda', args...)` instead.\n",
      "  with autocast(enabled=cfg.amp):\n"
     ]
    },
    {
     "name": "stdout",
     "output_type": "stream",
     "text": [
      "[493/1000]  train=0.0184  val=0.0251  lr=9.83e-04  t=4.7m\n"
     ]
    },
    {
     "name": "stderr",
     "output_type": "stream",
     "text": []
    },
    {
     "name": "stdout",
     "output_type": "stream",
     "text": [
      "[494/1000]  train=0.0202  val=0.0272  lr=9.87e-04  t=4.7m\n"
     ]
    },
    {
     "name": "stderr",
     "output_type": "stream",
     "text": []
    },
    {
     "name": "stdout",
     "output_type": "stream",
     "text": [
      "[495/1000]  train=0.0214  val=0.0218  lr=9.91e-04  t=4.7m\n"
     ]
    },
    {
     "name": "stderr",
     "output_type": "stream",
     "text": [
      "Epoch 496:  42%|████▏     | 5/12 [00:00<00:00, 13.87it/s, loss=0.0189, lr=0.000993]/content/drive/.shortcut-targets-by-id/1w6OSQ_9ZH9r3830ldxRe1TGWfVlxxXWo/RL_real_0625_ind_index_value_weighted/DiffusionModel/trainer.py:158: FutureWarning: `torch.cuda.amp.autocast(args...)` is deprecated. Please use `torch.amp.autocast('cuda', args...)` instead.\n",
      "  with autocast(enabled=cfg.amp):\n"
     ]
    },
    {
     "name": "stdout",
     "output_type": "stream",
     "text": [
      "[496/1000]  train=0.0194  val=0.0356  lr=9.94e-04  t=4.8m\n"
     ]
    },
    {
     "name": "stderr",
     "output_type": "stream",
     "text": []
    },
    {
     "name": "stdout",
     "output_type": "stream",
     "text": [
      "[497/1000]  train=0.0198  val=0.0256  lr=9.97e-04  t=4.8m\n"
     ]
    },
    {
     "name": "stderr",
     "output_type": "stream",
     "text": [
      "Epoch 498:   0%|          | 0/12 [00:00<?, ?it/s, loss=0.0165, lr=0.000997]/content/drive/.shortcut-targets-by-id/1w6OSQ_9ZH9r3830ldxRe1TGWfVlxxXWo/RL_real_0625_ind_index_value_weighted/DiffusionModel/trainer.py:158: FutureWarning: `torch.cuda.amp.autocast(args...)` is deprecated. Please use `torch.amp.autocast('cuda', args...)` instead.\n",
      "  with autocast(enabled=cfg.amp):\n"
     ]
    },
    {
     "name": "stdout",
     "output_type": "stream",
     "text": [
      "[498/1000]  train=0.0198  val=0.0249  lr=9.99e-04  t=4.8m\n"
     ]
    },
    {
     "name": "stderr",
     "output_type": "stream",
     "text": []
    },
    {
     "name": "stdout",
     "output_type": "stream",
     "text": [
      "[499/1000]  train=0.0195  val=0.0205  lr=1.00e-03  t=4.8m\n"
     ]
    },
    {
     "name": "stderr",
     "output_type": "stream",
     "text": [
      "Epoch 500:   8%|▊         | 1/12 [00:00<00:01,  8.70it/s, loss=0.0181, lr=0.001]/content/drive/.shortcut-targets-by-id/1w6OSQ_9ZH9r3830ldxRe1TGWfVlxxXWo/RL_real_0625_ind_index_value_weighted/DiffusionModel/trainer.py:158: FutureWarning: `torch.cuda.amp.autocast(args...)` is deprecated. Please use `torch.amp.autocast('cuda', args...)` instead.\n",
      "  with autocast(enabled=cfg.amp):\n"
     ]
    },
    {
     "name": "stdout",
     "output_type": "stream",
     "text": [
      "[500/1000]  train=0.0198  val=0.0242  lr=1.00e-03  t=4.8m\n"
     ]
    },
    {
     "name": "stderr",
     "output_type": "stream",
     "text": []
    },
    {
     "name": "stdout",
     "output_type": "stream",
     "text": [
      "[501/1000]  train=0.0177  val=0.0262  lr=1.00e-03  t=4.8m\n"
     ]
    },
    {
     "name": "stderr",
     "output_type": "stream",
     "text": []
    },
    {
     "name": "stdout",
     "output_type": "stream",
     "text": [
      "[502/1000]  train=0.0188  val=0.0260  lr=9.99e-04  t=4.8m\n"
     ]
    },
    {
     "name": "stderr",
     "output_type": "stream",
     "text": [
      "Epoch 503:  50%|█████     | 6/12 [00:00<00:00, 15.23it/s, loss=0.0186, lr=0.000998]/content/drive/.shortcut-targets-by-id/1w6OSQ_9ZH9r3830ldxRe1TGWfVlxxXWo/RL_real_0625_ind_index_value_weighted/DiffusionModel/trainer.py:158: FutureWarning: `torch.cuda.amp.autocast(args...)` is deprecated. Please use `torch.amp.autocast('cuda', args...)` instead.\n",
      "  with autocast(enabled=cfg.amp):\n"
     ]
    },
    {
     "name": "stdout",
     "output_type": "stream",
     "text": [
      "[503/1000]  train=0.0197  val=0.0196  lr=9.97e-04  t=4.8m\n"
     ]
    },
    {
     "name": "stderr",
     "output_type": "stream",
     "text": []
    },
    {
     "name": "stdout",
     "output_type": "stream",
     "text": [
      "[504/1000]  train=0.0187  val=0.0254  lr=9.94e-04  t=4.8m\n"
     ]
    },
    {
     "name": "stderr",
     "output_type": "stream",
     "text": [
      "Epoch 505:  17%|█▋        | 2/12 [00:00<00:00, 10.63it/s, loss=0.0243, lr=0.000994]/content/drive/.shortcut-targets-by-id/1w6OSQ_9ZH9r3830ldxRe1TGWfVlxxXWo/RL_real_0625_ind_index_value_weighted/DiffusionModel/trainer.py:158: FutureWarning: `torch.cuda.amp.autocast(args...)` is deprecated. Please use `torch.amp.autocast('cuda', args...)` instead.\n",
      "  with autocast(enabled=cfg.amp):\n"
     ]
    },
    {
     "name": "stdout",
     "output_type": "stream",
     "text": [
      "[505/1000]  train=0.0210  val=0.0215  lr=9.91e-04  t=4.8m\n"
     ]
    },
    {
     "name": "stderr",
     "output_type": "stream",
     "text": []
    },
    {
     "name": "stdout",
     "output_type": "stream",
     "text": [
      "[506/1000]  train=0.0212  val=0.0271  lr=9.87e-04  t=4.9m\n"
     ]
    },
    {
     "name": "stderr",
     "output_type": "stream",
     "text": [
      "Epoch 507:   0%|          | 0/12 [00:00<?, ?it/s]/content/drive/.shortcut-targets-by-id/1w6OSQ_9ZH9r3830ldxRe1TGWfVlxxXWo/RL_real_0625_ind_index_value_weighted/DiffusionModel/trainer.py:158: FutureWarning: `torch.cuda.amp.autocast(args...)` is deprecated. Please use `torch.amp.autocast('cuda', args...)` instead.\n",
      "  with autocast(enabled=cfg.amp):\n"
     ]
    },
    {
     "name": "stdout",
     "output_type": "stream",
     "text": [
      "[507/1000]  train=0.0201  val=0.0268  lr=9.83e-04  t=4.9m\n"
     ]
    },
    {
     "name": "stderr",
     "output_type": "stream",
     "text": [
      "Epoch 508:  75%|███████▌  | 9/12 [00:00<00:00, 17.09it/s, loss=0.02, lr=0.000979]/content/drive/.shortcut-targets-by-id/1w6OSQ_9ZH9r3830ldxRe1TGWfVlxxXWo/RL_real_0625_ind_index_value_weighted/DiffusionModel/trainer.py:158: FutureWarning: `torch.cuda.amp.autocast(args...)` is deprecated. Please use `torch.amp.autocast('cuda', args...)` instead.\n",
      "  with autocast(enabled=cfg.amp):\n"
     ]
    },
    {
     "name": "stdout",
     "output_type": "stream",
     "text": [
      "[508/1000]  train=0.0193  val=0.0278  lr=9.77e-04  t=4.9m\n"
     ]
    },
    {
     "name": "stderr",
     "output_type": "stream",
     "text": []
    },
    {
     "name": "stdout",
     "output_type": "stream",
     "text": [
      "[509/1000]  train=0.0193  val=0.0220  lr=9.71e-04  t=4.9m\n"
     ]
    },
    {
     "name": "stderr",
     "output_type": "stream",
     "text": [
      "Epoch 510:  25%|██▌       | 3/12 [00:00<00:00,  9.83it/s, loss=0.0212, lr=0.000969]/content/drive/.shortcut-targets-by-id/1w6OSQ_9ZH9r3830ldxRe1TGWfVlxxXWo/RL_real_0625_ind_index_value_weighted/DiffusionModel/trainer.py:158: FutureWarning: `torch.cuda.amp.autocast(args...)` is deprecated. Please use `torch.amp.autocast('cuda', args...)` instead.\n",
      "  with autocast(enabled=cfg.amp):\n"
     ]
    },
    {
     "name": "stdout",
     "output_type": "stream",
     "text": [
      "[510/1000]  train=0.0207  val=0.0221  lr=9.65e-04  t=4.9m\n"
     ]
    },
    {
     "name": "stderr",
     "output_type": "stream",
     "text": []
    },
    {
     "name": "stdout",
     "output_type": "stream",
     "text": [
      "[511/1000]  train=0.0200  val=0.0202  lr=9.58e-04  t=4.9m\n"
     ]
    },
    {
     "name": "stderr",
     "output_type": "stream",
     "text": [
      "Epoch 512:  83%|████████▎ | 10/12 [00:00<00:00, 14.37it/s, loss=0.0204, lr=0.00095] /content/drive/.shortcut-targets-by-id/1w6OSQ_9ZH9r3830ldxRe1TGWfVlxxXWo/RL_real_0625_ind_index_value_weighted/DiffusionModel/trainer.py:158: FutureWarning: `torch.cuda.amp.autocast(args...)` is deprecated. Please use `torch.amp.autocast('cuda', args...)` instead.\n",
      "  with autocast(enabled=cfg.amp):\n"
     ]
    },
    {
     "name": "stdout",
     "output_type": "stream",
     "text": [
      "[512/1000]  train=0.0202  val=0.0292  lr=9.50e-04  t=4.9m\n"
     ]
    },
    {
     "name": "stderr",
     "output_type": "stream",
     "text": []
    },
    {
     "name": "stdout",
     "output_type": "stream",
     "text": [
      "[513/1000]  train=0.0214  val=0.0252  lr=9.41e-04  t=4.9m\n"
     ]
    },
    {
     "name": "stderr",
     "output_type": "stream",
     "text": [
      "Epoch 514:  50%|█████     | 6/12 [00:00<00:00, 11.43it/s, loss=0.0224, lr=0.000936]/content/drive/.shortcut-targets-by-id/1w6OSQ_9ZH9r3830ldxRe1TGWfVlxxXWo/RL_real_0625_ind_index_value_weighted/DiffusionModel/trainer.py:158: FutureWarning: `torch.cuda.amp.autocast(args...)` is deprecated. Please use `torch.amp.autocast('cuda', args...)` instead.\n",
      "  with autocast(enabled=cfg.amp):\n"
     ]
    },
    {
     "name": "stdout",
     "output_type": "stream",
     "text": [
      "[514/1000]  train=0.0202  val=0.0235  lr=9.32e-04  t=4.9m\n"
     ]
    },
    {
     "name": "stderr",
     "output_type": "stream",
     "text": []
    },
    {
     "name": "stdout",
     "output_type": "stream",
     "text": [
      "[515/1000]  train=0.0190  val=0.0223  lr=9.22e-04  t=5.0m\n"
     ]
    },
    {
     "name": "stderr",
     "output_type": "stream",
     "text": []
    },
    {
     "name": "stdout",
     "output_type": "stream",
     "text": [
      "[516/1000]  train=0.0193  val=0.0233  lr=9.12e-04  t=5.0m\n"
     ]
    },
    {
     "name": "stderr",
     "output_type": "stream",
     "text": [
      "Epoch 517:  25%|██▌       | 3/12 [00:00<00:00, 13.28it/s, loss=0.0199, lr=0.000908]/content/drive/.shortcut-targets-by-id/1w6OSQ_9ZH9r3830ldxRe1TGWfVlxxXWo/RL_real_0625_ind_index_value_weighted/DiffusionModel/trainer.py:158: FutureWarning: `torch.cuda.amp.autocast(args...)` is deprecated. Please use `torch.amp.autocast('cuda', args...)` instead.\n",
      "  with autocast(enabled=cfg.amp):\n"
     ]
    },
    {
     "name": "stdout",
     "output_type": "stream",
     "text": [
      "[517/1000]  train=0.0173  val=0.0231  lr=9.01e-04  t=5.0m\n"
     ]
    },
    {
     "name": "stderr",
     "output_type": "stream",
     "text": []
    },
    {
     "name": "stdout",
     "output_type": "stream",
     "text": [
      "[518/1000]  train=0.0206  val=0.0247  lr=8.89e-04  t=5.0m\n"
     ]
    },
    {
     "name": "stderr",
     "output_type": "stream",
     "text": [
      "Epoch 519:   0%|          | 0/12 [00:00<?, ?it/s]/content/drive/.shortcut-targets-by-id/1w6OSQ_9ZH9r3830ldxRe1TGWfVlxxXWo/RL_real_0625_ind_index_value_weighted/DiffusionModel/trainer.py:158: FutureWarning: `torch.cuda.amp.autocast(args...)` is deprecated. Please use `torch.amp.autocast('cuda', args...)` instead.\n",
      "  with autocast(enabled=cfg.amp):\n"
     ]
    },
    {
     "name": "stdout",
     "output_type": "stream",
     "text": [
      "[519/1000]  train=0.0193  val=0.0223  lr=8.77e-04  t=5.0m\n"
     ]
    },
    {
     "name": "stderr",
     "output_type": "stream",
     "text": [
      "Epoch 520:  75%|███████▌  | 9/12 [00:00<00:00, 18.49it/s, loss=0.0232, lr=0.000867]/content/drive/.shortcut-targets-by-id/1w6OSQ_9ZH9r3830ldxRe1TGWfVlxxXWo/RL_real_0625_ind_index_value_weighted/DiffusionModel/trainer.py:158: FutureWarning: `torch.cuda.amp.autocast(args...)` is deprecated. Please use `torch.amp.autocast('cuda', args...)` instead.\n",
      "  with autocast(enabled=cfg.amp):\n"
     ]
    },
    {
     "name": "stdout",
     "output_type": "stream",
     "text": [
      "[520/1000]  train=0.0188  val=0.0219  lr=8.64e-04  t=5.0m\n"
     ]
    },
    {
     "name": "stderr",
     "output_type": "stream",
     "text": []
    },
    {
     "name": "stdout",
     "output_type": "stream",
     "text": [
      "[521/1000]  train=0.0196  val=0.0245  lr=8.51e-04  t=5.0m\n"
     ]
    },
    {
     "name": "stderr",
     "output_type": "stream",
     "text": [
      "Epoch 522:  50%|█████     | 6/12 [00:00<00:00, 15.52it/s, loss=0.0234, lr=0.000845]/content/drive/.shortcut-targets-by-id/1w6OSQ_9ZH9r3830ldxRe1TGWfVlxxXWo/RL_real_0625_ind_index_value_weighted/DiffusionModel/trainer.py:158: FutureWarning: `torch.cuda.amp.autocast(args...)` is deprecated. Please use `torch.amp.autocast('cuda', args...)` instead.\n",
      "  with autocast(enabled=cfg.amp):\n"
     ]
    },
    {
     "name": "stdout",
     "output_type": "stream",
     "text": [
      "[522/1000]  train=0.0176  val=0.0281  lr=8.38e-04  t=5.0m\n"
     ]
    },
    {
     "name": "stderr",
     "output_type": "stream",
     "text": []
    },
    {
     "name": "stdout",
     "output_type": "stream",
     "text": [
      "[523/1000]  train=0.0194  val=0.0227  lr=8.24e-04  t=5.0m\n"
     ]
    },
    {
     "name": "stderr",
     "output_type": "stream",
     "text": [
      "Epoch 524:   8%|▊         | 1/12 [00:00<00:01,  9.26it/s, loss=0.0226, lr=0.000821]/content/drive/.shortcut-targets-by-id/1w6OSQ_9ZH9r3830ldxRe1TGWfVlxxXWo/RL_real_0625_ind_index_value_weighted/DiffusionModel/trainer.py:158: FutureWarning: `torch.cuda.amp.autocast(args...)` is deprecated. Please use `torch.amp.autocast('cuda', args...)` instead.\n",
      "  with autocast(enabled=cfg.amp):\n"
     ]
    },
    {
     "name": "stdout",
     "output_type": "stream",
     "text": [
      "[524/1000]  train=0.0196  val=0.0304  lr=8.09e-04  t=5.0m\n"
     ]
    },
    {
     "name": "stderr",
     "output_type": "stream",
     "text": []
    },
    {
     "name": "stdout",
     "output_type": "stream",
     "text": [
      "[525/1000]  train=0.0200  val=0.0232  lr=7.94e-04  t=5.1m\n"
     ]
    },
    {
     "name": "stderr",
     "output_type": "stream",
     "text": []
    },
    {
     "name": "stdout",
     "output_type": "stream",
     "text": [
      "[526/1000]  train=0.0217  val=0.0195  lr=7.78e-04  t=5.1m\n"
     ]
    },
    {
     "name": "stderr",
     "output_type": "stream",
     "text": [
      "Epoch 527:  75%|███████▌  | 9/12 [00:00<00:00, 16.46it/s, loss=0.0194, lr=0.000767]/content/drive/.shortcut-targets-by-id/1w6OSQ_9ZH9r3830ldxRe1TGWfVlxxXWo/RL_real_0625_ind_index_value_weighted/DiffusionModel/trainer.py:158: FutureWarning: `torch.cuda.amp.autocast(args...)` is deprecated. Please use `torch.amp.autocast('cuda', args...)` instead.\n",
      "  with autocast(enabled=cfg.amp):\n"
     ]
    },
    {
     "name": "stdout",
     "output_type": "stream",
     "text": [
      "[527/1000]  train=0.0182  val=0.0201  lr=7.63e-04  t=5.1m\n"
     ]
    },
    {
     "name": "stderr",
     "output_type": "stream",
     "text": []
    },
    {
     "name": "stdout",
     "output_type": "stream",
     "text": [
      "[528/1000]  train=0.0193  val=0.0214  lr=7.46e-04  t=5.1m\n"
     ]
    },
    {
     "name": "stderr",
     "output_type": "stream",
     "text": [
      "Epoch 529:  50%|█████     | 6/12 [00:00<00:00, 15.19it/s, loss=0.0161, lr=0.000738]/content/drive/.shortcut-targets-by-id/1w6OSQ_9ZH9r3830ldxRe1TGWfVlxxXWo/RL_real_0625_ind_index_value_weighted/DiffusionModel/trainer.py:158: FutureWarning: `torch.cuda.amp.autocast(args...)` is deprecated. Please use `torch.amp.autocast('cuda', args...)` instead.\n",
      "  with autocast(enabled=cfg.amp):\n"
     ]
    },
    {
     "name": "stdout",
     "output_type": "stream",
     "text": [
      "[529/1000]  train=0.0200  val=0.0218  lr=7.30e-04  t=5.1m\n"
     ]
    },
    {
     "name": "stderr",
     "output_type": "stream",
     "text": []
    },
    {
     "name": "stdout",
     "output_type": "stream",
     "text": [
      "[530/1000]  train=0.0199  val=0.0318  lr=7.13e-04  t=5.1m\n"
     ]
    },
    {
     "name": "stderr",
     "output_type": "stream",
     "text": [
      "Epoch 531:   8%|▊         | 1/12 [00:00<00:01,  9.66it/s, loss=0.0186, lr=0.00071] /content/drive/.shortcut-targets-by-id/1w6OSQ_9ZH9r3830ldxRe1TGWfVlxxXWo/RL_real_0625_ind_index_value_weighted/DiffusionModel/trainer.py:158: FutureWarning: `torch.cuda.amp.autocast(args...)` is deprecated. Please use `torch.amp.autocast('cuda', args...)` instead.\n",
      "  with autocast(enabled=cfg.amp):\n"
     ]
    },
    {
     "name": "stdout",
     "output_type": "stream",
     "text": [
      "[531/1000]  train=0.0183  val=0.0250  lr=6.96e-04  t=5.1m\n"
     ]
    },
    {
     "name": "stderr",
     "output_type": "stream",
     "text": []
    },
    {
     "name": "stdout",
     "output_type": "stream",
     "text": [
      "[532/1000]  train=0.0205  val=0.0272  lr=6.78e-04  t=5.1m\n"
     ]
    },
    {
     "name": "stderr",
     "output_type": "stream",
     "text": []
    },
    {
     "name": "stdout",
     "output_type": "stream",
     "text": [
      "[533/1000]  train=0.0189  val=0.0238  lr=6.60e-04  t=5.1m\n"
     ]
    },
    {
     "name": "stderr",
     "output_type": "stream",
     "text": [
      "Epoch 534:  33%|███▎      | 4/12 [00:00<00:00, 12.28it/s, loss=0.026, lr=0.000653] /content/drive/.shortcut-targets-by-id/1w6OSQ_9ZH9r3830ldxRe1TGWfVlxxXWo/RL_real_0625_ind_index_value_weighted/DiffusionModel/trainer.py:158: FutureWarning: `torch.cuda.amp.autocast(args...)` is deprecated. Please use `torch.amp.autocast('cuda', args...)` instead.\n",
      "  with autocast(enabled=cfg.amp):\n"
     ]
    },
    {
     "name": "stdout",
     "output_type": "stream",
     "text": [
      "[534/1000]  train=0.0224  val=0.0226  lr=6.43e-04  t=5.1m\n"
     ]
    },
    {
     "name": "stderr",
     "output_type": "stream",
     "text": []
    },
    {
     "name": "stdout",
     "output_type": "stream",
     "text": [
      "[535/1000]  train=0.0169  val=0.0273  lr=6.24e-04  t=5.2m\n"
     ]
    },
    {
     "name": "stderr",
     "output_type": "stream",
     "text": []
    },
    {
     "name": "stdout",
     "output_type": "stream",
     "text": [
      "[536/1000]  train=0.0187  val=0.0230  lr=6.06e-04  t=5.2m\n"
     ]
    },
    {
     "name": "stderr",
     "output_type": "stream",
     "text": [
      "Epoch 537:   8%|▊         | 1/12 [00:00<00:01,  7.82it/s, loss=0.0181, lr=0.000603]/content/drive/.shortcut-targets-by-id/1w6OSQ_9ZH9r3830ldxRe1TGWfVlxxXWo/RL_real_0625_ind_index_value_weighted/DiffusionModel/trainer.py:158: FutureWarning: `torch.cuda.amp.autocast(args...)` is deprecated. Please use `torch.amp.autocast('cuda', args...)` instead.\n",
      "  with autocast(enabled=cfg.amp):\n"
     ]
    },
    {
     "name": "stdout",
     "output_type": "stream",
     "text": [
      "[537/1000]  train=0.0179  val=0.0182  lr=5.88e-04  t=5.2m\n"
     ]
    },
    {
     "name": "stderr",
     "output_type": "stream",
     "text": [
      "Epoch 538:  67%|██████▋   | 8/12 [00:00<00:00, 21.32it/s, loss=0.0184, lr=0.000572]/content/drive/.shortcut-targets-by-id/1w6OSQ_9ZH9r3830ldxRe1TGWfVlxxXWo/RL_real_0625_ind_index_value_weighted/DiffusionModel/trainer.py:158: FutureWarning: `torch.cuda.amp.autocast(args...)` is deprecated. Please use `torch.amp.autocast('cuda', args...)` instead.\n",
      "  with autocast(enabled=cfg.amp):\n"
     ]
    },
    {
     "name": "stdout",
     "output_type": "stream",
     "text": [
      "[538/1000]  train=0.0190  val=0.0269  lr=5.69e-04  t=5.2m\n"
     ]
    },
    {
     "name": "stderr",
     "output_type": "stream",
     "text": []
    },
    {
     "name": "stdout",
     "output_type": "stream",
     "text": [
      "[539/1000]  train=0.0192  val=0.0287  lr=5.50e-04  t=5.2m\n"
     ]
    },
    {
     "name": "stderr",
     "output_type": "stream",
     "text": []
    },
    {
     "name": "stdout",
     "output_type": "stream",
     "text": [
      "[540/1000]  train=0.0212  val=0.0215  lr=5.31e-04  t=5.2m\n"
     ]
    },
    {
     "name": "stderr",
     "output_type": "stream",
     "text": []
    },
    {
     "name": "stdout",
     "output_type": "stream",
     "text": [
      "[541/1000]  train=0.0185  val=0.0214  lr=5.13e-04  t=5.2m\n"
     ]
    },
    {
     "name": "stderr",
     "output_type": "stream",
     "text": [
      "\rEpoch 542:   0%|          | 0/12 [00:00<?, ?it/s]/content/drive/.shortcut-targets-by-id/1w6OSQ_9ZH9r3830ldxRe1TGWfVlxxXWo/RL_real_0625_ind_index_value_weighted/DiffusionModel/trainer.py:158: FutureWarning: `torch.cuda.amp.autocast(args...)` is deprecated. Please use `torch.amp.autocast('cuda', args...)` instead.\n",
      "  with autocast(enabled=cfg.amp):\n"
     ]
    },
    {
     "name": "stdout",
     "output_type": "stream",
     "text": [
      "[542/1000]  train=0.0201  val=0.0265  lr=4.94e-04  t=5.2m\n"
     ]
    },
    {
     "name": "stderr",
     "output_type": "stream",
     "text": [
      "Epoch 543:  75%|███████▌  | 9/12 [00:00<00:00, 16.57it/s, loss=0.0221, lr=0.00048]/content/drive/.shortcut-targets-by-id/1w6OSQ_9ZH9r3830ldxRe1TGWfVlxxXWo/RL_real_0625_ind_index_value_weighted/DiffusionModel/trainer.py:158: FutureWarning: `torch.cuda.amp.autocast(args...)` is deprecated. Please use `torch.amp.autocast('cuda', args...)` instead.\n",
      "  with autocast(enabled=cfg.amp):\n"
     ]
    },
    {
     "name": "stdout",
     "output_type": "stream",
     "text": [
      "[543/1000]  train=0.0184  val=0.0223  lr=4.75e-04  t=5.2m\n"
     ]
    },
    {
     "name": "stderr",
     "output_type": "stream",
     "text": []
    },
    {
     "name": "stdout",
     "output_type": "stream",
     "text": [
      "[544/1000]  train=0.0197  val=0.0226  lr=4.56e-04  t=5.2m\n"
     ]
    },
    {
     "name": "stderr",
     "output_type": "stream",
     "text": [
      "Epoch 545:  50%|█████     | 6/12 [00:00<00:00, 15.03it/s, loss=0.0221, lr=0.000447]/content/drive/.shortcut-targets-by-id/1w6OSQ_9ZH9r3830ldxRe1TGWfVlxxXWo/RL_real_0625_ind_index_value_weighted/DiffusionModel/trainer.py:158: FutureWarning: `torch.cuda.amp.autocast(args...)` is deprecated. Please use `torch.amp.autocast('cuda', args...)` instead.\n",
      "  with autocast(enabled=cfg.amp):\n"
     ]
    },
    {
     "name": "stdout",
     "output_type": "stream",
     "text": [
      "[545/1000]  train=0.0190  val=0.0194  lr=4.37e-04  t=5.3m\n"
     ]
    },
    {
     "name": "stderr",
     "output_type": "stream",
     "text": []
    },
    {
     "name": "stdout",
     "output_type": "stream",
     "text": [
      "[546/1000]  train=0.0190  val=0.0235  lr=4.19e-04  t=5.3m\n"
     ]
    },
    {
     "name": "stderr",
     "output_type": "stream",
     "text": []
    },
    {
     "name": "stdout",
     "output_type": "stream",
     "text": [
      "[547/1000]  train=0.0195  val=0.0243  lr=4.00e-04  t=5.3m\n"
     ]
    },
    {
     "name": "stderr",
     "output_type": "stream",
     "text": []
    },
    {
     "name": "stdout",
     "output_type": "stream",
     "text": [
      "[548/1000]  train=0.0179  val=0.0266  lr=3.82e-04  t=5.3m\n"
     ]
    },
    {
     "name": "stderr",
     "output_type": "stream",
     "text": [
      "Epoch 549:   0%|          | 0/12 [00:00<?, ?it/s, loss=0.0121, lr=0.00038]/content/drive/.shortcut-targets-by-id/1w6OSQ_9ZH9r3830ldxRe1TGWfVlxxXWo/RL_real_0625_ind_index_value_weighted/DiffusionModel/trainer.py:158: FutureWarning: `torch.cuda.amp.autocast(args...)` is deprecated. Please use `torch.amp.autocast('cuda', args...)` instead.\n",
      "  with autocast(enabled=cfg.amp):\n"
     ]
    },
    {
     "name": "stdout",
     "output_type": "stream",
     "text": [
      "[549/1000]  train=0.0187  val=0.0212  lr=3.64e-04  t=5.3m\n"
     ]
    },
    {
     "name": "stderr",
     "output_type": "stream",
     "text": [
      "Epoch 550:  75%|███████▌  | 9/12 [00:00<00:00, 20.53it/s, loss=0.024, lr=0.000347] /content/drive/.shortcut-targets-by-id/1w6OSQ_9ZH9r3830ldxRe1TGWfVlxxXWo/RL_real_0625_ind_index_value_weighted/DiffusionModel/trainer.py:158: FutureWarning: `torch.cuda.amp.autocast(args...)` is deprecated. Please use `torch.amp.autocast('cuda', args...)` instead.\n",
      "  with autocast(enabled=cfg.amp):\n"
     ]
    },
    {
     "name": "stdout",
     "output_type": "stream",
     "text": [
      "[550/1000]  train=0.0202  val=0.0228  lr=3.45e-04  t=5.3m\n"
     ]
    },
    {
     "name": "stderr",
     "output_type": "stream",
     "text": []
    },
    {
     "name": "stdout",
     "output_type": "stream",
     "text": [
      "[551/1000]  train=0.0182  val=0.0293  lr=3.28e-04  t=5.3m\n"
     ]
    },
    {
     "name": "stderr",
     "output_type": "stream",
     "text": []
    },
    {
     "name": "stdout",
     "output_type": "stream",
     "text": [
      "[552/1000]  train=0.0197  val=0.0218  lr=3.10e-04  t=5.3m\n"
     ]
    },
    {
     "name": "stderr",
     "output_type": "stream",
     "text": []
    },
    {
     "name": "stdout",
     "output_type": "stream",
     "text": [
      "[553/1000]  train=0.0186  val=0.0228  lr=2.93e-04  t=5.3m\n"
     ]
    },
    {
     "name": "stderr",
     "output_type": "stream",
     "text": [
      "Epoch 554:  42%|████▏     | 5/12 [00:00<00:00, 13.77it/s, loss=0.0173, lr=0.000286]/content/drive/.shortcut-targets-by-id/1w6OSQ_9ZH9r3830ldxRe1TGWfVlxxXWo/RL_real_0625_ind_index_value_weighted/DiffusionModel/trainer.py:158: FutureWarning: `torch.cuda.amp.autocast(args...)` is deprecated. Please use `torch.amp.autocast('cuda', args...)` instead.\n",
      "  with autocast(enabled=cfg.amp):\n"
     ]
    },
    {
     "name": "stdout",
     "output_type": "stream",
     "text": [
      "[554/1000]  train=0.0201  val=0.0228  lr=2.76e-04  t=5.3m\n"
     ]
    },
    {
     "name": "stderr",
     "output_type": "stream",
     "text": []
    },
    {
     "name": "stdout",
     "output_type": "stream",
     "text": [
      "[555/1000]  train=0.0174  val=0.0254  lr=2.59e-04  t=5.4m\n"
     ]
    },
    {
     "name": "stderr",
     "output_type": "stream",
     "text": [
      "Epoch 556:   8%|▊         | 1/12 [00:00<00:01,  8.24it/s, loss=0.0102, lr=0.000256]/content/drive/.shortcut-targets-by-id/1w6OSQ_9ZH9r3830ldxRe1TGWfVlxxXWo/RL_real_0625_ind_index_value_weighted/DiffusionModel/trainer.py:158: FutureWarning: `torch.cuda.amp.autocast(args...)` is deprecated. Please use `torch.amp.autocast('cuda', args...)` instead.\n",
      "  with autocast(enabled=cfg.amp):\n"
     ]
    },
    {
     "name": "stdout",
     "output_type": "stream",
     "text": [
      "[556/1000]  train=0.0168  val=0.0253  lr=2.43e-04  t=5.4m\n"
     ]
    },
    {
     "name": "stderr",
     "output_type": "stream",
     "text": []
    },
    {
     "name": "stdout",
     "output_type": "stream",
     "text": [
      "[557/1000]  train=0.0203  val=0.0253  lr=2.27e-04  t=5.4m\n"
     ]
    },
    {
     "name": "stderr",
     "output_type": "stream",
     "text": []
    },
    {
     "name": "stdout",
     "output_type": "stream",
     "text": [
      "[558/1000]  train=0.0188  val=0.0243  lr=2.11e-04  t=5.4m\n"
     ]
    },
    {
     "name": "stderr",
     "output_type": "stream",
     "text": [
      "Epoch 559:   0%|          | 0/12 [00:00<?, ?it/s]/content/drive/.shortcut-targets-by-id/1w6OSQ_9ZH9r3830ldxRe1TGWfVlxxXWo/RL_real_0625_ind_index_value_weighted/DiffusionModel/trainer.py:158: FutureWarning: `torch.cuda.amp.autocast(args...)` is deprecated. Please use `torch.amp.autocast('cuda', args...)` instead.\n",
      "  with autocast(enabled=cfg.amp):\n"
     ]
    },
    {
     "name": "stdout",
     "output_type": "stream",
     "text": [
      "[559/1000]  train=0.0193  val=0.0220  lr=1.96e-04  t=5.4m\n"
     ]
    },
    {
     "name": "stderr",
     "output_type": "stream",
     "text": []
    },
    {
     "name": "stdout",
     "output_type": "stream",
     "text": [
      "[560/1000]  train=0.0189  val=0.0205  lr=1.81e-04  t=5.4m\n"
     ]
    },
    {
     "name": "stderr",
     "output_type": "stream",
     "text": [
      "Epoch 561:  83%|████████▎ | 10/12 [00:00<00:00, 12.02it/s, loss=0.0158, lr=0.000169]/content/drive/.shortcut-targets-by-id/1w6OSQ_9ZH9r3830ldxRe1TGWfVlxxXWo/RL_real_0625_ind_index_value_weighted/DiffusionModel/trainer.py:158: FutureWarning: `torch.cuda.amp.autocast(args...)` is deprecated. Please use `torch.amp.autocast('cuda', args...)` instead.\n",
      "  with autocast(enabled=cfg.amp):\n"
     ]
    },
    {
     "name": "stdout",
     "output_type": "stream",
     "text": [
      "[561/1000]  train=0.0181  val=0.0221  lr=1.67e-04  t=5.4m\n"
     ]
    },
    {
     "name": "stderr",
     "output_type": "stream",
     "text": []
    },
    {
     "name": "stdout",
     "output_type": "stream",
     "text": [
      "[562/1000]  train=0.0195  val=0.0213  lr=1.53e-04  t=5.4m\n"
     ]
    },
    {
     "name": "stderr",
     "output_type": "stream",
     "text": [
      "Epoch 563:  75%|███████▌  | 9/12 [00:00<00:00, 18.28it/s, loss=0.0243, lr=0.000142]/content/drive/.shortcut-targets-by-id/1w6OSQ_9ZH9r3830ldxRe1TGWfVlxxXWo/RL_real_0625_ind_index_value_weighted/DiffusionModel/trainer.py:158: FutureWarning: `torch.cuda.amp.autocast(args...)` is deprecated. Please use `torch.amp.autocast('cuda', args...)` instead.\n",
      "  with autocast(enabled=cfg.amp):\n"
     ]
    },
    {
     "name": "stdout",
     "output_type": "stream",
     "text": [
      "[563/1000]  train=0.0184  val=0.0197  lr=1.40e-04  t=5.4m\n"
     ]
    },
    {
     "name": "stderr",
     "output_type": "stream",
     "text": []
    },
    {
     "name": "stdout",
     "output_type": "stream",
     "text": [
      "[564/1000]  train=0.0181  val=0.0153  lr=1.27e-04  t=5.5m\n"
     ]
    },
    {
     "name": "stderr",
     "output_type": "stream",
     "text": []
    },
    {
     "name": "stdout",
     "output_type": "stream",
     "text": [
      "[565/1000]  train=0.0183  val=0.0206  lr=1.15e-04  t=5.5m\n"
     ]
    },
    {
     "name": "stderr",
     "output_type": "stream",
     "text": []
    },
    {
     "name": "stdout",
     "output_type": "stream",
     "text": [
      "[566/1000]  train=0.0192  val=0.0189  lr=1.03e-04  t=5.5m\n"
     ]
    },
    {
     "name": "stderr",
     "output_type": "stream",
     "text": [
      "Epoch 567:   0%|          | 0/12 [00:00<?, ?it/s, loss=0.0151, lr=0.000102]/content/drive/.shortcut-targets-by-id/1w6OSQ_9ZH9r3830ldxRe1TGWfVlxxXWo/RL_real_0625_ind_index_value_weighted/DiffusionModel/trainer.py:158: FutureWarning: `torch.cuda.amp.autocast(args...)` is deprecated. Please use `torch.amp.autocast('cuda', args...)` instead.\n",
      "  with autocast(enabled=cfg.amp):\n"
     ]
    },
    {
     "name": "stdout",
     "output_type": "stream",
     "text": [
      "[567/1000]  train=0.0194  val=0.0230  lr=9.18e-05  t=5.5m\n"
     ]
    },
    {
     "name": "stderr",
     "output_type": "stream",
     "text": []
    },
    {
     "name": "stdout",
     "output_type": "stream",
     "text": [
      "[568/1000]  train=0.0183  val=0.0209  lr=8.12e-05  t=5.5m\n"
     ]
    },
    {
     "name": "stderr",
     "output_type": "stream",
     "text": [
      "Epoch 569:  33%|███▎      | 4/12 [00:00<00:00, 13.78it/s, loss=0.0203, lr=7.78e-5]/content/drive/.shortcut-targets-by-id/1w6OSQ_9ZH9r3830ldxRe1TGWfVlxxXWo/RL_real_0625_ind_index_value_weighted/DiffusionModel/trainer.py:158: FutureWarning: `torch.cuda.amp.autocast(args...)` is deprecated. Please use `torch.amp.autocast('cuda', args...)` instead.\n",
      "  with autocast(enabled=cfg.amp):\n"
     ]
    },
    {
     "name": "stdout",
     "output_type": "stream",
     "text": [
      "[569/1000]  train=0.0176  val=0.0217  lr=7.12e-05  t=5.5m\n"
     ]
    },
    {
     "name": "stderr",
     "output_type": "stream",
     "text": []
    },
    {
     "name": "stdout",
     "output_type": "stream",
     "text": [
      "[570/1000]  train=0.0192  val=0.0206  lr=6.18e-05  t=5.5m\n"
     ]
    },
    {
     "name": "stderr",
     "output_type": "stream",
     "text": []
    },
    {
     "name": "stdout",
     "output_type": "stream",
     "text": [
      "[571/1000]  train=0.0174  val=0.0232  lr=5.31e-05  t=5.5m\n"
     ]
    },
    {
     "name": "stderr",
     "output_type": "stream",
     "text": [
      "Epoch 572:  25%|██▌       | 3/12 [00:00<00:00, 21.13it/s, loss=0.0201, lr=4.96e-5]/content/drive/.shortcut-targets-by-id/1w6OSQ_9ZH9r3830ldxRe1TGWfVlxxXWo/RL_real_0625_ind_index_value_weighted/DiffusionModel/trainer.py:158: FutureWarning: `torch.cuda.amp.autocast(args...)` is deprecated. Please use `torch.amp.autocast('cuda', args...)` instead.\n",
      "  with autocast(enabled=cfg.amp):\n"
     ]
    },
    {
     "name": "stdout",
     "output_type": "stream",
     "text": [
      "[572/1000]  train=0.0193  val=0.0183  lr=4.49e-05  t=5.5m\n"
     ]
    },
    {
     "name": "stderr",
     "output_type": "stream",
     "text": []
    },
    {
     "name": "stdout",
     "output_type": "stream",
     "text": [
      "[573/1000]  train=0.0184  val=0.0189  lr=3.75e-05  t=5.5m\n"
     ]
    },
    {
     "name": "stderr",
     "output_type": "stream",
     "text": []
    },
    {
     "name": "stdout",
     "output_type": "stream",
     "text": [
      "[574/1000]  train=0.0195  val=0.0227  lr=3.06e-05  t=5.5m\n"
     ]
    },
    {
     "name": "stderr",
     "output_type": "stream",
     "text": []
    },
    {
     "name": "stdout",
     "output_type": "stream",
     "text": [
      "[575/1000]  train=0.0184  val=0.0201  lr=2.45e-05  t=5.6m\n"
     ]
    },
    {
     "name": "stderr",
     "output_type": "stream",
     "text": [
      "Epoch 576:   0%|          | 0/12 [00:00<?, ?it/s]/content/drive/.shortcut-targets-by-id/1w6OSQ_9ZH9r3830ldxRe1TGWfVlxxXWo/RL_real_0625_ind_index_value_weighted/DiffusionModel/trainer.py:158: FutureWarning: `torch.cuda.amp.autocast(args...)` is deprecated. Please use `torch.amp.autocast('cuda', args...)` instead.\n",
      "  with autocast(enabled=cfg.amp):\n"
     ]
    },
    {
     "name": "stdout",
     "output_type": "stream",
     "text": [
      "[576/1000]  train=0.0196  val=0.0187  lr=1.90e-05  t=5.6m\n"
     ]
    },
    {
     "name": "stderr",
     "output_type": "stream",
     "text": [
      "Epoch 577:  58%|█████▊    | 7/12 [00:00<00:00, 14.69it/s, loss=0.0255, lr=1.57e-5]/content/drive/.shortcut-targets-by-id/1w6OSQ_9ZH9r3830ldxRe1TGWfVlxxXWo/RL_real_0625_ind_index_value_weighted/DiffusionModel/trainer.py:158: FutureWarning: `torch.cuda.amp.autocast(args...)` is deprecated. Please use `torch.amp.autocast('cuda', args...)` instead.\n",
      "  with autocast(enabled=cfg.amp):\n"
     ]
    },
    {
     "name": "stdout",
     "output_type": "stream",
     "text": [
      "[577/1000]  train=0.0201  val=0.0217  lr=1.42e-05  t=5.6m\n"
     ]
    },
    {
     "name": "stderr",
     "output_type": "stream",
     "text": []
    },
    {
     "name": "stdout",
     "output_type": "stream",
     "text": [
      "[578/1000]  train=0.0195  val=0.0232  lr=1.01e-05  t=5.6m\n"
     ]
    },
    {
     "name": "stderr",
     "output_type": "stream",
     "text": [
      "Epoch 579:  42%|████▏     | 5/12 [00:00<00:00, 14.02it/s, loss=0.0188, lr=8.56e-6]/content/drive/.shortcut-targets-by-id/1w6OSQ_9ZH9r3830ldxRe1TGWfVlxxXWo/RL_real_0625_ind_index_value_weighted/DiffusionModel/trainer.py:158: FutureWarning: `torch.cuda.amp.autocast(args...)` is deprecated. Please use `torch.amp.autocast('cuda', args...)` instead.\n",
      "  with autocast(enabled=cfg.amp):\n"
     ]
    },
    {
     "name": "stdout",
     "output_type": "stream",
     "text": [
      "[579/1000]  train=0.0193  val=0.0178  lr=6.66e-06  t=5.6m\n"
     ]
    },
    {
     "name": "stderr",
     "output_type": "stream",
     "text": []
    },
    {
     "name": "stdout",
     "output_type": "stream",
     "text": [
      "[580/1000]  train=0.0187  val=0.0202  lr=3.94e-06  t=5.6m\n"
     ]
    },
    {
     "name": "stderr",
     "output_type": "stream",
     "text": [
      "Epoch 581:   0%|          | 0/12 [00:00<?, ?it/s, loss=0.0171, lr=3.75e-6]/content/drive/.shortcut-targets-by-id/1w6OSQ_9ZH9r3830ldxRe1TGWfVlxxXWo/RL_real_0625_ind_index_value_weighted/DiffusionModel/trainer.py:158: FutureWarning: `torch.cuda.amp.autocast(args...)` is deprecated. Please use `torch.amp.autocast('cuda', args...)` instead.\n",
      "  with autocast(enabled=cfg.amp):\n"
     ]
    },
    {
     "name": "stdout",
     "output_type": "stream",
     "text": [
      "[581/1000]  train=0.0195  val=0.0163  lr=1.93e-06  t=5.6m\n"
     ]
    },
    {
     "name": "stderr",
     "output_type": "stream",
     "text": []
    },
    {
     "name": "stdout",
     "output_type": "stream",
     "text": [
      "[582/1000]  train=0.0179  val=0.0196  lr=6.32e-07  t=5.6m\n"
     ]
    },
    {
     "name": "stderr",
     "output_type": "stream",
     "text": [
      "Epoch 583:  50%|█████     | 6/12 [00:00<00:00, 12.34it/s, loss=0.015, lr=2e-7]    /content/drive/.shortcut-targets-by-id/1w6OSQ_9ZH9r3830ldxRe1TGWfVlxxXWo/RL_real_0625_ind_index_value_weighted/DiffusionModel/trainer.py:158: FutureWarning: `torch.cuda.amp.autocast(args...)` is deprecated. Please use `torch.amp.autocast('cuda', args...)` instead.\n",
      "  with autocast(enabled=cfg.amp):\n"
     ]
    },
    {
     "name": "stdout",
     "output_type": "stream",
     "text": [
      "[583/1000]  train=0.0181  val=0.0212  lr=3.95e-08  t=5.6m\n"
     ]
    },
    {
     "name": "stderr",
     "output_type": "stream",
     "text": []
    },
    {
     "name": "stdout",
     "output_type": "stream",
     "text": [
      "[584/1000]  train=0.0196  val=0.0219  lr=1.58e-07  t=5.7m\n"
     ]
    },
    {
     "name": "stderr",
     "output_type": "stream",
     "text": [
      "Epoch 585:   8%|▊         | 1/12 [00:00<00:01,  9.69it/s, loss=0.0185, lr=2e-7]/content/drive/.shortcut-targets-by-id/1w6OSQ_9ZH9r3830ldxRe1TGWfVlxxXWo/RL_real_0625_ind_index_value_weighted/DiffusionModel/trainer.py:158: FutureWarning: `torch.cuda.amp.autocast(args...)` is deprecated. Please use `torch.amp.autocast('cuda', args...)` instead.\n",
      "  with autocast(enabled=cfg.amp):\n"
     ]
    },
    {
     "name": "stdout",
     "output_type": "stream",
     "text": [
      "[585/1000]  train=0.0202  val=0.0193  lr=9.87e-07  t=5.7m\n"
     ]
    },
    {
     "name": "stderr",
     "output_type": "stream",
     "text": []
    },
    {
     "name": "stdout",
     "output_type": "stream",
     "text": [
      "[586/1000]  train=0.0177  val=0.0201  lr=2.52e-06  t=5.7m\n"
     ]
    },
    {
     "name": "stderr",
     "output_type": "stream",
     "text": []
    },
    {
     "name": "stdout",
     "output_type": "stream",
     "text": [
      "[587/1000]  train=0.0194  val=0.0222  lr=4.77e-06  t=5.7m\n"
     ]
    },
    {
     "name": "stderr",
     "output_type": "stream",
     "text": [
      "Epoch 588:  75%|███████▌  | 9/12 [00:00<00:00, 18.28it/s, loss=0.0128, lr=7.18e-6]/content/drive/.shortcut-targets-by-id/1w6OSQ_9ZH9r3830ldxRe1TGWfVlxxXWo/RL_real_0625_ind_index_value_weighted/DiffusionModel/trainer.py:158: FutureWarning: `torch.cuda.amp.autocast(args...)` is deprecated. Please use `torch.amp.autocast('cuda', args...)` instead.\n",
      "  with autocast(enabled=cfg.amp):\n"
     ]
    },
    {
     "name": "stdout",
     "output_type": "stream",
     "text": [
      "[588/1000]  train=0.0181  val=0.0197  lr=7.72e-06  t=5.7m\n"
     ]
    },
    {
     "name": "stderr",
     "output_type": "stream",
     "text": []
    },
    {
     "name": "stdout",
     "output_type": "stream",
     "text": [
      "[589/1000]  train=0.0183  val=0.0232  lr=1.14e-05  t=5.7m\n"
     ]
    },
    {
     "name": "stderr",
     "output_type": "stream",
     "text": []
    },
    {
     "name": "stdout",
     "output_type": "stream",
     "text": [
      "[590/1000]  train=0.0192  val=0.0201  lr=1.57e-05  t=5.7m\n"
     ]
    },
    {
     "name": "stderr",
     "output_type": "stream",
     "text": [
      "Epoch 591:  75%|███████▌  | 9/12 [00:00<00:00, 17.89it/s, loss=0.0145, lr=1.94e-5]/content/drive/.shortcut-targets-by-id/1w6OSQ_9ZH9r3830ldxRe1TGWfVlxxXWo/RL_real_0625_ind_index_value_weighted/DiffusionModel/trainer.py:158: FutureWarning: `torch.cuda.amp.autocast(args...)` is deprecated. Please use `torch.amp.autocast('cuda', args...)` instead.\n",
      "  with autocast(enabled=cfg.amp):\n"
     ]
    },
    {
     "name": "stdout",
     "output_type": "stream",
     "text": [
      "[591/1000]  train=0.0179  val=0.0275  lr=2.07e-05  t=5.7m\n"
     ]
    },
    {
     "name": "stderr",
     "output_type": "stream",
     "text": []
    },
    {
     "name": "stdout",
     "output_type": "stream",
     "text": [
      "[592/1000]  train=0.0197  val=0.0212  lr=2.65e-05  t=5.7m\n"
     ]
    },
    {
     "name": "stderr",
     "output_type": "stream",
     "text": [
      "Epoch 593:  42%|████▏     | 5/12 [00:00<00:00, 13.86it/s, loss=0.0256, lr=2.9e-5]/content/drive/.shortcut-targets-by-id/1w6OSQ_9ZH9r3830ldxRe1TGWfVlxxXWo/RL_real_0625_ind_index_value_weighted/DiffusionModel/trainer.py:158: FutureWarning: `torch.cuda.amp.autocast(args...)` is deprecated. Please use `torch.amp.autocast('cuda', args...)` instead.\n",
      "  with autocast(enabled=cfg.amp):\n"
     ]
    },
    {
     "name": "stdout",
     "output_type": "stream",
     "text": [
      "[593/1000]  train=0.0193  val=0.0237  lr=3.28e-05  t=5.7m\n"
     ]
    },
    {
     "name": "stderr",
     "output_type": "stream",
     "text": []
    },
    {
     "name": "stdout",
     "output_type": "stream",
     "text": [
      "[594/1000]  train=0.0191  val=0.0170  lr=3.99e-05  t=5.7m\n"
     ]
    },
    {
     "name": "stderr",
     "output_type": "stream",
     "text": [
      "Epoch 595:   8%|▊         | 1/12 [00:00<00:01,  9.41it/s, loss=0.0202, lr=4.11e-5]/content/drive/.shortcut-targets-by-id/1w6OSQ_9ZH9r3830ldxRe1TGWfVlxxXWo/RL_real_0625_ind_index_value_weighted/DiffusionModel/trainer.py:158: FutureWarning: `torch.cuda.amp.autocast(args...)` is deprecated. Please use `torch.amp.autocast('cuda', args...)` instead.\n",
      "  with autocast(enabled=cfg.amp):\n"
     ]
    },
    {
     "name": "stdout",
     "output_type": "stream",
     "text": [
      "[595/1000]  train=0.0177  val=0.0179  lr=4.76e-05  t=5.8m\n"
     ]
    },
    {
     "name": "stderr",
     "output_type": "stream",
     "text": []
    },
    {
     "name": "stdout",
     "output_type": "stream",
     "text": [
      "[596/1000]  train=0.0186  val=0.0192  lr=5.59e-05  t=5.8m\n"
     ]
    },
    {
     "name": "stderr",
     "output_type": "stream",
     "text": [
      "Epoch 597:   0%|          | 0/12 [00:00<?, ?it/s]/content/drive/.shortcut-targets-by-id/1w6OSQ_9ZH9r3830ldxRe1TGWfVlxxXWo/RL_real_0625_ind_index_value_weighted/DiffusionModel/trainer.py:158: FutureWarning: `torch.cuda.amp.autocast(args...)` is deprecated. Please use `torch.amp.autocast('cuda', args...)` instead.\n",
      "  with autocast(enabled=cfg.amp):\n"
     ]
    },
    {
     "name": "stdout",
     "output_type": "stream",
     "text": [
      "[597/1000]  train=0.0182  val=0.0199  lr=6.49e-05  t=5.8m\n"
     ]
    },
    {
     "name": "stderr",
     "output_type": "stream",
     "text": [
      "Epoch 598:  50%|█████     | 6/12 [00:00<00:00, 21.34it/s, loss=0.023, lr=7.12e-5] /content/drive/.shortcut-targets-by-id/1w6OSQ_9ZH9r3830ldxRe1TGWfVlxxXWo/RL_real_0625_ind_index_value_weighted/DiffusionModel/trainer.py:158: FutureWarning: `torch.cuda.amp.autocast(args...)` is deprecated. Please use `torch.amp.autocast('cuda', args...)` instead.\n",
      "  with autocast(enabled=cfg.amp):\n"
     ]
    },
    {
     "name": "stdout",
     "output_type": "stream",
     "text": [
      "[598/1000]  train=0.0175  val=0.0206  lr=7.45e-05  t=5.8m\n"
     ]
    },
    {
     "name": "stderr",
     "output_type": "stream",
     "text": []
    },
    {
     "name": "stdout",
     "output_type": "stream",
     "text": [
      "[599/1000]  train=0.0194  val=0.0226  lr=8.47e-05  t=5.8m\n"
     ]
    },
    {
     "name": "stderr",
     "output_type": "stream",
     "text": [
      "Epoch 600:  75%|███████▌  | 9/12 [00:00<00:00, 22.60it/s, loss=0.0128, lr=9.46e-5]/content/drive/.shortcut-targets-by-id/1w6OSQ_9ZH9r3830ldxRe1TGWfVlxxXWo/RL_real_0625_ind_index_value_weighted/DiffusionModel/trainer.py:158: FutureWarning: `torch.cuda.amp.autocast(args...)` is deprecated. Please use `torch.amp.autocast('cuda', args...)` instead.\n",
      "  with autocast(enabled=cfg.amp):\n"
     ]
    },
    {
     "name": "stdout",
     "output_type": "stream",
     "text": [
      "[600/1000]  train=0.0177  val=0.0183  lr=9.55e-05  t=5.8m\n"
     ]
    },
    {
     "name": "stderr",
     "output_type": "stream",
     "text": []
    },
    {
     "name": "stdout",
     "output_type": "stream",
     "text": [
      "[601/1000]  train=0.0181  val=0.0238  lr=1.07e-04  t=5.8m\n"
     ]
    },
    {
     "name": "stderr",
     "output_type": "stream",
     "text": []
    },
    {
     "name": "stdout",
     "output_type": "stream",
     "text": [
      "[602/1000]  train=0.0167  val=0.0203  lr=1.19e-04  t=5.8m\n"
     ]
    },
    {
     "name": "stderr",
     "output_type": "stream",
     "text": []
    },
    {
     "name": "stdout",
     "output_type": "stream",
     "text": [
      "[603/1000]  train=0.0189  val=0.0291  lr=1.31e-04  t=5.8m\n"
     ]
    },
    {
     "name": "stderr",
     "output_type": "stream",
     "text": [
      "Epoch 604:   0%|          | 0/12 [00:00<?, ?it/s, loss=0.0161, lr=0.000132]/content/drive/.shortcut-targets-by-id/1w6OSQ_9ZH9r3830ldxRe1TGWfVlxxXWo/RL_real_0625_ind_index_value_weighted/DiffusionModel/trainer.py:158: FutureWarning: `torch.cuda.amp.autocast(args...)` is deprecated. Please use `torch.amp.autocast('cuda', args...)` instead.\n",
      "  with autocast(enabled=cfg.amp):\n"
     ]
    },
    {
     "name": "stdout",
     "output_type": "stream",
     "text": [
      "[604/1000]  train=0.0171  val=0.0216  lr=1.44e-04  t=5.8m\n"
     ]
    },
    {
     "name": "stderr",
     "output_type": "stream",
     "text": [
      "Epoch 605:  83%|████████▎ | 10/12 [00:00<00:00, 13.02it/s, loss=0.0236, lr=0.000157]/content/drive/.shortcut-targets-by-id/1w6OSQ_9ZH9r3830ldxRe1TGWfVlxxXWo/RL_real_0625_ind_index_value_weighted/DiffusionModel/trainer.py:158: FutureWarning: `torch.cuda.amp.autocast(args...)` is deprecated. Please use `torch.amp.autocast('cuda', args...)` instead.\n",
      "  with autocast(enabled=cfg.amp):\n"
     ]
    },
    {
     "name": "stdout",
     "output_type": "stream",
     "text": [
      "[605/1000]  train=0.0193  val=0.0258  lr=1.58e-04  t=5.9m\n"
     ]
    },
    {
     "name": "stderr",
     "output_type": "stream",
     "text": []
    },
    {
     "name": "stdout",
     "output_type": "stream",
     "text": [
      "[606/1000]  train=0.0183  val=0.0208  lr=1.72e-04  t=5.9m\n"
     ]
    },
    {
     "name": "stderr",
     "output_type": "stream",
     "text": []
    },
    {
     "name": "stdout",
     "output_type": "stream",
     "text": [
      "[607/1000]  train=0.0181  val=0.0257  lr=1.86e-04  t=5.9m\n"
     ]
    },
    {
     "name": "stderr",
     "output_type": "stream",
     "text": [
      "Epoch 608:  25%|██▌       | 3/12 [00:00<00:00,  9.82it/s, loss=0.0192, lr=0.000191]/content/drive/.shortcut-targets-by-id/1w6OSQ_9ZH9r3830ldxRe1TGWfVlxxXWo/RL_real_0625_ind_index_value_weighted/DiffusionModel/trainer.py:158: FutureWarning: `torch.cuda.amp.autocast(args...)` is deprecated. Please use `torch.amp.autocast('cuda', args...)` instead.\n",
      "  with autocast(enabled=cfg.amp):\n"
     ]
    },
    {
     "name": "stdout",
     "output_type": "stream",
     "text": [
      "[608/1000]  train=0.0194  val=0.0244  lr=2.01e-04  t=5.9m\n"
     ]
    },
    {
     "name": "stderr",
     "output_type": "stream",
     "text": []
    },
    {
     "name": "stdout",
     "output_type": "stream",
     "text": [
      "[609/1000]  train=0.0181  val=0.0260  lr=2.16e-04  t=5.9m\n"
     ]
    },
    {
     "name": "stderr",
     "output_type": "stream",
     "text": [
      "Epoch 610:  17%|█▋        | 2/12 [00:00<00:00, 10.44it/s, loss=0.0275, lr=0.00022] /content/drive/.shortcut-targets-by-id/1w6OSQ_9ZH9r3830ldxRe1TGWfVlxxXWo/RL_real_0625_ind_index_value_weighted/DiffusionModel/trainer.py:158: FutureWarning: `torch.cuda.amp.autocast(args...)` is deprecated. Please use `torch.amp.autocast('cuda', args...)` instead.\n",
      "  with autocast(enabled=cfg.amp):\n"
     ]
    },
    {
     "name": "stdout",
     "output_type": "stream",
     "text": [
      "[610/1000]  train=0.0200  val=0.0240  lr=2.32e-04  t=5.9m\n"
     ]
    },
    {
     "name": "stderr",
     "output_type": "stream",
     "text": []
    },
    {
     "name": "stdout",
     "output_type": "stream",
     "text": [
      "[611/1000]  train=0.0202  val=0.0224  lr=2.48e-04  t=5.9m\n"
     ]
    },
    {
     "name": "stderr",
     "output_type": "stream",
     "text": []
    },
    {
     "name": "stdout",
     "output_type": "stream",
     "text": [
      "[612/1000]  train=0.0185  val=0.0243  lr=2.65e-04  t=5.9m\n"
     ]
    },
    {
     "name": "stderr",
     "output_type": "stream",
     "text": [
      "Epoch 613:  17%|█▋        | 2/12 [00:00<00:00, 12.84it/s, loss=0.019, lr=0.000269] /content/drive/.shortcut-targets-by-id/1w6OSQ_9ZH9r3830ldxRe1TGWfVlxxXWo/RL_real_0625_ind_index_value_weighted/DiffusionModel/trainer.py:158: FutureWarning: `torch.cuda.amp.autocast(args...)` is deprecated. Please use `torch.amp.autocast('cuda', args...)` instead.\n",
      "  with autocast(enabled=cfg.amp):\n"
     ]
    },
    {
     "name": "stdout",
     "output_type": "stream",
     "text": [
      "[613/1000]  train=0.0185  val=0.0253  lr=2.81e-04  t=5.9m\n"
     ]
    },
    {
     "name": "stderr",
     "output_type": "stream",
     "text": []
    },
    {
     "name": "stdout",
     "output_type": "stream",
     "text": [
      "[614/1000]  train=0.0187  val=0.0168  lr=2.99e-04  t=6.0m\n"
     ]
    },
    {
     "name": "stderr",
     "output_type": "stream",
     "text": [
      "Epoch 615:  42%|████▏     | 5/12 [00:00<00:00, 13.60it/s, loss=0.0145, lr=0.000306]/content/drive/.shortcut-targets-by-id/1w6OSQ_9ZH9r3830ldxRe1TGWfVlxxXWo/RL_real_0625_ind_index_value_weighted/DiffusionModel/trainer.py:158: FutureWarning: `torch.cuda.amp.autocast(args...)` is deprecated. Please use `torch.amp.autocast('cuda', args...)` instead.\n",
      "  with autocast(enabled=cfg.amp):\n"
     ]
    },
    {
     "name": "stdout",
     "output_type": "stream",
     "text": [
      "[615/1000]  train=0.0182  val=0.0185  lr=3.16e-04  t=6.0m\n"
     ]
    },
    {
     "name": "stderr",
     "output_type": "stream",
     "text": []
    },
    {
     "name": "stdout",
     "output_type": "stream",
     "text": [
      "[616/1000]  train=0.0196  val=0.0277  lr=3.34e-04  t=6.0m\n"
     ]
    },
    {
     "name": "stderr",
     "output_type": "stream",
     "text": []
    },
    {
     "name": "stdout",
     "output_type": "stream",
     "text": [
      "[617/1000]  train=0.0196  val=0.0253  lr=3.51e-04  t=6.0m\n"
     ]
    },
    {
     "name": "stderr",
     "output_type": "stream",
     "text": [
      "Epoch 618:  75%|███████▌  | 9/12 [00:00<00:00, 17.60it/s, loss=0.0165, lr=0.000365]/content/drive/.shortcut-targets-by-id/1w6OSQ_9ZH9r3830ldxRe1TGWfVlxxXWo/RL_real_0625_ind_index_value_weighted/DiffusionModel/trainer.py:158: FutureWarning: `torch.cuda.amp.autocast(args...)` is deprecated. Please use `torch.amp.autocast('cuda', args...)` instead.\n",
      "  with autocast(enabled=cfg.amp):\n"
     ]
    },
    {
     "name": "stdout",
     "output_type": "stream",
     "text": [
      "[618/1000]  train=0.0203  val=0.0267  lr=3.70e-04  t=6.0m\n"
     ]
    },
    {
     "name": "stderr",
     "output_type": "stream",
     "text": []
    },
    {
     "name": "stdout",
     "output_type": "stream",
     "text": [
      "[619/1000]  train=0.0193  val=0.0266  lr=3.88e-04  t=6.0m\n"
     ]
    },
    {
     "name": "stderr",
     "output_type": "stream",
     "text": [
      "Epoch 620:  50%|█████     | 6/12 [00:00<00:00, 16.07it/s, loss=0.022, lr=0.000397]/content/drive/.shortcut-targets-by-id/1w6OSQ_9ZH9r3830ldxRe1TGWfVlxxXWo/RL_real_0625_ind_index_value_weighted/DiffusionModel/trainer.py:158: FutureWarning: `torch.cuda.amp.autocast(args...)` is deprecated. Please use `torch.amp.autocast('cuda', args...)` instead.\n",
      "  with autocast(enabled=cfg.amp):\n"
     ]
    },
    {
     "name": "stdout",
     "output_type": "stream",
     "text": [
      "[620/1000]  train=0.0194  val=0.0206  lr=4.06e-04  t=6.0m\n"
     ]
    },
    {
     "name": "stderr",
     "output_type": "stream",
     "text": []
    },
    {
     "name": "stdout",
     "output_type": "stream",
     "text": [
      "[621/1000]  train=0.0190  val=0.0278  lr=4.25e-04  t=6.0m\n"
     ]
    },
    {
     "name": "stderr",
     "output_type": "stream",
     "text": [
      "Epoch 622:  17%|█▋        | 2/12 [00:00<00:00, 11.27it/s, loss=0.017, lr=0.00043]  /content/drive/.shortcut-targets-by-id/1w6OSQ_9ZH9r3830ldxRe1TGWfVlxxXWo/RL_real_0625_ind_index_value_weighted/DiffusionModel/trainer.py:158: FutureWarning: `torch.cuda.amp.autocast(args...)` is deprecated. Please use `torch.amp.autocast('cuda', args...)` instead.\n",
      "  with autocast(enabled=cfg.amp):\n"
     ]
    },
    {
     "name": "stdout",
     "output_type": "stream",
     "text": [
      "[622/1000]  train=0.0186  val=0.0204  lr=4.44e-04  t=6.0m\n"
     ]
    },
    {
     "name": "stderr",
     "output_type": "stream",
     "text": []
    },
    {
     "name": "stdout",
     "output_type": "stream",
     "text": [
      "[623/1000]  train=0.0185  val=0.0246  lr=4.62e-04  t=6.0m\n"
     ]
    },
    {
     "name": "stderr",
     "output_type": "stream",
     "text": [
      "Epoch 624:   0%|          | 0/12 [00:00<?, ?it/s]/content/drive/.shortcut-targets-by-id/1w6OSQ_9ZH9r3830ldxRe1TGWfVlxxXWo/RL_real_0625_ind_index_value_weighted/DiffusionModel/trainer.py:158: FutureWarning: `torch.cuda.amp.autocast(args...)` is deprecated. Please use `torch.amp.autocast('cuda', args...)` instead.\n",
      "  with autocast(enabled=cfg.amp):\n"
     ]
    },
    {
     "name": "stdout",
     "output_type": "stream",
     "text": [
      "[624/1000]  train=0.0181  val=0.0250  lr=4.81e-04  t=6.0m\n"
     ]
    },
    {
     "name": "stderr",
     "output_type": "stream",
     "text": [
      "Epoch 625:  75%|███████▌  | 9/12 [00:00<00:00, 19.28it/s, loss=0.02, lr=0.000497]  /content/drive/.shortcut-targets-by-id/1w6OSQ_9ZH9r3830ldxRe1TGWfVlxxXWo/RL_real_0625_ind_index_value_weighted/DiffusionModel/trainer.py:158: FutureWarning: `torch.cuda.amp.autocast(args...)` is deprecated. Please use `torch.amp.autocast('cuda', args...)` instead.\n",
      "  with autocast(enabled=cfg.amp):\n"
     ]
    },
    {
     "name": "stdout",
     "output_type": "stream",
     "text": [
      "[625/1000]  train=0.0207  val=0.0196  lr=5.00e-04  t=6.1m\n"
     ]
    },
    {
     "name": "stderr",
     "output_type": "stream",
     "text": []
    },
    {
     "name": "stdout",
     "output_type": "stream",
     "text": [
      "[626/1000]  train=0.0212  val=0.0363  lr=5.19e-04  t=6.1m\n"
     ]
    },
    {
     "name": "stderr",
     "output_type": "stream",
     "text": [
      "Epoch 627:  33%|███▎      | 4/12 [00:00<00:00, 10.18it/s, loss=0.0211, lr=0.000527]/content/drive/.shortcut-targets-by-id/1w6OSQ_9ZH9r3830ldxRe1TGWfVlxxXWo/RL_real_0625_ind_index_value_weighted/DiffusionModel/trainer.py:158: FutureWarning: `torch.cuda.amp.autocast(args...)` is deprecated. Please use `torch.amp.autocast('cuda', args...)` instead.\n",
      "  with autocast(enabled=cfg.amp):\n"
     ]
    },
    {
     "name": "stdout",
     "output_type": "stream",
     "text": [
      "[627/1000]  train=0.0206  val=0.0259  lr=5.38e-04  t=6.1m\n"
     ]
    },
    {
     "name": "stderr",
     "output_type": "stream",
     "text": []
    },
    {
     "name": "stdout",
     "output_type": "stream",
     "text": [
      "[628/1000]  train=0.0192  val=0.0588  lr=5.56e-04  t=6.1m\n"
     ]
    },
    {
     "name": "stderr",
     "output_type": "stream",
     "text": []
    },
    {
     "name": "stdout",
     "output_type": "stream",
     "text": [
      "[629/1000]  train=0.0183  val=0.0214  lr=5.75e-04  t=6.1m\n"
     ]
    },
    {
     "name": "stderr",
     "output_type": "stream",
     "text": [
      "Epoch 630:   0%|          | 0/12 [00:00<?, ?it/s]/content/drive/.shortcut-targets-by-id/1w6OSQ_9ZH9r3830ldxRe1TGWfVlxxXWo/RL_real_0625_ind_index_value_weighted/DiffusionModel/trainer.py:158: FutureWarning: `torch.cuda.amp.autocast(args...)` is deprecated. Please use `torch.amp.autocast('cuda', args...)` instead.\n",
      "  with autocast(enabled=cfg.amp):\n"
     ]
    },
    {
     "name": "stdout",
     "output_type": "stream",
     "text": [
      "[630/1000]  train=0.0191  val=0.0225  lr=5.94e-04  t=6.1m\n"
     ]
    },
    {
     "name": "stderr",
     "output_type": "stream",
     "text": [
      "Epoch 631:  33%|███▎      | 4/12 [00:00<00:00, 10.08it/s, loss=0.0259, lr=0.000601]/content/drive/.shortcut-targets-by-id/1w6OSQ_9ZH9r3830ldxRe1TGWfVlxxXWo/RL_real_0625_ind_index_value_weighted/DiffusionModel/trainer.py:158: FutureWarning: `torch.cuda.amp.autocast(args...)` is deprecated. Please use `torch.amp.autocast('cuda', args...)` instead.\n",
      "  with autocast(enabled=cfg.amp):\n"
     ]
    },
    {
     "name": "stdout",
     "output_type": "stream",
     "text": [
      "[631/1000]  train=0.0205  val=0.0317  lr=6.12e-04  t=6.1m\n"
     ]
    },
    {
     "name": "stderr",
     "output_type": "stream",
     "text": []
    },
    {
     "name": "stdout",
     "output_type": "stream",
     "text": [
      "[632/1000]  train=0.0202  val=0.0334  lr=6.30e-04  t=6.1m\n"
     ]
    },
    {
     "name": "stderr",
     "output_type": "stream",
     "text": []
    },
    {
     "name": "stdout",
     "output_type": "stream",
     "text": [
      "[633/1000]  train=0.0201  val=0.0255  lr=6.49e-04  t=6.1m\n"
     ]
    },
    {
     "name": "stderr",
     "output_type": "stream",
     "text": [
      "Epoch 634:  42%|████▏     | 5/12 [00:00<00:00, 14.77it/s, loss=0.0132, lr=0.000656]/content/drive/.shortcut-targets-by-id/1w6OSQ_9ZH9r3830ldxRe1TGWfVlxxXWo/RL_real_0625_ind_index_value_weighted/DiffusionModel/trainer.py:158: FutureWarning: `torch.cuda.amp.autocast(args...)` is deprecated. Please use `torch.amp.autocast('cuda', args...)` instead.\n",
      "  with autocast(enabled=cfg.amp):\n"
     ]
    },
    {
     "name": "stdout",
     "output_type": "stream",
     "text": [
      "[634/1000]  train=0.0203  val=0.0198  lr=6.66e-04  t=6.2m\n"
     ]
    },
    {
     "name": "stderr",
     "output_type": "stream",
     "text": []
    },
    {
     "name": "stdout",
     "output_type": "stream",
     "text": [
      "[635/1000]  train=0.0190  val=0.0264  lr=6.84e-04  t=6.2m\n"
     ]
    },
    {
     "name": "stderr",
     "output_type": "stream",
     "text": [
      "Epoch 636:  17%|█▋        | 2/12 [00:00<00:00, 11.40it/s, loss=0.0299, lr=0.000688]/content/drive/.shortcut-targets-by-id/1w6OSQ_9ZH9r3830ldxRe1TGWfVlxxXWo/RL_real_0625_ind_index_value_weighted/DiffusionModel/trainer.py:158: FutureWarning: `torch.cuda.amp.autocast(args...)` is deprecated. Please use `torch.amp.autocast('cuda', args...)` instead.\n",
      "  with autocast(enabled=cfg.amp):\n"
     ]
    },
    {
     "name": "stdout",
     "output_type": "stream",
     "text": [
      "[636/1000]  train=0.0200  val=0.0243  lr=7.01e-04  t=6.2m\n"
     ]
    },
    {
     "name": "stderr",
     "output_type": "stream",
     "text": []
    },
    {
     "name": "stdout",
     "output_type": "stream",
     "text": [
      "[637/1000]  train=0.0187  val=0.0222  lr=7.19e-04  t=6.2m\n"
     ]
    },
    {
     "name": "stderr",
     "output_type": "stream",
     "text": [
      "Epoch 638:   8%|▊         | 1/12 [00:00<00:01,  9.73it/s, loss=0.0182, lr=0.000721]/content/drive/.shortcut-targets-by-id/1w6OSQ_9ZH9r3830ldxRe1TGWfVlxxXWo/RL_real_0625_ind_index_value_weighted/DiffusionModel/trainer.py:158: FutureWarning: `torch.cuda.amp.autocast(args...)` is deprecated. Please use `torch.amp.autocast('cuda', args...)` instead.\n",
      "  with autocast(enabled=cfg.amp):\n"
     ]
    },
    {
     "name": "stdout",
     "output_type": "stream",
     "text": [
      "[638/1000]  train=0.0188  val=0.0291  lr=7.35e-04  t=6.2m\n"
     ]
    },
    {
     "name": "stderr",
     "output_type": "stream",
     "text": []
    },
    {
     "name": "stdout",
     "output_type": "stream",
     "text": [
      "[639/1000]  train=0.0213  val=0.0268  lr=7.52e-04  t=6.2m\n"
     ]
    },
    {
     "name": "stderr",
     "output_type": "stream",
     "text": []
    },
    {
     "name": "stdout",
     "output_type": "stream",
     "text": [
      "[640/1000]  train=0.0188  val=0.0223  lr=7.68e-04  t=6.2m\n"
     ]
    },
    {
     "name": "stderr",
     "output_type": "stream",
     "text": [
      "Epoch 641:  75%|███████▌  | 9/12 [00:00<00:00, 24.87it/s, loss=0.0188, lr=0.000782]/content/drive/.shortcut-targets-by-id/1w6OSQ_9ZH9r3830ldxRe1TGWfVlxxXWo/RL_real_0625_ind_index_value_weighted/DiffusionModel/trainer.py:158: FutureWarning: `torch.cuda.amp.autocast(args...)` is deprecated. Please use `torch.amp.autocast('cuda', args...)` instead.\n",
      "  with autocast(enabled=cfg.amp):\n"
     ]
    },
    {
     "name": "stdout",
     "output_type": "stream",
     "text": [
      "[641/1000]  train=0.0180  val=0.0295  lr=7.84e-04  t=6.2m\n"
     ]
    },
    {
     "name": "stderr",
     "output_type": "stream",
     "text": []
    },
    {
     "name": "stdout",
     "output_type": "stream",
     "text": [
      "[642/1000]  train=0.0196  val=0.0230  lr=7.99e-04  t=6.2m\n"
     ]
    },
    {
     "name": "stderr",
     "output_type": "stream",
     "text": [
      "Epoch 643:  75%|███████▌  | 9/12 [00:00<00:00, 17.19it/s, loss=0.0167, lr=0.00081]/content/drive/.shortcut-targets-by-id/1w6OSQ_9ZH9r3830ldxRe1TGWfVlxxXWo/RL_real_0625_ind_index_value_weighted/DiffusionModel/trainer.py:158: FutureWarning: `torch.cuda.amp.autocast(args...)` is deprecated. Please use `torch.amp.autocast('cuda', args...)` instead.\n",
      "  with autocast(enabled=cfg.amp):\n"
     ]
    },
    {
     "name": "stdout",
     "output_type": "stream",
     "text": [
      "[643/1000]  train=0.0184  val=0.0304  lr=8.14e-04  t=6.2m\n"
     ]
    },
    {
     "name": "stderr",
     "output_type": "stream",
     "text": []
    },
    {
     "name": "stdout",
     "output_type": "stream",
     "text": [
      "[644/1000]  train=0.0196  val=0.0246  lr=8.28e-04  t=6.2m\n"
     ]
    },
    {
     "name": "stderr",
     "output_type": "stream",
     "text": [
      "Epoch 645:  50%|█████     | 6/12 [00:00<00:00, 17.39it/s, loss=0.0272, lr=0.000837]/content/drive/.shortcut-targets-by-id/1w6OSQ_9ZH9r3830ldxRe1TGWfVlxxXWo/RL_real_0625_ind_index_value_weighted/DiffusionModel/trainer.py:158: FutureWarning: `torch.cuda.amp.autocast(args...)` is deprecated. Please use `torch.amp.autocast('cuda', args...)` instead.\n",
      "  with autocast(enabled=cfg.amp):\n"
     ]
    },
    {
     "name": "stdout",
     "output_type": "stream",
     "text": [
      "[645/1000]  train=0.0205  val=0.0279  lr=8.42e-04  t=6.3m\n"
     ]
    },
    {
     "name": "stderr",
     "output_type": "stream",
     "text": []
    },
    {
     "name": "stdout",
     "output_type": "stream",
     "text": [
      "[646/1000]  train=0.0183  val=0.0252  lr=8.56e-04  t=6.3m\n"
     ]
    },
    {
     "name": "stderr",
     "output_type": "stream",
     "text": [
      "Epoch 647:  75%|███████▌  | 9/12 [00:00<00:00, 17.84it/s, loss=0.0182, lr=0.000866]/content/drive/.shortcut-targets-by-id/1w6OSQ_9ZH9r3830ldxRe1TGWfVlxxXWo/RL_real_0625_ind_index_value_weighted/DiffusionModel/trainer.py:158: FutureWarning: `torch.cuda.amp.autocast(args...)` is deprecated. Please use `torch.amp.autocast('cuda', args...)` instead.\n",
      "  with autocast(enabled=cfg.amp):\n"
     ]
    },
    {
     "name": "stdout",
     "output_type": "stream",
     "text": [
      "[647/1000]  train=0.0187  val=0.0288  lr=8.69e-04  t=6.3m\n"
     ]
    },
    {
     "name": "stderr",
     "output_type": "stream",
     "text": []
    },
    {
     "name": "stdout",
     "output_type": "stream",
     "text": [
      "[648/1000]  train=0.0189  val=0.0338  lr=8.81e-04  t=6.3m\n"
     ]
    },
    {
     "name": "stderr",
     "output_type": "stream",
     "text": []
    },
    {
     "name": "stdout",
     "output_type": "stream",
     "text": [
      "[649/1000]  train=0.0202  val=0.0287  lr=8.93e-04  t=6.3m\n"
     ]
    },
    {
     "name": "stderr",
     "output_type": "stream",
     "text": []
    },
    {
     "name": "stdout",
     "output_type": "stream",
     "text": [
      "[650/1000]  train=0.0194  val=0.0248  lr=9.05e-04  t=6.3m\n"
     ]
    },
    {
     "name": "stderr",
     "output_type": "stream",
     "text": [
      "Epoch 651:   8%|▊         | 1/12 [00:00<00:01,  8.78it/s, loss=0.0206, lr=0.000906]/content/drive/.shortcut-targets-by-id/1w6OSQ_9ZH9r3830ldxRe1TGWfVlxxXWo/RL_real_0625_ind_index_value_weighted/DiffusionModel/trainer.py:158: FutureWarning: `torch.cuda.amp.autocast(args...)` is deprecated. Please use `torch.amp.autocast('cuda', args...)` instead.\n",
      "  with autocast(enabled=cfg.amp):\n"
     ]
    },
    {
     "name": "stdout",
     "output_type": "stream",
     "text": [
      "[651/1000]  train=0.0206  val=0.0191  lr=9.15e-04  t=6.3m\n"
     ]
    },
    {
     "name": "stderr",
     "output_type": "stream",
     "text": []
    },
    {
     "name": "stdout",
     "output_type": "stream",
     "text": [
      "[652/1000]  train=0.0207  val=0.0249  lr=9.25e-04  t=6.3m\n"
     ]
    },
    {
     "name": "stderr",
     "output_type": "stream",
     "text": [
      "Epoch 653:   0%|          | 0/12 [00:00<?, ?it/s]/content/drive/.shortcut-targets-by-id/1w6OSQ_9ZH9r3830ldxRe1TGWfVlxxXWo/RL_real_0625_ind_index_value_weighted/DiffusionModel/trainer.py:158: FutureWarning: `torch.cuda.amp.autocast(args...)` is deprecated. Please use `torch.amp.autocast('cuda', args...)` instead.\n",
      "  with autocast(enabled=cfg.amp):\n"
     ]
    },
    {
     "name": "stdout",
     "output_type": "stream",
     "text": [
      "[653/1000]  train=0.0208  val=0.0217  lr=9.35e-04  t=6.3m\n"
     ]
    },
    {
     "name": "stderr",
     "output_type": "stream",
     "text": []
    },
    {
     "name": "stdout",
     "output_type": "stream",
     "text": [
      "[654/1000]  train=0.0198  val=0.0273  lr=9.44e-04  t=6.3m\n"
     ]
    },
    {
     "name": "stderr",
     "output_type": "stream",
     "text": [
      "Epoch 655:  17%|█▋        | 2/12 [00:00<00:01,  8.71it/s, loss=0.0169, lr=0.000946]/content/drive/.shortcut-targets-by-id/1w6OSQ_9ZH9r3830ldxRe1TGWfVlxxXWo/RL_real_0625_ind_index_value_weighted/DiffusionModel/trainer.py:158: FutureWarning: `torch.cuda.amp.autocast(args...)` is deprecated. Please use `torch.amp.autocast('cuda', args...)` instead.\n",
      "  with autocast(enabled=cfg.amp):\n"
     ]
    },
    {
     "name": "stdout",
     "output_type": "stream",
     "text": [
      "[655/1000]  train=0.0201  val=0.0247  lr=9.52e-04  t=6.4m\n"
     ]
    },
    {
     "name": "stderr",
     "output_type": "stream",
     "text": [
      "Epoch 656:  83%|████████▎ | 10/12 [00:00<00:00, 14.59it/s, loss=0.0193, lr=0.000959]/content/drive/.shortcut-targets-by-id/1w6OSQ_9ZH9r3830ldxRe1TGWfVlxxXWo/RL_real_0625_ind_index_value_weighted/DiffusionModel/trainer.py:158: FutureWarning: `torch.cuda.amp.autocast(args...)` is deprecated. Please use `torch.amp.autocast('cuda', args...)` instead.\n",
      "  with autocast(enabled=cfg.amp):\n"
     ]
    },
    {
     "name": "stdout",
     "output_type": "stream",
     "text": [
      "[656/1000]  train=0.0200  val=0.0213  lr=9.60e-04  t=6.4m\n"
     ]
    },
    {
     "name": "stderr",
     "output_type": "stream",
     "text": []
    },
    {
     "name": "stdout",
     "output_type": "stream",
     "text": [
      "[657/1000]  train=0.0194  val=0.0189  lr=9.67e-04  t=6.4m\n"
     ]
    },
    {
     "name": "stderr",
     "output_type": "stream",
     "text": []
    },
    {
     "name": "stdout",
     "output_type": "stream",
     "text": [
      "[658/1000]  train=0.0182  val=0.0261  lr=9.74e-04  t=6.4m\n"
     ]
    },
    {
     "name": "stderr",
     "output_type": "stream",
     "text": []
    },
    {
     "name": "stdout",
     "output_type": "stream",
     "text": [
      "[659/1000]  train=0.0206  val=0.0361  lr=9.79e-04  t=6.4m\n"
     ]
    },
    {
     "name": "stderr",
     "output_type": "stream",
     "text": [
      "\rEpoch 660:   0%|          | 0/12 [00:00<?, ?it/s]/content/drive/.shortcut-targets-by-id/1w6OSQ_9ZH9r3830ldxRe1TGWfVlxxXWo/RL_real_0625_ind_index_value_weighted/DiffusionModel/trainer.py:158: FutureWarning: `torch.cuda.amp.autocast(args...)` is deprecated. Please use `torch.amp.autocast('cuda', args...)` instead.\n",
      "  with autocast(enabled=cfg.amp):\n"
     ]
    },
    {
     "name": "stdout",
     "output_type": "stream",
     "text": [
      "[660/1000]  train=0.0217  val=0.0209  lr=9.84e-04  t=6.4m\n"
     ]
    },
    {
     "name": "stderr",
     "output_type": "stream",
     "text": []
    },
    {
     "name": "stdout",
     "output_type": "stream",
     "text": [
      "[661/1000]  train=0.0201  val=0.0292  lr=9.89e-04  t=6.4m\n"
     ]
    },
    {
     "name": "stderr",
     "output_type": "stream",
     "text": [
      "Epoch 662:   8%|▊         | 1/12 [00:00<00:01,  9.73it/s, loss=0.0237, lr=0.000989]/content/drive/.shortcut-targets-by-id/1w6OSQ_9ZH9r3830ldxRe1TGWfVlxxXWo/RL_real_0625_ind_index_value_weighted/DiffusionModel/trainer.py:158: FutureWarning: `torch.cuda.amp.autocast(args...)` is deprecated. Please use `torch.amp.autocast('cuda', args...)` instead.\n",
      "  with autocast(enabled=cfg.amp):\n"
     ]
    },
    {
     "name": "stdout",
     "output_type": "stream",
     "text": [
      "[662/1000]  train=0.0196  val=0.0235  lr=9.92e-04  t=6.4m\n"
     ]
    },
    {
     "name": "stderr",
     "output_type": "stream",
     "text": []
    },
    {
     "name": "stdout",
     "output_type": "stream",
     "text": [
      "[663/1000]  train=0.0187  val=0.0254  lr=9.95e-04  t=6.4m\n"
     ]
    },
    {
     "name": "stderr",
     "output_type": "stream",
     "text": []
    },
    {
     "name": "stdout",
     "output_type": "stream",
     "text": [
      "[664/1000]  train=0.0199  val=0.0195  lr=9.97e-04  t=6.4m\n"
     ]
    },
    {
     "name": "stderr",
     "output_type": "stream",
     "text": [
      "Epoch 665:  50%|█████     | 6/12 [00:00<00:00, 22.74it/s, loss=0.0209, lr=0.000999]/content/drive/.shortcut-targets-by-id/1w6OSQ_9ZH9r3830ldxRe1TGWfVlxxXWo/RL_real_0625_ind_index_value_weighted/DiffusionModel/trainer.py:158: FutureWarning: `torch.cuda.amp.autocast(args...)` is deprecated. Please use `torch.amp.autocast('cuda', args...)` instead.\n",
      "  with autocast(enabled=cfg.amp):\n"
     ]
    },
    {
     "name": "stdout",
     "output_type": "stream",
     "text": [
      "[665/1000]  train=0.0189  val=0.0232  lr=9.99e-04  t=6.5m\n"
     ]
    },
    {
     "name": "stderr",
     "output_type": "stream",
     "text": []
    },
    {
     "name": "stdout",
     "output_type": "stream",
     "text": [
      "[666/1000]  train=0.0206  val=0.0509  lr=1.00e-03  t=6.5m\n"
     ]
    },
    {
     "name": "stderr",
     "output_type": "stream",
     "text": [
      "Epoch 667:  33%|███▎      | 4/12 [00:00<00:00, 13.02it/s, loss=0.0168, lr=0.001]/content/drive/.shortcut-targets-by-id/1w6OSQ_9ZH9r3830ldxRe1TGWfVlxxXWo/RL_real_0625_ind_index_value_weighted/DiffusionModel/trainer.py:158: FutureWarning: `torch.cuda.amp.autocast(args...)` is deprecated. Please use `torch.amp.autocast('cuda', args...)` instead.\n",
      "  with autocast(enabled=cfg.amp):\n"
     ]
    },
    {
     "name": "stdout",
     "output_type": "stream",
     "text": [
      "[667/1000]  train=0.0201  val=0.0254  lr=1.00e-03  t=6.5m\n"
     ]
    },
    {
     "name": "stderr",
     "output_type": "stream",
     "text": []
    },
    {
     "name": "stdout",
     "output_type": "stream",
     "text": [
      "[668/1000]  train=0.0194  val=0.0200  lr=9.99e-04  t=6.5m\n"
     ]
    },
    {
     "name": "stderr",
     "output_type": "stream",
     "text": [
      "Epoch 669:   8%|▊         | 1/12 [00:00<00:01,  9.17it/s, loss=0.0183, lr=0.000999]/content/drive/.shortcut-targets-by-id/1w6OSQ_9ZH9r3830ldxRe1TGWfVlxxXWo/RL_real_0625_ind_index_value_weighted/DiffusionModel/trainer.py:158: FutureWarning: `torch.cuda.amp.autocast(args...)` is deprecated. Please use `torch.amp.autocast('cuda', args...)` instead.\n",
      "  with autocast(enabled=cfg.amp):\n"
     ]
    },
    {
     "name": "stdout",
     "output_type": "stream",
     "text": [
      "[669/1000]  train=0.0194  val=0.0212  lr=9.98e-04  t=6.5m\n"
     ]
    },
    {
     "name": "stderr",
     "output_type": "stream",
     "text": []
    },
    {
     "name": "stdout",
     "output_type": "stream",
     "text": [
      "[670/1000]  train=0.0216  val=0.0302  lr=9.96e-04  t=6.5m\n"
     ]
    },
    {
     "name": "stderr",
     "output_type": "stream",
     "text": []
    },
    {
     "name": "stdout",
     "output_type": "stream",
     "text": [
      "[671/1000]  train=0.0211  val=0.0406  lr=9.93e-04  t=6.5m\n"
     ]
    },
    {
     "name": "stderr",
     "output_type": "stream",
     "text": [
      "Epoch 672:  75%|███████▌  | 9/12 [00:00<00:00, 18.38it/s, loss=0.0263, lr=0.000991]/content/drive/.shortcut-targets-by-id/1w6OSQ_9ZH9r3830ldxRe1TGWfVlxxXWo/RL_real_0625_ind_index_value_weighted/DiffusionModel/trainer.py:158: FutureWarning: `torch.cuda.amp.autocast(args...)` is deprecated. Please use `torch.amp.autocast('cuda', args...)` instead.\n",
      "  with autocast(enabled=cfg.amp):\n"
     ]
    },
    {
     "name": "stdout",
     "output_type": "stream",
     "text": [
      "[672/1000]  train=0.0185  val=0.0277  lr=9.90e-04  t=6.5m\n"
     ]
    },
    {
     "name": "stderr",
     "output_type": "stream",
     "text": []
    },
    {
     "name": "stdout",
     "output_type": "stream",
     "text": [
      "[673/1000]  train=0.0197  val=0.0274  lr=9.86e-04  t=6.5m\n"
     ]
    },
    {
     "name": "stderr",
     "output_type": "stream",
     "text": [
      "Epoch 674:  67%|██████▋   | 8/12 [00:00<00:00, 15.92it/s, loss=0.0223, lr=0.000983]/content/drive/.shortcut-targets-by-id/1w6OSQ_9ZH9r3830ldxRe1TGWfVlxxXWo/RL_real_0625_ind_index_value_weighted/DiffusionModel/trainer.py:158: FutureWarning: `torch.cuda.amp.autocast(args...)` is deprecated. Please use `torch.amp.autocast('cuda', args...)` instead.\n",
      "  with autocast(enabled=cfg.amp):\n"
     ]
    },
    {
     "name": "stdout",
     "output_type": "stream",
     "text": [
      "[674/1000]  train=0.0200  val=0.0199  lr=9.81e-04  t=6.5m\n"
     ]
    },
    {
     "name": "stderr",
     "output_type": "stream",
     "text": []
    },
    {
     "name": "stdout",
     "output_type": "stream",
     "text": [
      "[675/1000]  train=0.0205  val=0.0208  lr=9.76e-04  t=6.6m\n"
     ]
    },
    {
     "name": "stderr",
     "output_type": "stream",
     "text": [
      "Epoch 676:   0%|          | 0/12 [00:00<?, ?it/s, loss=0.0194, lr=0.000975]/content/drive/.shortcut-targets-by-id/1w6OSQ_9ZH9r3830ldxRe1TGWfVlxxXWo/RL_real_0625_ind_index_value_weighted/DiffusionModel/trainer.py:158: FutureWarning: `torch.cuda.amp.autocast(args...)` is deprecated. Please use `torch.amp.autocast('cuda', args...)` instead.\n",
      "  with autocast(enabled=cfg.amp):\n"
     ]
    },
    {
     "name": "stdout",
     "output_type": "stream",
     "text": [
      "[676/1000]  train=0.0198  val=0.0218  lr=9.69e-04  t=6.6m\n"
     ]
    },
    {
     "name": "stderr",
     "output_type": "stream",
     "text": [
      "Epoch 677:  75%|███████▌  | 9/12 [00:00<00:00, 14.33it/s, loss=0.0167, lr=0.000964]/content/drive/.shortcut-targets-by-id/1w6OSQ_9ZH9r3830ldxRe1TGWfVlxxXWo/RL_real_0625_ind_index_value_weighted/DiffusionModel/trainer.py:158: FutureWarning: `torch.cuda.amp.autocast(args...)` is deprecated. Please use `torch.amp.autocast('cuda', args...)` instead.\n",
      "  with autocast(enabled=cfg.amp):\n"
     ]
    },
    {
     "name": "stdout",
     "output_type": "stream",
     "text": [
      "[677/1000]  train=0.0177  val=0.0198  lr=9.63e-04  t=6.6m\n"
     ]
    },
    {
     "name": "stderr",
     "output_type": "stream",
     "text": []
    },
    {
     "name": "stdout",
     "output_type": "stream",
     "text": [
      "[678/1000]  train=0.0207  val=0.0213  lr=9.55e-04  t=6.6m\n"
     ]
    },
    {
     "name": "stderr",
     "output_type": "stream",
     "text": []
    },
    {
     "name": "stdout",
     "output_type": "stream",
     "text": [
      "[679/1000]  train=0.0212  val=0.0265  lr=9.47e-04  t=6.6m\n"
     ]
    },
    {
     "name": "stderr",
     "output_type": "stream",
     "text": []
    },
    {
     "name": "stdout",
     "output_type": "stream",
     "text": [
      "[680/1000]  train=0.0192  val=0.0243  lr=9.38e-04  t=6.6m\n"
     ]
    },
    {
     "name": "stderr",
     "output_type": "stream",
     "text": [
      "Epoch 681:  50%|█████     | 6/12 [00:00<00:00, 16.11it/s, loss=0.0175, lr=0.000934]/content/drive/.shortcut-targets-by-id/1w6OSQ_9ZH9r3830ldxRe1TGWfVlxxXWo/RL_real_0625_ind_index_value_weighted/DiffusionModel/trainer.py:158: FutureWarning: `torch.cuda.amp.autocast(args...)` is deprecated. Please use `torch.amp.autocast('cuda', args...)` instead.\n",
      "  with autocast(enabled=cfg.amp):\n"
     ]
    },
    {
     "name": "stdout",
     "output_type": "stream",
     "text": [
      "[681/1000]  train=0.0210  val=0.0238  lr=9.29e-04  t=6.6m\n"
     ]
    },
    {
     "name": "stderr",
     "output_type": "stream",
     "text": []
    },
    {
     "name": "stdout",
     "output_type": "stream",
     "text": [
      "[682/1000]  train=0.0192  val=0.0279  lr=9.19e-04  t=6.6m\n"
     ]
    },
    {
     "name": "stderr",
     "output_type": "stream",
     "text": [
      "Epoch 683:  17%|█▋        | 2/12 [00:00<00:00, 11.92it/s, loss=0.0143, lr=0.000916]/content/drive/.shortcut-targets-by-id/1w6OSQ_9ZH9r3830ldxRe1TGWfVlxxXWo/RL_real_0625_ind_index_value_weighted/DiffusionModel/trainer.py:158: FutureWarning: `torch.cuda.amp.autocast(args...)` is deprecated. Please use `torch.amp.autocast('cuda', args...)` instead.\n",
      "  with autocast(enabled=cfg.amp):\n"
     ]
    },
    {
     "name": "stdout",
     "output_type": "stream",
     "text": [
      "[683/1000]  train=0.0184  val=0.0360  lr=9.08e-04  t=6.6m\n"
     ]
    },
    {
     "name": "stderr",
     "output_type": "stream",
     "text": []
    },
    {
     "name": "stdout",
     "output_type": "stream",
     "text": [
      "[684/1000]  train=0.0207  val=0.0325  lr=8.97e-04  t=6.7m\n"
     ]
    },
    {
     "name": "stderr",
     "output_type": "stream",
     "text": [
      "Epoch 685:   0%|          | 0/12 [00:00<?, ?it/s, loss=0.0177, lr=0.000896]/content/drive/.shortcut-targets-by-id/1w6OSQ_9ZH9r3830ldxRe1TGWfVlxxXWo/RL_real_0625_ind_index_value_weighted/DiffusionModel/trainer.py:158: FutureWarning: `torch.cuda.amp.autocast(args...)` is deprecated. Please use `torch.amp.autocast('cuda', args...)` instead.\n",
      "  with autocast(enabled=cfg.amp):\n"
     ]
    },
    {
     "name": "stdout",
     "output_type": "stream",
     "text": [
      "[685/1000]  train=0.0195  val=0.0204  lr=8.85e-04  t=6.7m\n"
     ]
    },
    {
     "name": "stderr",
     "output_type": "stream",
     "text": [
      "Epoch 686:  75%|███████▌  | 9/12 [00:00<00:00, 22.64it/s, loss=0.0152, lr=0.000874]/content/drive/.shortcut-targets-by-id/1w6OSQ_9ZH9r3830ldxRe1TGWfVlxxXWo/RL_real_0625_ind_index_value_weighted/DiffusionModel/trainer.py:158: FutureWarning: `torch.cuda.amp.autocast(args...)` is deprecated. Please use `torch.amp.autocast('cuda', args...)` instead.\n",
      "  with autocast(enabled=cfg.amp):\n"
     ]
    },
    {
     "name": "stdout",
     "output_type": "stream",
     "text": [
      "[686/1000]  train=0.0179  val=0.0244  lr=8.73e-04  t=6.7m\n"
     ]
    },
    {
     "name": "stderr",
     "output_type": "stream",
     "text": []
    },
    {
     "name": "stdout",
     "output_type": "stream",
     "text": [
      "[687/1000]  train=0.0207  val=0.0228  lr=8.60e-04  t=6.7m\n"
     ]
    },
    {
     "name": "stderr",
     "output_type": "stream",
     "text": []
    },
    {
     "name": "stdout",
     "output_type": "stream",
     "text": [
      "[688/1000]  train=0.0197  val=0.0362  lr=8.47e-04  t=6.7m\n"
     ]
    },
    {
     "name": "stderr",
     "output_type": "stream",
     "text": [
      "Epoch 689:   0%|          | 0/12 [00:00<?, ?it/s]/content/drive/.shortcut-targets-by-id/1w6OSQ_9ZH9r3830ldxRe1TGWfVlxxXWo/RL_real_0625_ind_index_value_weighted/DiffusionModel/trainer.py:158: FutureWarning: `torch.cuda.amp.autocast(args...)` is deprecated. Please use `torch.amp.autocast('cuda', args...)` instead.\n",
      "  with autocast(enabled=cfg.amp):\n"
     ]
    },
    {
     "name": "stdout",
     "output_type": "stream",
     "text": [
      "[689/1000]  train=0.0191  val=0.0301  lr=8.33e-04  t=6.7m\n"
     ]
    },
    {
     "name": "stderr",
     "output_type": "stream",
     "text": []
    },
    {
     "name": "stdout",
     "output_type": "stream",
     "text": [
      "[690/1000]  train=0.0199  val=0.0314  lr=8.19e-04  t=6.7m\n"
     ]
    },
    {
     "name": "stderr",
     "output_type": "stream",
     "text": []
    },
    {
     "name": "stdout",
     "output_type": "stream",
     "text": [
      "[691/1000]  train=0.0200  val=0.0252  lr=8.04e-04  t=6.7m\n"
     ]
    },
    {
     "name": "stderr",
     "output_type": "stream",
     "text": [
      "Epoch 692:  33%|███▎      | 4/12 [00:00<00:00, 14.06it/s, loss=0.0216, lr=0.000799]/content/drive/.shortcut-targets-by-id/1w6OSQ_9ZH9r3830ldxRe1TGWfVlxxXWo/RL_real_0625_ind_index_value_weighted/DiffusionModel/trainer.py:158: FutureWarning: `torch.cuda.amp.autocast(args...)` is deprecated. Please use `torch.amp.autocast('cuda', args...)` instead.\n",
      "  with autocast(enabled=cfg.amp):\n"
     ]
    },
    {
     "name": "stdout",
     "output_type": "stream",
     "text": [
      "[692/1000]  train=0.0197  val=0.0232  lr=7.89e-04  t=6.7m\n"
     ]
    },
    {
     "name": "stderr",
     "output_type": "stream",
     "text": []
    },
    {
     "name": "stdout",
     "output_type": "stream",
     "text": [
      "[693/1000]  train=0.0188  val=0.0228  lr=7.73e-04  t=6.7m\n"
     ]
    },
    {
     "name": "stderr",
     "output_type": "stream",
     "text": [
      "Epoch 694:   0%|          | 0/12 [00:00<?, ?it/s, loss=0.0142, lr=0.000772]/content/drive/.shortcut-targets-by-id/1w6OSQ_9ZH9r3830ldxRe1TGWfVlxxXWo/RL_real_0625_ind_index_value_weighted/DiffusionModel/trainer.py:158: FutureWarning: `torch.cuda.amp.autocast(args...)` is deprecated. Please use `torch.amp.autocast('cuda', args...)` instead.\n",
      "  with autocast(enabled=cfg.amp):\n"
     ]
    },
    {
     "name": "stdout",
     "output_type": "stream",
     "text": [
      "[694/1000]  train=0.0178  val=0.0259  lr=7.57e-04  t=6.7m\n"
     ]
    },
    {
     "name": "stderr",
     "output_type": "stream",
     "text": []
    },
    {
     "name": "stdout",
     "output_type": "stream",
     "text": [
      "[695/1000]  train=0.0189  val=0.0233  lr=7.41e-04  t=6.8m\n"
     ]
    },
    {
     "name": "stderr",
     "output_type": "stream",
     "text": [
      "\rEpoch 696:   0%|          | 0/12 [00:00<?, ?it/s]/content/drive/.shortcut-targets-by-id/1w6OSQ_9ZH9r3830ldxRe1TGWfVlxxXWo/RL_real_0625_ind_index_value_weighted/DiffusionModel/trainer.py:158: FutureWarning: `torch.cuda.amp.autocast(args...)` is deprecated. Please use `torch.amp.autocast('cuda', args...)` instead.\n",
      "  with autocast(enabled=cfg.amp):\n"
     ]
    },
    {
     "name": "stdout",
     "output_type": "stream",
     "text": [
      "[696/1000]  train=0.0191  val=0.0224  lr=7.24e-04  t=6.8m\n"
     ]
    },
    {
     "name": "stderr",
     "output_type": "stream",
     "text": [
      "Epoch 697:  50%|█████     | 6/12 [00:00<00:00, 22.88it/s, loss=0.0159, lr=0.000713]/content/drive/.shortcut-targets-by-id/1w6OSQ_9ZH9r3830ldxRe1TGWfVlxxXWo/RL_real_0625_ind_index_value_weighted/DiffusionModel/trainer.py:158: FutureWarning: `torch.cuda.amp.autocast(args...)` is deprecated. Please use `torch.amp.autocast('cuda', args...)` instead.\n",
      "  with autocast(enabled=cfg.amp):\n"
     ]
    },
    {
     "name": "stdout",
     "output_type": "stream",
     "text": [
      "[697/1000]  train=0.0170  val=0.0214  lr=7.07e-04  t=6.8m\n"
     ]
    },
    {
     "name": "stderr",
     "output_type": "stream",
     "text": []
    },
    {
     "name": "stdout",
     "output_type": "stream",
     "text": [
      "[698/1000]  train=0.0195  val=0.0254  lr=6.90e-04  t=6.8m\n"
     ]
    },
    {
     "name": "stderr",
     "output_type": "stream",
     "text": [
      "Epoch 699:  33%|███▎      | 4/12 [00:00<00:00, 12.33it/s, loss=0.0227, lr=0.000684]/content/drive/.shortcut-targets-by-id/1w6OSQ_9ZH9r3830ldxRe1TGWfVlxxXWo/RL_real_0625_ind_index_value_weighted/DiffusionModel/trainer.py:158: FutureWarning: `torch.cuda.amp.autocast(args...)` is deprecated. Please use `torch.amp.autocast('cuda', args...)` instead.\n",
      "  with autocast(enabled=cfg.amp):\n"
     ]
    },
    {
     "name": "stdout",
     "output_type": "stream",
     "text": [
      "[699/1000]  train=0.0191  val=0.0289  lr=6.72e-04  t=6.8m\n"
     ]
    },
    {
     "name": "stderr",
     "output_type": "stream",
     "text": []
    },
    {
     "name": "stdout",
     "output_type": "stream",
     "text": [
      "[700/1000]  train=0.0203  val=0.0276  lr=6.55e-04  t=6.8m\n"
     ]
    },
    {
     "name": "stderr",
     "output_type": "stream",
     "text": []
    },
    {
     "name": "stdout",
     "output_type": "stream",
     "text": [
      "[701/1000]  train=0.0189  val=0.0221  lr=6.36e-04  t=6.8m\n"
     ]
    },
    {
     "name": "stderr",
     "output_type": "stream",
     "text": [
      "Epoch 702:  17%|█▋        | 2/12 [00:00<00:00, 14.24it/s, loss=0.0126, lr=0.000633]/content/drive/.shortcut-targets-by-id/1w6OSQ_9ZH9r3830ldxRe1TGWfVlxxXWo/RL_real_0625_ind_index_value_weighted/DiffusionModel/trainer.py:158: FutureWarning: `torch.cuda.amp.autocast(args...)` is deprecated. Please use `torch.amp.autocast('cuda', args...)` instead.\n",
      "  with autocast(enabled=cfg.amp):\n"
     ]
    },
    {
     "name": "stdout",
     "output_type": "stream",
     "text": [
      "[702/1000]  train=0.0174  val=0.0229  lr=6.18e-04  t=6.8m\n"
     ]
    },
    {
     "name": "stderr",
     "output_type": "stream",
     "text": [
      "Epoch 703:  92%|█████████▏| 11/12 [00:00<00:00, 13.67it/s, loss=0.0213, lr=0.000601]/content/drive/.shortcut-targets-by-id/1w6OSQ_9ZH9r3830ldxRe1TGWfVlxxXWo/RL_real_0625_ind_index_value_weighted/DiffusionModel/trainer.py:158: FutureWarning: `torch.cuda.amp.autocast(args...)` is deprecated. Please use `torch.amp.autocast('cuda', args...)` instead.\n",
      "  with autocast(enabled=cfg.amp):\n"
     ]
    },
    {
     "name": "stdout",
     "output_type": "stream",
     "text": [
      "[703/1000]  train=0.0185  val=0.0349  lr=6.00e-04  t=6.8m\n"
     ]
    },
    {
     "name": "stderr",
     "output_type": "stream",
     "text": []
    },
    {
     "name": "stdout",
     "output_type": "stream",
     "text": [
      "[704/1000]  train=0.0172  val=0.0289  lr=5.81e-04  t=6.9m\n"
     ]
    },
    {
     "name": "stderr",
     "output_type": "stream",
     "text": [
      "Epoch 705:  83%|████████▎ | 10/12 [00:00<00:00, 10.85it/s, loss=0.0197, lr=0.000566]/content/drive/.shortcut-targets-by-id/1w6OSQ_9ZH9r3830ldxRe1TGWfVlxxXWo/RL_real_0625_ind_index_value_weighted/DiffusionModel/trainer.py:158: FutureWarning: `torch.cuda.amp.autocast(args...)` is deprecated. Please use `torch.amp.autocast('cuda', args...)` instead.\n",
      "  with autocast(enabled=cfg.amp):\n"
     ]
    },
    {
     "name": "stdout",
     "output_type": "stream",
     "text": [
      "[705/1000]  train=0.0178  val=0.0199  lr=5.63e-04  t=6.9m\n"
     ]
    },
    {
     "name": "stderr",
     "output_type": "stream",
     "text": []
    },
    {
     "name": "stdout",
     "output_type": "stream",
     "text": [
      "[706/1000]  train=0.0186  val=0.0266  lr=5.44e-04  t=6.9m\n"
     ]
    },
    {
     "name": "stderr",
     "output_type": "stream",
     "text": [
      "Epoch 707:  50%|█████     | 6/12 [00:00<00:00, 15.00it/s, loss=0.0152, lr=0.000535]/content/drive/.shortcut-targets-by-id/1w6OSQ_9ZH9r3830ldxRe1TGWfVlxxXWo/RL_real_0625_ind_index_value_weighted/DiffusionModel/trainer.py:158: FutureWarning: `torch.cuda.amp.autocast(args...)` is deprecated. Please use `torch.amp.autocast('cuda', args...)` instead.\n",
      "  with autocast(enabled=cfg.amp):\n"
     ]
    },
    {
     "name": "stdout",
     "output_type": "stream",
     "text": [
      "[707/1000]  train=0.0193  val=0.0254  lr=5.25e-04  t=6.9m\n"
     ]
    },
    {
     "name": "stderr",
     "output_type": "stream",
     "text": []
    },
    {
     "name": "stdout",
     "output_type": "stream",
     "text": [
      "[708/1000]  train=0.0190  val=0.0266  lr=5.06e-04  t=6.9m\n"
     ]
    },
    {
     "name": "stderr",
     "output_type": "stream",
     "text": []
    },
    {
     "name": "stdout",
     "output_type": "stream",
     "text": [
      "[709/1000]  train=0.0188  val=0.0190  lr=4.87e-04  t=6.9m\n"
     ]
    },
    {
     "name": "stderr",
     "output_type": "stream",
     "text": []
    },
    {
     "name": "stdout",
     "output_type": "stream",
     "text": [
      "[710/1000]  train=0.0189  val=0.0286  lr=4.69e-04  t=6.9m\n"
     ]
    },
    {
     "name": "stderr",
     "output_type": "stream",
     "text": [
      "Epoch 711:   0%|          | 0/12 [00:00<?, ?it/s, loss=0.0185, lr=0.000467]/content/drive/.shortcut-targets-by-id/1w6OSQ_9ZH9r3830ldxRe1TGWfVlxxXWo/RL_real_0625_ind_index_value_weighted/DiffusionModel/trainer.py:158: FutureWarning: `torch.cuda.amp.autocast(args...)` is deprecated. Please use `torch.amp.autocast('cuda', args...)` instead.\n",
      "  with autocast(enabled=cfg.amp):\n"
     ]
    },
    {
     "name": "stdout",
     "output_type": "stream",
     "text": [
      "[711/1000]  train=0.0164  val=0.0282  lr=4.50e-04  t=6.9m\n"
     ]
    },
    {
     "name": "stderr",
     "output_type": "stream",
     "text": [
      "Epoch 712:  75%|███████▌  | 9/12 [00:00<00:00, 21.24it/s, loss=0.0161, lr=0.000433]/content/drive/.shortcut-targets-by-id/1w6OSQ_9ZH9r3830ldxRe1TGWfVlxxXWo/RL_real_0625_ind_index_value_weighted/DiffusionModel/trainer.py:158: FutureWarning: `torch.cuda.amp.autocast(args...)` is deprecated. Please use `torch.amp.autocast('cuda', args...)` instead.\n",
      "  with autocast(enabled=cfg.amp):\n"
     ]
    },
    {
     "name": "stdout",
     "output_type": "stream",
     "text": [
      "[712/1000]  train=0.0195  val=0.0236  lr=4.31e-04  t=6.9m\n"
     ]
    },
    {
     "name": "stderr",
     "output_type": "stream",
     "text": []
    },
    {
     "name": "stdout",
     "output_type": "stream",
     "text": [
      "[713/1000]  train=0.0184  val=0.0207  lr=4.12e-04  t=6.9m\n"
     ]
    },
    {
     "name": "stderr",
     "output_type": "stream",
     "text": [
      "Epoch 714:  75%|███████▌  | 9/12 [00:00<00:00, 21.30it/s, loss=0.021, lr=0.000396] /content/drive/.shortcut-targets-by-id/1w6OSQ_9ZH9r3830ldxRe1TGWfVlxxXWo/RL_real_0625_ind_index_value_weighted/DiffusionModel/trainer.py:158: FutureWarning: `torch.cuda.amp.autocast(args...)` is deprecated. Please use `torch.amp.autocast('cuda', args...)` instead.\n",
      "  with autocast(enabled=cfg.amp):\n"
     ]
    },
    {
     "name": "stdout",
     "output_type": "stream",
     "text": [
      "[714/1000]  train=0.0201  val=0.0184  lr=3.94e-04  t=7.0m\n"
     ]
    },
    {
     "name": "stderr",
     "output_type": "stream",
     "text": []
    },
    {
     "name": "stdout",
     "output_type": "stream",
     "text": [
      "[715/1000]  train=0.0183  val=0.0240  lr=3.76e-04  t=7.0m\n"
     ]
    },
    {
     "name": "stderr",
     "output_type": "stream",
     "text": []
    },
    {
     "name": "stdout",
     "output_type": "stream",
     "text": [
      "[716/1000]  train=0.0197  val=0.0220  lr=3.57e-04  t=7.0m\n"
     ]
    },
    {
     "name": "stderr",
     "output_type": "stream",
     "text": [
      "\rEpoch 717:   0%|          | 0/12 [00:00<?, ?it/s]/content/drive/.shortcut-targets-by-id/1w6OSQ_9ZH9r3830ldxRe1TGWfVlxxXWo/RL_real_0625_ind_index_value_weighted/DiffusionModel/trainer.py:158: FutureWarning: `torch.cuda.amp.autocast(args...)` is deprecated. Please use `torch.amp.autocast('cuda', args...)` instead.\n",
      "  with autocast(enabled=cfg.amp):\n"
     ]
    },
    {
     "name": "stdout",
     "output_type": "stream",
     "text": [
      "[717/1000]  train=0.0167  val=0.0219  lr=3.40e-04  t=7.0m\n"
     ]
    },
    {
     "name": "stderr",
     "output_type": "stream",
     "text": []
    },
    {
     "name": "stdout",
     "output_type": "stream",
     "text": [
      "[718/1000]  train=0.0172  val=0.0222  lr=3.22e-04  t=7.0m\n"
     ]
    },
    {
     "name": "stderr",
     "output_type": "stream",
     "text": [
      "Epoch 719:  75%|███████▌  | 9/12 [00:00<00:00, 18.11it/s, loss=0.0233, lr=0.000309]/content/drive/.shortcut-targets-by-id/1w6OSQ_9ZH9r3830ldxRe1TGWfVlxxXWo/RL_real_0625_ind_index_value_weighted/DiffusionModel/trainer.py:158: FutureWarning: `torch.cuda.amp.autocast(args...)` is deprecated. Please use `torch.amp.autocast('cuda', args...)` instead.\n",
      "  with autocast(enabled=cfg.amp):\n"
     ]
    },
    {
     "name": "stdout",
     "output_type": "stream",
     "text": [
      "[719/1000]  train=0.0190  val=0.0266  lr=3.04e-04  t=7.0m\n"
     ]
    },
    {
     "name": "stderr",
     "output_type": "stream",
     "text": []
    },
    {
     "name": "stdout",
     "output_type": "stream",
     "text": [
      "[720/1000]  train=0.0177  val=0.0251  lr=2.87e-04  t=7.0m\n"
     ]
    },
    {
     "name": "stderr",
     "output_type": "stream",
     "text": [
      "Epoch 721:  50%|█████     | 6/12 [00:00<00:00, 13.86it/s, loss=0.0258, lr=0.000279]/content/drive/.shortcut-targets-by-id/1w6OSQ_9ZH9r3830ldxRe1TGWfVlxxXWo/RL_real_0625_ind_index_value_weighted/DiffusionModel/trainer.py:158: FutureWarning: `torch.cuda.amp.autocast(args...)` is deprecated. Please use `torch.amp.autocast('cuda', args...)` instead.\n",
      "  with autocast(enabled=cfg.amp):\n"
     ]
    },
    {
     "name": "stdout",
     "output_type": "stream",
     "text": [
      "[721/1000]  train=0.0187  val=0.0205  lr=2.70e-04  t=7.0m\n"
     ]
    },
    {
     "name": "stderr",
     "output_type": "stream",
     "text": []
    },
    {
     "name": "stdout",
     "output_type": "stream",
     "text": [
      "[722/1000]  train=0.0180  val=0.0239  lr=2.54e-04  t=7.0m\n"
     ]
    },
    {
     "name": "stderr",
     "output_type": "stream",
     "text": [
      "Epoch 723:   0%|          | 0/12 [00:00<?, ?it/s]/content/drive/.shortcut-targets-by-id/1w6OSQ_9ZH9r3830ldxRe1TGWfVlxxXWo/RL_real_0625_ind_index_value_weighted/DiffusionModel/trainer.py:158: FutureWarning: `torch.cuda.amp.autocast(args...)` is deprecated. Please use `torch.amp.autocast('cuda', args...)` instead.\n",
      "  with autocast(enabled=cfg.amp):\n"
     ]
    },
    {
     "name": "stdout",
     "output_type": "stream",
     "text": [
      "[723/1000]  train=0.0166  val=0.0237  lr=2.37e-04  t=7.1m\n"
     ]
    },
    {
     "name": "stderr",
     "output_type": "stream",
     "text": [
      "Epoch 724:  67%|██████▋   | 8/12 [00:00<00:00, 13.57it/s, loss=0.0189, lr=0.000227]/content/drive/.shortcut-targets-by-id/1w6OSQ_9ZH9r3830ldxRe1TGWfVlxxXWo/RL_real_0625_ind_index_value_weighted/DiffusionModel/trainer.py:158: FutureWarning: `torch.cuda.amp.autocast(args...)` is deprecated. Please use `torch.amp.autocast('cuda', args...)` instead.\n",
      "  with autocast(enabled=cfg.amp):\n"
     ]
    },
    {
     "name": "stdout",
     "output_type": "stream",
     "text": [
      "[724/1000]  train=0.0178  val=0.0264  lr=2.22e-04  t=7.1m\n"
     ]
    },
    {
     "name": "stderr",
     "output_type": "stream",
     "text": []
    },
    {
     "name": "stdout",
     "output_type": "stream",
     "text": [
      "[725/1000]  train=0.0178  val=0.0219  lr=2.06e-04  t=7.1m\n"
     ]
    },
    {
     "name": "stderr",
     "output_type": "stream",
     "text": []
    },
    {
     "name": "stdout",
     "output_type": "stream",
     "text": [
      "[726/1000]  train=0.0189  val=0.0241  lr=1.91e-04  t=7.1m\n"
     ]
    },
    {
     "name": "stderr",
     "output_type": "stream",
     "text": [
      "Epoch 727:  33%|███▎      | 4/12 [00:00<00:00, 10.74it/s, loss=0.0173, lr=0.000185]/content/drive/.shortcut-targets-by-id/1w6OSQ_9ZH9r3830ldxRe1TGWfVlxxXWo/RL_real_0625_ind_index_value_weighted/DiffusionModel/trainer.py:158: FutureWarning: `torch.cuda.amp.autocast(args...)` is deprecated. Please use `torch.amp.autocast('cuda', args...)` instead.\n",
      "  with autocast(enabled=cfg.amp):\n"
     ]
    },
    {
     "name": "stdout",
     "output_type": "stream",
     "text": [
      "[727/1000]  train=0.0174  val=0.0229  lr=1.76e-04  t=7.1m\n"
     ]
    },
    {
     "name": "stderr",
     "output_type": "stream",
     "text": []
    },
    {
     "name": "stdout",
     "output_type": "stream",
     "text": [
      "[728/1000]  train=0.0199  val=0.0236  lr=1.62e-04  t=7.1m\n"
     ]
    },
    {
     "name": "stderr",
     "output_type": "stream",
     "text": []
    },
    {
     "name": "stdout",
     "output_type": "stream",
     "text": [
      "[729/1000]  train=0.0176  val=0.0188  lr=1.49e-04  t=7.1m\n"
     ]
    },
    {
     "name": "stderr",
     "output_type": "stream",
     "text": [
      "Epoch 730:  42%|████▏     | 5/12 [00:00<00:00, 14.72it/s, loss=0.0164, lr=0.000143]/content/drive/.shortcut-targets-by-id/1w6OSQ_9ZH9r3830ldxRe1TGWfVlxxXWo/RL_real_0625_ind_index_value_weighted/DiffusionModel/trainer.py:158: FutureWarning: `torch.cuda.amp.autocast(args...)` is deprecated. Please use `torch.amp.autocast('cuda', args...)` instead.\n",
      "  with autocast(enabled=cfg.amp):\n"
     ]
    },
    {
     "name": "stdout",
     "output_type": "stream",
     "text": [
      "[730/1000]  train=0.0173  val=0.0194  lr=1.36e-04  t=7.1m\n"
     ]
    },
    {
     "name": "stderr",
     "output_type": "stream",
     "text": []
    },
    {
     "name": "stdout",
     "output_type": "stream",
     "text": [
      "[731/1000]  train=0.0193  val=0.0262  lr=1.23e-04  t=7.1m\n"
     ]
    },
    {
     "name": "stderr",
     "output_type": "stream",
     "text": []
    },
    {
     "name": "stdout",
     "output_type": "stream",
     "text": [
      "[732/1000]  train=0.0180  val=0.0266  lr=1.11e-04  t=7.1m\n"
     ]
    },
    {
     "name": "stderr",
     "output_type": "stream",
     "text": [
      "Epoch 733:  75%|███████▌  | 9/12 [00:00<00:00, 23.50it/s, loss=0.0169, lr=0.0001]  /content/drive/.shortcut-targets-by-id/1w6OSQ_9ZH9r3830ldxRe1TGWfVlxxXWo/RL_real_0625_ind_index_value_weighted/DiffusionModel/trainer.py:158: FutureWarning: `torch.cuda.amp.autocast(args...)` is deprecated. Please use `torch.amp.autocast('cuda', args...)` instead.\n",
      "  with autocast(enabled=cfg.amp):\n"
     ]
    },
    {
     "name": "stdout",
     "output_type": "stream",
     "text": [
      "[733/1000]  train=0.0183  val=0.0196  lr=9.92e-05  t=7.2m\n"
     ]
    },
    {
     "name": "stderr",
     "output_type": "stream",
     "text": []
    },
    {
     "name": "stdout",
     "output_type": "stream",
     "text": [
      "[734/1000]  train=0.0202  val=0.0251  lr=8.82e-05  t=7.2m\n"
     ]
    },
    {
     "name": "stderr",
     "output_type": "stream",
     "text": [
      "Epoch 735:  50%|█████     | 6/12 [00:00<00:00, 20.50it/s, loss=0.018, lr=8.12e-5] /content/drive/.shortcut-targets-by-id/1w6OSQ_9ZH9r3830ldxRe1TGWfVlxxXWo/RL_real_0625_ind_index_value_weighted/DiffusionModel/trainer.py:158: FutureWarning: `torch.cuda.amp.autocast(args...)` is deprecated. Please use `torch.amp.autocast('cuda', args...)` instead.\n",
      "  with autocast(enabled=cfg.amp):\n"
     ]
    },
    {
     "name": "stdout",
     "output_type": "stream",
     "text": [
      "[735/1000]  train=0.0172  val=0.0221  lr=7.78e-05  t=7.2m\n"
     ]
    },
    {
     "name": "stderr",
     "output_type": "stream",
     "text": []
    },
    {
     "name": "stdout",
     "output_type": "stream",
     "text": [
      "[736/1000]  train=0.0207  val=0.0279  lr=6.80e-05  t=7.2m\n"
     ]
    },
    {
     "name": "stderr",
     "output_type": "stream",
     "text": [
      "Epoch 737:  33%|███▎      | 4/12 [00:00<00:00, 13.36it/s, loss=0.0228, lr=6.49e-5]/content/drive/.shortcut-targets-by-id/1w6OSQ_9ZH9r3830ldxRe1TGWfVlxxXWo/RL_real_0625_ind_index_value_weighted/DiffusionModel/trainer.py:158: FutureWarning: `torch.cuda.amp.autocast(args...)` is deprecated. Please use `torch.amp.autocast('cuda', args...)` instead.\n",
      "  with autocast(enabled=cfg.amp):\n"
     ]
    },
    {
     "name": "stdout",
     "output_type": "stream",
     "text": [
      "[737/1000]  train=0.0175  val=0.0219  lr=5.89e-05  t=7.2m\n"
     ]
    },
    {
     "name": "stderr",
     "output_type": "stream",
     "text": []
    },
    {
     "name": "stdout",
     "output_type": "stream",
     "text": [
      "[738/1000]  train=0.0184  val=0.0260  lr=5.03e-05  t=7.2m\n"
     ]
    },
    {
     "name": "stderr",
     "output_type": "stream",
     "text": [
      "Epoch 739:   8%|▊         | 1/12 [00:00<00:01,  9.50it/s, loss=0.0151, lr=4.89e-5]/content/drive/.shortcut-targets-by-id/1w6OSQ_9ZH9r3830ldxRe1TGWfVlxxXWo/RL_real_0625_ind_index_value_weighted/DiffusionModel/trainer.py:158: FutureWarning: `torch.cuda.amp.autocast(args...)` is deprecated. Please use `torch.amp.autocast('cuda', args...)` instead.\n",
      "  with autocast(enabled=cfg.amp):\n"
     ]
    },
    {
     "name": "stdout",
     "output_type": "stream",
     "text": [
      "[739/1000]  train=0.0187  val=0.0225  lr=4.24e-05  t=7.2m\n"
     ]
    },
    {
     "name": "stderr",
     "output_type": "stream",
     "text": [
      "Epoch 740:  75%|███████▌  | 9/12 [00:00<00:00, 21.68it/s, loss=0.0182, lr=3.57e-5]/content/drive/.shortcut-targets-by-id/1w6OSQ_9ZH9r3830ldxRe1TGWfVlxxXWo/RL_real_0625_ind_index_value_weighted/DiffusionModel/trainer.py:158: FutureWarning: `torch.cuda.amp.autocast(args...)` is deprecated. Please use `torch.amp.autocast('cuda', args...)` instead.\n",
      "  with autocast(enabled=cfg.amp):\n"
     ]
    },
    {
     "name": "stdout",
     "output_type": "stream",
     "text": [
      "[740/1000]  train=0.0177  val=0.0199  lr=3.51e-05  t=7.2m\n"
     ]
    },
    {
     "name": "stderr",
     "output_type": "stream",
     "text": []
    },
    {
     "name": "stdout",
     "output_type": "stream",
     "text": [
      "[741/1000]  train=0.0201  val=0.0195  lr=2.85e-05  t=7.2m\n"
     ]
    },
    {
     "name": "stderr",
     "output_type": "stream",
     "text": [
      "Epoch 742:  50%|█████     | 6/12 [00:00<00:00, 15.90it/s, loss=0.0217, lr=2.5e-5] /content/drive/.shortcut-targets-by-id/1w6OSQ_9ZH9r3830ldxRe1TGWfVlxxXWo/RL_real_0625_ind_index_value_weighted/DiffusionModel/trainer.py:158: FutureWarning: `torch.cuda.amp.autocast(args...)` is deprecated. Please use `torch.amp.autocast('cuda', args...)` instead.\n",
      "  with autocast(enabled=cfg.amp):\n"
     ]
    },
    {
     "name": "stdout",
     "output_type": "stream",
     "text": [
      "[742/1000]  train=0.0200  val=0.0211  lr=2.26e-05  t=7.2m\n"
     ]
    },
    {
     "name": "stderr",
     "output_type": "stream",
     "text": []
    },
    {
     "name": "stdout",
     "output_type": "stream",
     "text": [
      "[743/1000]  train=0.0186  val=0.0247  lr=1.73e-05  t=7.2m\n"
     ]
    },
    {
     "name": "stderr",
     "output_type": "stream",
     "text": [
      "Epoch 744:  17%|█▋        | 2/12 [00:00<00:00, 12.86it/s, loss=0.0223, lr=1.61e-5]/content/drive/.shortcut-targets-by-id/1w6OSQ_9ZH9r3830ldxRe1TGWfVlxxXWo/RL_real_0625_ind_index_value_weighted/DiffusionModel/trainer.py:158: FutureWarning: `torch.cuda.amp.autocast(args...)` is deprecated. Please use `torch.amp.autocast('cuda', args...)` instead.\n",
      "  with autocast(enabled=cfg.amp):\n"
     ]
    },
    {
     "name": "stdout",
     "output_type": "stream",
     "text": [
      "[744/1000]  train=0.0193  val=0.0221  lr=1.27e-05  t=7.3m\n"
     ]
    },
    {
     "name": "stderr",
     "output_type": "stream",
     "text": [
      "Epoch 745:  92%|█████████▏| 11/12 [00:00<00:00, 14.19it/s, loss=0.0163, lr=9.15e-6]/content/drive/.shortcut-targets-by-id/1w6OSQ_9ZH9r3830ldxRe1TGWfVlxxXWo/RL_real_0625_ind_index_value_weighted/DiffusionModel/trainer.py:158: FutureWarning: `torch.cuda.amp.autocast(args...)` is deprecated. Please use `torch.amp.autocast('cuda', args...)` instead.\n",
      "  with autocast(enabled=cfg.amp):\n"
     ]
    },
    {
     "name": "stdout",
     "output_type": "stream",
     "text": [
      "[745/1000]  train=0.0183  val=0.0241  lr=8.86e-06  t=7.3m\n"
     ]
    },
    {
     "name": "stderr",
     "output_type": "stream",
     "text": []
    },
    {
     "name": "stdout",
     "output_type": "stream",
     "text": [
      "[746/1000]  train=0.0200  val=0.0213  lr=5.67e-06  t=7.3m\n"
     ]
    },
    {
     "name": "stderr",
     "output_type": "stream",
     "text": []
    },
    {
     "name": "stdout",
     "output_type": "stream",
     "text": [
      "[747/1000]  train=0.0198  val=0.0183  lr=3.19e-06  t=7.3m\n"
     ]
    },
    {
     "name": "stderr",
     "output_type": "stream",
     "text": [
      "Epoch 748:  50%|█████     | 6/12 [00:00<00:00, 12.63it/s, loss=0.0174, lr=2.07e-6]/content/drive/.shortcut-targets-by-id/1w6OSQ_9ZH9r3830ldxRe1TGWfVlxxXWo/RL_real_0625_ind_index_value_weighted/DiffusionModel/trainer.py:158: FutureWarning: `torch.cuda.amp.autocast(args...)` is deprecated. Please use `torch.amp.autocast('cuda', args...)` instead.\n",
      "  with autocast(enabled=cfg.amp):\n"
     ]
    },
    {
     "name": "stdout",
     "output_type": "stream",
     "text": [
      "[748/1000]  train=0.0190  val=0.0208  lr=1.42e-06  t=7.3m\n"
     ]
    },
    {
     "name": "stderr",
     "output_type": "stream",
     "text": []
    },
    {
     "name": "stdout",
     "output_type": "stream",
     "text": [
      "[749/1000]  train=0.0198  val=0.0239  lr=3.55e-07  t=7.3m\n"
     ]
    },
    {
     "name": "stderr",
     "output_type": "stream",
     "text": [
      "Epoch 750:  33%|███▎      | 4/12 [00:00<00:00, 10.41it/s, loss=0.0205, lr=1.58e-7]/content/drive/.shortcut-targets-by-id/1w6OSQ_9ZH9r3830ldxRe1TGWfVlxxXWo/RL_real_0625_ind_index_value_weighted/DiffusionModel/trainer.py:158: FutureWarning: `torch.cuda.amp.autocast(args...)` is deprecated. Please use `torch.amp.autocast('cuda', args...)` instead.\n",
      "  with autocast(enabled=cfg.amp):\n"
     ]
    },
    {
     "name": "stdout",
     "output_type": "stream",
     "text": [
      "[750/1000]  train=0.0193  val=0.0210  lr=0.00e+00  t=7.3m\n"
     ]
    },
    {
     "name": "stderr",
     "output_type": "stream",
     "text": []
    },
    {
     "name": "stdout",
     "output_type": "stream",
     "text": [
      "[751/1000]  train=0.0172  val=0.0201  lr=3.55e-07  t=7.3m\n"
     ]
    },
    {
     "name": "stderr",
     "output_type": "stream",
     "text": []
    },
    {
     "name": "stdout",
     "output_type": "stream",
     "text": [
      "[752/1000]  train=0.0190  val=0.0267  lr=1.42e-06  t=7.4m\n"
     ]
    },
    {
     "name": "stderr",
     "output_type": "stream",
     "text": [
      "Epoch 753:  25%|██▌       | 3/12 [00:00<00:00, 18.15it/s, loss=0.0231, lr=1.93e-6]/content/drive/.shortcut-targets-by-id/1w6OSQ_9ZH9r3830ldxRe1TGWfVlxxXWo/RL_real_0625_ind_index_value_weighted/DiffusionModel/trainer.py:158: FutureWarning: `torch.cuda.amp.autocast(args...)` is deprecated. Please use `torch.amp.autocast('cuda', args...)` instead.\n",
      "  with autocast(enabled=cfg.amp):\n"
     ]
    },
    {
     "name": "stdout",
     "output_type": "stream",
     "text": [
      "[753/1000]  train=0.0184  val=0.0196  lr=3.19e-06  t=7.4m\n"
     ]
    },
    {
     "name": "stderr",
     "output_type": "stream",
     "text": []
    },
    {
     "name": "stdout",
     "output_type": "stream",
     "text": [
      "[754/1000]  train=0.0188  val=0.0201  lr=5.67e-06  t=7.4m\n"
     ]
    },
    {
     "name": "stderr",
     "output_type": "stream",
     "text": []
    },
    {
     "name": "stdout",
     "output_type": "stream",
     "text": [
      "[755/1000]  train=0.0173  val=0.0209  lr=8.86e-06  t=7.4m\n"
     ]
    },
    {
     "name": "stderr",
     "output_type": "stream",
     "text": [
      "Epoch 756:  50%|█████     | 6/12 [00:00<00:00, 22.75it/s, loss=0.0285, lr=1.14e-5]/content/drive/.shortcut-targets-by-id/1w6OSQ_9ZH9r3830ldxRe1TGWfVlxxXWo/RL_real_0625_ind_index_value_weighted/DiffusionModel/trainer.py:158: FutureWarning: `torch.cuda.amp.autocast(args...)` is deprecated. Please use `torch.amp.autocast('cuda', args...)` instead.\n",
      "  with autocast(enabled=cfg.amp):\n"
     ]
    },
    {
     "name": "stdout",
     "output_type": "stream",
     "text": [
      "[756/1000]  train=0.0185  val=0.0193  lr=1.27e-05  t=7.4m\n"
     ]
    },
    {
     "name": "stderr",
     "output_type": "stream",
     "text": []
    },
    {
     "name": "stdout",
     "output_type": "stream",
     "text": [
      "[757/1000]  train=0.0157  val=0.0223  lr=1.73e-05  t=7.4m\n"
     ]
    },
    {
     "name": "stderr",
     "output_type": "stream",
     "text": [
      "Epoch 758:  42%|████▏     | 5/12 [00:00<00:00, 14.86it/s, loss=0.0176, lr=1.94e-5]/content/drive/.shortcut-targets-by-id/1w6OSQ_9ZH9r3830ldxRe1TGWfVlxxXWo/RL_real_0625_ind_index_value_weighted/DiffusionModel/trainer.py:158: FutureWarning: `torch.cuda.amp.autocast(args...)` is deprecated. Please use `torch.amp.autocast('cuda', args...)` instead.\n",
      "  with autocast(enabled=cfg.amp):\n"
     ]
    },
    {
     "name": "stdout",
     "output_type": "stream",
     "text": [
      "[758/1000]  train=0.0195  val=0.0247  lr=2.26e-05  t=7.4m\n"
     ]
    },
    {
     "name": "stderr",
     "output_type": "stream",
     "text": []
    },
    {
     "name": "stdout",
     "output_type": "stream",
     "text": [
      "[759/1000]  train=0.0189  val=0.0219  lr=2.85e-05  t=7.4m\n"
     ]
    },
    {
     "name": "stderr",
     "output_type": "stream",
     "text": [
      "Epoch 760:  17%|█▋        | 2/12 [00:00<00:00, 15.22it/s, loss=0.0162, lr=2.96e-5]/content/drive/.shortcut-targets-by-id/1w6OSQ_9ZH9r3830ldxRe1TGWfVlxxXWo/RL_real_0625_ind_index_value_weighted/DiffusionModel/trainer.py:158: FutureWarning: `torch.cuda.amp.autocast(args...)` is deprecated. Please use `torch.amp.autocast('cuda', args...)` instead.\n",
      "  with autocast(enabled=cfg.amp):\n"
     ]
    },
    {
     "name": "stdout",
     "output_type": "stream",
     "text": [
      "[760/1000]  train=0.0183  val=0.0168  lr=3.51e-05  t=7.4m\n"
     ]
    },
    {
     "name": "stderr",
     "output_type": "stream",
     "text": []
    },
    {
     "name": "stdout",
     "output_type": "stream",
     "text": [
      "[761/1000]  train=0.0195  val=0.0256  lr=4.24e-05  t=7.4m\n"
     ]
    },
    {
     "name": "stderr",
     "output_type": "stream",
     "text": []
    },
    {
     "name": "stdout",
     "output_type": "stream",
     "text": [
      "[762/1000]  train=0.0181  val=0.0226  lr=5.03e-05  t=7.4m\n"
     ]
    },
    {
     "name": "stderr",
     "output_type": "stream",
     "text": [
      "Epoch 763:  75%|███████▌  | 9/12 [00:00<00:00, 22.09it/s, loss=0.0178, lr=5.81e-5]/content/drive/.shortcut-targets-by-id/1w6OSQ_9ZH9r3830ldxRe1TGWfVlxxXWo/RL_real_0625_ind_index_value_weighted/DiffusionModel/trainer.py:158: FutureWarning: `torch.cuda.amp.autocast(args...)` is deprecated. Please use `torch.amp.autocast('cuda', args...)` instead.\n",
      "  with autocast(enabled=cfg.amp):\n"
     ]
    },
    {
     "name": "stdout",
     "output_type": "stream",
     "text": [
      "[763/1000]  train=0.0182  val=0.0178  lr=5.89e-05  t=7.5m\n"
     ]
    },
    {
     "name": "stderr",
     "output_type": "stream",
     "text": []
    },
    {
     "name": "stdout",
     "output_type": "stream",
     "text": [
      "[764/1000]  train=0.0183  val=0.0211  lr=6.80e-05  t=7.5m\n"
     ]
    },
    {
     "name": "stderr",
     "output_type": "stream",
     "text": [
      "Epoch 765:  50%|█████     | 6/12 [00:00<00:00, 19.51it/s, loss=0.0205, lr=7.37e-5]/content/drive/.shortcut-targets-by-id/1w6OSQ_9ZH9r3830ldxRe1TGWfVlxxXWo/RL_real_0625_ind_index_value_weighted/DiffusionModel/trainer.py:158: FutureWarning: `torch.cuda.amp.autocast(args...)` is deprecated. Please use `torch.amp.autocast('cuda', args...)` instead.\n",
      "  with autocast(enabled=cfg.amp):\n"
     ]
    },
    {
     "name": "stdout",
     "output_type": "stream",
     "text": [
      "[765/1000]  train=0.0178  val=0.0193  lr=7.78e-05  t=7.5m\n"
     ]
    },
    {
     "name": "stderr",
     "output_type": "stream",
     "text": []
    },
    {
     "name": "stdout",
     "output_type": "stream",
     "text": [
      "[766/1000]  train=0.0161  val=0.0249  lr=8.82e-05  t=7.5m\n"
     ]
    },
    {
     "name": "stderr",
     "output_type": "stream",
     "text": [
      "Epoch 767:  42%|████▏     | 5/12 [00:00<00:00, 15.69it/s, loss=0.022, lr=9.27e-5]/content/drive/.shortcut-targets-by-id/1w6OSQ_9ZH9r3830ldxRe1TGWfVlxxXWo/RL_real_0625_ind_index_value_weighted/DiffusionModel/trainer.py:158: FutureWarning: `torch.cuda.amp.autocast(args...)` is deprecated. Please use `torch.amp.autocast('cuda', args...)` instead.\n",
      "  with autocast(enabled=cfg.amp):\n"
     ]
    },
    {
     "name": "stdout",
     "output_type": "stream",
     "text": [
      "[767/1000]  train=0.0185  val=0.0249  lr=9.92e-05  t=7.5m\n",
      "Early stopping\n"
     ]
    }
   ],
   "source": [
    "from DiffusionModel.trainer import fit , TrainCfg , evaluate\n",
    "\n",
    "cfg = TrainCfg(\n",
    "    optim_name=\"AdamW\",\n",
    "    scheduler=\"cosine\",\n",
    "    lr=1e-3,\n",
    "    num_epochs=1000,\n",
    "    use_ema=True,\n",
    "    warmup_steps=10,\n",
    "    amp=True,\n",
    "    patience=500,\n",
    ")\n",
    "model.to(device)\n",
    "\n",
    "model.train()\n",
    "\n",
    "fit(model, train_loader, val_loader, device, cfg, save_path_diffusion)\n",
    "\n"
   ]
  },
  {
   "cell_type": "markdown",
   "metadata": {
    "id": "d7wxUtiJu3_M"
   },
   "source": [
    "**Prepare the scenario generator**"
   ]
  },
  {
   "cell_type": "code",
   "execution_count": 7,
   "metadata": {
    "executionInfo": {
     "elapsed": 794,
     "status": "ok",
     "timestamp": 1752337674934,
     "user": {
      "displayName": "Leon Johnason",
      "userId": "12172984433258393203"
     },
     "user_tz": 240
    },
    "id": "UjZH7Zyuu3_M"
   },
   "outputs": [],
   "source": [
    "from DiffusionModel.config import get_ddpm_config\n",
    "\n",
    "#from core import sample_offline, sample_online\n",
    "\n",
    "\n",
    "config = get_ddpm_config()\n",
    "config['sampling']['corrector'] = 'langevin'\n",
    "config['sampling']['predictor'] = 'reverse_diffusion'"
   ]
  },
  {
   "cell_type": "markdown",
   "metadata": {
    "id": "z-Wjs331u3_M"
   },
   "source": [
    "**Training the RL agent**"
   ]
  },
  {
   "cell_type": "code",
   "execution_count": 8,
   "metadata": {
    "colab": {
     "background_save": true,
     "base_uri": "https://localhost:8080/",
     "height": 554
    },
    "executionInfo": {
     "elapsed": 63487,
     "status": "error",
     "timestamp": 1752337740197,
     "user": {
      "displayName": "Leon Johnason",
      "userId": "12172984433258393203"
     },
     "user_tz": 240
    },
    "id": "gwnpxlyfu3_M"
   },
   "outputs": [
    {
     "name": "stdout",
     "output_type": "stream",
     "text": [
      "Retrain: 1/2\n",
      "Loading diffusion model from savings/models/diffusion_model_industrial_exp_dataset1_final.pth\n",
      "Sampling timestep 1/12\n",
      "Sampling timestep 2/12\n",
      "Sampling timestep 3/12\n",
      "Sampling timestep 4/12\n",
      "Sampling timestep 5/12\n",
      "Sampling timestep 6/12\n",
      "Sampling timestep 7/12\n",
      "Sampling timestep 8/12\n",
      "Sampling timestep 9/12\n",
      "Sampling timestep 10/12\n",
      "Sampling timestep 11/12\n",
      "Sampling timestep 12/12\n",
      "\u001b[32;1mLogging data to /tmp/experiments/1752338174/progress.txt\u001b[0m\n",
      "\u001b[32;1m\n",
      "Number of parameters: \t pi: 18762, \t q1: 18817, \t q2: 18817\n",
      "\u001b[0m\n",
      "Checkpoint saved to checkpoints/td3_ep2.pth\n",
      "-------------------------------------\n",
      "|          LossPi |           0.115 |\n",
      "|           LossQ |        1.95e+03 |\n",
      "|            Time |             5.3 |\n",
      "-------------------------------------\n",
      "Step 99: pi_lr=0.000030, q_lr=0.000030\n",
      "Checkpoint saved to checkpoints/td3_ep3.pth\n",
      "-------------------------------------\n",
      "|          LossPi |           0.302 |\n",
      "|           LossQ |        1.83e+03 |\n",
      "|            Time |            10.7 |\n",
      "-------------------------------------\n",
      "Step 149: pi_lr=0.000030, q_lr=0.000030\n",
      "Checkpoint saved to checkpoints/td3_ep4.pth\n",
      "-------------------------------------\n",
      "|          LossPi |           0.606 |\n",
      "|           LossQ |        1.88e+03 |\n",
      "|            Time |            15.5 |\n",
      "-------------------------------------\n",
      "Step 199: pi_lr=0.000030, q_lr=0.000030\n",
      "Checkpoint saved to checkpoints/td3_ep5.pth\n",
      "-------------------------------------\n",
      "|          LossPi |            1.26 |\n",
      "|           LossQ |        1.87e+03 |\n",
      "|            Time |            21.3 |\n",
      "-------------------------------------\n",
      "Step 249: pi_lr=0.000030, q_lr=0.000030\n",
      "Checkpoint saved to checkpoints/td3_ep6.pth\n",
      "-------------------------------------\n",
      "|          LossPi |            2.27 |\n",
      "|           LossQ |        1.89e+03 |\n",
      "|            Time |            26.2 |\n",
      "-------------------------------------\n",
      "Step 299: pi_lr=0.000030, q_lr=0.000030\n",
      "Checkpoint saved to checkpoints/td3_ep7.pth\n",
      "-------------------------------------\n",
      "|          LossPi |            3.73 |\n",
      "|           LossQ |        1.27e+03 |\n",
      "|            Time |            31.3 |\n",
      "-------------------------------------\n",
      "Step 349: pi_lr=0.000030, q_lr=0.000030\n",
      "Checkpoint saved to checkpoints/td3_ep8.pth\n",
      "-------------------------------------\n",
      "|          LossPi |            5.47 |\n",
      "|           LossQ |        1.14e+03 |\n",
      "|            Time |            36.6 |\n",
      "-------------------------------------\n",
      "Step 399: pi_lr=0.000030, q_lr=0.000030\n",
      "Checkpoint saved to checkpoints/td3_ep9.pth\n",
      "-------------------------------------\n",
      "|          LossPi |            7.48 |\n",
      "|           LossQ |        1.48e+03 |\n",
      "|            Time |            41.4 |\n",
      "-------------------------------------\n",
      "Step 449: pi_lr=0.000030, q_lr=0.000030\n",
      "Checkpoint saved to checkpoints/td3_ep10.pth\n",
      "-------------------------------------\n",
      "|          LossPi |            9.62 |\n",
      "|           LossQ |        1.12e+03 |\n",
      "|            Time |            47.1 |\n",
      "-------------------------------------\n",
      "Step 499: pi_lr=0.000030, q_lr=0.000030\n",
      "Checkpoint saved to checkpoints/td3_ep11.pth\n",
      "-------------------------------------\n",
      "|          LossPi |            11.6 |\n",
      "|           LossQ |        1.16e+03 |\n",
      "|            Time |            51.9 |\n",
      "-------------------------------------\n",
      "Step 549: pi_lr=0.000030, q_lr=0.000030\n",
      "Checkpoint saved to checkpoints/td3_ep12.pth\n",
      "-------------------------------------\n",
      "|          LossPi |            13.6 |\n",
      "|           LossQ |        1.01e+03 |\n",
      "|            Time |            56.7 |\n",
      "-------------------------------------\n",
      "Step 599: pi_lr=0.000030, q_lr=0.000030\n",
      "Checkpoint saved to checkpoints/td3_ep13.pth\n",
      "-------------------------------------\n",
      "|          LossPi |            15.2 |\n",
      "|           LossQ |        1.19e+03 |\n",
      "|            Time |            62.2 |\n",
      "-------------------------------------\n",
      "Step 649: pi_lr=0.000030, q_lr=0.000030\n",
      "Checkpoint saved to checkpoints/td3_ep14.pth\n",
      "-------------------------------------\n",
      "|          LossPi |            16.8 |\n",
      "|           LossQ |             866 |\n",
      "|            Time |              67 |\n",
      "-------------------------------------\n",
      "Step 699: pi_lr=0.000030, q_lr=0.000030\n",
      "Checkpoint saved to checkpoints/td3_ep15.pth\n",
      "-------------------------------------\n",
      "|          LossPi |            17.7 |\n",
      "|           LossQ |        1.31e+03 |\n",
      "|            Time |            72.4 |\n",
      "-------------------------------------\n",
      "Step 749: pi_lr=0.000030, q_lr=0.000030\n",
      "Checkpoint saved to checkpoints/td3_ep16.pth\n",
      "-------------------------------------\n",
      "|          LossPi |            18.8 |\n",
      "|           LossQ |         1.2e+03 |\n",
      "|            Time |            77.4 |\n",
      "-------------------------------------\n",
      "Step 799: pi_lr=0.000030, q_lr=0.000030\n",
      "Checkpoint saved to checkpoints/td3_ep17.pth\n",
      "-------------------------------------\n",
      "|          LossPi |            19.9 |\n",
      "|           LossQ |        1.05e+03 |\n",
      "|            Time |            82.1 |\n",
      "-------------------------------------\n",
      "Step 849: pi_lr=0.000029, q_lr=0.000029\n",
      "Checkpoint saved to checkpoints/td3_ep18.pth\n",
      "-------------------------------------\n",
      "|          LossPi |            20.3 |\n",
      "|           LossQ |        1.16e+03 |\n",
      "|            Time |            87.7 |\n",
      "-------------------------------------\n",
      "Step 899: pi_lr=0.000029, q_lr=0.000029\n",
      "Checkpoint saved to checkpoints/td3_ep19.pth\n",
      "-------------------------------------\n",
      "|          LossPi |            20.9 |\n",
      "|           LossQ |        1.24e+03 |\n",
      "|            Time |            92.6 |\n",
      "-------------------------------------\n",
      "Step 949: pi_lr=0.000029, q_lr=0.000029\n",
      "Checkpoint saved to checkpoints/td3_ep20.pth\n",
      "-------------------------------------\n",
      "|          LossPi |            21.6 |\n",
      "|           LossQ |             917 |\n",
      "|            Time |            97.9 |\n",
      "-------------------------------------\n",
      "Step 999: pi_lr=0.000029, q_lr=0.000029\n",
      "Checkpoint saved to checkpoints/td3_ep21.pth\n",
      "-------------------------------------\n",
      "|          LossPi |            21.8 |\n",
      "|           LossQ |        1.09e+03 |\n",
      "|            Time |             103 |\n",
      "-------------------------------------\n",
      "Step 1049: pi_lr=0.000029, q_lr=0.000029\n",
      "Checkpoint saved to checkpoints/td3_ep22.pth\n",
      "-------------------------------------\n",
      "|          LossPi |            22.4 |\n",
      "|           LossQ |        1.03e+03 |\n",
      "|            Time |             108 |\n",
      "-------------------------------------\n",
      "Step 1099: pi_lr=0.000029, q_lr=0.000029\n",
      "Checkpoint saved to checkpoints/td3_ep23.pth\n",
      "-------------------------------------\n",
      "|          LossPi |            22.8 |\n",
      "|           LossQ |             868 |\n",
      "|            Time |             113 |\n",
      "-------------------------------------\n",
      "Step 1149: pi_lr=0.000029, q_lr=0.000029\n",
      "Checkpoint saved to checkpoints/td3_ep24.pth\n",
      "-------------------------------------\n",
      "|          LossPi |            22.8 |\n",
      "|           LossQ |             900 |\n",
      "|            Time |             118 |\n",
      "-------------------------------------\n",
      "Step 1199: pi_lr=0.000029, q_lr=0.000029\n",
      "Checkpoint saved to checkpoints/td3_ep25.pth\n",
      "-------------------------------------\n",
      "|          LossPi |              23 |\n",
      "|           LossQ |             905 |\n",
      "|            Time |             123 |\n",
      "-------------------------------------\n",
      "Step 1249: pi_lr=0.000029, q_lr=0.000029\n",
      "Checkpoint saved to checkpoints/td3_ep26.pth\n",
      "-------------------------------------\n",
      "|          LossPi |            23.5 |\n",
      "|           LossQ |             808 |\n",
      "|            Time |             128 |\n",
      "-------------------------------------\n",
      "Step 1299: pi_lr=0.000029, q_lr=0.000029\n",
      "Checkpoint saved to checkpoints/td3_ep27.pth\n",
      "-------------------------------------\n",
      "|          LossPi |            23.6 |\n",
      "|           LossQ |             845 |\n",
      "|            Time |             133 |\n",
      "-------------------------------------\n",
      "Step 1349: pi_lr=0.000029, q_lr=0.000029\n",
      "Checkpoint saved to checkpoints/td3_ep28.pth\n",
      "-------------------------------------\n",
      "|          LossPi |            23.7 |\n",
      "|           LossQ |             738 |\n",
      "|            Time |             139 |\n",
      "-------------------------------------\n",
      "Step 1399: pi_lr=0.000029, q_lr=0.000029\n",
      "Checkpoint saved to checkpoints/td3_ep29.pth\n",
      "-------------------------------------\n",
      "|          LossPi |            23.8 |\n",
      "|           LossQ |             614 |\n",
      "|            Time |             144 |\n",
      "-------------------------------------\n",
      "Step 1449: pi_lr=0.000029, q_lr=0.000029\n",
      "Checkpoint saved to checkpoints/td3_ep30.pth\n",
      "-------------------------------------\n",
      "|          LossPi |            23.9 |\n",
      "|           LossQ |             565 |\n",
      "|            Time |             149 |\n",
      "-------------------------------------\n",
      "Step 1499: pi_lr=0.000028, q_lr=0.000028\n",
      "Checkpoint saved to checkpoints/td3_ep31.pth\n",
      "-------------------------------------\n",
      "|          LossPi |            24.2 |\n",
      "|           LossQ |             666 |\n",
      "|            Time |             154 |\n",
      "-------------------------------------\n",
      "Step 1549: pi_lr=0.000028, q_lr=0.000028\n",
      "Checkpoint saved to checkpoints/td3_ep32.pth\n",
      "-------------------------------------\n",
      "|          LossPi |              24 |\n",
      "|           LossQ |             675 |\n",
      "|            Time |             159 |\n",
      "-------------------------------------\n",
      "Step 1599: pi_lr=0.000028, q_lr=0.000028\n",
      "Checkpoint saved to checkpoints/td3_ep33.pth\n",
      "-------------------------------------\n",
      "|          LossPi |            24.3 |\n",
      "|           LossQ |             446 |\n",
      "|            Time |             164 |\n",
      "-------------------------------------\n",
      "Step 1649: pi_lr=0.000028, q_lr=0.000028\n",
      "Checkpoint saved to checkpoints/td3_ep34.pth\n",
      "-------------------------------------\n",
      "|          LossPi |            24.6 |\n",
      "|           LossQ |             481 |\n",
      "|            Time |             171 |\n",
      "-------------------------------------\n",
      "Step 1699: pi_lr=0.000028, q_lr=0.000028\n",
      "Checkpoint saved to checkpoints/td3_ep35.pth\n",
      "-------------------------------------\n",
      "|          LossPi |            24.3 |\n",
      "|           LossQ |             423 |\n",
      "|            Time |             176 |\n",
      "-------------------------------------\n",
      "Step 1749: pi_lr=0.000028, q_lr=0.000028\n",
      "Checkpoint saved to checkpoints/td3_ep36.pth\n",
      "-------------------------------------\n",
      "|          LossPi |            24.5 |\n",
      "|           LossQ |             386 |\n",
      "|            Time |             181 |\n",
      "-------------------------------------\n",
      "Step 1799: pi_lr=0.000028, q_lr=0.000028\n",
      "Checkpoint saved to checkpoints/td3_ep37.pth\n",
      "-------------------------------------\n",
      "|          LossPi |            24.7 |\n",
      "|           LossQ |             238 |\n",
      "|            Time |             186 |\n",
      "-------------------------------------\n",
      "Step 1849: pi_lr=0.000028, q_lr=0.000028\n",
      "Checkpoint saved to checkpoints/td3_ep38.pth\n",
      "-------------------------------------\n",
      "|          LossPi |            24.7 |\n",
      "|           LossQ |             255 |\n",
      "|            Time |             191 |\n",
      "-------------------------------------\n",
      "Step 1899: pi_lr=0.000027, q_lr=0.000027\n",
      "Checkpoint saved to checkpoints/td3_ep39.pth\n",
      "-------------------------------------\n",
      "|          LossPi |            25.1 |\n",
      "|           LossQ |             224 |\n",
      "|            Time |             196 |\n",
      "-------------------------------------\n",
      "Step 1949: pi_lr=0.000027, q_lr=0.000027\n",
      "Checkpoint saved to checkpoints/td3_ep40.pth\n",
      "-------------------------------------\n",
      "|          LossPi |            25.4 |\n",
      "|           LossQ |             170 |\n",
      "|            Time |             201 |\n",
      "-------------------------------------\n",
      "Step 1999: pi_lr=0.000027, q_lr=0.000027\n",
      "Checkpoint saved to checkpoints/td3_ep41.pth\n",
      "-------------------------------------\n",
      "|          LossPi |            25.7 |\n",
      "|           LossQ |             158 |\n",
      "|            Time |             206 |\n",
      "-------------------------------------\n",
      "Step 2049: pi_lr=0.000027, q_lr=0.000027\n",
      "Checkpoint saved to checkpoints/td3_ep42.pth\n",
      "-------------------------------------\n",
      "|          LossPi |            26.2 |\n",
      "|           LossQ |             138 |\n",
      "|            Time |             211 |\n",
      "-------------------------------------\n",
      "Step 2099: pi_lr=0.000027, q_lr=0.000027\n",
      "Checkpoint saved to checkpoints/td3_ep43.pth\n",
      "-------------------------------------\n",
      "|          LossPi |            26.3 |\n",
      "|           LossQ |             145 |\n",
      "|            Time |             217 |\n",
      "-------------------------------------\n",
      "Step 2149: pi_lr=0.000027, q_lr=0.000027\n",
      "Checkpoint saved to checkpoints/td3_ep44.pth\n",
      "-------------------------------------\n",
      "|          LossPi |              27 |\n",
      "|           LossQ |             109 |\n",
      "|            Time |             221 |\n",
      "-------------------------------------\n",
      "Step 2199: pi_lr=0.000027, q_lr=0.000027\n",
      "Checkpoint saved to checkpoints/td3_ep45.pth\n",
      "-------------------------------------\n",
      "|          LossPi |            26.9 |\n",
      "|           LossQ |             105 |\n",
      "|            Time |             226 |\n",
      "-------------------------------------\n",
      "Step 2249: pi_lr=0.000027, q_lr=0.000027\n",
      "Checkpoint saved to checkpoints/td3_ep46.pth\n",
      "-------------------------------------\n",
      "|          LossPi |            27.3 |\n",
      "|           LossQ |            89.7 |\n",
      "|            Time |             232 |\n",
      "-------------------------------------\n",
      "Step 2299: pi_lr=0.000026, q_lr=0.000026\n",
      "Checkpoint saved to checkpoints/td3_ep47.pth\n",
      "-------------------------------------\n",
      "|          LossPi |            27.4 |\n",
      "|           LossQ |            81.5 |\n",
      "|            Time |             236 |\n",
      "-------------------------------------\n",
      "Step 2349: pi_lr=0.000026, q_lr=0.000026\n",
      "Checkpoint saved to checkpoints/td3_ep48.pth\n",
      "-------------------------------------\n",
      "|          LossPi |            27.3 |\n",
      "|           LossQ |              59 |\n",
      "|            Time |             242 |\n",
      "-------------------------------------\n",
      "Step 2399: pi_lr=0.000026, q_lr=0.000026\n",
      "Checkpoint saved to checkpoints/td3_ep49.pth\n",
      "-------------------------------------\n",
      "|          LossPi |            27.7 |\n",
      "|           LossQ |            65.5 |\n",
      "|            Time |             247 |\n",
      "-------------------------------------\n",
      "Step 2449: pi_lr=0.000026, q_lr=0.000026\n",
      "Checkpoint saved to checkpoints/td3_ep50.pth\n",
      "-------------------------------------\n",
      "|          LossPi |            28.1 |\n",
      "|           LossQ |            50.8 |\n",
      "|            Time |             252 |\n",
      "-------------------------------------\n",
      "Step 2499: pi_lr=0.000026, q_lr=0.000026\n",
      "Checkpoint saved to checkpoints/td3_ep51.pth\n",
      "-------------------------------------\n",
      "|          LossPi |            28.4 |\n",
      "|           LossQ |            66.3 |\n",
      "|            Time |             257 |\n",
      "-------------------------------------\n",
      "Step 2549: pi_lr=0.000026, q_lr=0.000026\n",
      "Checkpoint saved to checkpoints/td3_ep52.pth\n",
      "-------------------------------------\n",
      "|          LossPi |            28.8 |\n",
      "|           LossQ |            92.1 |\n",
      "|            Time |             262 |\n",
      "-------------------------------------\n",
      "Step 2599: pi_lr=0.000025, q_lr=0.000025\n",
      "Checkpoint saved to checkpoints/td3_ep53.pth\n",
      "-------------------------------------\n",
      "|          LossPi |            29.2 |\n",
      "|           LossQ |            53.3 |\n",
      "|            Time |             267 |\n",
      "-------------------------------------\n",
      "Step 2649: pi_lr=0.000025, q_lr=0.000025\n",
      "Checkpoint saved to checkpoints/td3_ep54.pth\n",
      "-------------------------------------\n",
      "|          LossPi |            29.5 |\n",
      "|           LossQ |            49.1 |\n",
      "|            Time |             272 |\n",
      "-------------------------------------\n",
      "Step 2699: pi_lr=0.000025, q_lr=0.000025\n",
      "Checkpoint saved to checkpoints/td3_ep55.pth\n",
      "-------------------------------------\n",
      "|          LossPi |            30.4 |\n",
      "|           LossQ |            54.8 |\n",
      "|            Time |             277 |\n",
      "-------------------------------------\n",
      "Step 2749: pi_lr=0.000025, q_lr=0.000025\n",
      "Checkpoint saved to checkpoints/td3_ep56.pth\n",
      "-------------------------------------\n",
      "|          LossPi |            30.5 |\n",
      "|           LossQ |            49.8 |\n",
      "|            Time |             283 |\n",
      "-------------------------------------\n",
      "Step 2799: pi_lr=0.000025, q_lr=0.000025\n",
      "Checkpoint saved to checkpoints/td3_ep57.pth\n",
      "-------------------------------------\n",
      "|          LossPi |            30.3 |\n",
      "|           LossQ |            41.2 |\n",
      "|            Time |             287 |\n",
      "-------------------------------------\n",
      "Step 2849: pi_lr=0.000025, q_lr=0.000025\n",
      "Checkpoint saved to checkpoints/td3_ep58.pth\n",
      "-------------------------------------\n",
      "|          LossPi |            29.7 |\n",
      "|           LossQ |            36.5 |\n",
      "|            Time |             293 |\n",
      "-------------------------------------\n",
      "Step 2899: pi_lr=0.000024, q_lr=0.000024\n",
      "Checkpoint saved to checkpoints/td3_ep59.pth\n",
      "-------------------------------------\n",
      "|          LossPi |            30.2 |\n",
      "|           LossQ |            32.2 |\n",
      "|            Time |             297 |\n",
      "-------------------------------------\n",
      "Step 2949: pi_lr=0.000024, q_lr=0.000024\n",
      "Checkpoint saved to checkpoints/td3_ep60.pth\n",
      "-------------------------------------\n",
      "|          LossPi |            29.9 |\n",
      "|           LossQ |            40.2 |\n",
      "|            Time |             302 |\n",
      "-------------------------------------\n",
      "Step 2999: pi_lr=0.000024, q_lr=0.000024\n",
      "Checkpoint saved to checkpoints/td3_ep61.pth\n",
      "-------------------------------------\n",
      "|          LossPi |            30.3 |\n",
      "|           LossQ |            29.4 |\n",
      "|            Time |             308 |\n",
      "-------------------------------------\n",
      "Step 3049: pi_lr=0.000024, q_lr=0.000024\n",
      "Checkpoint saved to checkpoints/td3_ep62.pth\n",
      "-------------------------------------\n",
      "|          LossPi |            31.1 |\n",
      "|           LossQ |            38.3 |\n",
      "|            Time |             315 |\n",
      "-------------------------------------\n",
      "Step 3099: pi_lr=0.000024, q_lr=0.000024\n",
      "Checkpoint saved to checkpoints/td3_ep63.pth\n",
      "-------------------------------------\n",
      "|          LossPi |            29.7 |\n",
      "|           LossQ |            30.8 |\n",
      "|            Time |             321 |\n",
      "-------------------------------------\n",
      "Step 3149: pi_lr=0.000023, q_lr=0.000023\n",
      "Checkpoint saved to checkpoints/td3_ep64.pth\n",
      "-------------------------------------\n",
      "|          LossPi |              29 |\n",
      "|           LossQ |              30 |\n",
      "|            Time |             325 |\n",
      "-------------------------------------\n",
      "Step 3199: pi_lr=0.000023, q_lr=0.000023\n",
      "Checkpoint saved to checkpoints/td3_ep65.pth\n",
      "-------------------------------------\n",
      "|          LossPi |            28.2 |\n",
      "|           LossQ |            30.3 |\n",
      "|            Time |             331 |\n",
      "-------------------------------------\n",
      "Step 3249: pi_lr=0.000023, q_lr=0.000023\n",
      "Checkpoint saved to checkpoints/td3_ep66.pth\n",
      "-------------------------------------\n",
      "|          LossPi |            29.1 |\n",
      "|           LossQ |            38.2 |\n",
      "|            Time |             336 |\n",
      "-------------------------------------\n",
      "Step 3299: pi_lr=0.000023, q_lr=0.000023\n",
      "Checkpoint saved to checkpoints/td3_ep67.pth\n",
      "-------------------------------------\n",
      "|          LossPi |            29.2 |\n",
      "|           LossQ |            33.3 |\n",
      "|            Time |             341 |\n",
      "-------------------------------------\n",
      "Step 3349: pi_lr=0.000023, q_lr=0.000023\n",
      "Checkpoint saved to checkpoints/td3_ep68.pth\n",
      "-------------------------------------\n",
      "|          LossPi |            28.4 |\n",
      "|           LossQ |            85.3 |\n",
      "|            Time |             346 |\n",
      "-------------------------------------\n",
      "Step 3399: pi_lr=0.000022, q_lr=0.000022\n",
      "Checkpoint saved to checkpoints/td3_ep69.pth\n",
      "-------------------------------------\n",
      "|          LossPi |            28.8 |\n",
      "|           LossQ |            39.1 |\n",
      "|            Time |             352 |\n",
      "-------------------------------------\n",
      "Step 3449: pi_lr=0.000022, q_lr=0.000022\n",
      "Checkpoint saved to checkpoints/td3_ep70.pth\n",
      "-------------------------------------\n",
      "|          LossPi |            28.6 |\n",
      "|           LossQ |            79.4 |\n",
      "|            Time |             357 |\n",
      "-------------------------------------\n",
      "Step 3499: pi_lr=0.000022, q_lr=0.000022\n",
      "Checkpoint saved to checkpoints/td3_ep71.pth\n",
      "-------------------------------------\n",
      "|          LossPi |            28.3 |\n",
      "|           LossQ |            58.8 |\n",
      "|            Time |             362 |\n",
      "-------------------------------------\n",
      "Step 3549: pi_lr=0.000022, q_lr=0.000022\n",
      "Checkpoint saved to checkpoints/td3_ep72.pth\n",
      "-------------------------------------\n",
      "|          LossPi |            27.9 |\n",
      "|           LossQ |            35.3 |\n",
      "|            Time |             366 |\n",
      "-------------------------------------\n",
      "Step 3599: pi_lr=0.000022, q_lr=0.000022\n",
      "Checkpoint saved to checkpoints/td3_ep73.pth\n",
      "-------------------------------------\n",
      "|          LossPi |            28.1 |\n",
      "|           LossQ |            35.2 |\n",
      "|            Time |             373 |\n",
      "-------------------------------------\n",
      "Step 3649: pi_lr=0.000021, q_lr=0.000021\n",
      "Checkpoint saved to checkpoints/td3_ep74.pth\n",
      "-------------------------------------\n",
      "|          LossPi |            28.1 |\n",
      "|           LossQ |            31.9 |\n",
      "|            Time |             377 |\n",
      "-------------------------------------\n",
      "Step 3699: pi_lr=0.000021, q_lr=0.000021\n",
      "Checkpoint saved to checkpoints/td3_ep75.pth\n",
      "-------------------------------------\n",
      "|          LossPi |            28.1 |\n",
      "|           LossQ |            30.8 |\n",
      "|            Time |             383 |\n",
      "-------------------------------------\n",
      "Step 3749: pi_lr=0.000021, q_lr=0.000021\n",
      "Checkpoint saved to checkpoints/td3_ep76.pth\n",
      "-------------------------------------\n",
      "|          LossPi |            28.2 |\n",
      "|           LossQ |            27.8 |\n",
      "|            Time |             388 |\n",
      "-------------------------------------\n",
      "Step 3799: pi_lr=0.000021, q_lr=0.000021\n",
      "Checkpoint saved to checkpoints/td3_ep77.pth\n",
      "-------------------------------------\n",
      "|          LossPi |            28.3 |\n",
      "|           LossQ |            31.1 |\n",
      "|            Time |             393 |\n",
      "-------------------------------------\n",
      "Step 3849: pi_lr=0.000021, q_lr=0.000021\n",
      "Checkpoint saved to checkpoints/td3_ep78.pth\n",
      "-------------------------------------\n",
      "|          LossPi |            28.7 |\n",
      "|           LossQ |            29.5 |\n",
      "|            Time |             398 |\n",
      "-------------------------------------\n",
      "Step 3899: pi_lr=0.000020, q_lr=0.000020\n",
      "Checkpoint saved to checkpoints/td3_ep79.pth\n",
      "-------------------------------------\n",
      "|          LossPi |            28.5 |\n",
      "|           LossQ |            26.7 |\n",
      "|            Time |             403 |\n",
      "-------------------------------------\n",
      "Step 3949: pi_lr=0.000020, q_lr=0.000020\n",
      "Checkpoint saved to checkpoints/td3_ep80.pth\n",
      "-------------------------------------\n",
      "|          LossPi |            27.4 |\n",
      "|           LossQ |            28.5 |\n",
      "|            Time |             408 |\n",
      "-------------------------------------\n",
      "Step 3999: pi_lr=0.000020, q_lr=0.000020\n",
      "Checkpoint saved to checkpoints/td3_ep81.pth\n",
      "-------------------------------------\n",
      "|          LossPi |            28.3 |\n",
      "|           LossQ |            27.2 |\n",
      "|            Time |             413 |\n",
      "-------------------------------------\n",
      "Step 4049: pi_lr=0.000020, q_lr=0.000020\n",
      "Checkpoint saved to checkpoints/td3_ep82.pth\n",
      "-------------------------------------\n",
      "|          LossPi |            28.9 |\n",
      "|           LossQ |            29.7 |\n",
      "|            Time |             419 |\n",
      "-------------------------------------\n",
      "Step 4099: pi_lr=0.000020, q_lr=0.000020\n",
      "Checkpoint saved to checkpoints/td3_ep83.pth\n",
      "-------------------------------------\n",
      "|          LossPi |            27.6 |\n",
      "|           LossQ |              28 |\n",
      "|            Time |             424 |\n",
      "-------------------------------------\n",
      "Step 4149: pi_lr=0.000019, q_lr=0.000019\n",
      "Checkpoint saved to checkpoints/td3_ep84.pth\n",
      "-------------------------------------\n",
      "|          LossPi |            28.8 |\n",
      "|           LossQ |            28.4 |\n",
      "|            Time |             429 |\n",
      "-------------------------------------\n",
      "Step 4199: pi_lr=0.000019, q_lr=0.000019\n",
      "Checkpoint saved to checkpoints/td3_ep85.pth\n",
      "-------------------------------------\n",
      "|          LossPi |            29.2 |\n",
      "|           LossQ |            25.1 |\n",
      "|            Time |             435 |\n",
      "-------------------------------------\n",
      "Step 4249: pi_lr=0.000019, q_lr=0.000019\n",
      "Checkpoint saved to checkpoints/td3_ep86.pth\n",
      "-------------------------------------\n",
      "|          LossPi |            28.6 |\n",
      "|           LossQ |            23.5 |\n",
      "|            Time |             439 |\n",
      "-------------------------------------\n",
      "Step 4299: pi_lr=0.000019, q_lr=0.000019\n",
      "Checkpoint saved to checkpoints/td3_ep87.pth\n",
      "-------------------------------------\n",
      "|          LossPi |            29.8 |\n",
      "|           LossQ |            21.1 |\n",
      "|            Time |             444 |\n",
      "-------------------------------------\n",
      "Step 4349: pi_lr=0.000018, q_lr=0.000018\n",
      "Checkpoint saved to checkpoints/td3_ep88.pth\n",
      "-------------------------------------\n",
      "|          LossPi |            29.2 |\n",
      "|           LossQ |            29.9 |\n",
      "|            Time |             450 |\n",
      "-------------------------------------\n",
      "Step 4399: pi_lr=0.000018, q_lr=0.000018\n",
      "Checkpoint saved to checkpoints/td3_ep89.pth\n",
      "-------------------------------------\n",
      "|          LossPi |            28.9 |\n",
      "|           LossQ |            25.3 |\n",
      "|            Time |             455 |\n",
      "-------------------------------------\n",
      "Step 4449: pi_lr=0.000018, q_lr=0.000018\n",
      "Checkpoint saved to checkpoints/td3_ep90.pth\n",
      "-------------------------------------\n",
      "|          LossPi |            28.3 |\n",
      "|           LossQ |            24.6 |\n",
      "|            Time |             460 |\n",
      "-------------------------------------\n",
      "Step 4499: pi_lr=0.000018, q_lr=0.000018\n",
      "Checkpoint saved to checkpoints/td3_ep91.pth\n",
      "-------------------------------------\n",
      "|          LossPi |            29.3 |\n",
      "|           LossQ |            24.5 |\n",
      "|            Time |             465 |\n",
      "-------------------------------------\n",
      "Step 4549: pi_lr=0.000018, q_lr=0.000018\n",
      "Checkpoint saved to checkpoints/td3_ep92.pth\n",
      "-------------------------------------\n",
      "|          LossPi |            28.6 |\n",
      "|           LossQ |            20.9 |\n",
      "|            Time |             470 |\n",
      "-------------------------------------\n",
      "Step 4599: pi_lr=0.000017, q_lr=0.000017\n",
      "Checkpoint saved to checkpoints/td3_ep93.pth\n",
      "-------------------------------------\n",
      "|          LossPi |            29.2 |\n",
      "|           LossQ |            45.7 |\n",
      "|            Time |             475 |\n",
      "-------------------------------------\n",
      "Step 4649: pi_lr=0.000017, q_lr=0.000017\n",
      "Checkpoint saved to checkpoints/td3_ep94.pth\n",
      "-------------------------------------\n",
      "|          LossPi |            29.8 |\n",
      "|           LossQ |              26 |\n",
      "|            Time |             480 |\n",
      "-------------------------------------\n",
      "Step 4699: pi_lr=0.000017, q_lr=0.000017\n",
      "Checkpoint saved to checkpoints/td3_ep95.pth\n",
      "-------------------------------------\n",
      "|          LossPi |            30.7 |\n",
      "|           LossQ |            25.2 |\n",
      "|            Time |             486 |\n",
      "-------------------------------------\n",
      "Step 4749: pi_lr=0.000017, q_lr=0.000017\n",
      "Checkpoint saved to checkpoints/td3_ep96.pth\n",
      "-------------------------------------\n",
      "|          LossPi |            29.8 |\n",
      "|           LossQ |              24 |\n",
      "|            Time |             490 |\n",
      "-------------------------------------\n",
      "Step 4799: pi_lr=0.000016, q_lr=0.000016\n",
      "Checkpoint saved to checkpoints/td3_ep97.pth\n",
      "-------------------------------------\n",
      "|          LossPi |            29.5 |\n",
      "|           LossQ |            44.2 |\n",
      "|            Time |             495 |\n",
      "-------------------------------------\n",
      "Step 4849: pi_lr=0.000016, q_lr=0.000016\n",
      "Checkpoint saved to checkpoints/td3_ep98.pth\n",
      "-------------------------------------\n",
      "|          LossPi |            30.8 |\n",
      "|           LossQ |            27.9 |\n",
      "|            Time |             501 |\n",
      "-------------------------------------\n",
      "Step 4899: pi_lr=0.000016, q_lr=0.000016\n",
      "Checkpoint saved to checkpoints/td3_ep99.pth\n",
      "-------------------------------------\n",
      "|          LossPi |            30.4 |\n",
      "|           LossQ |            24.4 |\n",
      "|            Time |             506 |\n",
      "-------------------------------------\n",
      "Step 4949: pi_lr=0.000016, q_lr=0.000016\n",
      "Checkpoint saved to checkpoints/td3_ep100.pth\n",
      "-------------------------------------\n",
      "|          LossPi |            29.7 |\n",
      "|           LossQ |            24.9 |\n",
      "|            Time |             511 |\n",
      "-------------------------------------\n",
      "Step 4999: pi_lr=0.000016, q_lr=0.000016\n",
      "Checkpoint saved to checkpoints/td3_ep101.pth\n",
      "-------------------------------------\n",
      "|          LossPi |            29.7 |\n",
      "|           LossQ |            43.9 |\n",
      "|            Time |             516 |\n",
      "-------------------------------------\n",
      "Step 5049: pi_lr=0.000015, q_lr=0.000015\n",
      "Checkpoint saved to checkpoints/td3_ep102.pth\n",
      "-------------------------------------\n",
      "|          LossPi |            30.6 |\n",
      "|           LossQ |            25.2 |\n",
      "|            Time |             520 |\n",
      "-------------------------------------\n",
      "Step 5099: pi_lr=0.000015, q_lr=0.000015\n",
      "Checkpoint saved to checkpoints/td3_ep103.pth\n",
      "-------------------------------------\n",
      "|          LossPi |            29.1 |\n",
      "|           LossQ |            23.8 |\n",
      "|            Time |             526 |\n",
      "-------------------------------------\n",
      "Step 5149: pi_lr=0.000015, q_lr=0.000015\n",
      "Checkpoint saved to checkpoints/td3_ep104.pth\n",
      "-------------------------------------\n",
      "|          LossPi |            29.8 |\n",
      "|           LossQ |            24.4 |\n",
      "|            Time |             531 |\n",
      "-------------------------------------\n",
      "Step 5199: pi_lr=0.000015, q_lr=0.000015\n",
      "Checkpoint saved to checkpoints/td3_ep105.pth\n",
      "-------------------------------------\n",
      "|          LossPi |            29.4 |\n",
      "|           LossQ |            32.8 |\n",
      "|            Time |             536 |\n",
      "-------------------------------------\n",
      "Step 5249: pi_lr=0.000014, q_lr=0.000014\n",
      "Checkpoint saved to checkpoints/td3_ep106.pth\n",
      "-------------------------------------\n",
      "|          LossPi |            30.5 |\n",
      "|           LossQ |            23.1 |\n",
      "|            Time |             541 |\n",
      "-------------------------------------\n",
      "Step 5299: pi_lr=0.000014, q_lr=0.000014\n",
      "Checkpoint saved to checkpoints/td3_ep107.pth\n",
      "-------------------------------------\n",
      "|          LossPi |            29.8 |\n",
      "|           LossQ |            22.9 |\n",
      "|            Time |             546 |\n",
      "-------------------------------------\n",
      "Step 5349: pi_lr=0.000014, q_lr=0.000014\n",
      "Checkpoint saved to checkpoints/td3_ep108.pth\n",
      "-------------------------------------\n",
      "|          LossPi |            30.3 |\n",
      "|           LossQ |            24.1 |\n",
      "|            Time |             552 |\n",
      "-------------------------------------\n",
      "Step 5399: pi_lr=0.000014, q_lr=0.000014\n",
      "Checkpoint saved to checkpoints/td3_ep109.pth\n",
      "-------------------------------------\n",
      "|          LossPi |            30.3 |\n",
      "|           LossQ |              23 |\n",
      "|            Time |             556 |\n",
      "-------------------------------------\n",
      "Step 5449: pi_lr=0.000013, q_lr=0.000013\n",
      "Checkpoint saved to checkpoints/td3_ep110.pth\n",
      "-------------------------------------\n",
      "|          LossPi |              30 |\n",
      "|           LossQ |            23.1 |\n",
      "|            Time |             561 |\n",
      "-------------------------------------\n",
      "Step 5499: pi_lr=0.000013, q_lr=0.000013\n",
      "Checkpoint saved to checkpoints/td3_ep111.pth\n",
      "-------------------------------------\n",
      "|          LossPi |            29.5 |\n",
      "|           LossQ |            23.2 |\n",
      "|            Time |             566 |\n",
      "-------------------------------------\n",
      "Step 5549: pi_lr=0.000013, q_lr=0.000013\n",
      "Checkpoint saved to checkpoints/td3_ep112.pth\n",
      "-------------------------------------\n",
      "|          LossPi |            30.7 |\n",
      "|           LossQ |            25.8 |\n",
      "|            Time |             571 |\n",
      "-------------------------------------\n",
      "Step 5599: pi_lr=0.000013, q_lr=0.000013\n",
      "Checkpoint saved to checkpoints/td3_ep113.pth\n",
      "-------------------------------------\n",
      "|          LossPi |            31.5 |\n",
      "|           LossQ |            22.4 |\n",
      "|            Time |             577 |\n",
      "-------------------------------------\n",
      "Step 5649: pi_lr=0.000013, q_lr=0.000013\n",
      "Checkpoint saved to checkpoints/td3_ep114.pth\n",
      "-------------------------------------\n",
      "|          LossPi |            30.5 |\n",
      "|           LossQ |            20.6 |\n",
      "|            Time |             582 |\n",
      "-------------------------------------\n",
      "Step 5699: pi_lr=0.000012, q_lr=0.000012\n",
      "Checkpoint saved to checkpoints/td3_ep115.pth\n",
      "-------------------------------------\n",
      "|          LossPi |            30.2 |\n",
      "|           LossQ |              23 |\n",
      "|            Time |             587 |\n",
      "-------------------------------------\n",
      "Step 5749: pi_lr=0.000012, q_lr=0.000012\n",
      "Checkpoint saved to checkpoints/td3_ep116.pth\n",
      "-------------------------------------\n",
      "|          LossPi |            29.9 |\n",
      "|           LossQ |            22.1 |\n",
      "|            Time |             592 |\n",
      "-------------------------------------\n",
      "Step 5799: pi_lr=0.000012, q_lr=0.000012\n",
      "Checkpoint saved to checkpoints/td3_ep117.pth\n",
      "-------------------------------------\n",
      "|          LossPi |            29.9 |\n",
      "|           LossQ |            23.3 |\n",
      "|            Time |             597 |\n",
      "-------------------------------------\n",
      "Step 5849: pi_lr=0.000012, q_lr=0.000012\n",
      "Checkpoint saved to checkpoints/td3_ep118.pth\n",
      "-------------------------------------\n",
      "|          LossPi |            30.3 |\n",
      "|           LossQ |            23.3 |\n",
      "|            Time |             602 |\n",
      "-------------------------------------\n",
      "Step 5899: pi_lr=0.000011, q_lr=0.000011\n",
      "Checkpoint saved to checkpoints/td3_ep119.pth\n",
      "-------------------------------------\n",
      "|          LossPi |            30.7 |\n",
      "|           LossQ |            22.5 |\n",
      "|            Time |             607 |\n",
      "-------------------------------------\n",
      "Step 5949: pi_lr=0.000011, q_lr=0.000011\n",
      "Checkpoint saved to checkpoints/td3_ep120.pth\n",
      "-------------------------------------\n",
      "|          LossPi |            29.3 |\n",
      "|           LossQ |            23.1 |\n",
      "|            Time |             612 |\n",
      "-------------------------------------\n",
      "Step 5999: pi_lr=0.000011, q_lr=0.000011\n",
      "Checkpoint saved to checkpoints/td3_ep121.pth\n",
      "-------------------------------------\n",
      "|          LossPi |            28.6 |\n",
      "|           LossQ |            23.1 |\n",
      "|            Time |             617 |\n",
      "-------------------------------------\n",
      "Step 6049: pi_lr=0.000011, q_lr=0.000011\n",
      "Checkpoint saved to checkpoints/td3_ep122.pth\n",
      "-------------------------------------\n",
      "|          LossPi |              30 |\n",
      "|           LossQ |            21.9 |\n",
      "|            Time |             622 |\n",
      "-------------------------------------\n",
      "Step 6099: pi_lr=0.000011, q_lr=0.000011\n",
      "Checkpoint saved to checkpoints/td3_ep123.pth\n",
      "-------------------------------------\n",
      "|          LossPi |            29.9 |\n",
      "|           LossQ |            23.6 |\n",
      "|            Time |             628 |\n",
      "-------------------------------------\n",
      "Step 6149: pi_lr=0.000010, q_lr=0.000010\n",
      "Checkpoint saved to checkpoints/td3_ep124.pth\n",
      "-------------------------------------\n",
      "|          LossPi |            30.6 |\n",
      "|           LossQ |            25.8 |\n",
      "|            Time |             633 |\n",
      "-------------------------------------\n",
      "Step 6199: pi_lr=0.000010, q_lr=0.000010\n",
      "Checkpoint saved to checkpoints/td3_ep125.pth\n",
      "-------------------------------------\n",
      "|          LossPi |            30.1 |\n",
      "|           LossQ |            24.1 |\n",
      "|            Time |             638 |\n",
      "-------------------------------------\n",
      "Step 6249: pi_lr=0.000010, q_lr=0.000010\n",
      "Checkpoint saved to checkpoints/td3_ep126.pth\n",
      "-------------------------------------\n",
      "|          LossPi |            30.8 |\n",
      "|           LossQ |              22 |\n",
      "|            Time |             643 |\n",
      "-------------------------------------\n",
      "Step 6299: pi_lr=0.000010, q_lr=0.000010\n",
      "Checkpoint saved to checkpoints/td3_ep127.pth\n",
      "-------------------------------------\n",
      "|          LossPi |            30.6 |\n",
      "|           LossQ |            24.7 |\n",
      "|            Time |             648 |\n",
      "-------------------------------------\n",
      "Step 6349: pi_lr=0.000010, q_lr=0.000010\n",
      "Checkpoint saved to checkpoints/td3_ep128.pth\n",
      "-------------------------------------\n",
      "|          LossPi |              31 |\n",
      "|           LossQ |            27.1 |\n",
      "|            Time |             653 |\n",
      "-------------------------------------\n",
      "Step 6399: pi_lr=0.000009, q_lr=0.000009\n",
      "Checkpoint saved to checkpoints/td3_ep129.pth\n",
      "-------------------------------------\n",
      "|          LossPi |            32.9 |\n",
      "|           LossQ |            21.8 |\n",
      "|            Time |             658 |\n",
      "-------------------------------------\n",
      "Step 6449: pi_lr=0.000009, q_lr=0.000009\n",
      "Checkpoint saved to checkpoints/td3_ep130.pth\n",
      "-------------------------------------\n",
      "|          LossPi |            32.3 |\n",
      "|           LossQ |            22.7 |\n",
      "|            Time |             663 |\n",
      "-------------------------------------\n",
      "Step 6499: pi_lr=0.000009, q_lr=0.000009\n",
      "Checkpoint saved to checkpoints/td3_ep131.pth\n",
      "-------------------------------------\n",
      "|          LossPi |            32.3 |\n",
      "|           LossQ |            29.5 |\n",
      "|            Time |             668 |\n",
      "-------------------------------------\n",
      "Step 6549: pi_lr=0.000009, q_lr=0.000009\n",
      "Checkpoint saved to checkpoints/td3_ep132.pth\n",
      "-------------------------------------\n",
      "|          LossPi |              32 |\n",
      "|           LossQ |            25.8 |\n",
      "|            Time |             673 |\n",
      "-------------------------------------\n",
      "Step 6599: pi_lr=0.000009, q_lr=0.000009\n",
      "Checkpoint saved to checkpoints/td3_ep133.pth\n",
      "-------------------------------------\n",
      "|          LossPi |            32.7 |\n",
      "|           LossQ |            31.3 |\n",
      "|            Time |             679 |\n",
      "-------------------------------------\n",
      "Step 6649: pi_lr=0.000008, q_lr=0.000008\n",
      "Checkpoint saved to checkpoints/td3_ep134.pth\n",
      "-------------------------------------\n",
      "|          LossPi |            32.5 |\n",
      "|           LossQ |              24 |\n",
      "|            Time |             684 |\n",
      "-------------------------------------\n",
      "Step 6699: pi_lr=0.000008, q_lr=0.000008\n",
      "Checkpoint saved to checkpoints/td3_ep135.pth\n",
      "-------------------------------------\n",
      "|          LossPi |            35.1 |\n",
      "|           LossQ |            23.1 |\n",
      "|            Time |             688 |\n",
      "-------------------------------------\n",
      "Step 6749: pi_lr=0.000008, q_lr=0.000008\n",
      "Checkpoint saved to checkpoints/td3_ep136.pth\n",
      "-------------------------------------\n",
      "|          LossPi |            34.1 |\n",
      "|           LossQ |            24.5 |\n",
      "|            Time |             694 |\n",
      "-------------------------------------\n",
      "Step 6799: pi_lr=0.000008, q_lr=0.000008\n",
      "Checkpoint saved to checkpoints/td3_ep137.pth\n",
      "-------------------------------------\n",
      "|          LossPi |            34.1 |\n",
      "|           LossQ |            24.2 |\n",
      "|            Time |             698 |\n",
      "-------------------------------------\n",
      "Step 6849: pi_lr=0.000008, q_lr=0.000008\n",
      "Checkpoint saved to checkpoints/td3_ep138.pth\n",
      "-------------------------------------\n",
      "|          LossPi |            33.3 |\n",
      "|           LossQ |              23 |\n",
      "|            Time |             704 |\n",
      "-------------------------------------\n",
      "Step 6899: pi_lr=0.000007, q_lr=0.000007\n",
      "Checkpoint saved to checkpoints/td3_ep139.pth\n",
      "-------------------------------------\n",
      "|          LossPi |            33.7 |\n",
      "|           LossQ |            23.8 |\n",
      "|            Time |             709 |\n",
      "-------------------------------------\n",
      "Step 6949: pi_lr=0.000007, q_lr=0.000007\n",
      "Checkpoint saved to checkpoints/td3_ep140.pth\n",
      "-------------------------------------\n",
      "|          LossPi |            32.9 |\n",
      "|           LossQ |            23.3 |\n",
      "|            Time |             714 |\n",
      "-------------------------------------\n",
      "Step 6999: pi_lr=0.000007, q_lr=0.000007\n",
      "Checkpoint saved to checkpoints/td3_ep141.pth\n",
      "-------------------------------------\n",
      "|          LossPi |            32.2 |\n",
      "|           LossQ |            26.5 |\n",
      "|            Time |             719 |\n",
      "-------------------------------------\n",
      "Step 7049: pi_lr=0.000007, q_lr=0.000007\n",
      "Checkpoint saved to checkpoints/td3_ep142.pth\n",
      "-------------------------------------\n",
      "|          LossPi |            31.6 |\n",
      "|           LossQ |            25.7 |\n",
      "|            Time |             724 |\n",
      "-------------------------------------\n",
      "Step 7099: pi_lr=0.000007, q_lr=0.000007\n",
      "Checkpoint saved to checkpoints/td3_ep143.pth\n",
      "-------------------------------------\n",
      "|          LossPi |            30.9 |\n",
      "|           LossQ |            24.2 |\n",
      "|            Time |             729 |\n",
      "-------------------------------------\n",
      "Step 7149: pi_lr=0.000006, q_lr=0.000006\n",
      "Checkpoint saved to checkpoints/td3_ep144.pth\n",
      "-------------------------------------\n",
      "|          LossPi |            32.8 |\n",
      "|           LossQ |            24.5 |\n",
      "|            Time |             734 |\n",
      "-------------------------------------\n",
      "Step 7199: pi_lr=0.000006, q_lr=0.000006\n",
      "Checkpoint saved to checkpoints/td3_ep145.pth\n",
      "-------------------------------------\n",
      "|          LossPi |            32.7 |\n",
      "|           LossQ |              25 |\n",
      "|            Time |             739 |\n",
      "-------------------------------------\n",
      "Step 7249: pi_lr=0.000006, q_lr=0.000006\n",
      "Checkpoint saved to checkpoints/td3_ep146.pth\n",
      "-------------------------------------\n",
      "|          LossPi |            31.5 |\n",
      "|           LossQ |              33 |\n",
      "|            Time |             745 |\n",
      "-------------------------------------\n",
      "Step 7299: pi_lr=0.000006, q_lr=0.000006\n",
      "Checkpoint saved to checkpoints/td3_ep147.pth\n",
      "-------------------------------------\n",
      "|          LossPi |              32 |\n",
      "|           LossQ |            24.6 |\n",
      "|            Time |             749 |\n",
      "-------------------------------------\n",
      "Step 7349: pi_lr=0.000006, q_lr=0.000006\n",
      "Checkpoint saved to checkpoints/td3_ep148.pth\n",
      "-------------------------------------\n",
      "|          LossPi |            32.1 |\n",
      "|           LossQ |            24.2 |\n",
      "|            Time |             755 |\n",
      "-------------------------------------\n",
      "Step 7399: pi_lr=0.000006, q_lr=0.000006\n",
      "Checkpoint saved to checkpoints/td3_ep149.pth\n",
      "-------------------------------------\n",
      "|          LossPi |            30.9 |\n",
      "|           LossQ |            25.9 |\n",
      "|            Time |             760 |\n",
      "-------------------------------------\n",
      "Step 7449: pi_lr=0.000005, q_lr=0.000005\n",
      "Checkpoint saved to checkpoints/td3_ep150.pth\n",
      "-------------------------------------\n",
      "|          LossPi |            30.1 |\n",
      "|           LossQ |            26.4 |\n",
      "|            Time |             764 |\n",
      "-------------------------------------\n",
      "Step 7499: pi_lr=0.000005, q_lr=0.000005\n",
      "Checkpoint saved to checkpoints/td3_ep151.pth\n",
      "-------------------------------------\n",
      "|          LossPi |            31.7 |\n",
      "|           LossQ |            25.7 |\n",
      "|            Time |             770 |\n",
      "-------------------------------------\n",
      "Step 7549: pi_lr=0.000005, q_lr=0.000005\n",
      "Checkpoint saved to checkpoints/td3_ep152.pth\n",
      "-------------------------------------\n",
      "|          LossPi |            30.8 |\n",
      "|           LossQ |            28.6 |\n",
      "|            Time |             775 |\n",
      "-------------------------------------\n",
      "Step 7599: pi_lr=0.000005, q_lr=0.000005\n",
      "Checkpoint saved to checkpoints/td3_ep153.pth\n",
      "-------------------------------------\n",
      "|          LossPi |              31 |\n",
      "|           LossQ |            22.4 |\n",
      "|            Time |             780 |\n",
      "-------------------------------------\n",
      "Step 7649: pi_lr=0.000005, q_lr=0.000005\n",
      "Checkpoint saved to checkpoints/td3_ep154.pth\n",
      "-------------------------------------\n",
      "|          LossPi |            31.1 |\n",
      "|           LossQ |            24.5 |\n",
      "|            Time |             785 |\n",
      "-------------------------------------\n",
      "Step 7699: pi_lr=0.000005, q_lr=0.000005\n",
      "Checkpoint saved to checkpoints/td3_ep155.pth\n",
      "-------------------------------------\n",
      "|          LossPi |            30.7 |\n",
      "|           LossQ |            25.4 |\n",
      "|            Time |             790 |\n",
      "-------------------------------------\n",
      "Step 7749: pi_lr=0.000004, q_lr=0.000004\n",
      "Checkpoint saved to checkpoints/td3_ep156.pth\n",
      "-------------------------------------\n",
      "|          LossPi |            30.4 |\n",
      "|           LossQ |            22.9 |\n",
      "|            Time |             795 |\n",
      "-------------------------------------\n",
      "Step 7799: pi_lr=0.000004, q_lr=0.000004\n",
      "Checkpoint saved to checkpoints/td3_ep157.pth\n",
      "-------------------------------------\n",
      "|          LossPi |            30.9 |\n",
      "|           LossQ |            25.8 |\n",
      "|            Time |             800 |\n",
      "-------------------------------------\n",
      "Step 7849: pi_lr=0.000004, q_lr=0.000004\n",
      "Checkpoint saved to checkpoints/td3_ep158.pth\n",
      "-------------------------------------\n",
      "|          LossPi |            31.1 |\n",
      "|           LossQ |            23.6 |\n",
      "|            Time |             805 |\n",
      "-------------------------------------\n",
      "Step 7899: pi_lr=0.000004, q_lr=0.000004\n",
      "Checkpoint saved to checkpoints/td3_ep159.pth\n",
      "-------------------------------------\n",
      "|          LossPi |            31.6 |\n",
      "|           LossQ |            27.7 |\n",
      "|            Time |             810 |\n",
      "-------------------------------------\n",
      "Step 7949: pi_lr=0.000004, q_lr=0.000004\n",
      "Checkpoint saved to checkpoints/td3_ep160.pth\n",
      "-------------------------------------\n",
      "|          LossPi |            30.5 |\n",
      "|           LossQ |            22.9 |\n",
      "|            Time |             815 |\n",
      "-------------------------------------\n",
      "Step 7999: pi_lr=0.000004, q_lr=0.000004\n",
      "Checkpoint saved to checkpoints/td3_ep161.pth\n",
      "-------------------------------------\n",
      "|          LossPi |              30 |\n",
      "|           LossQ |            27.3 |\n",
      "|            Time |             821 |\n",
      "-------------------------------------\n",
      "Step 8049: pi_lr=0.000004, q_lr=0.000004\n",
      "Checkpoint saved to checkpoints/td3_ep162.pth\n",
      "-------------------------------------\n",
      "|          LossPi |              31 |\n",
      "|           LossQ |            24.9 |\n",
      "|            Time |             825 |\n",
      "-------------------------------------\n",
      "Step 8099: pi_lr=0.000004, q_lr=0.000004\n",
      "Checkpoint saved to checkpoints/td3_ep163.pth\n",
      "-------------------------------------\n",
      "|          LossPi |            31.4 |\n",
      "|           LossQ |            22.3 |\n",
      "|            Time |             830 |\n",
      "-------------------------------------\n",
      "Step 8149: pi_lr=0.000003, q_lr=0.000003\n",
      "Checkpoint saved to checkpoints/td3_ep164.pth\n",
      "-------------------------------------\n",
      "|          LossPi |            29.9 |\n",
      "|           LossQ |            28.6 |\n",
      "|            Time |             836 |\n",
      "-------------------------------------\n",
      "Step 8199: pi_lr=0.000003, q_lr=0.000003\n",
      "Checkpoint saved to checkpoints/td3_ep165.pth\n",
      "-------------------------------------\n",
      "|          LossPi |            30.2 |\n",
      "|           LossQ |            31.7 |\n",
      "|            Time |             840 |\n",
      "-------------------------------------\n",
      "Step 8249: pi_lr=0.000003, q_lr=0.000003\n",
      "Checkpoint saved to checkpoints/td3_ep166.pth\n",
      "-------------------------------------\n",
      "|          LossPi |            29.6 |\n",
      "|           LossQ |            24.6 |\n",
      "|            Time |             846 |\n",
      "-------------------------------------\n",
      "Step 8299: pi_lr=0.000003, q_lr=0.000003\n",
      "Checkpoint saved to checkpoints/td3_ep167.pth\n",
      "-------------------------------------\n",
      "|          LossPi |            29.5 |\n",
      "|           LossQ |            24.4 |\n",
      "|            Time |             851 |\n",
      "-------------------------------------\n",
      "Step 8349: pi_lr=0.000003, q_lr=0.000003\n",
      "Checkpoint saved to checkpoints/td3_ep168.pth\n",
      "-------------------------------------\n",
      "|          LossPi |            29.9 |\n",
      "|           LossQ |            25.9 |\n",
      "|            Time |             856 |\n",
      "-------------------------------------\n",
      "Step 8399: pi_lr=0.000003, q_lr=0.000003\n",
      "Checkpoint saved to checkpoints/td3_ep169.pth\n",
      "-------------------------------------\n",
      "|          LossPi |            28.7 |\n",
      "|           LossQ |            23.5 |\n",
      "|            Time |             861 |\n",
      "-------------------------------------\n",
      "Step 8449: pi_lr=0.000003, q_lr=0.000003\n",
      "Checkpoint saved to checkpoints/td3_ep170.pth\n",
      "-------------------------------------\n",
      "|          LossPi |            29.9 |\n",
      "|           LossQ |            24.7 |\n",
      "|            Time |             866 |\n",
      "-------------------------------------\n",
      "Step 8499: pi_lr=0.000003, q_lr=0.000003\n",
      "Checkpoint saved to checkpoints/td3_ep171.pth\n",
      "-------------------------------------\n",
      "|          LossPi |            29.4 |\n",
      "|           LossQ |            22.6 |\n",
      "|            Time |             871 |\n",
      "-------------------------------------\n",
      "Step 8549: pi_lr=0.000002, q_lr=0.000002\n",
      "Checkpoint saved to checkpoints/td3_ep172.pth\n",
      "-------------------------------------\n",
      "|          LossPi |            28.5 |\n",
      "|           LossQ |            27.1 |\n",
      "|            Time |             876 |\n",
      "-------------------------------------\n",
      "Step 8599: pi_lr=0.000002, q_lr=0.000002\n",
      "Checkpoint saved to checkpoints/td3_ep173.pth\n",
      "-------------------------------------\n",
      "|          LossPi |            29.1 |\n",
      "|           LossQ |            23.8 |\n",
      "|            Time |             881 |\n",
      "-------------------------------------\n",
      "Step 8649: pi_lr=0.000002, q_lr=0.000002\n",
      "Checkpoint saved to checkpoints/td3_ep174.pth\n",
      "-------------------------------------\n",
      "|          LossPi |            30.6 |\n",
      "|           LossQ |            23.3 |\n",
      "|            Time |             886 |\n",
      "-------------------------------------\n",
      "Step 8699: pi_lr=0.000002, q_lr=0.000002\n",
      "Checkpoint saved to checkpoints/td3_ep175.pth\n",
      "-------------------------------------\n",
      "|          LossPi |            29.1 |\n",
      "|           LossQ |            22.7 |\n",
      "|            Time |             891 |\n",
      "-------------------------------------\n",
      "Step 8749: pi_lr=0.000002, q_lr=0.000002\n",
      "Checkpoint saved to checkpoints/td3_ep176.pth\n",
      "-------------------------------------\n",
      "|          LossPi |            28.6 |\n",
      "|           LossQ |              26 |\n",
      "|            Time |             896 |\n",
      "-------------------------------------\n",
      "Step 8799: pi_lr=0.000002, q_lr=0.000002\n",
      "Checkpoint saved to checkpoints/td3_ep177.pth\n",
      "-------------------------------------\n",
      "|          LossPi |            29.2 |\n",
      "|           LossQ |            26.7 |\n",
      "|            Time |             901 |\n",
      "-------------------------------------\n",
      "Step 8849: pi_lr=0.000002, q_lr=0.000002\n",
      "Checkpoint saved to checkpoints/td3_ep178.pth\n",
      "-------------------------------------\n",
      "|          LossPi |            28.6 |\n",
      "|           LossQ |            25.2 |\n",
      "|            Time |             906 |\n",
      "-------------------------------------\n",
      "Step 8899: pi_lr=0.000002, q_lr=0.000002\n",
      "Checkpoint saved to checkpoints/td3_ep179.pth\n",
      "-------------------------------------\n",
      "|          LossPi |            28.8 |\n",
      "|           LossQ |            23.4 |\n",
      "|            Time |             911 |\n",
      "-------------------------------------\n",
      "Step 8949: pi_lr=0.000002, q_lr=0.000002\n",
      "Checkpoint saved to checkpoints/td3_ep180.pth\n",
      "-------------------------------------\n",
      "|          LossPi |            27.7 |\n",
      "|           LossQ |            22.4 |\n",
      "|            Time |             916 |\n",
      "-------------------------------------\n",
      "Step 8999: pi_lr=0.000002, q_lr=0.000002\n",
      "Checkpoint saved to checkpoints/td3_ep181.pth\n",
      "-------------------------------------\n",
      "|          LossPi |            27.8 |\n",
      "|           LossQ |            24.5 |\n",
      "|            Time |             921 |\n",
      "-------------------------------------\n",
      "Step 9049: pi_lr=0.000002, q_lr=0.000002\n",
      "Checkpoint saved to checkpoints/td3_ep182.pth\n",
      "-------------------------------------\n",
      "|          LossPi |            27.2 |\n",
      "|           LossQ |            23.6 |\n",
      "|            Time |             926 |\n",
      "-------------------------------------\n",
      "Step 9099: pi_lr=0.000002, q_lr=0.000002\n",
      "Checkpoint saved to checkpoints/td3_ep183.pth\n",
      "-------------------------------------\n",
      "|          LossPi |            28.1 |\n",
      "|           LossQ |            26.4 |\n",
      "|            Time |             931 |\n",
      "-------------------------------------\n",
      "Step 9149: pi_lr=0.000002, q_lr=0.000002\n",
      "Checkpoint saved to checkpoints/td3_ep184.pth\n",
      "-------------------------------------\n",
      "|          LossPi |            27.9 |\n",
      "|           LossQ |            23.3 |\n",
      "|            Time |             937 |\n",
      "-------------------------------------\n",
      "Step 9199: pi_lr=0.000001, q_lr=0.000001\n",
      "Checkpoint saved to checkpoints/td3_ep185.pth\n",
      "-------------------------------------\n",
      "|          LossPi |            29.2 |\n",
      "|           LossQ |            26.1 |\n",
      "|            Time |             941 |\n",
      "-------------------------------------\n",
      "Step 9249: pi_lr=0.000001, q_lr=0.000001\n",
      "Checkpoint saved to checkpoints/td3_ep186.pth\n",
      "-------------------------------------\n",
      "|          LossPi |              29 |\n",
      "|           LossQ |            25.2 |\n",
      "|            Time |             947 |\n",
      "-------------------------------------\n",
      "Step 9299: pi_lr=0.000001, q_lr=0.000001\n",
      "Checkpoint saved to checkpoints/td3_ep187.pth\n",
      "-------------------------------------\n",
      "|          LossPi |            28.4 |\n",
      "|           LossQ |            25.3 |\n",
      "|            Time |             952 |\n",
      "-------------------------------------\n",
      "Step 9349: pi_lr=0.000001, q_lr=0.000001\n",
      "Checkpoint saved to checkpoints/td3_ep188.pth\n",
      "-------------------------------------\n",
      "|          LossPi |            27.7 |\n",
      "|           LossQ |            24.6 |\n",
      "|            Time |             957 |\n",
      "-------------------------------------\n",
      "Step 9399: pi_lr=0.000001, q_lr=0.000001\n",
      "Checkpoint saved to checkpoints/td3_ep189.pth\n",
      "-------------------------------------\n",
      "|          LossPi |            28.4 |\n",
      "|           LossQ |            22.3 |\n",
      "|            Time |             962 |\n",
      "-------------------------------------\n",
      "Step 9449: pi_lr=0.000001, q_lr=0.000001\n",
      "Checkpoint saved to checkpoints/td3_ep190.pth\n",
      "-------------------------------------\n",
      "|          LossPi |            29.1 |\n",
      "|           LossQ |            25.2 |\n",
      "|            Time |             967 |\n",
      "-------------------------------------\n",
      "Step 9499: pi_lr=0.000001, q_lr=0.000001\n",
      "Checkpoint saved to checkpoints/td3_ep191.pth\n",
      "-------------------------------------\n",
      "|          LossPi |              29 |\n",
      "|           LossQ |            22.8 |\n",
      "|            Time |             972 |\n",
      "-------------------------------------\n",
      "Step 9549: pi_lr=0.000001, q_lr=0.000001\n",
      "Checkpoint saved to checkpoints/td3_ep192.pth\n",
      "-------------------------------------\n",
      "|          LossPi |            29.3 |\n",
      "|           LossQ |            26.3 |\n",
      "|            Time |             977 |\n",
      "-------------------------------------\n",
      "Step 9599: pi_lr=0.000001, q_lr=0.000001\n",
      "Checkpoint saved to checkpoints/td3_ep193.pth\n",
      "-------------------------------------\n",
      "|          LossPi |            27.8 |\n",
      "|           LossQ |            23.3 |\n",
      "|            Time |             982 |\n",
      "-------------------------------------\n",
      "Step 9649: pi_lr=0.000001, q_lr=0.000001\n",
      "Checkpoint saved to checkpoints/td3_ep194.pth\n",
      "-------------------------------------\n",
      "|          LossPi |            29.2 |\n",
      "|           LossQ |            23.9 |\n",
      "|            Time |             988 |\n",
      "-------------------------------------\n",
      "Step 9699: pi_lr=0.000001, q_lr=0.000001\n",
      "Checkpoint saved to checkpoints/td3_ep195.pth\n",
      "-------------------------------------\n",
      "|          LossPi |            28.6 |\n",
      "|           LossQ |            26.3 |\n",
      "|            Time |             992 |\n",
      "-------------------------------------\n",
      "Step 9749: pi_lr=0.000001, q_lr=0.000001\n",
      "Checkpoint saved to checkpoints/td3_ep196.pth\n",
      "-------------------------------------\n",
      "|          LossPi |            28.8 |\n",
      "|           LossQ |            26.7 |\n",
      "|            Time |             997 |\n",
      "-------------------------------------\n",
      "Step 9799: pi_lr=0.000001, q_lr=0.000001\n",
      "Checkpoint saved to checkpoints/td3_ep197.pth\n",
      "-------------------------------------\n",
      "|          LossPi |              29 |\n",
      "|           LossQ |            22.5 |\n",
      "|            Time |           1e+03 |\n",
      "-------------------------------------\n",
      "Step 9849: pi_lr=0.000001, q_lr=0.000001\n",
      "Checkpoint saved to checkpoints/td3_ep198.pth\n",
      "-------------------------------------\n",
      "|          LossPi |            29.5 |\n",
      "|           LossQ |            22.4 |\n",
      "|            Time |        1.01e+03 |\n",
      "-------------------------------------\n",
      "Step 9899: pi_lr=0.000001, q_lr=0.000001\n",
      "Checkpoint saved to checkpoints/td3_ep199.pth\n",
      "-------------------------------------\n",
      "|          LossPi |            29.9 |\n",
      "|           LossQ |            24.4 |\n",
      "|            Time |        1.01e+03 |\n",
      "-------------------------------------\n",
      "Step 9949: pi_lr=0.000001, q_lr=0.000001\n",
      "Checkpoint saved to checkpoints/td3_ep200.pth\n",
      "-------------------------------------\n",
      "|          LossPi |            29.4 |\n",
      "|           LossQ |            26.8 |\n",
      "|            Time |        1.02e+03 |\n",
      "-------------------------------------\n",
      "Step 9999: pi_lr=0.000001, q_lr=0.000001\n",
      "Checkpoint saved to savings/models/td3_industrial_exp_ol_dataset1_retrain1_final.pth\n",
      "Retrain: 2/2\n",
      "Loading diffusion model from savings/models/diffusion_model_industrial_exp_dataset1_final.pth\n",
      "Sampling timestep 1/12\n",
      "Sampling timestep 2/12\n",
      "Sampling timestep 3/12\n",
      "Sampling timestep 4/12\n",
      "Sampling timestep 5/12\n",
      "Sampling timestep 6/12\n",
      "Sampling timestep 7/12\n",
      "Sampling timestep 8/12\n",
      "Sampling timestep 9/12\n",
      "Sampling timestep 10/12\n",
      "Sampling timestep 11/12\n",
      "Sampling timestep 12/12\n",
      "\u001b[32;1mLogging data to /tmp/experiments/1752339272/progress.txt\u001b[0m\n",
      "\u001b[32;1m\n",
      "Number of parameters: \t pi: 18762, \t q1: 18817, \t q2: 18817\n",
      "\u001b[0m\n",
      "Checkpoint saved to checkpoints/td3_ep2.pth\n",
      "-------------------------------------\n",
      "|          LossPi |            30.9 |\n",
      "|           LossQ |            23.9 |\n",
      "|            Time |             5.1 |\n",
      "-------------------------------------\n",
      "Step 99: pi_lr=0.000030, q_lr=0.000030\n",
      "Checkpoint saved to checkpoints/td3_ep3.pth\n",
      "-------------------------------------\n",
      "|          LossPi |            30.8 |\n",
      "|           LossQ |            30.1 |\n",
      "|            Time |             9.5 |\n",
      "-------------------------------------\n",
      "Step 149: pi_lr=0.000030, q_lr=0.000030\n",
      "Checkpoint saved to checkpoints/td3_ep4.pth\n",
      "-------------------------------------\n",
      "|          LossPi |            30.1 |\n",
      "|           LossQ |            34.2 |\n",
      "|            Time |            14.1 |\n",
      "-------------------------------------\n",
      "Step 199: pi_lr=0.000030, q_lr=0.000030\n",
      "Checkpoint saved to checkpoints/td3_ep5.pth\n",
      "-------------------------------------\n",
      "|          LossPi |              32 |\n",
      "|           LossQ |            28.3 |\n",
      "|            Time |              19 |\n",
      "-------------------------------------\n",
      "Step 249: pi_lr=0.000030, q_lr=0.000030\n",
      "Checkpoint saved to checkpoints/td3_ep6.pth\n",
      "-------------------------------------\n",
      "|          LossPi |            32.6 |\n",
      "|           LossQ |            32.1 |\n",
      "|            Time |            23.2 |\n",
      "-------------------------------------\n",
      "Step 299: pi_lr=0.000030, q_lr=0.000030\n",
      "Checkpoint saved to checkpoints/td3_ep7.pth\n",
      "-------------------------------------\n",
      "|          LossPi |            32.5 |\n",
      "|           LossQ |            26.7 |\n",
      "|            Time |              28 |\n",
      "-------------------------------------\n",
      "Step 349: pi_lr=0.000030, q_lr=0.000030\n",
      "Checkpoint saved to checkpoints/td3_ep8.pth\n",
      "-------------------------------------\n",
      "|          LossPi |            32.8 |\n",
      "|           LossQ |            27.3 |\n",
      "|            Time |            32.6 |\n",
      "-------------------------------------\n",
      "Step 399: pi_lr=0.000030, q_lr=0.000030\n",
      "Checkpoint saved to checkpoints/td3_ep9.pth\n",
      "-------------------------------------\n",
      "|          LossPi |            33.6 |\n",
      "|           LossQ |            25.3 |\n",
      "|            Time |              37 |\n",
      "-------------------------------------\n",
      "Step 449: pi_lr=0.000030, q_lr=0.000030\n",
      "Checkpoint saved to checkpoints/td3_ep10.pth\n",
      "-------------------------------------\n",
      "|          LossPi |            32.7 |\n",
      "|           LossQ |            29.3 |\n",
      "|            Time |            42.1 |\n",
      "-------------------------------------\n",
      "Step 499: pi_lr=0.000030, q_lr=0.000030\n",
      "Checkpoint saved to checkpoints/td3_ep11.pth\n",
      "-------------------------------------\n",
      "|          LossPi |            33.4 |\n",
      "|           LossQ |            30.6 |\n",
      "|            Time |            46.4 |\n",
      "-------------------------------------\n",
      "Step 549: pi_lr=0.000030, q_lr=0.000030\n",
      "Checkpoint saved to checkpoints/td3_ep12.pth\n",
      "-------------------------------------\n",
      "|          LossPi |            32.7 |\n",
      "|           LossQ |            21.4 |\n",
      "|            Time |            50.7 |\n",
      "-------------------------------------\n",
      "Step 599: pi_lr=0.000030, q_lr=0.000030\n",
      "Checkpoint saved to checkpoints/td3_ep13.pth\n",
      "-------------------------------------\n",
      "|          LossPi |            32.8 |\n",
      "|           LossQ |            23.1 |\n",
      "|            Time |            55.9 |\n",
      "-------------------------------------\n",
      "Step 649: pi_lr=0.000030, q_lr=0.000030\n",
      "Checkpoint saved to checkpoints/td3_ep14.pth\n",
      "-------------------------------------\n",
      "|          LossPi |            30.7 |\n",
      "|           LossQ |            25.8 |\n",
      "|            Time |            60.3 |\n",
      "-------------------------------------\n",
      "Step 699: pi_lr=0.000030, q_lr=0.000030\n",
      "Checkpoint saved to checkpoints/td3_ep15.pth\n",
      "-------------------------------------\n",
      "|          LossPi |            31.4 |\n",
      "|           LossQ |            27.3 |\n",
      "|            Time |            64.6 |\n",
      "-------------------------------------\n",
      "Step 749: pi_lr=0.000030, q_lr=0.000030\n",
      "Checkpoint saved to checkpoints/td3_ep16.pth\n",
      "-------------------------------------\n",
      "|          LossPi |            33.4 |\n",
      "|           LossQ |            24.9 |\n",
      "|            Time |            69.7 |\n",
      "-------------------------------------\n",
      "Step 799: pi_lr=0.000030, q_lr=0.000030\n",
      "Checkpoint saved to checkpoints/td3_ep17.pth\n",
      "-------------------------------------\n",
      "|          LossPi |            35.4 |\n",
      "|           LossQ |            26.1 |\n",
      "|            Time |              74 |\n",
      "-------------------------------------\n",
      "Step 849: pi_lr=0.000029, q_lr=0.000029\n",
      "Checkpoint saved to checkpoints/td3_ep18.pth\n",
      "-------------------------------------\n",
      "|          LossPi |              36 |\n",
      "|           LossQ |            30.3 |\n",
      "|            Time |            78.4 |\n",
      "-------------------------------------\n",
      "Step 899: pi_lr=0.000029, q_lr=0.000029\n",
      "Checkpoint saved to checkpoints/td3_ep19.pth\n",
      "-------------------------------------\n",
      "|          LossPi |            35.8 |\n",
      "|           LossQ |            27.3 |\n",
      "|            Time |            83.3 |\n",
      "-------------------------------------\n",
      "Step 949: pi_lr=0.000029, q_lr=0.000029\n",
      "Checkpoint saved to checkpoints/td3_ep20.pth\n",
      "-------------------------------------\n",
      "|          LossPi |            35.8 |\n",
      "|           LossQ |            31.7 |\n",
      "|            Time |            87.6 |\n",
      "-------------------------------------\n",
      "Step 999: pi_lr=0.000029, q_lr=0.000029\n",
      "Checkpoint saved to checkpoints/td3_ep21.pth\n",
      "-------------------------------------\n",
      "|          LossPi |            35.8 |\n",
      "|           LossQ |            27.3 |\n",
      "|            Time |            92.3 |\n",
      "-------------------------------------\n",
      "Step 1049: pi_lr=0.000029, q_lr=0.000029\n",
      "Checkpoint saved to checkpoints/td3_ep22.pth\n",
      "-------------------------------------\n",
      "|          LossPi |            36.5 |\n",
      "|           LossQ |              24 |\n",
      "|            Time |              97 |\n",
      "-------------------------------------\n",
      "Step 1099: pi_lr=0.000029, q_lr=0.000029\n",
      "Checkpoint saved to checkpoints/td3_ep23.pth\n",
      "-------------------------------------\n",
      "|          LossPi |            37.4 |\n",
      "|           LossQ |            24.6 |\n",
      "|            Time |             101 |\n",
      "-------------------------------------\n",
      "Step 1149: pi_lr=0.000029, q_lr=0.000029\n",
      "Checkpoint saved to checkpoints/td3_ep24.pth\n",
      "-------------------------------------\n",
      "|          LossPi |            38.3 |\n",
      "|           LossQ |            25.5 |\n",
      "|            Time |             106 |\n",
      "-------------------------------------\n",
      "Step 1199: pi_lr=0.000029, q_lr=0.000029\n",
      "Checkpoint saved to checkpoints/td3_ep25.pth\n",
      "-------------------------------------\n",
      "|          LossPi |            36.8 |\n",
      "|           LossQ |            25.5 |\n",
      "|            Time |             111 |\n",
      "-------------------------------------\n",
      "Step 1249: pi_lr=0.000029, q_lr=0.000029\n",
      "Checkpoint saved to checkpoints/td3_ep26.pth\n",
      "-------------------------------------\n",
      "|          LossPi |            37.8 |\n",
      "|           LossQ |            28.1 |\n",
      "|            Time |             115 |\n",
      "-------------------------------------\n",
      "Step 1299: pi_lr=0.000029, q_lr=0.000029\n",
      "Checkpoint saved to checkpoints/td3_ep27.pth\n",
      "-------------------------------------\n",
      "|          LossPi |            36.1 |\n",
      "|           LossQ |            27.4 |\n",
      "|            Time |             120 |\n",
      "-------------------------------------\n",
      "Step 1349: pi_lr=0.000029, q_lr=0.000029\n",
      "Checkpoint saved to checkpoints/td3_ep28.pth\n",
      "-------------------------------------\n",
      "|          LossPi |            37.5 |\n",
      "|           LossQ |            26.4 |\n",
      "|            Time |             125 |\n",
      "-------------------------------------\n",
      "Step 1399: pi_lr=0.000029, q_lr=0.000029\n",
      "Checkpoint saved to checkpoints/td3_ep29.pth\n",
      "-------------------------------------\n",
      "|          LossPi |            36.5 |\n",
      "|           LossQ |            33.8 |\n",
      "|            Time |             129 |\n",
      "-------------------------------------\n",
      "Step 1449: pi_lr=0.000029, q_lr=0.000029\n",
      "Checkpoint saved to checkpoints/td3_ep30.pth\n",
      "-------------------------------------\n",
      "|          LossPi |            35.6 |\n",
      "|           LossQ |            28.7 |\n",
      "|            Time |             134 |\n",
      "-------------------------------------\n",
      "Step 1499: pi_lr=0.000028, q_lr=0.000028\n",
      "Checkpoint saved to checkpoints/td3_ep31.pth\n",
      "-------------------------------------\n",
      "|          LossPi |            35.1 |\n",
      "|           LossQ |              29 |\n",
      "|            Time |             138 |\n",
      "-------------------------------------\n",
      "Step 1549: pi_lr=0.000028, q_lr=0.000028\n",
      "Checkpoint saved to checkpoints/td3_ep32.pth\n",
      "-------------------------------------\n",
      "|          LossPi |            36.1 |\n",
      "|           LossQ |              29 |\n",
      "|            Time |             143 |\n",
      "-------------------------------------\n",
      "Step 1599: pi_lr=0.000028, q_lr=0.000028\n",
      "Checkpoint saved to checkpoints/td3_ep33.pth\n",
      "-------------------------------------\n",
      "|          LossPi |            34.3 |\n",
      "|           LossQ |            24.2 |\n",
      "|            Time |             148 |\n",
      "-------------------------------------\n",
      "Step 1649: pi_lr=0.000028, q_lr=0.000028\n",
      "Checkpoint saved to checkpoints/td3_ep34.pth\n",
      "-------------------------------------\n",
      "|          LossPi |            35.7 |\n",
      "|           LossQ |            33.3 |\n",
      "|            Time |             152 |\n",
      "-------------------------------------\n",
      "Step 1699: pi_lr=0.000028, q_lr=0.000028\n",
      "Checkpoint saved to checkpoints/td3_ep35.pth\n",
      "-------------------------------------\n",
      "|          LossPi |              35 |\n",
      "|           LossQ |            29.3 |\n",
      "|            Time |             157 |\n",
      "-------------------------------------\n",
      "Step 1749: pi_lr=0.000028, q_lr=0.000028\n",
      "Checkpoint saved to checkpoints/td3_ep36.pth\n",
      "-------------------------------------\n",
      "|          LossPi |            34.6 |\n",
      "|           LossQ |            31.4 |\n",
      "|            Time |             162 |\n",
      "-------------------------------------\n",
      "Step 1799: pi_lr=0.000028, q_lr=0.000028\n",
      "Checkpoint saved to checkpoints/td3_ep37.pth\n",
      "-------------------------------------\n",
      "|          LossPi |            35.8 |\n",
      "|           LossQ |            31.5 |\n",
      "|            Time |             166 |\n",
      "-------------------------------------\n",
      "Step 1849: pi_lr=0.000028, q_lr=0.000028\n",
      "Checkpoint saved to checkpoints/td3_ep38.pth\n",
      "-------------------------------------\n",
      "|          LossPi |            35.1 |\n",
      "|           LossQ |            32.5 |\n",
      "|            Time |             171 |\n",
      "-------------------------------------\n",
      "Step 1899: pi_lr=0.000027, q_lr=0.000027\n",
      "Checkpoint saved to checkpoints/td3_ep39.pth\n",
      "-------------------------------------\n",
      "|          LossPi |            34.5 |\n",
      "|           LossQ |              26 |\n",
      "|            Time |             175 |\n",
      "-------------------------------------\n",
      "Step 1949: pi_lr=0.000027, q_lr=0.000027\n",
      "Checkpoint saved to checkpoints/td3_ep40.pth\n",
      "-------------------------------------\n",
      "|          LossPi |              34 |\n",
      "|           LossQ |            30.9 |\n",
      "|            Time |             180 |\n",
      "-------------------------------------\n",
      "Step 1999: pi_lr=0.000027, q_lr=0.000027\n",
      "Checkpoint saved to checkpoints/td3_ep41.pth\n",
      "-------------------------------------\n",
      "|          LossPi |              32 |\n",
      "|           LossQ |            30.2 |\n",
      "|            Time |             185 |\n",
      "-------------------------------------\n",
      "Step 2049: pi_lr=0.000027, q_lr=0.000027\n",
      "Checkpoint saved to checkpoints/td3_ep42.pth\n",
      "-------------------------------------\n",
      "|          LossPi |            34.7 |\n",
      "|           LossQ |            39.1 |\n",
      "|            Time |             189 |\n",
      "-------------------------------------\n",
      "Step 2099: pi_lr=0.000027, q_lr=0.000027\n",
      "Checkpoint saved to checkpoints/td3_ep43.pth\n",
      "-------------------------------------\n",
      "|          LossPi |              35 |\n",
      "|           LossQ |            28.3 |\n",
      "|            Time |             193 |\n",
      "-------------------------------------\n",
      "Step 2149: pi_lr=0.000027, q_lr=0.000027\n",
      "Checkpoint saved to checkpoints/td3_ep44.pth\n",
      "-------------------------------------\n",
      "|          LossPi |            33.4 |\n",
      "|           LossQ |            33.7 |\n",
      "|            Time |             199 |\n",
      "-------------------------------------\n",
      "Step 2199: pi_lr=0.000027, q_lr=0.000027\n",
      "Checkpoint saved to checkpoints/td3_ep45.pth\n",
      "-------------------------------------\n",
      "|          LossPi |            33.9 |\n",
      "|           LossQ |            28.4 |\n",
      "|            Time |             203 |\n",
      "-------------------------------------\n",
      "Step 2249: pi_lr=0.000027, q_lr=0.000027\n",
      "Checkpoint saved to checkpoints/td3_ep46.pth\n",
      "-------------------------------------\n",
      "|          LossPi |            35.7 |\n",
      "|           LossQ |              31 |\n",
      "|            Time |             207 |\n",
      "-------------------------------------\n",
      "Step 2299: pi_lr=0.000026, q_lr=0.000026\n",
      "Checkpoint saved to checkpoints/td3_ep47.pth\n",
      "-------------------------------------\n",
      "|          LossPi |            35.3 |\n",
      "|           LossQ |              32 |\n",
      "|            Time |             212 |\n",
      "-------------------------------------\n",
      "Step 2349: pi_lr=0.000026, q_lr=0.000026\n",
      "Checkpoint saved to checkpoints/td3_ep48.pth\n",
      "-------------------------------------\n",
      "|          LossPi |            34.8 |\n",
      "|           LossQ |            29.7 |\n",
      "|            Time |             216 |\n",
      "-------------------------------------\n",
      "Step 2399: pi_lr=0.000026, q_lr=0.000026\n",
      "Checkpoint saved to checkpoints/td3_ep49.pth\n",
      "-------------------------------------\n",
      "|          LossPi |            34.2 |\n",
      "|           LossQ |            30.9 |\n",
      "|            Time |             221 |\n",
      "-------------------------------------\n",
      "Step 2449: pi_lr=0.000026, q_lr=0.000026\n",
      "Checkpoint saved to checkpoints/td3_ep50.pth\n",
      "-------------------------------------\n",
      "|          LossPi |            34.9 |\n",
      "|           LossQ |              33 |\n",
      "|            Time |             226 |\n",
      "-------------------------------------\n",
      "Step 2499: pi_lr=0.000026, q_lr=0.000026\n",
      "Checkpoint saved to checkpoints/td3_ep51.pth\n",
      "-------------------------------------\n",
      "|          LossPi |            35.4 |\n",
      "|           LossQ |            38.4 |\n",
      "|            Time |             230 |\n",
      "-------------------------------------\n",
      "Step 2549: pi_lr=0.000026, q_lr=0.000026\n",
      "Checkpoint saved to checkpoints/td3_ep52.pth\n",
      "-------------------------------------\n",
      "|          LossPi |              35 |\n",
      "|           LossQ |            42.4 |\n",
      "|            Time |             234 |\n",
      "-------------------------------------\n",
      "Step 2599: pi_lr=0.000025, q_lr=0.000025\n",
      "Checkpoint saved to checkpoints/td3_ep53.pth\n",
      "-------------------------------------\n",
      "|          LossPi |            35.4 |\n",
      "|           LossQ |            31.6 |\n",
      "|            Time |             239 |\n",
      "-------------------------------------\n",
      "Step 2649: pi_lr=0.000025, q_lr=0.000025\n",
      "Checkpoint saved to checkpoints/td3_ep54.pth\n",
      "-------------------------------------\n",
      "|          LossPi |            34.5 |\n",
      "|           LossQ |            34.7 |\n",
      "|            Time |             243 |\n",
      "-------------------------------------\n",
      "Step 2699: pi_lr=0.000025, q_lr=0.000025\n",
      "Checkpoint saved to checkpoints/td3_ep55.pth\n",
      "-------------------------------------\n",
      "|          LossPi |            34.3 |\n",
      "|           LossQ |            35.1 |\n",
      "|            Time |             248 |\n",
      "-------------------------------------\n",
      "Step 2749: pi_lr=0.000025, q_lr=0.000025\n",
      "Checkpoint saved to checkpoints/td3_ep56.pth\n",
      "-------------------------------------\n",
      "|          LossPi |            36.7 |\n",
      "|           LossQ |            39.2 |\n",
      "|            Time |             252 |\n",
      "-------------------------------------\n",
      "Step 2799: pi_lr=0.000025, q_lr=0.000025\n",
      "Checkpoint saved to checkpoints/td3_ep57.pth\n",
      "-------------------------------------\n",
      "|          LossPi |            37.8 |\n",
      "|           LossQ |              37 |\n",
      "|            Time |             257 |\n",
      "-------------------------------------\n",
      "Step 2849: pi_lr=0.000025, q_lr=0.000025\n",
      "Checkpoint saved to checkpoints/td3_ep58.pth\n",
      "-------------------------------------\n",
      "|          LossPi |            38.6 |\n",
      "|           LossQ |            31.3 |\n",
      "|            Time |             262 |\n",
      "-------------------------------------\n",
      "Step 2899: pi_lr=0.000024, q_lr=0.000024\n",
      "Checkpoint saved to checkpoints/td3_ep59.pth\n",
      "-------------------------------------\n",
      "|          LossPi |            37.6 |\n",
      "|           LossQ |            30.8 |\n",
      "|            Time |             266 |\n",
      "-------------------------------------\n",
      "Step 2949: pi_lr=0.000024, q_lr=0.000024\n",
      "Checkpoint saved to checkpoints/td3_ep60.pth\n",
      "-------------------------------------\n",
      "|          LossPi |              39 |\n",
      "|           LossQ |            37.2 |\n",
      "|            Time |             270 |\n",
      "-------------------------------------\n",
      "Step 2999: pi_lr=0.000024, q_lr=0.000024\n",
      "Checkpoint saved to checkpoints/td3_ep61.pth\n",
      "-------------------------------------\n",
      "|          LossPi |            35.4 |\n",
      "|           LossQ |            33.3 |\n",
      "|            Time |             275 |\n",
      "-------------------------------------\n",
      "Step 3049: pi_lr=0.000024, q_lr=0.000024\n",
      "Checkpoint saved to checkpoints/td3_ep62.pth\n",
      "-------------------------------------\n",
      "|          LossPi |            37.2 |\n",
      "|           LossQ |            33.8 |\n",
      "|            Time |             279 |\n",
      "-------------------------------------\n",
      "Step 3099: pi_lr=0.000024, q_lr=0.000024\n",
      "Checkpoint saved to checkpoints/td3_ep63.pth\n",
      "-------------------------------------\n",
      "|          LossPi |            37.4 |\n",
      "|           LossQ |            35.9 |\n",
      "|            Time |             284 |\n",
      "-------------------------------------\n",
      "Step 3149: pi_lr=0.000023, q_lr=0.000023\n",
      "Checkpoint saved to checkpoints/td3_ep64.pth\n",
      "-------------------------------------\n",
      "|          LossPi |            38.2 |\n",
      "|           LossQ |            32.5 |\n",
      "|            Time |             289 |\n",
      "-------------------------------------\n",
      "Step 3199: pi_lr=0.000023, q_lr=0.000023\n",
      "Checkpoint saved to checkpoints/td3_ep65.pth\n",
      "-------------------------------------\n",
      "|          LossPi |            36.9 |\n",
      "|           LossQ |            33.2 |\n",
      "|            Time |             293 |\n",
      "-------------------------------------\n",
      "Step 3249: pi_lr=0.000023, q_lr=0.000023\n",
      "Checkpoint saved to checkpoints/td3_ep66.pth\n",
      "-------------------------------------\n",
      "|          LossPi |              38 |\n",
      "|           LossQ |            29.2 |\n",
      "|            Time |             297 |\n",
      "-------------------------------------\n",
      "Step 3299: pi_lr=0.000023, q_lr=0.000023\n",
      "Checkpoint saved to checkpoints/td3_ep67.pth\n",
      "-------------------------------------\n",
      "|          LossPi |            36.8 |\n",
      "|           LossQ |            31.5 |\n",
      "|            Time |             302 |\n",
      "-------------------------------------\n",
      "Step 3349: pi_lr=0.000023, q_lr=0.000023\n",
      "Checkpoint saved to checkpoints/td3_ep68.pth\n",
      "-------------------------------------\n",
      "|          LossPi |            35.4 |\n",
      "|           LossQ |            40.5 |\n",
      "|            Time |             306 |\n",
      "-------------------------------------\n",
      "Step 3399: pi_lr=0.000022, q_lr=0.000022\n",
      "Checkpoint saved to checkpoints/td3_ep69.pth\n",
      "-------------------------------------\n",
      "|          LossPi |              35 |\n",
      "|           LossQ |              35 |\n",
      "|            Time |             311 |\n",
      "-------------------------------------\n",
      "Step 3449: pi_lr=0.000022, q_lr=0.000022\n",
      "Checkpoint saved to checkpoints/td3_ep70.pth\n",
      "-------------------------------------\n",
      "|          LossPi |            35.9 |\n",
      "|           LossQ |            31.7 |\n",
      "|            Time |             315 |\n",
      "-------------------------------------\n",
      "Step 3499: pi_lr=0.000022, q_lr=0.000022\n",
      "Checkpoint saved to checkpoints/td3_ep71.pth\n",
      "-------------------------------------\n",
      "|          LossPi |            34.7 |\n",
      "|           LossQ |            33.3 |\n",
      "|            Time |             320 |\n",
      "-------------------------------------\n",
      "Step 3549: pi_lr=0.000022, q_lr=0.000022\n",
      "Checkpoint saved to checkpoints/td3_ep72.pth\n",
      "-------------------------------------\n",
      "|          LossPi |            34.4 |\n",
      "|           LossQ |            35.2 |\n",
      "|            Time |             324 |\n",
      "-------------------------------------\n",
      "Step 3599: pi_lr=0.000022, q_lr=0.000022\n",
      "Checkpoint saved to checkpoints/td3_ep73.pth\n",
      "-------------------------------------\n",
      "|          LossPi |            33.1 |\n",
      "|           LossQ |            31.8 |\n",
      "|            Time |             329 |\n",
      "-------------------------------------\n",
      "Step 3649: pi_lr=0.000021, q_lr=0.000021\n",
      "Checkpoint saved to checkpoints/td3_ep74.pth\n",
      "-------------------------------------\n",
      "|          LossPi |            34.5 |\n",
      "|           LossQ |            38.1 |\n",
      "|            Time |             333 |\n",
      "-------------------------------------\n",
      "Step 3699: pi_lr=0.000021, q_lr=0.000021\n",
      "Checkpoint saved to checkpoints/td3_ep75.pth\n",
      "-------------------------------------\n",
      "|          LossPi |            34.7 |\n",
      "|           LossQ |            42.9 |\n",
      "|            Time |             338 |\n",
      "-------------------------------------\n",
      "Step 3749: pi_lr=0.000021, q_lr=0.000021\n",
      "Checkpoint saved to checkpoints/td3_ep76.pth\n",
      "-------------------------------------\n",
      "|          LossPi |            33.8 |\n",
      "|           LossQ |            31.5 |\n",
      "|            Time |             342 |\n",
      "-------------------------------------\n",
      "Step 3799: pi_lr=0.000021, q_lr=0.000021\n",
      "Checkpoint saved to checkpoints/td3_ep77.pth\n",
      "-------------------------------------\n",
      "|          LossPi |            35.3 |\n",
      "|           LossQ |            35.1 |\n",
      "|            Time |             346 |\n",
      "-------------------------------------\n",
      "Step 3849: pi_lr=0.000021, q_lr=0.000021\n",
      "Checkpoint saved to checkpoints/td3_ep78.pth\n",
      "-------------------------------------\n",
      "|          LossPi |            35.8 |\n",
      "|           LossQ |            40.1 |\n",
      "|            Time |             351 |\n",
      "-------------------------------------\n",
      "Step 3899: pi_lr=0.000020, q_lr=0.000020\n",
      "Checkpoint saved to checkpoints/td3_ep79.pth\n",
      "-------------------------------------\n",
      "|          LossPi |            35.1 |\n",
      "|           LossQ |            37.2 |\n",
      "|            Time |             356 |\n",
      "-------------------------------------\n",
      "Step 3949: pi_lr=0.000020, q_lr=0.000020\n",
      "Checkpoint saved to checkpoints/td3_ep80.pth\n",
      "-------------------------------------\n",
      "|          LossPi |            36.1 |\n",
      "|           LossQ |            30.7 |\n",
      "|            Time |             360 |\n",
      "-------------------------------------\n",
      "Step 3999: pi_lr=0.000020, q_lr=0.000020\n",
      "Checkpoint saved to checkpoints/td3_ep81.pth\n",
      "-------------------------------------\n",
      "|          LossPi |            36.7 |\n",
      "|           LossQ |            36.1 |\n",
      "|            Time |             365 |\n",
      "-------------------------------------\n",
      "Step 4049: pi_lr=0.000020, q_lr=0.000020\n",
      "Checkpoint saved to checkpoints/td3_ep82.pth\n",
      "-------------------------------------\n",
      "|          LossPi |            38.6 |\n",
      "|           LossQ |            39.9 |\n",
      "|            Time |             369 |\n",
      "-------------------------------------\n",
      "Step 4099: pi_lr=0.000020, q_lr=0.000020\n",
      "Checkpoint saved to checkpoints/td3_ep83.pth\n",
      "-------------------------------------\n",
      "|          LossPi |            38.2 |\n",
      "|           LossQ |            36.5 |\n",
      "|            Time |             374 |\n",
      "-------------------------------------\n",
      "Step 4149: pi_lr=0.000019, q_lr=0.000019\n",
      "Checkpoint saved to checkpoints/td3_ep84.pth\n",
      "-------------------------------------\n",
      "|          LossPi |            38.5 |\n",
      "|           LossQ |            43.2 |\n",
      "|            Time |             379 |\n",
      "-------------------------------------\n",
      "Step 4199: pi_lr=0.000019, q_lr=0.000019\n",
      "Checkpoint saved to checkpoints/td3_ep85.pth\n",
      "-------------------------------------\n",
      "|          LossPi |              40 |\n",
      "|           LossQ |            29.4 |\n",
      "|            Time |             383 |\n",
      "-------------------------------------\n",
      "Step 4249: pi_lr=0.000019, q_lr=0.000019\n",
      "Checkpoint saved to checkpoints/td3_ep86.pth\n",
      "-------------------------------------\n",
      "|          LossPi |            36.6 |\n",
      "|           LossQ |            37.1 |\n",
      "|            Time |             387 |\n",
      "-------------------------------------\n",
      "Step 4299: pi_lr=0.000019, q_lr=0.000019\n",
      "Checkpoint saved to checkpoints/td3_ep87.pth\n",
      "-------------------------------------\n",
      "|          LossPi |            37.6 |\n",
      "|           LossQ |            39.5 |\n",
      "|            Time |             392 |\n",
      "-------------------------------------\n",
      "Step 4349: pi_lr=0.000018, q_lr=0.000018\n",
      "Checkpoint saved to checkpoints/td3_ep88.pth\n",
      "-------------------------------------\n",
      "|          LossPi |            36.4 |\n",
      "|           LossQ |            42.7 |\n",
      "|            Time |             396 |\n",
      "-------------------------------------\n",
      "Step 4399: pi_lr=0.000018, q_lr=0.000018\n",
      "Checkpoint saved to checkpoints/td3_ep89.pth\n",
      "-------------------------------------\n",
      "|          LossPi |            36.4 |\n",
      "|           LossQ |            34.8 |\n",
      "|            Time |             401 |\n",
      "-------------------------------------\n",
      "Step 4449: pi_lr=0.000018, q_lr=0.000018\n",
      "Checkpoint saved to checkpoints/td3_ep90.pth\n",
      "-------------------------------------\n",
      "|          LossPi |            37.6 |\n",
      "|           LossQ |            35.8 |\n",
      "|            Time |             406 |\n",
      "-------------------------------------\n",
      "Step 4499: pi_lr=0.000018, q_lr=0.000018\n",
      "Checkpoint saved to checkpoints/td3_ep91.pth\n",
      "-------------------------------------\n",
      "|          LossPi |            36.6 |\n",
      "|           LossQ |            33.4 |\n",
      "|            Time |             410 |\n",
      "-------------------------------------\n",
      "Step 4549: pi_lr=0.000018, q_lr=0.000018\n",
      "Checkpoint saved to checkpoints/td3_ep92.pth\n",
      "-------------------------------------\n",
      "|          LossPi |              35 |\n",
      "|           LossQ |            36.8 |\n",
      "|            Time |             414 |\n",
      "-------------------------------------\n",
      "Step 4599: pi_lr=0.000017, q_lr=0.000017\n",
      "Checkpoint saved to checkpoints/td3_ep93.pth\n",
      "-------------------------------------\n",
      "|          LossPi |            35.3 |\n",
      "|           LossQ |            36.5 |\n",
      "|            Time |             419 |\n",
      "-------------------------------------\n",
      "Step 4649: pi_lr=0.000017, q_lr=0.000017\n",
      "Checkpoint saved to checkpoints/td3_ep94.pth\n",
      "-------------------------------------\n",
      "|          LossPi |            36.5 |\n",
      "|           LossQ |            42.9 |\n",
      "|            Time |             423 |\n",
      "-------------------------------------\n",
      "Step 4699: pi_lr=0.000017, q_lr=0.000017\n",
      "Checkpoint saved to checkpoints/td3_ep95.pth\n",
      "-------------------------------------\n",
      "|          LossPi |            36.2 |\n",
      "|           LossQ |            35.5 |\n",
      "|            Time |             429 |\n",
      "-------------------------------------\n",
      "Step 4749: pi_lr=0.000017, q_lr=0.000017\n",
      "Checkpoint saved to checkpoints/td3_ep96.pth\n",
      "-------------------------------------\n",
      "|          LossPi |              36 |\n",
      "|           LossQ |            57.9 |\n",
      "|            Time |             433 |\n",
      "-------------------------------------\n",
      "Step 4799: pi_lr=0.000016, q_lr=0.000016\n",
      "Checkpoint saved to checkpoints/td3_ep97.pth\n",
      "-------------------------------------\n",
      "|          LossPi |            34.7 |\n",
      "|           LossQ |            47.8 |\n",
      "|            Time |             438 |\n",
      "-------------------------------------\n",
      "Step 4849: pi_lr=0.000016, q_lr=0.000016\n",
      "Checkpoint saved to checkpoints/td3_ep98.pth\n",
      "-------------------------------------\n",
      "|          LossPi |            35.9 |\n",
      "|           LossQ |            31.9 |\n",
      "|            Time |             443 |\n",
      "-------------------------------------\n",
      "Step 4899: pi_lr=0.000016, q_lr=0.000016\n",
      "Checkpoint saved to checkpoints/td3_ep99.pth\n",
      "-------------------------------------\n",
      "|          LossPi |            35.8 |\n",
      "|           LossQ |            35.5 |\n",
      "|            Time |             447 |\n",
      "-------------------------------------\n",
      "Step 4949: pi_lr=0.000016, q_lr=0.000016\n",
      "Checkpoint saved to checkpoints/td3_ep100.pth\n",
      "-------------------------------------\n",
      "|          LossPi |            33.8 |\n",
      "|           LossQ |            33.1 |\n",
      "|            Time |             452 |\n",
      "-------------------------------------\n",
      "Step 4999: pi_lr=0.000016, q_lr=0.000016\n",
      "Checkpoint saved to checkpoints/td3_ep101.pth\n",
      "-------------------------------------\n",
      "|          LossPi |              35 |\n",
      "|           LossQ |              39 |\n",
      "|            Time |             457 |\n",
      "-------------------------------------\n",
      "Step 5049: pi_lr=0.000015, q_lr=0.000015\n",
      "Checkpoint saved to checkpoints/td3_ep102.pth\n",
      "-------------------------------------\n",
      "|          LossPi |            34.5 |\n",
      "|           LossQ |            40.3 |\n",
      "|            Time |             462 |\n",
      "-------------------------------------\n",
      "Step 5099: pi_lr=0.000015, q_lr=0.000015\n",
      "Checkpoint saved to checkpoints/td3_ep103.pth\n",
      "-------------------------------------\n",
      "|          LossPi |            36.2 |\n",
      "|           LossQ |              30 |\n",
      "|            Time |             467 |\n",
      "-------------------------------------\n",
      "Step 5149: pi_lr=0.000015, q_lr=0.000015\n",
      "Checkpoint saved to checkpoints/td3_ep104.pth\n",
      "-------------------------------------\n",
      "|          LossPi |            36.1 |\n",
      "|           LossQ |            39.7 |\n",
      "|            Time |             471 |\n",
      "-------------------------------------\n",
      "Step 5199: pi_lr=0.000015, q_lr=0.000015\n",
      "Checkpoint saved to checkpoints/td3_ep105.pth\n",
      "-------------------------------------\n",
      "|          LossPi |            37.1 |\n",
      "|           LossQ |            31.8 |\n",
      "|            Time |             476 |\n",
      "-------------------------------------\n",
      "Step 5249: pi_lr=0.000014, q_lr=0.000014\n",
      "Checkpoint saved to checkpoints/td3_ep106.pth\n",
      "-------------------------------------\n",
      "|          LossPi |            37.3 |\n",
      "|           LossQ |            41.8 |\n",
      "|            Time |             481 |\n",
      "-------------------------------------\n",
      "Step 5299: pi_lr=0.000014, q_lr=0.000014\n",
      "Checkpoint saved to checkpoints/td3_ep107.pth\n",
      "-------------------------------------\n",
      "|          LossPi |            36.4 |\n",
      "|           LossQ |            35.2 |\n",
      "|            Time |             485 |\n",
      "-------------------------------------\n",
      "Step 5349: pi_lr=0.000014, q_lr=0.000014\n",
      "Checkpoint saved to checkpoints/td3_ep108.pth\n",
      "-------------------------------------\n",
      "|          LossPi |            37.4 |\n",
      "|           LossQ |            46.3 |\n",
      "|            Time |             490 |\n",
      "-------------------------------------\n",
      "Step 5399: pi_lr=0.000014, q_lr=0.000014\n",
      "Checkpoint saved to checkpoints/td3_ep109.pth\n",
      "-------------------------------------\n",
      "|          LossPi |            37.5 |\n",
      "|           LossQ |            31.9 |\n",
      "|            Time |             495 |\n",
      "-------------------------------------\n",
      "Step 5449: pi_lr=0.000013, q_lr=0.000013\n",
      "Checkpoint saved to checkpoints/td3_ep110.pth\n",
      "-------------------------------------\n",
      "|          LossPi |            36.5 |\n",
      "|           LossQ |            33.6 |\n",
      "|            Time |             499 |\n",
      "-------------------------------------\n",
      "Step 5499: pi_lr=0.000013, q_lr=0.000013\n",
      "Checkpoint saved to checkpoints/td3_ep111.pth\n",
      "-------------------------------------\n",
      "|          LossPi |            37.2 |\n",
      "|           LossQ |            34.9 |\n",
      "|            Time |             504 |\n",
      "-------------------------------------\n",
      "Step 5549: pi_lr=0.000013, q_lr=0.000013\n",
      "Checkpoint saved to checkpoints/td3_ep112.pth\n",
      "-------------------------------------\n",
      "|          LossPi |            36.3 |\n",
      "|           LossQ |            46.1 |\n",
      "|            Time |             509 |\n",
      "-------------------------------------\n",
      "Step 5599: pi_lr=0.000013, q_lr=0.000013\n",
      "Checkpoint saved to checkpoints/td3_ep113.pth\n",
      "-------------------------------------\n",
      "|          LossPi |            34.9 |\n",
      "|           LossQ |            42.7 |\n",
      "|            Time |             513 |\n",
      "-------------------------------------\n",
      "Step 5649: pi_lr=0.000013, q_lr=0.000013\n",
      "Checkpoint saved to checkpoints/td3_ep114.pth\n",
      "-------------------------------------\n",
      "|          LossPi |            36.7 |\n",
      "|           LossQ |            37.1 |\n",
      "|            Time |             518 |\n",
      "-------------------------------------\n",
      "Step 5699: pi_lr=0.000012, q_lr=0.000012\n",
      "Checkpoint saved to checkpoints/td3_ep115.pth\n",
      "-------------------------------------\n",
      "|          LossPi |            36.8 |\n",
      "|           LossQ |            29.9 |\n",
      "|            Time |             522 |\n",
      "-------------------------------------\n",
      "Step 5749: pi_lr=0.000012, q_lr=0.000012\n",
      "Checkpoint saved to checkpoints/td3_ep116.pth\n",
      "-------------------------------------\n",
      "|          LossPi |            34.7 |\n",
      "|           LossQ |            51.3 |\n",
      "|            Time |             527 |\n",
      "-------------------------------------\n",
      "Step 5799: pi_lr=0.000012, q_lr=0.000012\n",
      "Checkpoint saved to checkpoints/td3_ep117.pth\n",
      "-------------------------------------\n",
      "|          LossPi |            35.6 |\n",
      "|           LossQ |            41.1 |\n",
      "|            Time |             532 |\n",
      "-------------------------------------\n",
      "Step 5849: pi_lr=0.000012, q_lr=0.000012\n",
      "Checkpoint saved to checkpoints/td3_ep118.pth\n",
      "-------------------------------------\n",
      "|          LossPi |            36.4 |\n",
      "|           LossQ |              34 |\n",
      "|            Time |             536 |\n",
      "-------------------------------------\n",
      "Step 5899: pi_lr=0.000011, q_lr=0.000011\n",
      "Checkpoint saved to checkpoints/td3_ep119.pth\n",
      "-------------------------------------\n",
      "|          LossPi |            35.2 |\n",
      "|           LossQ |            42.9 |\n",
      "|            Time |             541 |\n",
      "-------------------------------------\n",
      "Step 5949: pi_lr=0.000011, q_lr=0.000011\n",
      "Checkpoint saved to checkpoints/td3_ep120.pth\n",
      "-------------------------------------\n",
      "|          LossPi |            34.9 |\n",
      "|           LossQ |            39.4 |\n",
      "|            Time |             546 |\n",
      "-------------------------------------\n",
      "Step 5999: pi_lr=0.000011, q_lr=0.000011\n",
      "Checkpoint saved to checkpoints/td3_ep121.pth\n",
      "-------------------------------------\n",
      "|          LossPi |            35.9 |\n",
      "|           LossQ |            39.7 |\n",
      "|            Time |             550 |\n",
      "-------------------------------------\n",
      "Step 6049: pi_lr=0.000011, q_lr=0.000011\n",
      "Checkpoint saved to checkpoints/td3_ep122.pth\n",
      "-------------------------------------\n",
      "|          LossPi |              34 |\n",
      "|           LossQ |            41.1 |\n",
      "|            Time |             554 |\n",
      "-------------------------------------\n",
      "Step 6099: pi_lr=0.000011, q_lr=0.000011\n",
      "Checkpoint saved to checkpoints/td3_ep123.pth\n",
      "-------------------------------------\n",
      "|          LossPi |            36.1 |\n",
      "|           LossQ |            46.6 |\n",
      "|            Time |             559 |\n",
      "-------------------------------------\n",
      "Step 6149: pi_lr=0.000010, q_lr=0.000010\n",
      "Checkpoint saved to checkpoints/td3_ep124.pth\n",
      "-------------------------------------\n",
      "|          LossPi |              34 |\n",
      "|           LossQ |            39.2 |\n",
      "|            Time |             564 |\n",
      "-------------------------------------\n",
      "Step 6199: pi_lr=0.000010, q_lr=0.000010\n",
      "Checkpoint saved to checkpoints/td3_ep125.pth\n",
      "-------------------------------------\n",
      "|          LossPi |              36 |\n",
      "|           LossQ |            41.8 |\n",
      "|            Time |             568 |\n",
      "-------------------------------------\n",
      "Step 6249: pi_lr=0.000010, q_lr=0.000010\n",
      "Checkpoint saved to checkpoints/td3_ep126.pth\n",
      "-------------------------------------\n",
      "|          LossPi |            34.8 |\n",
      "|           LossQ |            42.9 |\n",
      "|            Time |             573 |\n",
      "-------------------------------------\n",
      "Step 6299: pi_lr=0.000010, q_lr=0.000010\n",
      "Checkpoint saved to checkpoints/td3_ep127.pth\n",
      "-------------------------------------\n",
      "|          LossPi |            33.9 |\n",
      "|           LossQ |            41.9 |\n",
      "|            Time |             578 |\n",
      "-------------------------------------\n",
      "Step 6349: pi_lr=0.000010, q_lr=0.000010\n",
      "Checkpoint saved to checkpoints/td3_ep128.pth\n",
      "-------------------------------------\n",
      "|          LossPi |            33.5 |\n",
      "|           LossQ |            44.3 |\n",
      "|            Time |             582 |\n",
      "-------------------------------------\n",
      "Step 6399: pi_lr=0.000009, q_lr=0.000009\n",
      "Checkpoint saved to checkpoints/td3_ep129.pth\n",
      "-------------------------------------\n",
      "|          LossPi |            35.9 |\n",
      "|           LossQ |            41.5 |\n",
      "|            Time |             587 |\n",
      "-------------------------------------\n",
      "Step 6449: pi_lr=0.000009, q_lr=0.000009\n",
      "Checkpoint saved to checkpoints/td3_ep130.pth\n",
      "-------------------------------------\n",
      "|          LossPi |              35 |\n",
      "|           LossQ |            37.5 |\n",
      "|            Time |             591 |\n",
      "-------------------------------------\n",
      "Step 6499: pi_lr=0.000009, q_lr=0.000009\n",
      "Checkpoint saved to checkpoints/td3_ep131.pth\n",
      "-------------------------------------\n",
      "|          LossPi |            37.6 |\n",
      "|           LossQ |            47.4 |\n",
      "|            Time |             596 |\n",
      "-------------------------------------\n",
      "Step 6549: pi_lr=0.000009, q_lr=0.000009\n",
      "Checkpoint saved to checkpoints/td3_ep132.pth\n",
      "-------------------------------------\n",
      "|          LossPi |              36 |\n",
      "|           LossQ |            32.1 |\n",
      "|            Time |             600 |\n",
      "-------------------------------------\n",
      "Step 6599: pi_lr=0.000009, q_lr=0.000009\n",
      "Checkpoint saved to checkpoints/td3_ep133.pth\n",
      "-------------------------------------\n",
      "|          LossPi |              36 |\n",
      "|           LossQ |            41.4 |\n",
      "|            Time |             605 |\n",
      "-------------------------------------\n",
      "Step 6649: pi_lr=0.000008, q_lr=0.000008\n",
      "Checkpoint saved to checkpoints/td3_ep134.pth\n",
      "-------------------------------------\n",
      "|          LossPi |            37.6 |\n",
      "|           LossQ |            35.4 |\n",
      "|            Time |             610 |\n",
      "-------------------------------------\n",
      "Step 6699: pi_lr=0.000008, q_lr=0.000008\n",
      "Checkpoint saved to checkpoints/td3_ep135.pth\n",
      "-------------------------------------\n",
      "|          LossPi |            34.6 |\n",
      "|           LossQ |            39.8 |\n",
      "|            Time |             614 |\n",
      "-------------------------------------\n",
      "Step 6749: pi_lr=0.000008, q_lr=0.000008\n",
      "Checkpoint saved to checkpoints/td3_ep136.pth\n",
      "-------------------------------------\n",
      "|          LossPi |            34.8 |\n",
      "|           LossQ |            40.8 |\n",
      "|            Time |             618 |\n",
      "-------------------------------------\n",
      "Step 6799: pi_lr=0.000008, q_lr=0.000008\n",
      "Checkpoint saved to checkpoints/td3_ep137.pth\n",
      "-------------------------------------\n",
      "|          LossPi |            36.9 |\n",
      "|           LossQ |            42.3 |\n",
      "|            Time |             623 |\n",
      "-------------------------------------\n",
      "Step 6849: pi_lr=0.000008, q_lr=0.000008\n",
      "Checkpoint saved to checkpoints/td3_ep138.pth\n",
      "-------------------------------------\n",
      "|          LossPi |            36.1 |\n",
      "|           LossQ |            51.4 |\n",
      "|            Time |             628 |\n",
      "-------------------------------------\n",
      "Step 6899: pi_lr=0.000007, q_lr=0.000007\n",
      "Checkpoint saved to checkpoints/td3_ep139.pth\n",
      "-------------------------------------\n",
      "|          LossPi |            34.5 |\n",
      "|           LossQ |            37.9 |\n",
      "|            Time |             632 |\n",
      "-------------------------------------\n",
      "Step 6949: pi_lr=0.000007, q_lr=0.000007\n",
      "Checkpoint saved to checkpoints/td3_ep140.pth\n",
      "-------------------------------------\n",
      "|          LossPi |            35.5 |\n",
      "|           LossQ |            49.5 |\n",
      "|            Time |             637 |\n",
      "-------------------------------------\n",
      "Step 6999: pi_lr=0.000007, q_lr=0.000007\n",
      "Checkpoint saved to checkpoints/td3_ep141.pth\n",
      "-------------------------------------\n",
      "|          LossPi |            35.7 |\n",
      "|           LossQ |            34.8 |\n",
      "|            Time |             641 |\n",
      "-------------------------------------\n",
      "Step 7049: pi_lr=0.000007, q_lr=0.000007\n",
      "Checkpoint saved to checkpoints/td3_ep142.pth\n",
      "-------------------------------------\n",
      "|          LossPi |            36.1 |\n",
      "|           LossQ |            33.8 |\n",
      "|            Time |             646 |\n",
      "-------------------------------------\n",
      "Step 7099: pi_lr=0.000007, q_lr=0.000007\n",
      "Checkpoint saved to checkpoints/td3_ep143.pth\n",
      "-------------------------------------\n",
      "|          LossPi |            37.5 |\n",
      "|           LossQ |            36.8 |\n",
      "|            Time |             651 |\n",
      "-------------------------------------\n",
      "Step 7149: pi_lr=0.000006, q_lr=0.000006\n",
      "Checkpoint saved to checkpoints/td3_ep144.pth\n",
      "-------------------------------------\n",
      "|          LossPi |            35.2 |\n",
      "|           LossQ |            48.6 |\n",
      "|            Time |             655 |\n",
      "-------------------------------------\n",
      "Step 7199: pi_lr=0.000006, q_lr=0.000006\n",
      "Checkpoint saved to checkpoints/td3_ep145.pth\n",
      "-------------------------------------\n",
      "|          LossPi |            37.1 |\n",
      "|           LossQ |            39.9 |\n",
      "|            Time |             660 |\n",
      "-------------------------------------\n",
      "Step 7249: pi_lr=0.000006, q_lr=0.000006\n",
      "Checkpoint saved to checkpoints/td3_ep146.pth\n",
      "-------------------------------------\n",
      "|          LossPi |            36.3 |\n",
      "|           LossQ |            41.2 |\n",
      "|            Time |             665 |\n",
      "-------------------------------------\n",
      "Step 7299: pi_lr=0.000006, q_lr=0.000006\n",
      "Checkpoint saved to checkpoints/td3_ep147.pth\n",
      "-------------------------------------\n",
      "|          LossPi |            35.8 |\n",
      "|           LossQ |            34.5 |\n",
      "|            Time |             669 |\n",
      "-------------------------------------\n",
      "Step 7349: pi_lr=0.000006, q_lr=0.000006\n",
      "Checkpoint saved to checkpoints/td3_ep148.pth\n",
      "-------------------------------------\n",
      "|          LossPi |            36.3 |\n",
      "|           LossQ |            34.7 |\n",
      "|            Time |             674 |\n",
      "-------------------------------------\n",
      "Step 7399: pi_lr=0.000006, q_lr=0.000006\n",
      "Checkpoint saved to checkpoints/td3_ep149.pth\n",
      "-------------------------------------\n",
      "|          LossPi |            35.1 |\n",
      "|           LossQ |            37.6 |\n",
      "|            Time |             678 |\n",
      "-------------------------------------\n",
      "Step 7449: pi_lr=0.000005, q_lr=0.000005\n",
      "Checkpoint saved to checkpoints/td3_ep150.pth\n",
      "-------------------------------------\n",
      "|          LossPi |            35.4 |\n",
      "|           LossQ |            39.2 |\n",
      "|            Time |             682 |\n",
      "-------------------------------------\n",
      "Step 7499: pi_lr=0.000005, q_lr=0.000005\n",
      "Checkpoint saved to checkpoints/td3_ep151.pth\n",
      "-------------------------------------\n",
      "|          LossPi |            36.9 |\n",
      "|           LossQ |            37.4 |\n",
      "|            Time |             688 |\n",
      "-------------------------------------\n",
      "Step 7549: pi_lr=0.000005, q_lr=0.000005\n",
      "Checkpoint saved to checkpoints/td3_ep152.pth\n",
      "-------------------------------------\n",
      "|          LossPi |              34 |\n",
      "|           LossQ |              42 |\n",
      "|            Time |             692 |\n",
      "-------------------------------------\n",
      "Step 7599: pi_lr=0.000005, q_lr=0.000005\n",
      "Checkpoint saved to checkpoints/td3_ep153.pth\n",
      "-------------------------------------\n",
      "|          LossPi |            37.3 |\n",
      "|           LossQ |            40.1 |\n",
      "|            Time |             696 |\n",
      "-------------------------------------\n",
      "Step 7649: pi_lr=0.000005, q_lr=0.000005\n",
      "Checkpoint saved to checkpoints/td3_ep154.pth\n",
      "-------------------------------------\n",
      "|          LossPi |            37.8 |\n",
      "|           LossQ |            41.8 |\n",
      "|            Time |             702 |\n",
      "-------------------------------------\n",
      "Step 7699: pi_lr=0.000005, q_lr=0.000005\n",
      "Checkpoint saved to checkpoints/td3_ep155.pth\n",
      "-------------------------------------\n",
      "|          LossPi |            34.3 |\n",
      "|           LossQ |            39.3 |\n",
      "|            Time |             706 |\n",
      "-------------------------------------\n",
      "Step 7749: pi_lr=0.000004, q_lr=0.000004\n",
      "Checkpoint saved to checkpoints/td3_ep156.pth\n",
      "-------------------------------------\n",
      "|          LossPi |            36.8 |\n",
      "|           LossQ |              42 |\n",
      "|            Time |             711 |\n",
      "-------------------------------------\n",
      "Step 7799: pi_lr=0.000004, q_lr=0.000004\n",
      "Checkpoint saved to checkpoints/td3_ep157.pth\n",
      "-------------------------------------\n",
      "|          LossPi |              36 |\n",
      "|           LossQ |            64.4 |\n",
      "|            Time |             716 |\n",
      "-------------------------------------\n",
      "Step 7849: pi_lr=0.000004, q_lr=0.000004\n",
      "Checkpoint saved to checkpoints/td3_ep158.pth\n",
      "-------------------------------------\n",
      "|          LossPi |            36.2 |\n",
      "|           LossQ |            42.2 |\n",
      "|            Time |             720 |\n",
      "-------------------------------------\n",
      "Step 7899: pi_lr=0.000004, q_lr=0.000004\n",
      "Checkpoint saved to checkpoints/td3_ep159.pth\n",
      "-------------------------------------\n",
      "|          LossPi |              36 |\n",
      "|           LossQ |            41.3 |\n",
      "|            Time |             725 |\n",
      "-------------------------------------\n",
      "Step 7949: pi_lr=0.000004, q_lr=0.000004\n",
      "Checkpoint saved to checkpoints/td3_ep160.pth\n",
      "-------------------------------------\n",
      "|          LossPi |            34.8 |\n",
      "|           LossQ |            45.2 |\n",
      "|            Time |             730 |\n",
      "-------------------------------------\n",
      "Step 7999: pi_lr=0.000004, q_lr=0.000004\n",
      "Checkpoint saved to checkpoints/td3_ep161.pth\n",
      "-------------------------------------\n",
      "|          LossPi |            37.7 |\n",
      "|           LossQ |            43.1 |\n",
      "|            Time |             734 |\n",
      "-------------------------------------\n",
      "Step 8049: pi_lr=0.000004, q_lr=0.000004\n",
      "Checkpoint saved to checkpoints/td3_ep162.pth\n",
      "-------------------------------------\n",
      "|          LossPi |            37.6 |\n",
      "|           LossQ |            36.2 |\n",
      "|            Time |             739 |\n",
      "-------------------------------------\n",
      "Step 8099: pi_lr=0.000004, q_lr=0.000004\n",
      "Checkpoint saved to checkpoints/td3_ep163.pth\n",
      "-------------------------------------\n",
      "|          LossPi |            32.8 |\n",
      "|           LossQ |            34.6 |\n",
      "|            Time |             744 |\n",
      "-------------------------------------\n",
      "Step 8149: pi_lr=0.000003, q_lr=0.000003\n",
      "Checkpoint saved to checkpoints/td3_ep164.pth\n",
      "-------------------------------------\n",
      "|          LossPi |            35.6 |\n",
      "|           LossQ |            41.3 |\n",
      "|            Time |             748 |\n",
      "-------------------------------------\n",
      "Step 8199: pi_lr=0.000003, q_lr=0.000003\n",
      "Checkpoint saved to checkpoints/td3_ep165.pth\n",
      "-------------------------------------\n",
      "|          LossPi |            35.1 |\n",
      "|           LossQ |            32.9 |\n",
      "|            Time |             754 |\n",
      "-------------------------------------\n",
      "Step 8249: pi_lr=0.000003, q_lr=0.000003\n",
      "Checkpoint saved to checkpoints/td3_ep166.pth\n",
      "-------------------------------------\n",
      "|          LossPi |            35.2 |\n",
      "|           LossQ |            45.6 |\n",
      "|            Time |             758 |\n",
      "-------------------------------------\n",
      "Step 8299: pi_lr=0.000003, q_lr=0.000003\n",
      "Checkpoint saved to checkpoints/td3_ep167.pth\n",
      "-------------------------------------\n",
      "|          LossPi |            35.8 |\n",
      "|           LossQ |            35.2 |\n",
      "|            Time |             763 |\n",
      "-------------------------------------\n",
      "Step 8349: pi_lr=0.000003, q_lr=0.000003\n",
      "Checkpoint saved to checkpoints/td3_ep168.pth\n",
      "-------------------------------------\n",
      "|          LossPi |            36.7 |\n",
      "|           LossQ |            46.3 |\n",
      "|            Time |             768 |\n",
      "-------------------------------------\n",
      "Step 8399: pi_lr=0.000003, q_lr=0.000003\n",
      "Checkpoint saved to checkpoints/td3_ep169.pth\n",
      "-------------------------------------\n",
      "|          LossPi |            36.9 |\n",
      "|           LossQ |            51.1 |\n",
      "|            Time |             772 |\n",
      "-------------------------------------\n",
      "Step 8449: pi_lr=0.000003, q_lr=0.000003\n",
      "Checkpoint saved to checkpoints/td3_ep170.pth\n",
      "-------------------------------------\n",
      "|          LossPi |            34.8 |\n",
      "|           LossQ |            38.4 |\n",
      "|            Time |             778 |\n",
      "-------------------------------------\n",
      "Step 8499: pi_lr=0.000003, q_lr=0.000003\n",
      "Checkpoint saved to checkpoints/td3_ep171.pth\n",
      "-------------------------------------\n",
      "|          LossPi |            37.4 |\n",
      "|           LossQ |            35.6 |\n",
      "|            Time |             782 |\n",
      "-------------------------------------\n",
      "Step 8549: pi_lr=0.000002, q_lr=0.000002\n",
      "Checkpoint saved to checkpoints/td3_ep172.pth\n",
      "-------------------------------------\n",
      "|          LossPi |            37.1 |\n",
      "|           LossQ |            62.9 |\n",
      "|            Time |             787 |\n",
      "-------------------------------------\n",
      "Step 8599: pi_lr=0.000002, q_lr=0.000002\n",
      "Checkpoint saved to checkpoints/td3_ep173.pth\n",
      "-------------------------------------\n",
      "|          LossPi |            36.4 |\n",
      "|           LossQ |            59.4 |\n",
      "|            Time |             792 |\n",
      "-------------------------------------\n",
      "Step 8649: pi_lr=0.000002, q_lr=0.000002\n",
      "Checkpoint saved to checkpoints/td3_ep174.pth\n",
      "-------------------------------------\n",
      "|          LossPi |            38.6 |\n",
      "|           LossQ |            40.6 |\n",
      "|            Time |             797 |\n",
      "-------------------------------------\n",
      "Step 8699: pi_lr=0.000002, q_lr=0.000002\n",
      "Checkpoint saved to checkpoints/td3_ep175.pth\n",
      "-------------------------------------\n",
      "|          LossPi |            36.2 |\n",
      "|           LossQ |            39.3 |\n",
      "|            Time |             801 |\n",
      "-------------------------------------\n",
      "Step 8749: pi_lr=0.000002, q_lr=0.000002\n",
      "Checkpoint saved to checkpoints/td3_ep176.pth\n",
      "-------------------------------------\n",
      "|          LossPi |            36.8 |\n",
      "|           LossQ |            38.7 |\n",
      "|            Time |             806 |\n",
      "-------------------------------------\n",
      "Step 8799: pi_lr=0.000002, q_lr=0.000002\n",
      "Checkpoint saved to checkpoints/td3_ep177.pth\n",
      "-------------------------------------\n",
      "|          LossPi |            35.9 |\n",
      "|           LossQ |            34.3 |\n",
      "|            Time |             811 |\n",
      "-------------------------------------\n",
      "Step 8849: pi_lr=0.000002, q_lr=0.000002\n",
      "Checkpoint saved to checkpoints/td3_ep178.pth\n",
      "-------------------------------------\n",
      "|          LossPi |            36.9 |\n",
      "|           LossQ |            40.4 |\n",
      "|            Time |             815 |\n",
      "-------------------------------------\n",
      "Step 8899: pi_lr=0.000002, q_lr=0.000002\n",
      "Checkpoint saved to checkpoints/td3_ep179.pth\n",
      "-------------------------------------\n",
      "|          LossPi |            37.6 |\n",
      "|           LossQ |              40 |\n",
      "|            Time |             820 |\n",
      "-------------------------------------\n",
      "Step 8949: pi_lr=0.000002, q_lr=0.000002\n",
      "Checkpoint saved to checkpoints/td3_ep180.pth\n",
      "-------------------------------------\n",
      "|          LossPi |            34.4 |\n",
      "|           LossQ |            44.2 |\n",
      "|            Time |             824 |\n",
      "-------------------------------------\n",
      "Step 8999: pi_lr=0.000002, q_lr=0.000002\n",
      "Checkpoint saved to checkpoints/td3_ep181.pth\n",
      "-------------------------------------\n",
      "|          LossPi |            36.7 |\n",
      "|           LossQ |            41.7 |\n",
      "|            Time |             829 |\n",
      "-------------------------------------\n",
      "Step 9049: pi_lr=0.000002, q_lr=0.000002\n",
      "Checkpoint saved to checkpoints/td3_ep182.pth\n",
      "-------------------------------------\n",
      "|          LossPi |            36.6 |\n",
      "|           LossQ |            44.4 |\n",
      "|            Time |             834 |\n",
      "-------------------------------------\n",
      "Step 9099: pi_lr=0.000002, q_lr=0.000002\n",
      "Checkpoint saved to checkpoints/td3_ep183.pth\n",
      "-------------------------------------\n",
      "|          LossPi |            35.8 |\n",
      "|           LossQ |            41.8 |\n",
      "|            Time |             838 |\n",
      "-------------------------------------\n",
      "Step 9149: pi_lr=0.000002, q_lr=0.000002\n",
      "Checkpoint saved to checkpoints/td3_ep184.pth\n",
      "-------------------------------------\n",
      "|          LossPi |            35.7 |\n",
      "|           LossQ |            39.2 |\n",
      "|            Time |             843 |\n",
      "-------------------------------------\n",
      "Step 9199: pi_lr=0.000001, q_lr=0.000001\n",
      "Checkpoint saved to checkpoints/td3_ep185.pth\n",
      "-------------------------------------\n",
      "|          LossPi |            34.6 |\n",
      "|           LossQ |              33 |\n",
      "|            Time |             848 |\n",
      "-------------------------------------\n",
      "Step 9249: pi_lr=0.000001, q_lr=0.000001\n",
      "Checkpoint saved to checkpoints/td3_ep186.pth\n",
      "-------------------------------------\n",
      "|          LossPi |            35.6 |\n",
      "|           LossQ |              35 |\n",
      "|            Time |             852 |\n",
      "-------------------------------------\n",
      "Step 9299: pi_lr=0.000001, q_lr=0.000001\n",
      "Checkpoint saved to checkpoints/td3_ep187.pth\n",
      "-------------------------------------\n",
      "|          LossPi |            35.1 |\n",
      "|           LossQ |            43.8 |\n",
      "|            Time |             857 |\n",
      "-------------------------------------\n",
      "Step 9349: pi_lr=0.000001, q_lr=0.000001\n",
      "Checkpoint saved to checkpoints/td3_ep188.pth\n",
      "-------------------------------------\n",
      "|          LossPi |            37.1 |\n",
      "|           LossQ |            31.5 |\n",
      "|            Time |             862 |\n",
      "-------------------------------------\n",
      "Step 9399: pi_lr=0.000001, q_lr=0.000001\n",
      "Checkpoint saved to checkpoints/td3_ep189.pth\n",
      "-------------------------------------\n",
      "|          LossPi |            37.3 |\n",
      "|           LossQ |            38.3 |\n",
      "|            Time |             866 |\n",
      "-------------------------------------\n",
      "Step 9449: pi_lr=0.000001, q_lr=0.000001\n",
      "Checkpoint saved to checkpoints/td3_ep190.pth\n",
      "-------------------------------------\n",
      "|          LossPi |            37.4 |\n",
      "|           LossQ |            34.3 |\n",
      "|            Time |             871 |\n",
      "-------------------------------------\n",
      "Step 9499: pi_lr=0.000001, q_lr=0.000001\n",
      "Checkpoint saved to checkpoints/td3_ep191.pth\n",
      "-------------------------------------\n",
      "|          LossPi |            34.8 |\n",
      "|           LossQ |            36.8 |\n",
      "|            Time |             875 |\n",
      "-------------------------------------\n",
      "Step 9549: pi_lr=0.000001, q_lr=0.000001\n",
      "Checkpoint saved to checkpoints/td3_ep192.pth\n",
      "-------------------------------------\n",
      "|          LossPi |            36.2 |\n",
      "|           LossQ |            34.2 |\n",
      "|            Time |             880 |\n",
      "-------------------------------------\n",
      "Step 9599: pi_lr=0.000001, q_lr=0.000001\n",
      "Checkpoint saved to checkpoints/td3_ep193.pth\n",
      "-------------------------------------\n",
      "|          LossPi |            36.6 |\n",
      "|           LossQ |            37.9 |\n",
      "|            Time |             885 |\n",
      "-------------------------------------\n",
      "Step 9649: pi_lr=0.000001, q_lr=0.000001\n",
      "Checkpoint saved to checkpoints/td3_ep194.pth\n",
      "-------------------------------------\n",
      "|          LossPi |            36.5 |\n",
      "|           LossQ |            51.8 |\n",
      "|            Time |             889 |\n",
      "-------------------------------------\n",
      "Step 9699: pi_lr=0.000001, q_lr=0.000001\n",
      "Checkpoint saved to checkpoints/td3_ep195.pth\n",
      "-------------------------------------\n",
      "|          LossPi |            36.9 |\n",
      "|           LossQ |              31 |\n",
      "|            Time |             894 |\n",
      "-------------------------------------\n",
      "Step 9749: pi_lr=0.000001, q_lr=0.000001\n",
      "Checkpoint saved to checkpoints/td3_ep196.pth\n",
      "-------------------------------------\n",
      "|          LossPi |            35.6 |\n",
      "|           LossQ |            40.9 |\n",
      "|            Time |             899 |\n",
      "-------------------------------------\n",
      "Step 9799: pi_lr=0.000001, q_lr=0.000001\n",
      "Checkpoint saved to checkpoints/td3_ep197.pth\n",
      "-------------------------------------\n",
      "|          LossPi |            34.5 |\n",
      "|           LossQ |            33.5 |\n",
      "|            Time |             903 |\n",
      "-------------------------------------\n",
      "Step 9849: pi_lr=0.000001, q_lr=0.000001\n",
      "Checkpoint saved to checkpoints/td3_ep198.pth\n",
      "-------------------------------------\n",
      "|          LossPi |            32.7 |\n",
      "|           LossQ |            36.7 |\n",
      "|            Time |             908 |\n",
      "-------------------------------------\n",
      "Step 9899: pi_lr=0.000001, q_lr=0.000001\n",
      "Checkpoint saved to checkpoints/td3_ep199.pth\n",
      "-------------------------------------\n",
      "|          LossPi |              35 |\n",
      "|           LossQ |            38.7 |\n",
      "|            Time |             912 |\n",
      "-------------------------------------\n",
      "Step 9949: pi_lr=0.000001, q_lr=0.000001\n",
      "Checkpoint saved to checkpoints/td3_ep200.pth\n",
      "-------------------------------------\n",
      "|          LossPi |            33.6 |\n",
      "|           LossQ |            53.9 |\n",
      "|            Time |             917 |\n",
      "-------------------------------------\n",
      "Step 9999: pi_lr=0.000001, q_lr=0.000001\n",
      "Checkpoint saved to savings/models/td3_industrial_exp_ol_dataset1_retrain2_final.pth\n"
     ]
    }
   ],
   "source": [
    "num_assets = model.target_dim\n",
    "fea_dim = model.feature_dim\n",
    "\n",
    "retrain_frequency = 90\n",
    "\n",
    "\n",
    "poolsize = 500\n",
    "\n",
    "obs_dim = fea_dim + 2\n",
    "act_dim = num_assets\n",
    "algo_list = ['GenTD3', 'EW', 'GenMarkowitz', 'HistMarkowitz']\n",
    "type_list = ['Return']\n",
    "\n",
    "ac = core.MLPActorCritic_TD3(obs_dim, act_dim)\n",
    "ac.to(device)\n",
    "\n",
    "for j in range(Test_time_horizon//retrain_frequency):\n",
    "    print(f\"Retrain: {j+1}/{Test_time_horizon//retrain_frequency}\")\n",
    "    scenario_pool = core.get_scenario_pool(num_assets, fea_dim, time_horizon+1, poolsize, type='generative',\n",
    "                                history=X_test_t[j*retrain_frequency:,:,:], generative_model=model, config=config, scale = scale_c, load_file = save_path_diffusion)\n",
    "\n",
    "\n",
    "\n",
    "    regularization = 0.5 if j == 0 else 0.3\n",
    "\n",
    "    ac, epoch_list= td3.gen_td3(ac, num_assets, fea_dim, time_horizon+1, scenario_pool ,\n",
    "                          seed=seed,\n",
    "                          steps_per_epoch=50, epochs=200,\n",
    "                          pool_size = poolsize,\n",
    "                          scale_t = 10,\n",
    "                          regularization1 = regularization,\n",
    "                          regularization2 = regularization,\n",
    "                          regularization_time = 0.5,\n",
    "                          polyak=0.99, pi_lr=3e-5, q_lr=3e-5, pi_lr_min = 1e-6, q_lr_min = 1e-6,\n",
    "                          batch_size=16, start_steps=50,\n",
    "                          update_after=50, update_every=50, policy_delay = 2)\n",
    "\n",
    "    save_path_rl = f'savings/models/td3_industrial_exp_ol_dataset{data_set_end_date}_retrain{j+1}_final.pth'\n",
    "    core.save_td3_checkpoint(ac.pi, ac.q1, filename = save_path_rl, episode= 100)\n"
   ]
  },
  {
   "cell_type": "code",
   "execution_count": null,
   "metadata": {
    "colab": {
     "base_uri": "https://localhost:8080/"
    },
    "executionInfo": {
     "elapsed": 37,
     "status": "ok",
     "timestamp": 1751052154590,
     "user": {
      "displayName": "Leon Johnason",
      "userId": "12172984433258393203"
     },
     "user_tz": 240
    },
    "id": "GdVSSX67Wcvl",
    "outputId": "1907a797-004b-446a-d37c-9899ceb5ecfa"
   },
   "outputs": [
    {
     "data": {
      "text/plain": [
       "100"
      ]
     },
     "execution_count": 18,
     "metadata": {},
     "output_type": "execute_result"
    }
   ],
   "source": [
    "scale_c"
   ]
  },
  {
   "cell_type": "markdown",
   "metadata": {
    "id": "hDZbGT-BR5uu"
   },
   "source": [
    "**Prepare the predictions for the GenMarkowitz portfolio**"
   ]
  },
  {
   "cell_type": "code",
   "execution_count": null,
   "metadata": {
    "colab": {
     "base_uri": "https://localhost:8080/"
    },
    "executionInfo": {
     "elapsed": 1443092,
     "status": "ok",
     "timestamp": 1751053597673,
     "user": {
      "displayName": "Leon Johnason",
      "userId": "12172984433258393203"
     },
     "user_tz": 240
    },
    "id": "kcxk1ewqSFCq",
    "outputId": "6d346b13-252c-40ac-e2f5-7ce1f6501e27"
   },
   "outputs": [
    {
     "name": "stdout",
     "output_type": "stream",
     "text": [
      "Sampling timestep 1/180\n",
      "Sampling timestep 2/180\n",
      "Sampling timestep 3/180\n",
      "Sampling timestep 4/180\n",
      "Sampling timestep 5/180\n",
      "Sampling timestep 6/180\n",
      "Sampling timestep 7/180\n",
      "Sampling timestep 8/180\n",
      "Sampling timestep 9/180\n",
      "Sampling timestep 10/180\n",
      "Sampling timestep 11/180\n",
      "Sampling timestep 12/180\n",
      "Sampling timestep 13/180\n",
      "Sampling timestep 14/180\n",
      "Sampling timestep 15/180\n",
      "Sampling timestep 16/180\n",
      "Sampling timestep 17/180\n",
      "Sampling timestep 18/180\n",
      "Sampling timestep 19/180\n",
      "Sampling timestep 20/180\n",
      "Sampling timestep 21/180\n",
      "Sampling timestep 22/180\n",
      "Sampling timestep 23/180\n",
      "Sampling timestep 24/180\n",
      "Sampling timestep 25/180\n",
      "Sampling timestep 26/180\n",
      "Sampling timestep 27/180\n",
      "Sampling timestep 28/180\n",
      "Sampling timestep 29/180\n",
      "Sampling timestep 30/180\n",
      "Sampling timestep 31/180\n",
      "Sampling timestep 32/180\n",
      "Sampling timestep 33/180\n",
      "Sampling timestep 34/180\n",
      "Sampling timestep 35/180\n",
      "Sampling timestep 36/180\n",
      "Sampling timestep 37/180\n",
      "Sampling timestep 38/180\n",
      "Sampling timestep 39/180\n",
      "Sampling timestep 40/180\n",
      "Sampling timestep 41/180\n",
      "Sampling timestep 42/180\n",
      "Sampling timestep 43/180\n",
      "Sampling timestep 44/180\n",
      "Sampling timestep 45/180\n",
      "Sampling timestep 46/180\n",
      "Sampling timestep 47/180\n",
      "Sampling timestep 48/180\n",
      "Sampling timestep 49/180\n",
      "Sampling timestep 50/180\n",
      "Sampling timestep 51/180\n",
      "Sampling timestep 52/180\n",
      "Sampling timestep 53/180\n",
      "Sampling timestep 54/180\n",
      "Sampling timestep 55/180\n",
      "Sampling timestep 56/180\n",
      "Sampling timestep 57/180\n",
      "Sampling timestep 58/180\n",
      "Sampling timestep 59/180\n",
      "Sampling timestep 60/180\n",
      "Sampling timestep 61/180\n",
      "Sampling timestep 62/180\n",
      "Sampling timestep 63/180\n",
      "Sampling timestep 64/180\n",
      "Sampling timestep 65/180\n",
      "Sampling timestep 66/180\n",
      "Sampling timestep 67/180\n",
      "Sampling timestep 68/180\n",
      "Sampling timestep 69/180\n",
      "Sampling timestep 70/180\n",
      "Sampling timestep 71/180\n",
      "Sampling timestep 72/180\n",
      "Sampling timestep 73/180\n",
      "Sampling timestep 74/180\n",
      "Sampling timestep 75/180\n",
      "Sampling timestep 76/180\n",
      "Sampling timestep 77/180\n",
      "Sampling timestep 78/180\n",
      "Sampling timestep 79/180\n",
      "Sampling timestep 80/180\n",
      "Sampling timestep 81/180\n",
      "Sampling timestep 82/180\n",
      "Sampling timestep 83/180\n",
      "Sampling timestep 84/180\n",
      "Sampling timestep 85/180\n",
      "Sampling timestep 86/180\n",
      "Sampling timestep 87/180\n",
      "Sampling timestep 88/180\n",
      "Sampling timestep 89/180\n",
      "Sampling timestep 90/180\n",
      "Sampling timestep 91/180\n",
      "Sampling timestep 92/180\n",
      "Sampling timestep 93/180\n",
      "Sampling timestep 94/180\n",
      "Sampling timestep 95/180\n",
      "Sampling timestep 96/180\n",
      "Sampling timestep 97/180\n",
      "Sampling timestep 98/180\n",
      "Sampling timestep 99/180\n",
      "Sampling timestep 100/180\n",
      "Sampling timestep 101/180\n",
      "Sampling timestep 102/180\n",
      "Sampling timestep 103/180\n",
      "Sampling timestep 104/180\n",
      "Sampling timestep 105/180\n",
      "Sampling timestep 106/180\n",
      "Sampling timestep 107/180\n",
      "Sampling timestep 108/180\n",
      "Sampling timestep 109/180\n",
      "Sampling timestep 110/180\n",
      "Sampling timestep 111/180\n",
      "Sampling timestep 112/180\n",
      "Sampling timestep 113/180\n",
      "Sampling timestep 114/180\n",
      "Sampling timestep 115/180\n",
      "Sampling timestep 116/180\n",
      "Sampling timestep 117/180\n",
      "Sampling timestep 118/180\n",
      "Sampling timestep 119/180\n",
      "Sampling timestep 120/180\n",
      "Sampling timestep 121/180\n",
      "Sampling timestep 122/180\n",
      "Sampling timestep 123/180\n",
      "Sampling timestep 124/180\n",
      "Sampling timestep 125/180\n",
      "Sampling timestep 126/180\n",
      "Sampling timestep 127/180\n",
      "Sampling timestep 128/180\n",
      "Sampling timestep 129/180\n",
      "Sampling timestep 130/180\n",
      "Sampling timestep 131/180\n",
      "Sampling timestep 132/180\n",
      "Sampling timestep 133/180\n",
      "Sampling timestep 134/180\n",
      "Sampling timestep 135/180\n",
      "Sampling timestep 136/180\n",
      "Sampling timestep 137/180\n",
      "Sampling timestep 138/180\n",
      "Sampling timestep 139/180\n",
      "Sampling timestep 140/180\n",
      "Sampling timestep 141/180\n",
      "Sampling timestep 142/180\n",
      "Sampling timestep 143/180\n",
      "Sampling timestep 144/180\n",
      "Sampling timestep 145/180\n",
      "Sampling timestep 146/180\n",
      "Sampling timestep 147/180\n",
      "Sampling timestep 148/180\n",
      "Sampling timestep 149/180\n",
      "Sampling timestep 150/180\n",
      "Sampling timestep 151/180\n",
      "Sampling timestep 152/180\n",
      "Sampling timestep 153/180\n",
      "Sampling timestep 154/180\n",
      "Sampling timestep 155/180\n",
      "Sampling timestep 156/180\n",
      "Sampling timestep 157/180\n",
      "Sampling timestep 158/180\n",
      "Sampling timestep 159/180\n",
      "Sampling timestep 160/180\n",
      "Sampling timestep 161/180\n",
      "Sampling timestep 162/180\n",
      "Sampling timestep 163/180\n",
      "Sampling timestep 164/180\n",
      "Sampling timestep 165/180\n",
      "Sampling timestep 166/180\n",
      "Sampling timestep 167/180\n",
      "Sampling timestep 168/180\n",
      "Sampling timestep 169/180\n",
      "Sampling timestep 170/180\n",
      "Sampling timestep 171/180\n",
      "Sampling timestep 172/180\n",
      "Sampling timestep 173/180\n",
      "Sampling timestep 174/180\n",
      "Sampling timestep 175/180\n",
      "Sampling timestep 176/180\n",
      "Sampling timestep 177/180\n",
      "Sampling timestep 178/180\n",
      "Sampling timestep 179/180\n",
      "Sampling timestep 180/180\n"
     ]
    }
   ],
   "source": [
    "prediction_returns, _ = model.sample_online(config, Test_time_horizon, 500, X_test_t, compare = False)\n",
    "\n",
    "\n",
    "\n",
    "#save prediction_returns\n",
    "np.save(f'savings/variables/genmkw_returns_industrial_exp_dataset{data_set_end_date}_final.npy', prediction_returns)"
   ]
  }
 ],
 "metadata": {
  "accelerator": "GPU",
  "colab": {
   "gpuType": "T4",
   "name": "",
   "version": ""
  },
  "kernelspec": {
   "display_name": "diffusion_mv",
   "language": "python",
   "name": "python3"
  },
  "language_info": {
   "codemirror_mode": {
    "name": "ipython",
    "version": 3
   },
   "file_extension": ".py",
   "mimetype": "text/x-python",
   "name": "python",
   "nbconvert_exporter": "python",
   "pygments_lexer": "ipython3",
   "version": "3.10.8"
  }
 },
 "nbformat": 4,
 "nbformat_minor": 0
}
